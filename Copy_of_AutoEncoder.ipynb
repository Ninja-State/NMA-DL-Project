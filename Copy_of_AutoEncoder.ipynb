{
  "nbformat": 4,
  "nbformat_minor": 0,
  "metadata": {
    "colab": {
      "name": "Copy of AutoEncoder.ipynb",
      "provenance": [],
      "collapsed_sections": [],
      "authorship_tag": "ABX9TyO0JncrwUhhmIf1CKMf5lW0",
      "include_colab_link": true
    },
    "kernelspec": {
      "name": "python3",
      "display_name": "Python 3"
    },
    "language_info": {
      "name": "python"
    },
    "widgets": {
      "application/vnd.jupyter.widget-state+json": {
        "e0a86b38728842e5a34046f280559975": {
          "model_module": "@jupyter-widgets/controls",
          "model_name": "VBoxModel",
          "model_module_version": "1.5.0",
          "state": {
            "_view_name": "VBoxView",
            "_dom_classes": [
              "widget-interact"
            ],
            "_model_name": "VBoxModel",
            "_view_module": "@jupyter-widgets/controls",
            "_model_module_version": "1.5.0",
            "_view_count": null,
            "_view_module_version": "1.5.0",
            "box_style": "",
            "layout": "IPY_MODEL_2d1c85bbda354268b9754df1dd984ea2",
            "_model_module": "@jupyter-widgets/controls",
            "children": [
              "IPY_MODEL_4d7d124a9faa441b868ae44ab09e7e0d",
              "IPY_MODEL_06992105eec841679e8e9a71d6d5becf",
              "IPY_MODEL_f3eb388d99724b40bbe187670b0e2895"
            ]
          }
        },
        "2d1c85bbda354268b9754df1dd984ea2": {
          "model_module": "@jupyter-widgets/base",
          "model_name": "LayoutModel",
          "model_module_version": "1.2.0",
          "state": {
            "_view_name": "LayoutView",
            "grid_template_rows": null,
            "right": null,
            "justify_content": null,
            "_view_module": "@jupyter-widgets/base",
            "overflow": null,
            "_model_module_version": "1.2.0",
            "_view_count": null,
            "flex_flow": null,
            "width": null,
            "min_width": null,
            "border": null,
            "align_items": null,
            "bottom": null,
            "_model_module": "@jupyter-widgets/base",
            "top": null,
            "grid_column": null,
            "overflow_y": null,
            "overflow_x": null,
            "grid_auto_flow": null,
            "grid_area": null,
            "grid_template_columns": null,
            "flex": null,
            "_model_name": "LayoutModel",
            "justify_items": null,
            "grid_row": null,
            "max_height": null,
            "align_content": null,
            "visibility": null,
            "align_self": null,
            "height": null,
            "min_height": null,
            "padding": null,
            "grid_auto_rows": null,
            "grid_gap": null,
            "max_width": null,
            "order": null,
            "_view_module_version": "1.2.0",
            "grid_template_areas": null,
            "object_position": null,
            "object_fit": null,
            "grid_auto_columns": null,
            "margin": null,
            "display": null,
            "left": null
          }
        },
        "4d7d124a9faa441b868ae44ab09e7e0d": {
          "model_module": "@jupyter-widgets/controls",
          "model_name": "DropdownModel",
          "model_module_version": "1.5.0",
          "state": {
            "_options_labels": [
              "Hippocampus",
              "Visual Ctx",
              "Thalamus",
              "Other Ctx"
            ],
            "_view_name": "DropdownView",
            "style": "IPY_MODEL_ecac606b97d7468aa5d7d7d36abe268f",
            "_dom_classes": [],
            "description": "area",
            "_model_name": "DropdownModel",
            "index": 0,
            "_view_module": "@jupyter-widgets/controls",
            "_model_module_version": "1.5.0",
            "_view_count": null,
            "disabled": false,
            "_view_module_version": "1.5.0",
            "description_tooltip": null,
            "_model_module": "@jupyter-widgets/controls",
            "layout": "IPY_MODEL_e9a046e2ce89478fb010876e49ad16df"
          }
        },
        "06992105eec841679e8e9a71d6d5becf": {
          "model_module": "@jupyter-widgets/controls",
          "model_name": "IntSliderModel",
          "model_module_version": "1.5.0",
          "state": {
            "_view_name": "IntSliderView",
            "style": "IPY_MODEL_a0e4eb11f651473db9cbd70f743126f1",
            "_dom_classes": [],
            "description": "trial",
            "step": 1,
            "_model_name": "IntSliderModel",
            "orientation": "horizontal",
            "max": 339,
            "_view_module": "@jupyter-widgets/controls",
            "_model_module_version": "1.5.0",
            "value": 169,
            "_view_count": null,
            "disabled": false,
            "_view_module_version": "1.5.0",
            "min": 0,
            "continuous_update": true,
            "readout_format": "d",
            "description_tooltip": null,
            "readout": true,
            "_model_module": "@jupyter-widgets/controls",
            "layout": "IPY_MODEL_db1f5fa250fb4b67860eafc3db62e043"
          }
        },
        "f3eb388d99724b40bbe187670b0e2895": {
          "model_module": "@jupyter-widgets/output",
          "model_name": "OutputModel",
          "model_module_version": "1.0.0",
          "state": {
            "_view_name": "OutputView",
            "msg_id": "",
            "_dom_classes": [],
            "_model_name": "OutputModel",
            "outputs": [
              {
                "output_type": "display_data",
                "data": {
                  "image/png": "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\n",
                  "text/plain": [
                    "<Figure size 648x360 with 1 Axes>"
                  ]
                },
                "metadata": {
                  "needs_background": "light"
                }
              }
            ],
            "_view_module": "@jupyter-widgets/output",
            "_model_module_version": "1.0.0",
            "_view_count": null,
            "_view_module_version": "1.0.0",
            "layout": "IPY_MODEL_f4be3b49c3424431ae0fd03035604320",
            "_model_module": "@jupyter-widgets/output"
          }
        },
        "ecac606b97d7468aa5d7d7d36abe268f": {
          "model_module": "@jupyter-widgets/controls",
          "model_name": "DescriptionStyleModel",
          "model_module_version": "1.5.0",
          "state": {
            "_view_name": "StyleView",
            "_model_name": "DescriptionStyleModel",
            "description_width": "",
            "_view_module": "@jupyter-widgets/base",
            "_model_module_version": "1.5.0",
            "_view_count": null,
            "_view_module_version": "1.2.0",
            "_model_module": "@jupyter-widgets/controls"
          }
        },
        "e9a046e2ce89478fb010876e49ad16df": {
          "model_module": "@jupyter-widgets/base",
          "model_name": "LayoutModel",
          "model_module_version": "1.2.0",
          "state": {
            "_view_name": "LayoutView",
            "grid_template_rows": null,
            "right": null,
            "justify_content": null,
            "_view_module": "@jupyter-widgets/base",
            "overflow": null,
            "_model_module_version": "1.2.0",
            "_view_count": null,
            "flex_flow": null,
            "width": null,
            "min_width": null,
            "border": null,
            "align_items": null,
            "bottom": null,
            "_model_module": "@jupyter-widgets/base",
            "top": null,
            "grid_column": null,
            "overflow_y": null,
            "overflow_x": null,
            "grid_auto_flow": null,
            "grid_area": null,
            "grid_template_columns": null,
            "flex": null,
            "_model_name": "LayoutModel",
            "justify_items": null,
            "grid_row": null,
            "max_height": null,
            "align_content": null,
            "visibility": null,
            "align_self": null,
            "height": null,
            "min_height": null,
            "padding": null,
            "grid_auto_rows": null,
            "grid_gap": null,
            "max_width": null,
            "order": null,
            "_view_module_version": "1.2.0",
            "grid_template_areas": null,
            "object_position": null,
            "object_fit": null,
            "grid_auto_columns": null,
            "margin": null,
            "display": null,
            "left": null
          }
        },
        "a0e4eb11f651473db9cbd70f743126f1": {
          "model_module": "@jupyter-widgets/controls",
          "model_name": "SliderStyleModel",
          "model_module_version": "1.5.0",
          "state": {
            "_view_name": "StyleView",
            "handle_color": null,
            "_model_name": "SliderStyleModel",
            "description_width": "",
            "_view_module": "@jupyter-widgets/base",
            "_model_module_version": "1.5.0",
            "_view_count": null,
            "_view_module_version": "1.2.0",
            "_model_module": "@jupyter-widgets/controls"
          }
        },
        "db1f5fa250fb4b67860eafc3db62e043": {
          "model_module": "@jupyter-widgets/base",
          "model_name": "LayoutModel",
          "model_module_version": "1.2.0",
          "state": {
            "_view_name": "LayoutView",
            "grid_template_rows": null,
            "right": null,
            "justify_content": null,
            "_view_module": "@jupyter-widgets/base",
            "overflow": null,
            "_model_module_version": "1.2.0",
            "_view_count": null,
            "flex_flow": null,
            "width": null,
            "min_width": null,
            "border": null,
            "align_items": null,
            "bottom": null,
            "_model_module": "@jupyter-widgets/base",
            "top": null,
            "grid_column": null,
            "overflow_y": null,
            "overflow_x": null,
            "grid_auto_flow": null,
            "grid_area": null,
            "grid_template_columns": null,
            "flex": null,
            "_model_name": "LayoutModel",
            "justify_items": null,
            "grid_row": null,
            "max_height": null,
            "align_content": null,
            "visibility": null,
            "align_self": null,
            "height": null,
            "min_height": null,
            "padding": null,
            "grid_auto_rows": null,
            "grid_gap": null,
            "max_width": null,
            "order": null,
            "_view_module_version": "1.2.0",
            "grid_template_areas": null,
            "object_position": null,
            "object_fit": null,
            "grid_auto_columns": null,
            "margin": null,
            "display": null,
            "left": null
          }
        },
        "f4be3b49c3424431ae0fd03035604320": {
          "model_module": "@jupyter-widgets/base",
          "model_name": "LayoutModel",
          "model_module_version": "1.2.0",
          "state": {
            "_view_name": "LayoutView",
            "grid_template_rows": null,
            "right": null,
            "justify_content": null,
            "_view_module": "@jupyter-widgets/base",
            "overflow": null,
            "_model_module_version": "1.2.0",
            "_view_count": null,
            "flex_flow": null,
            "width": null,
            "min_width": null,
            "border": null,
            "align_items": null,
            "bottom": null,
            "_model_module": "@jupyter-widgets/base",
            "top": null,
            "grid_column": null,
            "overflow_y": null,
            "overflow_x": null,
            "grid_auto_flow": null,
            "grid_area": null,
            "grid_template_columns": null,
            "flex": null,
            "_model_name": "LayoutModel",
            "justify_items": null,
            "grid_row": null,
            "max_height": null,
            "align_content": null,
            "visibility": null,
            "align_self": null,
            "height": null,
            "min_height": null,
            "padding": null,
            "grid_auto_rows": null,
            "grid_gap": null,
            "max_width": null,
            "order": null,
            "_view_module_version": "1.2.0",
            "grid_template_areas": null,
            "object_position": null,
            "object_fit": null,
            "grid_auto_columns": null,
            "margin": null,
            "display": null,
            "left": null
          }
        },
        "c39dfeac87e54584a9ee6c178dd5e2b4": {
          "model_module": "@jupyter-widgets/controls",
          "model_name": "VBoxModel",
          "model_module_version": "1.5.0",
          "state": {
            "_view_name": "VBoxView",
            "_dom_classes": [
              "widget-interact"
            ],
            "_model_name": "VBoxModel",
            "_view_module": "@jupyter-widgets/controls",
            "_model_module_version": "1.5.0",
            "_view_count": null,
            "_view_module_version": "1.5.0",
            "box_style": "",
            "layout": "IPY_MODEL_012449182bdd417c8f37f09bd9d2cf7c",
            "_model_module": "@jupyter-widgets/controls",
            "children": [
              "IPY_MODEL_524110de995042ad8ceb2f712f0daf9e",
              "IPY_MODEL_debe2d3042b6450993dae70fa668b168"
            ]
          }
        },
        "012449182bdd417c8f37f09bd9d2cf7c": {
          "model_module": "@jupyter-widgets/base",
          "model_name": "LayoutModel",
          "model_module_version": "1.2.0",
          "state": {
            "_view_name": "LayoutView",
            "grid_template_rows": null,
            "right": null,
            "justify_content": null,
            "_view_module": "@jupyter-widgets/base",
            "overflow": null,
            "_model_module_version": "1.2.0",
            "_view_count": null,
            "flex_flow": null,
            "width": null,
            "min_width": null,
            "border": null,
            "align_items": null,
            "bottom": null,
            "_model_module": "@jupyter-widgets/base",
            "top": null,
            "grid_column": null,
            "overflow_y": null,
            "overflow_x": null,
            "grid_auto_flow": null,
            "grid_area": null,
            "grid_template_columns": null,
            "flex": null,
            "_model_name": "LayoutModel",
            "justify_items": null,
            "grid_row": null,
            "max_height": null,
            "align_content": null,
            "visibility": null,
            "align_self": null,
            "height": null,
            "min_height": null,
            "padding": null,
            "grid_auto_rows": null,
            "grid_gap": null,
            "max_width": null,
            "order": null,
            "_view_module_version": "1.2.0",
            "grid_template_areas": null,
            "object_position": null,
            "object_fit": null,
            "grid_auto_columns": null,
            "margin": null,
            "display": null,
            "left": null
          }
        },
        "524110de995042ad8ceb2f712f0daf9e": {
          "model_module": "@jupyter-widgets/controls",
          "model_name": "DropdownModel",
          "model_module_version": "1.5.0",
          "state": {
            "_options_labels": [
              "Hippocampus",
              "Visual Ctx",
              "Thalamus",
              "Other Ctx"
            ],
            "_view_name": "DropdownView",
            "style": "IPY_MODEL_0918bed11ee24d12ad038cdcfa5b1236",
            "_dom_classes": [],
            "description": "area",
            "_model_name": "DropdownModel",
            "index": 0,
            "_view_module": "@jupyter-widgets/controls",
            "_model_module_version": "1.5.0",
            "_view_count": null,
            "disabled": false,
            "_view_module_version": "1.5.0",
            "description_tooltip": null,
            "_model_module": "@jupyter-widgets/controls",
            "layout": "IPY_MODEL_81a1ee79e73d46099381bd5333ec0aeb"
          }
        },
        "debe2d3042b6450993dae70fa668b168": {
          "model_module": "@jupyter-widgets/output",
          "model_name": "OutputModel",
          "model_module_version": "1.0.0",
          "state": {
            "_view_name": "OutputView",
            "msg_id": "",
            "_dom_classes": [],
            "_model_name": "OutputModel",
            "outputs": [
              {
                "output_type": "error",
                "ename": "IndexError",
                "evalue": "ignored",
                "traceback": [
                  "\u001b[0;31m---------------------------------------------------------------------------\u001b[0m",
                  "\u001b[0;31mIndexError\u001b[0m                                Traceback (most recent call last)",
                  "\u001b[0;32m/usr/local/lib/python3.7/dist-packages/ipywidgets/widgets/interaction.py\u001b[0m in \u001b[0;36mupdate\u001b[0;34m(self, *args)\u001b[0m\n\u001b[1;32m    254\u001b[0m                     \u001b[0mvalue\u001b[0m \u001b[0;34m=\u001b[0m \u001b[0mwidget\u001b[0m\u001b[0;34m.\u001b[0m\u001b[0mget_interact_value\u001b[0m\u001b[0;34m(\u001b[0m\u001b[0;34m)\u001b[0m\u001b[0;34m\u001b[0m\u001b[0;34m\u001b[0m\u001b[0m\n\u001b[1;32m    255\u001b[0m                     \u001b[0mself\u001b[0m\u001b[0;34m.\u001b[0m\u001b[0mkwargs\u001b[0m\u001b[0;34m[\u001b[0m\u001b[0mwidget\u001b[0m\u001b[0;34m.\u001b[0m\u001b[0m_kwarg\u001b[0m\u001b[0;34m]\u001b[0m \u001b[0;34m=\u001b[0m \u001b[0mvalue\u001b[0m\u001b[0;34m\u001b[0m\u001b[0;34m\u001b[0m\u001b[0m\n\u001b[0;32m--> 256\u001b[0;31m                 \u001b[0mself\u001b[0m\u001b[0;34m.\u001b[0m\u001b[0mresult\u001b[0m \u001b[0;34m=\u001b[0m \u001b[0mself\u001b[0m\u001b[0;34m.\u001b[0m\u001b[0mf\u001b[0m\u001b[0;34m(\u001b[0m\u001b[0;34m**\u001b[0m\u001b[0mself\u001b[0m\u001b[0;34m.\u001b[0m\u001b[0mkwargs\u001b[0m\u001b[0;34m)\u001b[0m\u001b[0;34m\u001b[0m\u001b[0;34m\u001b[0m\u001b[0m\n\u001b[0m\u001b[1;32m    257\u001b[0m                 \u001b[0mshow_inline_matplotlib_plots\u001b[0m\u001b[0;34m(\u001b[0m\u001b[0;34m)\u001b[0m\u001b[0;34m\u001b[0m\u001b[0;34m\u001b[0m\u001b[0m\n\u001b[1;32m    258\u001b[0m                 \u001b[0;32mif\u001b[0m \u001b[0mself\u001b[0m\u001b[0;34m.\u001b[0m\u001b[0mauto_display\u001b[0m \u001b[0;32mand\u001b[0m \u001b[0mself\u001b[0m\u001b[0;34m.\u001b[0m\u001b[0mresult\u001b[0m \u001b[0;32mis\u001b[0m \u001b[0;32mnot\u001b[0m \u001b[0;32mNone\u001b[0m\u001b[0;34m:\u001b[0m\u001b[0;34m\u001b[0m\u001b[0;34m\u001b[0m\u001b[0m\n",
                  "\u001b[0;32m<ipython-input-20-a85c75b0a63d>\u001b[0m in \u001b[0;36mmean_firing\u001b[0;34m(area)\u001b[0m\n\u001b[1;32m      4\u001b[0m \u001b[0;32mdef\u001b[0m \u001b[0mmean_firing\u001b[0m\u001b[0;34m(\u001b[0m\u001b[0marea\u001b[0m\u001b[0;34m)\u001b[0m\u001b[0;34m:\u001b[0m\u001b[0;34m\u001b[0m\u001b[0;34m\u001b[0m\u001b[0m\n\u001b[1;32m      5\u001b[0m   \u001b[0mSelection\u001b[0m \u001b[0;34m=\u001b[0m \u001b[0;34m(\u001b[0m\u001b[0mlabeling_df\u001b[0m\u001b[0;34m[\u001b[0m\u001b[0;34m'Area'\u001b[0m\u001b[0;34m]\u001b[0m\u001b[0;34m==\u001b[0m\u001b[0marea\u001b[0m\u001b[0;34m)\u001b[0m \u001b[0;31m#& (labeling_df['Cell Type']=='Excitatory')\u001b[0m\u001b[0;34m\u001b[0m\u001b[0;34m\u001b[0m\u001b[0m\n\u001b[0;32m----> 6\u001b[0;31m   \u001b[0mspikes\u001b[0m \u001b[0;34m=\u001b[0m \u001b[0mdat\u001b[0m\u001b[0;34m[\u001b[0m\u001b[0;34m'spks'\u001b[0m\u001b[0;34m]\u001b[0m\u001b[0;34m[\u001b[0m\u001b[0mSelection\u001b[0m\u001b[0;34m]\u001b[0m\u001b[0;34m.\u001b[0m\u001b[0mmean\u001b[0m\u001b[0;34m(\u001b[0m\u001b[0maxis\u001b[0m \u001b[0;34m=\u001b[0m \u001b[0;36m0\u001b[0m\u001b[0;34m)\u001b[0m \u001b[0;31m#selecting spikes\u001b[0m\u001b[0;34m\u001b[0m\u001b[0;34m\u001b[0m\u001b[0m\n\u001b[0m\u001b[1;32m      7\u001b[0m   \u001b[0mmean_fr_e\u001b[0m \u001b[0;34m=\u001b[0m \u001b[0mspikes\u001b[0m\u001b[0;34m[\u001b[0m\u001b[0mis_correct\u001b[0m\u001b[0;34m==\u001b[0m\u001b[0;32mTrue\u001b[0m\u001b[0;34m]\u001b[0m\u001b[0;34m.\u001b[0m\u001b[0mmean\u001b[0m\u001b[0;34m(\u001b[0m\u001b[0maxis\u001b[0m\u001b[0;34m=\u001b[0m\u001b[0;34m(\u001b[0m\u001b[0;36m0\u001b[0m\u001b[0;34m)\u001b[0m\u001b[0;34m)\u001b[0m\u001b[0;34m*\u001b[0m\u001b[0;36m1\u001b[0m\u001b[0;34m/\u001b[0m\u001b[0mbinsize\u001b[0m\u001b[0;34m\u001b[0m\u001b[0;34m\u001b[0m\u001b[0m\n\u001b[1;32m      8\u001b[0m   \u001b[0mmean_fr_i\u001b[0m \u001b[0;34m=\u001b[0m \u001b[0mspikes\u001b[0m\u001b[0;34m[\u001b[0m\u001b[0mis_correct\u001b[0m\u001b[0;34m==\u001b[0m\u001b[0;32mFalse\u001b[0m\u001b[0;34m]\u001b[0m\u001b[0;34m.\u001b[0m\u001b[0mmean\u001b[0m\u001b[0;34m(\u001b[0m\u001b[0maxis\u001b[0m\u001b[0;34m=\u001b[0m\u001b[0;34m(\u001b[0m\u001b[0;36m0\u001b[0m\u001b[0;34m)\u001b[0m\u001b[0;34m)\u001b[0m\u001b[0;34m*\u001b[0m\u001b[0;36m1\u001b[0m\u001b[0;34m/\u001b[0m\u001b[0mbinsize\u001b[0m\u001b[0;34m\u001b[0m\u001b[0;34m\u001b[0m\u001b[0m\n",
                  "\u001b[0;31mIndexError\u001b[0m: boolean index did not match indexed array along dimension 0; dimension is 1055 but corresponding boolean dimension is 698"
                ]
              }
            ],
            "_view_module": "@jupyter-widgets/output",
            "_model_module_version": "1.0.0",
            "_view_count": null,
            "_view_module_version": "1.0.0",
            "layout": "IPY_MODEL_a3298a3603804ad2887f5a28a195df75",
            "_model_module": "@jupyter-widgets/output"
          }
        },
        "0918bed11ee24d12ad038cdcfa5b1236": {
          "model_module": "@jupyter-widgets/controls",
          "model_name": "DescriptionStyleModel",
          "model_module_version": "1.5.0",
          "state": {
            "_view_name": "StyleView",
            "_model_name": "DescriptionStyleModel",
            "description_width": "",
            "_view_module": "@jupyter-widgets/base",
            "_model_module_version": "1.5.0",
            "_view_count": null,
            "_view_module_version": "1.2.0",
            "_model_module": "@jupyter-widgets/controls"
          }
        },
        "81a1ee79e73d46099381bd5333ec0aeb": {
          "model_module": "@jupyter-widgets/base",
          "model_name": "LayoutModel",
          "model_module_version": "1.2.0",
          "state": {
            "_view_name": "LayoutView",
            "grid_template_rows": null,
            "right": null,
            "justify_content": null,
            "_view_module": "@jupyter-widgets/base",
            "overflow": null,
            "_model_module_version": "1.2.0",
            "_view_count": null,
            "flex_flow": null,
            "width": null,
            "min_width": null,
            "border": null,
            "align_items": null,
            "bottom": null,
            "_model_module": "@jupyter-widgets/base",
            "top": null,
            "grid_column": null,
            "overflow_y": null,
            "overflow_x": null,
            "grid_auto_flow": null,
            "grid_area": null,
            "grid_template_columns": null,
            "flex": null,
            "_model_name": "LayoutModel",
            "justify_items": null,
            "grid_row": null,
            "max_height": null,
            "align_content": null,
            "visibility": null,
            "align_self": null,
            "height": null,
            "min_height": null,
            "padding": null,
            "grid_auto_rows": null,
            "grid_gap": null,
            "max_width": null,
            "order": null,
            "_view_module_version": "1.2.0",
            "grid_template_areas": null,
            "object_position": null,
            "object_fit": null,
            "grid_auto_columns": null,
            "margin": null,
            "display": null,
            "left": null
          }
        },
        "a3298a3603804ad2887f5a28a195df75": {
          "model_module": "@jupyter-widgets/base",
          "model_name": "LayoutModel",
          "model_module_version": "1.2.0",
          "state": {
            "_view_name": "LayoutView",
            "grid_template_rows": null,
            "right": null,
            "justify_content": null,
            "_view_module": "@jupyter-widgets/base",
            "overflow": null,
            "_model_module_version": "1.2.0",
            "_view_count": null,
            "flex_flow": null,
            "width": null,
            "min_width": null,
            "border": null,
            "align_items": null,
            "bottom": null,
            "_model_module": "@jupyter-widgets/base",
            "top": null,
            "grid_column": null,
            "overflow_y": null,
            "overflow_x": null,
            "grid_auto_flow": null,
            "grid_area": null,
            "grid_template_columns": null,
            "flex": null,
            "_model_name": "LayoutModel",
            "justify_items": null,
            "grid_row": null,
            "max_height": null,
            "align_content": null,
            "visibility": null,
            "align_self": null,
            "height": null,
            "min_height": null,
            "padding": null,
            "grid_auto_rows": null,
            "grid_gap": null,
            "max_width": null,
            "order": null,
            "_view_module_version": "1.2.0",
            "grid_template_areas": null,
            "object_position": null,
            "object_fit": null,
            "grid_auto_columns": null,
            "margin": null,
            "display": null,
            "left": null
          }
        }
      }
    }
  },
  "cells": [
    {
      "cell_type": "markdown",
      "metadata": {
        "id": "view-in-github",
        "colab_type": "text"
      },
      "source": [
        "<a href=\"https://colab.research.google.com/github/Ninja-State/NMA-DL-Project/blob/Nour/Copy_of_AutoEncoder.ipynb\" target=\"_parent\"><img src=\"https://colab.research.google.com/assets/colab-badge.svg\" alt=\"Open In Colab\"/></a>"
      ]
    },
    {
      "cell_type": "code",
      "metadata": {
        "id": "aZ47AXr8JvY9"
      },
      "source": [
        "#@title 1-8 code blocks were adapted from NeuroMatch Academy sample project and Steinmetz data Notebook and from Miguel Nunez."
      ],
      "execution_count": null,
      "outputs": []
    },
    {
      "cell_type": "code",
      "metadata": {
        "id": "AF8dYzmBj-9C"
      },
      "source": [
        "#@title 1. import libraries\n",
        "# import packages\n",
        "\n",
        "import os, requests\n",
        "import numpy as np\n",
        "import pandas as pd\n",
        "import matplotlib.pyplot as plt\n",
        "from matplotlib import rcParams\n",
        "import torch \n",
        "import torchvision\n",
        "import torch.nn as nn\n",
        "import torch.optim as optim\n",
        "from torch.utils.data import DataLoader\n",
        "import torch.nn.functional as F\n",
        " \n",
        "#from torchvision import datasets\n",
        "#from torch.utils.data import DataLoader\n",
        "#from torchvision.utils import save_image\n",
        "#import torchvision.transforms as transforms"
      ],
      "execution_count": 10,
      "outputs": []
    },
    {
      "cell_type": "code",
      "metadata": {
        "id": "9B-_q5oSGbXY"
      },
      "source": [
        "# @title 2. Set random seed\n",
        "\n",
        "# @markdown Executing `set_seed(seed=seed)` you are setting the seed\n",
        "\n",
        "# for DL its critical to set the random seed so that students can have a\n",
        "# baseline to compare their results to expected results.\n",
        "# Read more here: https://pytorch.org/docs/stable/notes/randomness.html\n",
        "\n",
        "# Call `set_seed` function in the exercises to ensure reproducibility.\n",
        "import random\n",
        "import torch\n",
        "\n",
        "def set_seed(seed=None, seed_torch=True):\n",
        "  if seed is None:\n",
        "    seed = np.random.choice(2 ** 32)\n",
        "  random.seed(seed)\n",
        "  np.random.seed(seed)\n",
        "  if seed_torch:\n",
        "    torch.manual_seed(seed)\n",
        "    torch.cuda.manual_seed_all(seed)\n",
        "    torch.cuda.manual_seed(seed)\n",
        "    torch.backends.cudnn.benchmark = False\n",
        "    torch.backends.cudnn.deterministic = True\n",
        "\n",
        "  print(f'Random seed {seed} has been set.')\n",
        "\n",
        "\n",
        "# In case that `DataLoader` is used\n",
        "def seed_worker(worker_id):\n",
        "  worker_seed = torch.initial_seed() % 2**32\n",
        "  np.random.seed(worker_seed)\n",
        "  random.seed(worker_seed)"
      ],
      "execution_count": 11,
      "outputs": []
    },
    {
      "cell_type": "code",
      "metadata": {
        "colab": {
          "base_uri": "https://localhost:8080/"
        },
        "id": "efT97aZL_pLR",
        "outputId": "dc3701cd-ec1e-4997-dbfe-0dfc35339af2"
      },
      "source": [
        "#@title 3. CUDA Device\n",
        "device = torch.device('cuda' if torch.cuda.is_available() else 'cpu')\n",
        "device"
      ],
      "execution_count": 12,
      "outputs": [
        {
          "output_type": "execute_result",
          "data": {
            "text/plain": [
              "device(type='cpu')"
            ]
          },
          "metadata": {},
          "execution_count": 12
        }
      ]
    },
    {
      "cell_type": "code",
      "metadata": {
        "id": "SEor43QR_5MN"
      },
      "source": [
        "#@title 4. Plotting params\n",
        "\n",
        "rcParams['figure.figsize'] = [20, 4]\n",
        "rcParams['font.size'] =15\n",
        "rcParams['axes.spines.top'] = False\n",
        "rcParams['axes.spines.right'] = False\n",
        "rcParams['figure.autolayout'] = True"
      ],
      "execution_count": 13,
      "outputs": []
    },
    {
      "cell_type": "code",
      "metadata": {
        "colab": {
          "base_uri": "https://localhost:8080/"
        },
        "id": "2hi3y8JGEq_c",
        "outputId": "51d443ea-f817-4b41-9005-b24a270fb958"
      },
      "source": [
        "#@title 5. Loading Spiking times\n",
        "fname1 = ['steinmetz_st.npz']\n",
        "fname1.append('steinmetz_wav.npz')\n",
        "fname1.append('steinmetz_lfp.npz')\n",
        "url2 = [\"https://osf.io/4bjns/download\"]\n",
        "url2.append(\"https://osf.io/ugm9v/download\")\n",
        "url2.append(\"https://osf.io/kx3v9/download\")\n",
        "\n",
        "\n",
        "for j in range(len(url2)):\n",
        "  if not os.path.isfile(fname1[j]):\n",
        "    try:\n",
        "      r = requests.get(url2[j])\n",
        "    except requests.ConnectionError:\n",
        "      print(\"!!! Failed to download data !!!\")\n",
        "    else:\n",
        "      if r.status_code != requests.codes.ok:\n",
        "        print(\"!!! Failed to download data !!!\")\n",
        "      else:\n",
        "        with open(fname1[j], \"wb\") as fid:\n",
        "          fid.write(r.content)\n",
        "\n",
        "\n",
        "dat_ST = np.load('steinmetz_st.npz', allow_pickle=True)['dat']\n",
        "dat2 = dat_ST[11]\n",
        "del dat_ST\n",
        "print(dat2.keys())"
      ],
      "execution_count": 14,
      "outputs": [
        {
          "output_type": "stream",
          "text": [
            "dict_keys(['ss', 'ss_passive'])\n"
          ],
          "name": "stdout"
        }
      ]
    },
    {
      "cell_type": "code",
      "metadata": {
        "colab": {
          "base_uri": "https://localhost:8080/"
        },
        "id": "i3uOkpmwEv1r",
        "outputId": "ce851d05-7e81-4083-9a5a-9d805d4a52cc"
      },
      "source": [
        "#@title 6. Load Binned Times\n",
        "\n",
        "fname = []\n",
        "for j in range(3):\n",
        "  fname.append('steinmetz_part%d.npz'%j)\n",
        "url = [\"https://osf.io/agvxh/download\"]\n",
        "url.append(\"https://osf.io/uv3mw/download\")\n",
        "url.append(\"https://osf.io/ehmw2/download\")\n",
        "\n",
        "for j in range(len(url)):\n",
        "  if not os.path.isfile(fname[j]):\n",
        "    try:\n",
        "      r = requests.get(url[j])\n",
        "    except requests.ConnectionError:\n",
        "      print(\"!!! Failed to download data !!!\")\n",
        "    else:\n",
        "      if r.status_code != requests.codes.ok:\n",
        "        print(\"!!! Failed to download data !!!\")\n",
        "      else:\n",
        "        with open(fname[j], \"wb\") as fid:\n",
        "          fid.write(r.content)\n",
        "\n",
        "\n",
        "\n",
        "alldat = np.array([])\n",
        "for j in range(len(fname)):\n",
        "  alldat = np.hstack((alldat, np.load('steinmetz_part%d.npz'%j, allow_pickle=True)['dat']))\n",
        "\n",
        "# select just one of the recordings here. 11 is nice because it has some neurons in vis ctx. \n",
        "dat = alldat[11]\n",
        "print(dat.keys())"
      ],
      "execution_count": 15,
      "outputs": [
        {
          "output_type": "stream",
          "text": [
            "dict_keys(['spks', 'wheel', 'pupil', 'response', 'response_time', 'bin_size', 'stim_onset', 'contrast_right', 'contrast_left', 'brain_area', 'feedback_time', 'feedback_type', 'gocue', 'mouse_name', 'date_exp', 'trough_to_peak', 'active_trials', 'contrast_left_passive', 'contrast_right_passive', 'spks_passive', 'pupil_passive', 'wheel_passive', 'prev_reward', 'ccf', 'ccf_axes', 'cellid_orig', 'reaction_time', 'face', 'face_passive', 'licks', 'licks_passive'])\n"
          ],
          "name": "stdout"
        }
      ]
    },
    {
      "cell_type": "code",
      "metadata": {
        "colab": {
          "base_uri": "https://localhost:8080/",
          "height": 680
        },
        "id": "jWYMRf07E0S9",
        "outputId": "0f889612-ae6f-4bd7-a554-6c9742baad96"
      },
      "source": [
        "#@title 7. DF form\n",
        "dt_waveforms = 1/30000 # dt of waveform\n",
        "binsize = dat['bin_size'] # bin times spikes\n",
        "mean_firing = dat['spks'].mean(axis = (1,2)) * 1/binsize # computing mean firing rate\n",
        "t_t_peak = dat['trough_to_peak'] * dt_waveforms * 1e3 # computing trough to peak time in ms\n",
        "\n",
        "\n",
        "labeling_df = pd.DataFrame({\n",
        "    \"Mean Firing Rate\": mean_firing,\n",
        "    \"Trough to peak\": t_t_peak,\n",
        "    \"Region\": dat['brain_area'],\n",
        "    \"Area\":dat['brain_area']\n",
        "})\n",
        "labeling_df.replace(\n",
        "    {\n",
        "        \"Area\": {\"CA1\":\"Hippocampus\",\"DG\":\"Hippocampus\",\"SUB\":\"Hippocampus\",\n",
        "        \"VISp\": \"Visual Ctx\", \"VISam\":\"Visual Ctx\",\"MD\":\"Thalamus\",\"LGd\":\"Thalamus\", \"LH\":\"Thalamus\",\n",
        "        \"PL\":\"Other Ctx\",\"MOs\":\"Other Ctx\",\"ACA\":\"Other Ctx\"\n",
        "        }\n",
        "    }, inplace = True\n",
        ")\n",
        "\n",
        "# Labeling according to conditions, other is the default condition\n",
        "labeling_df['Cell Type'] = \"Other\"\n",
        "labeling_df.loc[(labeling_df['Mean Firing Rate']<5)&(labeling_df['Trough to peak']>0.4),'Cell Type'] = \"Excitatory\"\n",
        "labeling_df.loc[(labeling_df['Mean Firing Rate']>5)&(labeling_df['Trough to peak']<0.4), 'Cell Type'] = \"Inhibitory\"\n",
        "\n",
        "labeling_df.head(20)"
      ],
      "execution_count": 16,
      "outputs": [
        {
          "output_type": "execute_result",
          "data": {
            "text/html": [
              "<div>\n",
              "<style scoped>\n",
              "    .dataframe tbody tr th:only-of-type {\n",
              "        vertical-align: middle;\n",
              "    }\n",
              "\n",
              "    .dataframe tbody tr th {\n",
              "        vertical-align: top;\n",
              "    }\n",
              "\n",
              "    .dataframe thead th {\n",
              "        text-align: right;\n",
              "    }\n",
              "</style>\n",
              "<table border=\"1\" class=\"dataframe\">\n",
              "  <thead>\n",
              "    <tr style=\"text-align: right;\">\n",
              "      <th></th>\n",
              "      <th>Mean Firing Rate</th>\n",
              "      <th>Trough to peak</th>\n",
              "      <th>Region</th>\n",
              "      <th>Area</th>\n",
              "      <th>Cell Type</th>\n",
              "    </tr>\n",
              "  </thead>\n",
              "  <tbody>\n",
              "    <tr>\n",
              "      <th>0</th>\n",
              "      <td>0.731765</td>\n",
              "      <td>0.800000</td>\n",
              "      <td>VISp</td>\n",
              "      <td>Visual Ctx</td>\n",
              "      <td>Excitatory</td>\n",
              "    </tr>\n",
              "    <tr>\n",
              "      <th>1</th>\n",
              "      <td>0.237647</td>\n",
              "      <td>0.666667</td>\n",
              "      <td>VISp</td>\n",
              "      <td>Visual Ctx</td>\n",
              "      <td>Excitatory</td>\n",
              "    </tr>\n",
              "    <tr>\n",
              "      <th>2</th>\n",
              "      <td>5.368235</td>\n",
              "      <td>0.766667</td>\n",
              "      <td>VISp</td>\n",
              "      <td>Visual Ctx</td>\n",
              "      <td>Other</td>\n",
              "    </tr>\n",
              "    <tr>\n",
              "      <th>3</th>\n",
              "      <td>0.190588</td>\n",
              "      <td>0.566667</td>\n",
              "      <td>DG</td>\n",
              "      <td>Hippocampus</td>\n",
              "      <td>Excitatory</td>\n",
              "    </tr>\n",
              "    <tr>\n",
              "      <th>4</th>\n",
              "      <td>1.356471</td>\n",
              "      <td>0.633333</td>\n",
              "      <td>VISp</td>\n",
              "      <td>Visual Ctx</td>\n",
              "      <td>Excitatory</td>\n",
              "    </tr>\n",
              "    <tr>\n",
              "      <th>5</th>\n",
              "      <td>0.000000</td>\n",
              "      <td>0.733333</td>\n",
              "      <td>VISp</td>\n",
              "      <td>Visual Ctx</td>\n",
              "      <td>Excitatory</td>\n",
              "    </tr>\n",
              "    <tr>\n",
              "      <th>6</th>\n",
              "      <td>0.141176</td>\n",
              "      <td>0.600000</td>\n",
              "      <td>SUB</td>\n",
              "      <td>Hippocampus</td>\n",
              "      <td>Excitatory</td>\n",
              "    </tr>\n",
              "    <tr>\n",
              "      <th>7</th>\n",
              "      <td>2.327059</td>\n",
              "      <td>0.733333</td>\n",
              "      <td>DG</td>\n",
              "      <td>Hippocampus</td>\n",
              "      <td>Excitatory</td>\n",
              "    </tr>\n",
              "    <tr>\n",
              "      <th>8</th>\n",
              "      <td>0.030588</td>\n",
              "      <td>0.633333</td>\n",
              "      <td>VISp</td>\n",
              "      <td>Visual Ctx</td>\n",
              "      <td>Excitatory</td>\n",
              "    </tr>\n",
              "    <tr>\n",
              "      <th>9</th>\n",
              "      <td>0.798824</td>\n",
              "      <td>0.400000</td>\n",
              "      <td>VISp</td>\n",
              "      <td>Visual Ctx</td>\n",
              "      <td>Other</td>\n",
              "    </tr>\n",
              "    <tr>\n",
              "      <th>10</th>\n",
              "      <td>0.048235</td>\n",
              "      <td>0.566667</td>\n",
              "      <td>SUB</td>\n",
              "      <td>Hippocampus</td>\n",
              "      <td>Excitatory</td>\n",
              "    </tr>\n",
              "    <tr>\n",
              "      <th>11</th>\n",
              "      <td>0.124706</td>\n",
              "      <td>0.266667</td>\n",
              "      <td>DG</td>\n",
              "      <td>Hippocampus</td>\n",
              "      <td>Other</td>\n",
              "    </tr>\n",
              "    <tr>\n",
              "      <th>12</th>\n",
              "      <td>0.245882</td>\n",
              "      <td>0.566667</td>\n",
              "      <td>VISp</td>\n",
              "      <td>Visual Ctx</td>\n",
              "      <td>Excitatory</td>\n",
              "    </tr>\n",
              "    <tr>\n",
              "      <th>13</th>\n",
              "      <td>0.145882</td>\n",
              "      <td>0.633333</td>\n",
              "      <td>VISp</td>\n",
              "      <td>Visual Ctx</td>\n",
              "      <td>Excitatory</td>\n",
              "    </tr>\n",
              "    <tr>\n",
              "      <th>14</th>\n",
              "      <td>1.222353</td>\n",
              "      <td>0.566667</td>\n",
              "      <td>SUB</td>\n",
              "      <td>Hippocampus</td>\n",
              "      <td>Excitatory</td>\n",
              "    </tr>\n",
              "    <tr>\n",
              "      <th>15</th>\n",
              "      <td>0.205882</td>\n",
              "      <td>0.466667</td>\n",
              "      <td>VISp</td>\n",
              "      <td>Visual Ctx</td>\n",
              "      <td>Excitatory</td>\n",
              "    </tr>\n",
              "    <tr>\n",
              "      <th>16</th>\n",
              "      <td>0.444706</td>\n",
              "      <td>0.566667</td>\n",
              "      <td>VISp</td>\n",
              "      <td>Visual Ctx</td>\n",
              "      <td>Excitatory</td>\n",
              "    </tr>\n",
              "    <tr>\n",
              "      <th>17</th>\n",
              "      <td>0.195294</td>\n",
              "      <td>0.633333</td>\n",
              "      <td>VISp</td>\n",
              "      <td>Visual Ctx</td>\n",
              "      <td>Excitatory</td>\n",
              "    </tr>\n",
              "    <tr>\n",
              "      <th>18</th>\n",
              "      <td>0.375294</td>\n",
              "      <td>0.400000</td>\n",
              "      <td>SUB</td>\n",
              "      <td>Hippocampus</td>\n",
              "      <td>Other</td>\n",
              "    </tr>\n",
              "    <tr>\n",
              "      <th>19</th>\n",
              "      <td>2.901176</td>\n",
              "      <td>0.600000</td>\n",
              "      <td>SUB</td>\n",
              "      <td>Hippocampus</td>\n",
              "      <td>Excitatory</td>\n",
              "    </tr>\n",
              "  </tbody>\n",
              "</table>\n",
              "</div>"
            ],
            "text/plain": [
              "    Mean Firing Rate  Trough to peak Region         Area   Cell Type\n",
              "0           0.731765        0.800000   VISp   Visual Ctx  Excitatory\n",
              "1           0.237647        0.666667   VISp   Visual Ctx  Excitatory\n",
              "2           5.368235        0.766667   VISp   Visual Ctx       Other\n",
              "3           0.190588        0.566667     DG  Hippocampus  Excitatory\n",
              "4           1.356471        0.633333   VISp   Visual Ctx  Excitatory\n",
              "5           0.000000        0.733333   VISp   Visual Ctx  Excitatory\n",
              "6           0.141176        0.600000    SUB  Hippocampus  Excitatory\n",
              "7           2.327059        0.733333     DG  Hippocampus  Excitatory\n",
              "8           0.030588        0.633333   VISp   Visual Ctx  Excitatory\n",
              "9           0.798824        0.400000   VISp   Visual Ctx       Other\n",
              "10          0.048235        0.566667    SUB  Hippocampus  Excitatory\n",
              "11          0.124706        0.266667     DG  Hippocampus       Other\n",
              "12          0.245882        0.566667   VISp   Visual Ctx  Excitatory\n",
              "13          0.145882        0.633333   VISp   Visual Ctx  Excitatory\n",
              "14          1.222353        0.566667    SUB  Hippocampus  Excitatory\n",
              "15          0.205882        0.466667   VISp   Visual Ctx  Excitatory\n",
              "16          0.444706        0.566667   VISp   Visual Ctx  Excitatory\n",
              "17          0.195294        0.633333   VISp   Visual Ctx  Excitatory\n",
              "18          0.375294        0.400000    SUB  Hippocampus       Other\n",
              "19          2.901176        0.600000    SUB  Hippocampus  Excitatory"
            ]
          },
          "metadata": {},
          "execution_count": 16
        }
      ]
    },
    {
      "cell_type": "code",
      "metadata": {
        "colab": {
          "base_uri": "https://localhost:8080/",
          "height": 340
        },
        "id": "1Jnj1Ch9E5JS",
        "outputId": "94f9ab5c-7cb4-4ca8-c467-319edd78e2c7"
      },
      "source": [
        "dat = alldat[36]\n",
        "labeling_df['Region'].unique()\n",
        "print(dat['spks'].shape)\n",
        "#Neurons,trials,time\n",
        "plt.imshow(dat['spks'][dat['brain_area']=='MOs',30,:])"
      ],
      "execution_count": 18,
      "outputs": [
        {
          "output_type": "stream",
          "text": [
            "(1055, 181, 250)\n"
          ],
          "name": "stdout"
        },
        {
          "output_type": "execute_result",
          "data": {
            "text/plain": [
              "<matplotlib.image.AxesImage at 0x7fe8356e5f50>"
            ]
          },
          "metadata": {},
          "execution_count": 18
        },
        {
          "output_type": "display_data",
          "data": {
            "image/png": "[encoded data removed]",
            "text/plain": [
              "<Figure size 1440x288 with 1 Axes>"
            ]
          },
          "metadata": {
            "needs_background": "light"
          }
        }
      ]
    },
    {
      "cell_type": "code",
      "metadata": {
        "id": "lpjbZ5HFFDPT",
        "colab": {
          "base_uri": "https://localhost:8080/",
          "height": 442,
          "referenced_widgets": [
            "e0a86b38728842e5a34046f280559975",
            "2d1c85bbda354268b9754df1dd984ea2",
            "4d7d124a9faa441b868ae44ab09e7e0d",
            "06992105eec841679e8e9a71d6d5becf",
            "f3eb388d99724b40bbe187670b0e2895",
            "ecac606b97d7468aa5d7d7d36abe268f",
            "e9a046e2ce89478fb010876e49ad16df",
            "a0e4eb11f651473db9cbd70f743126f1",
            "db1f5fa250fb4b67860eafc3db62e043",
            "f4be3b49c3424431ae0fd03035604320"
          ]
        },
        "outputId": "b10250a5-1db6-4743-8adf-065b1f883654"
      },
      "source": [
        "#@title 7. Raster visualizer\n",
        "from ipywidgets import interact\n",
        "import ipywidgets as widgets\n",
        "vis_right = dat['contrast_right'] # 0 - low - high\n",
        "vis_left = dat['contrast_left'] # 0 - low - high\n",
        "is_correct = np.sign(dat['response'])==np.sign(vis_left-vis_right)\n",
        "def raster_visualizer(area,trial):\n",
        "  spikes= dat2['ss']\n",
        "  plt.figure(figsize=(9,5))\n",
        "  plt.eventplot(spikes[labeling_df['Area']==area][:,trial],color='k')\n",
        "  #plt.eventplot(spikes[(labeling_df['Area']==area) & (labeling_df['Cell Type']=='Excitatory')][:,trial]);\n",
        "  #plt.eventplot(spikes[(labeling_df['Area']==area) & (labeling_df['Cell Type']=='Other')][:,trial],color='k');\n",
        "  #plt.eventplot(spikes[(labeling_df['Area']==area) & (labeling_df['Cell Type']=='Inhibitory')][:,trial],colors = 'r');\n",
        "  #plt.yticks([]);\n",
        "  plt.vlines(0.5,0,len(spikes[(labeling_df['Area']==area)])-10,'red','--',alpha=0.5)\n",
        "  plt.ylabel('Neurons');\n",
        "  plt.xlabel('Time ($s$)');\n",
        "  plt.title(f'Trial was correct?:{is_correct[trial]}')\n",
        "interact(raster_visualizer, area=['Hippocampus','Visual Ctx','Thalamus','Other Ctx'], trial=(0,339));"
      ],
      "execution_count": 19,
      "outputs": [
        {
          "output_type": "display_data",
          "data": {
            "application/vnd.jupyter.widget-view+json": {
              "model_id": "e0a86b38728842e5a34046f280559975",
              "version_minor": 0,
              "version_major": 2
            },
            "text/plain": [
              "interactive(children=(Dropdown(description='area', options=('Hippocampus', 'Visual Ctx', 'Thalamus', 'Other Ct…"
            ]
          },
          "metadata": {}
        }
      ]
    },
    {
      "cell_type": "code",
      "metadata": {
        "id": "XLKkz0yxFISr",
        "colab": {
          "base_uri": "https://localhost:8080/",
          "height": 411,
          "referenced_widgets": [
            "c39dfeac87e54584a9ee6c178dd5e2b4",
            "012449182bdd417c8f37f09bd9d2cf7c",
            "524110de995042ad8ceb2f712f0daf9e",
            "debe2d3042b6450993dae70fa668b168",
            "0918bed11ee24d12ad038cdcfa5b1236",
            "81a1ee79e73d46099381bd5333ec0aeb",
            "a3298a3603804ad2887f5a28a195df75"
          ]
        },
        "outputId": "b8f9b46a-6e76-4ca8-d1d2-ded0b955d92e"
      },
      "source": [
        "#@title 8. Mean firing rate based on response\n",
        "# response = dat['response'] # right - nogo - left (-1, 0, 1)\n",
        "\n",
        "def mean_firing(area):\n",
        "  Selection = (labeling_df['Area']==area) #& (labeling_df['Cell Type']=='Excitatory')\n",
        "  spikes = dat['spks'][Selection].mean(axis = 0) #selecting spikes\n",
        "  mean_fr_e = spikes[is_correct==True].mean(axis=(0))*1/binsize\n",
        "  mean_fr_i = spikes[is_correct==False].mean(axis=(0))*1/binsize\n",
        "  time = binsize * np.arange(dat['spks'].shape[-1])\n",
        "  plt.plot(time, mean_fr_e,label='correct')\n",
        "  plt.plot(time, mean_fr_i,label='incorrect')\n",
        "  plt.axvline(x=0.5,ls = '--', alpha = 0.5, c = 'r', label='Stim')\n",
        "  plt.axvline(x=np.mean(dat['response_time']),ls = '--', alpha = 0.5, c = 'k', label='Response')\n",
        "  plt.ylabel('Mean Firing Rate ($Hz$)')\n",
        "  plt.xlabel('Time ($ms$)')\n",
        "  plt.legend()\n",
        "interact(mean_firing, area=['Hippocampus','Visual Ctx','Thalamus','Other Ctx']);"
      ],
      "execution_count": 20,
      "outputs": [
        {
          "output_type": "display_data",
          "data": {
            "application/vnd.jupyter.widget-view+json": {
              "model_id": "c39dfeac87e54584a9ee6c178dd5e2b4",
              "version_minor": 0,
              "version_major": 2
            },
            "text/plain": [
              "interactive(children=(Dropdown(description='area', options=('Hippocampus', 'Visual Ctx', 'Thalamus', 'Other Ct…"
            ]
          },
          "metadata": {}
        }
      ]
    },
    {
      "cell_type": "code",
      "metadata": {
        "colab": {
          "base_uri": "https://localhost:8080/"
        },
        "id": "9DcJn6J-FJx_",
        "outputId": "4eae003f-275f-4a2a-cc67-c5d451381850"
      },
      "source": [
        "#dat['spks'][dat['brain_area']=='ZI',:,:]\n",
        "Data_to_feed = dat['spks']\n",
        "print(Data_to_feed.shape,Data_to_feed.size)"
      ],
      "execution_count": 21,
      "outputs": [
        {
          "output_type": "stream",
          "text": [
            "(1055, 181, 250) 47738750\n"
          ],
          "name": "stdout"
        }
      ]
    },
    {
      "cell_type": "code",
      "metadata": {
        "colab": {
          "base_uri": "https://localhost:8080/"
        },
        "id": "9qt0-71gkKWF",
        "outputId": "7dce07ce-d1f4-4c8e-fa46-5d95624ef1f2"
      },
      "source": [
        "#@title Constants and Data\n",
        "a0 = Data_to_feed.shape[0]\n",
        "a1 = Data_to_feed.shape[1]\n",
        "a2 = 5 \n",
        "d22 = np.zeros((a0,a1,a2))\n",
        "for i in range(5):\n",
        "  d22[:,:,i] = Data_to_feed[:,:,50*i:50*(i+1)].mean(axis=2)\n",
        "\n",
        "in_data=torch.tensor(d22.astype(np.float32) ).permute(1,0,2)\n",
        "print(in_data.shape)\n",
        "\n",
        "\n",
        "num_epochs = 1000\n",
        "lr = 1e-3  #learning rate\n",
        "batch_size = 181\n",
        "wd = 1e-4\n",
        "in_dim = in_data.size(1)*in_data.size(2)    \n",
        "#in_dim = #of Neurons*#of time bins\n",
        "print(in_dim)\n",
        "h_dim = [in_dim, 20] #[h_dim[0],h_dim[1],h_dim[2],h_dim[3]] # list of nbs for the hidden layers \n"
      ],
      "execution_count": 53,
      "outputs": [
        {
          "output_type": "stream",
          "text": [
            "torch.Size([181, 1055, 5])\n",
            "5275\n"
          ],
          "name": "stdout"
        }
      ]
    },
    {
      "cell_type": "code",
      "metadata": {
        "id": "XCs0D051ssNK"
      },
      "source": [
        "#@title Autoencoder\n",
        "class AE(nn.Module):\n",
        "  def __init__(self,in_dim, hidden_dim):\n",
        "    super(AE,self).__init__()\n",
        "\n",
        "    self.encoder = nn.Sequential(\n",
        "        nn.Linear(in_dim,h_dim[0]),\n",
        "        nn.ReLU(),\n",
        "        nn.Linear(h_dim[0],h_dim[1]),\n",
        "        #nn.ReLU(),\n",
        "\n",
        "        #nn.Linear(h_dim[1],h_dim[2]),\n",
        "        #nn.ReLU(),\n",
        "        #nn.Linear(h_dim[2],h_dim[3])\n",
        "    )\n",
        "    self.decoder = nn.Sequential(\n",
        "        #nn.Linear(h_dim[3],h_dim[2]),\n",
        "        #nn.ReLU(),\n",
        "        #nn.Linear(h_dim[2],h_dim[1]),\n",
        "        #nn.ReLU(),\n",
        "        nn.Linear(h_dim[1],h_dim[0]),\n",
        "        nn.ReLU(),\n",
        "        nn.Linear(h_dim[0],in_dim)  \n",
        "   )\n",
        "  def forward(self,x):\n",
        "    flat_x = x.reshape(x.size(0),-1)\n",
        "    h = self.encoder(flat_x)\n",
        "    output = self.decoder(h)\n",
        "    x_out = output.view(x.size())\n",
        "    return x_out , h "
      ],
      "execution_count": 54,
      "outputs": []
    },
    {
      "cell_type": "code",
      "metadata": {
        "id": "XvG6s6FRjA2O",
        "colab": {
          "base_uri": "https://localhost:8080/"
        },
        "outputId": "556a1dab-0224-464b-8a29-f74384499d39"
      },
      "source": [
        "nonlin_AE = AE(in_dim, h_dim)\n",
        "nonlin_AE.to(device)"
      ],
      "execution_count": 55,
      "outputs": [
        {
          "output_type": "execute_result",
          "data": {
            "text/plain": [
              "AE(\n",
              "  (encoder): Sequential(\n",
              "    (0): Linear(in_features=5275, out_features=5275, bias=True)\n",
              "    (1): ReLU()\n",
              "    (2): Linear(in_features=5275, out_features=20, bias=True)\n",
              "  )\n",
              "  (decoder): Sequential(\n",
              "    (0): Linear(in_features=20, out_features=5275, bias=True)\n",
              "    (1): ReLU()\n",
              "    (2): Linear(in_features=5275, out_features=5275, bias=True)\n",
              "  )\n",
              ")"
            ]
          },
          "metadata": {},
          "execution_count": 55
        }
      ]
    },
    {
      "cell_type": "code",
      "metadata": {
        "colab": {
          "base_uri": "https://localhost:8080/"
        },
        "id": "jZYXCPuvFp7F",
        "outputId": "fbfbcf24-fbbc-4ddc-e44a-941e17161015"
      },
      "source": [
        "#@title train AE\n",
        "optimizer = optim.Adam(nonlin_AE.parameters(),lr =lr, weight_decay = wd)\n",
        "loss_fn = nn.MSELoss()\n",
        "mse_loss = []\n",
        "for epoch in range(num_epochs):\n",
        "  loss=0\n",
        "  for j in range(1): #batch_size=nbofTrials\n",
        "    #load batch data to active device \n",
        "    batch_ftrs = in_data[batch_size*j:batch_size*(j+1),:,:].to(device) \n",
        "    #each iteration, we should set the \n",
        "    #gradients back to zero\n",
        "    optimizer.zero_grad()\n",
        "    # reconstruct\n",
        "    reconstucted_output , latents = nonlin_AE(batch_ftrs) \n",
        "    # compute the training loss\n",
        "    training_loss = loss_fn(reconstucted_output.view(batch_ftrs.size(), -1),batch_ftrs.view(batch_ftrs.size(), -1)) \n",
        "    # compute back prop to accumlate gradients\n",
        "    training_loss.backward()\n",
        "    #update according to current gradients\n",
        "    optimizer.step()\n",
        "    #print(loss)\n",
        "    loss += training_loss.item()\n",
        "    #print(loss)\n",
        "  mse_loss.append(loss)\n",
        "    #print(mse_loss)\n",
        "  if epoch % 100 == 0:\n",
        "      print(f'iteration {epoch}, cost {loss:.4f}')\n",
        "nonlin_AE.to('cpu')"
      ],
      "execution_count": 56,
      "outputs": [
        {
          "output_type": "stream",
          "text": [
            "iteration 0, cost 0.0111\n",
            "iteration 100, cost 0.0018\n",
            "iteration 200, cost 0.0016\n",
            "iteration 300, cost 0.0017\n",
            "iteration 400, cost 0.0017\n",
            "iteration 500, cost 0.0017\n",
            "iteration 600, cost 0.0017\n",
            "iteration 700, cost 0.0017\n",
            "iteration 800, cost 0.0017\n",
            "iteration 900, cost 0.0017\n"
          ],
          "name": "stdout"
        },
        {
          "output_type": "execute_result",
          "data": {
            "text/plain": [
              "AE(\n",
              "  (encoder): Sequential(\n",
              "    (0): Linear(in_features=5275, out_features=5275, bias=True)\n",
              "    (1): ReLU()\n",
              "    (2): Linear(in_features=5275, out_features=20, bias=True)\n",
              "  )\n",
              "  (decoder): Sequential(\n",
              "    (0): Linear(in_features=20, out_features=5275, bias=True)\n",
              "    (1): ReLU()\n",
              "    (2): Linear(in_features=5275, out_features=5275, bias=True)\n",
              "  )\n",
              ")"
            ]
          },
          "metadata": {},
          "execution_count": 56
        }
      ]
    },
    {
      "cell_type": "code",
      "metadata": {
        "id": "IHq6PKxerQcT"
      },
      "source": [
        "reconstucted_output = reconstucted_output.detach().cpu().numpy()\n",
        "latents = latents.detach().cpu().numpy()"
      ],
      "execution_count": 60,
      "outputs": []
    },
    {
      "cell_type": "code",
      "metadata": {
        "colab": {
          "base_uri": "https://localhost:8080/",
          "height": 264
        },
        "id": "bZcHM9XC4mu0",
        "outputId": "f56f8871-ee02-48b0-c29d-8d0c4975850f"
      },
      "source": [
        "plt.plot(reconstucted_output[:,1053,:].mean(axis=0))\n",
        "plt.plot(in_data[:,1053,:].mean(axis=0))"
      ],
      "execution_count": 61,
      "outputs": [
        {
          "output_type": "execute_result",
          "data": {
            "text/plain": [
              "[<matplotlib.lines.Line2D at 0x7fe8339c1c90>]"
            ]
          },
          "metadata": {},
          "execution_count": 61
        },
        {
          "output_type": "display_data",
          "data": {
            "image/png": "[encoded data removed]",
            "text/plain": [
              "<Figure size 1440x288 with 1 Axes>"
            ]
          },
          "metadata": {
            "needs_background": "light"
          }
        }
      ]
    },
    {
      "cell_type": "code",
      "metadata": {
        "colab": {
          "base_uri": "https://localhost:8080/",
          "height": 265
        },
        "id": "F15TqxvwA4hS",
        "outputId": "3b9ee08d-bad0-4e27-d901-5833ada7e0a6"
      },
      "source": [
        "latents.shape\n",
        "plt.plot(latents[1,:])"
      ],
      "execution_count": 65,
      "outputs": [
        {
          "output_type": "execute_result",
          "data": {
            "text/plain": [
              "[<matplotlib.lines.Line2D at 0x7fe8303bbe90>]"
            ]
          },
          "metadata": {},
          "execution_count": 65
        },
        {
          "output_type": "display_data",
          "data": {
            "image/png": "[encoded data removed]",
            "text/plain": [
              "<Figure size 1440x288 with 1 Axes>"
            ]
          },
          "metadata": {
            "needs_background": "light"
          }
        }
      ]
    },
    {
      "cell_type": "code",
      "metadata": {
        "colab": {
          "base_uri": "https://localhost:8080/"
        },
        "id": "lTEHRgy5L7fU",
        "outputId": "4e3a2eb8-6ecd-4a6e-f32f-96b58d22856b"
      },
      "source": [
        ""
      ],
      "execution_count": 63,
      "outputs": [
        {
          "output_type": "execute_result",
          "data": {
            "text/plain": [
              "(181, 20)"
            ]
          },
          "metadata": {},
          "execution_count": 63
        }
      ]
    },
    {
      "cell_type": "code",
      "metadata": {
        "colab": {
          "base_uri": "https://localhost:8080/"
        },
        "id": "AF4F_Y38MgbL",
        "outputId": "38610a2a-9f81-4b4d-f5cb-9f93826346f0"
      },
      "source": [
        ""
      ],
      "execution_count": 52,
      "outputs": [
        {
          "output_type": "execute_result",
          "data": {
            "text/plain": [
              "105.5"
            ]
          },
          "metadata": {},
          "execution_count": 52
        }
      ]
    },
    {
      "cell_type": "code",
      "metadata": {
        "id": "48ukMRZ_MmYp"
      },
      "source": [
        ""
      ],
      "execution_count": null,
      "outputs": []
    }
  ]
}