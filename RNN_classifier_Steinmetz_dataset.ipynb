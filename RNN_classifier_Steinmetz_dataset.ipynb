{
  "nbformat": 4,
  "nbformat_minor": 0,
  "metadata": {
    "colab": {
      "name": "RNN_classifier_Steinmetz_dataset.ipynb",
      "provenance": [],
      "collapsed_sections": [
        "zEoj5p60FF36"
      ],
      "toc_visible": true,
      "include_colab_link": true
    },
    "kernelspec": {
      "name": "python3",
      "display_name": "Python 3"
    },
    "language_info": {
      "name": "python"
    },
    "accelerator": "GPU",
    "widgets": {
      "application/vnd.jupyter.widget-state+json": {
        "6f7b1921122f43308ac2a7a9b3b09c78": {
          "model_module": "@jupyter-widgets/controls",
          "model_name": "VBoxModel",
          "model_module_version": "1.5.0",
          "state": {
            "_view_name": "VBoxView",
            "_dom_classes": [
              "widget-interact"
            ],
            "_model_name": "VBoxModel",
            "_view_module": "@jupyter-widgets/controls",
            "_model_module_version": "1.5.0",
            "_view_count": null,
            "_view_module_version": "1.5.0",
            "box_style": "",
            "layout": "IPY_MODEL_b6b0afacfdf849af8c28cdb4e61ef20c",
            "_model_module": "@jupyter-widgets/controls",
            "children": [
              "IPY_MODEL_a62bd2922050493ca63c9beddafc54f6",
              "IPY_MODEL_00e5ed728bad42ae80e737c4ac212406",
              "IPY_MODEL_603cf62c8fd345079a131b2f7e6fdc84"
            ]
          }
        },
        "b6b0afacfdf849af8c28cdb4e61ef20c": {
          "model_module": "@jupyter-widgets/base",
          "model_name": "LayoutModel",
          "model_module_version": "1.2.0",
          "state": {
            "_view_name": "LayoutView",
            "grid_template_rows": null,
            "right": null,
            "justify_content": null,
            "_view_module": "@jupyter-widgets/base",
            "overflow": null,
            "_model_module_version": "1.2.0",
            "_view_count": null,
            "flex_flow": null,
            "width": null,
            "min_width": null,
            "border": null,
            "align_items": null,
            "bottom": null,
            "_model_module": "@jupyter-widgets/base",
            "top": null,
            "grid_column": null,
            "overflow_y": null,
            "overflow_x": null,
            "grid_auto_flow": null,
            "grid_area": null,
            "grid_template_columns": null,
            "flex": null,
            "_model_name": "LayoutModel",
            "justify_items": null,
            "grid_row": null,
            "max_height": null,
            "align_content": null,
            "visibility": null,
            "align_self": null,
            "height": null,
            "min_height": null,
            "padding": null,
            "grid_auto_rows": null,
            "grid_gap": null,
            "max_width": null,
            "order": null,
            "_view_module_version": "1.2.0",
            "grid_template_areas": null,
            "object_position": null,
            "object_fit": null,
            "grid_auto_columns": null,
            "margin": null,
            "display": null,
            "left": null
          }
        },
        "a62bd2922050493ca63c9beddafc54f6": {
          "model_module": "@jupyter-widgets/controls",
          "model_name": "DropdownModel",
          "model_module_version": "1.5.0",
          "state": {
            "_options_labels": [
              "Hippocampus",
              "Visual Ctx",
              "Thalamus",
              "Other Ctx"
            ],
            "_view_name": "DropdownView",
            "style": "IPY_MODEL_68a835424b1d4af9a468936af45fae8a",
            "_dom_classes": [],
            "description": "area",
            "_model_name": "DropdownModel",
            "index": 0,
            "_view_module": "@jupyter-widgets/controls",
            "_model_module_version": "1.5.0",
            "_view_count": null,
            "disabled": false,
            "_view_module_version": "1.5.0",
            "description_tooltip": null,
            "_model_module": "@jupyter-widgets/controls",
            "layout": "IPY_MODEL_8eb25e2cc36944999c6b3faaca03048e"
          }
        },
        "00e5ed728bad42ae80e737c4ac212406": {
          "model_module": "@jupyter-widgets/controls",
          "model_name": "IntSliderModel",
          "model_module_version": "1.5.0",
          "state": {
            "_view_name": "IntSliderView",
            "style": "IPY_MODEL_e7cf94943fcf437a850f88d7e76881be",
            "_dom_classes": [],
            "description": "trial",
            "step": 1,
            "_model_name": "IntSliderModel",
            "orientation": "horizontal",
            "max": 339,
            "_view_module": "@jupyter-widgets/controls",
            "_model_module_version": "1.5.0",
            "value": 169,
            "_view_count": null,
            "disabled": false,
            "_view_module_version": "1.5.0",
            "min": 0,
            "continuous_update": true,
            "readout_format": "d",
            "description_tooltip": null,
            "readout": true,
            "_model_module": "@jupyter-widgets/controls",
            "layout": "IPY_MODEL_043d4740ab414e54964c45ff15e87ccf"
          }
        },
        "603cf62c8fd345079a131b2f7e6fdc84": {
          "model_module": "@jupyter-widgets/output",
          "model_name": "OutputModel",
          "model_module_version": "1.0.0",
          "state": {
            "_view_name": "OutputView",
            "msg_id": "",
            "_dom_classes": [],
            "_model_name": "OutputModel",
            "outputs": [
              {
                "output_type": "display_data",
                "data": {
                  "image/png": "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\n",
                  "text/plain": "<Figure size 792x504 with 1 Axes>"
                },
                "metadata": {
                  "needs_background": "light"
                }
              }
            ],
            "_view_module": "@jupyter-widgets/output",
            "_model_module_version": "1.0.0",
            "_view_count": null,
            "_view_module_version": "1.0.0",
            "layout": "IPY_MODEL_5e6147caee06442b88fca020a538650a",
            "_model_module": "@jupyter-widgets/output"
          }
        },
        "68a835424b1d4af9a468936af45fae8a": {
          "model_module": "@jupyter-widgets/controls",
          "model_name": "DescriptionStyleModel",
          "model_module_version": "1.5.0",
          "state": {
            "_view_name": "StyleView",
            "_model_name": "DescriptionStyleModel",
            "description_width": "",
            "_view_module": "@jupyter-widgets/base",
            "_model_module_version": "1.5.0",
            "_view_count": null,
            "_view_module_version": "1.2.0",
            "_model_module": "@jupyter-widgets/controls"
          }
        },
        "8eb25e2cc36944999c6b3faaca03048e": {
          "model_module": "@jupyter-widgets/base",
          "model_name": "LayoutModel",
          "model_module_version": "1.2.0",
          "state": {
            "_view_name": "LayoutView",
            "grid_template_rows": null,
            "right": null,
            "justify_content": null,
            "_view_module": "@jupyter-widgets/base",
            "overflow": null,
            "_model_module_version": "1.2.0",
            "_view_count": null,
            "flex_flow": null,
            "width": null,
            "min_width": null,
            "border": null,
            "align_items": null,
            "bottom": null,
            "_model_module": "@jupyter-widgets/base",
            "top": null,
            "grid_column": null,
            "overflow_y": null,
            "overflow_x": null,
            "grid_auto_flow": null,
            "grid_area": null,
            "grid_template_columns": null,
            "flex": null,
            "_model_name": "LayoutModel",
            "justify_items": null,
            "grid_row": null,
            "max_height": null,
            "align_content": null,
            "visibility": null,
            "align_self": null,
            "height": null,
            "min_height": null,
            "padding": null,
            "grid_auto_rows": null,
            "grid_gap": null,
            "max_width": null,
            "order": null,
            "_view_module_version": "1.2.0",
            "grid_template_areas": null,
            "object_position": null,
            "object_fit": null,
            "grid_auto_columns": null,
            "margin": null,
            "display": null,
            "left": null
          }
        },
        "e7cf94943fcf437a850f88d7e76881be": {
          "model_module": "@jupyter-widgets/controls",
          "model_name": "SliderStyleModel",
          "model_module_version": "1.5.0",
          "state": {
            "_view_name": "StyleView",
            "handle_color": null,
            "_model_name": "SliderStyleModel",
            "description_width": "",
            "_view_module": "@jupyter-widgets/base",
            "_model_module_version": "1.5.0",
            "_view_count": null,
            "_view_module_version": "1.2.0",
            "_model_module": "@jupyter-widgets/controls"
          }
        },
        "043d4740ab414e54964c45ff15e87ccf": {
          "model_module": "@jupyter-widgets/base",
          "model_name": "LayoutModel",
          "model_module_version": "1.2.0",
          "state": {
            "_view_name": "LayoutView",
            "grid_template_rows": null,
            "right": null,
            "justify_content": null,
            "_view_module": "@jupyter-widgets/base",
            "overflow": null,
            "_model_module_version": "1.2.0",
            "_view_count": null,
            "flex_flow": null,
            "width": null,
            "min_width": null,
            "border": null,
            "align_items": null,
            "bottom": null,
            "_model_module": "@jupyter-widgets/base",
            "top": null,
            "grid_column": null,
            "overflow_y": null,
            "overflow_x": null,
            "grid_auto_flow": null,
            "grid_area": null,
            "grid_template_columns": null,
            "flex": null,
            "_model_name": "LayoutModel",
            "justify_items": null,
            "grid_row": null,
            "max_height": null,
            "align_content": null,
            "visibility": null,
            "align_self": null,
            "height": null,
            "min_height": null,
            "padding": null,
            "grid_auto_rows": null,
            "grid_gap": null,
            "max_width": null,
            "order": null,
            "_view_module_version": "1.2.0",
            "grid_template_areas": null,
            "object_position": null,
            "object_fit": null,
            "grid_auto_columns": null,
            "margin": null,
            "display": null,
            "left": null
          }
        },
        "5e6147caee06442b88fca020a538650a": {
          "model_module": "@jupyter-widgets/base",
          "model_name": "LayoutModel",
          "model_module_version": "1.2.0",
          "state": {
            "_view_name": "LayoutView",
            "grid_template_rows": null,
            "right": null,
            "justify_content": null,
            "_view_module": "@jupyter-widgets/base",
            "overflow": null,
            "_model_module_version": "1.2.0",
            "_view_count": null,
            "flex_flow": null,
            "width": null,
            "min_width": null,
            "border": null,
            "align_items": null,
            "bottom": null,
            "_model_module": "@jupyter-widgets/base",
            "top": null,
            "grid_column": null,
            "overflow_y": null,
            "overflow_x": null,
            "grid_auto_flow": null,
            "grid_area": null,
            "grid_template_columns": null,
            "flex": null,
            "_model_name": "LayoutModel",
            "justify_items": null,
            "grid_row": null,
            "max_height": null,
            "align_content": null,
            "visibility": null,
            "align_self": null,
            "height": null,
            "min_height": null,
            "padding": null,
            "grid_auto_rows": null,
            "grid_gap": null,
            "max_width": null,
            "order": null,
            "_view_module_version": "1.2.0",
            "grid_template_areas": null,
            "object_position": null,
            "object_fit": null,
            "grid_auto_columns": null,
            "margin": null,
            "display": null,
            "left": null
          }
        },
        "fabd9d24119844af999d510a7b602b98": {
          "model_module": "@jupyter-widgets/controls",
          "model_name": "VBoxModel",
          "model_module_version": "1.5.0",
          "state": {
            "_view_name": "VBoxView",
            "_dom_classes": [
              "widget-interact"
            ],
            "_model_name": "VBoxModel",
            "_view_module": "@jupyter-widgets/controls",
            "_model_module_version": "1.5.0",
            "_view_count": null,
            "_view_module_version": "1.5.0",
            "box_style": "",
            "layout": "IPY_MODEL_bfb1d481215e42968edbdc733efcca6f",
            "_model_module": "@jupyter-widgets/controls",
            "children": [
              "IPY_MODEL_25eed1d8546c46c895d9e24da3f10f72",
              "IPY_MODEL_894a378d65594509a07b742476820d5b"
            ]
          }
        },
        "bfb1d481215e42968edbdc733efcca6f": {
          "model_module": "@jupyter-widgets/base",
          "model_name": "LayoutModel",
          "model_module_version": "1.2.0",
          "state": {
            "_view_name": "LayoutView",
            "grid_template_rows": null,
            "right": null,
            "justify_content": null,
            "_view_module": "@jupyter-widgets/base",
            "overflow": null,
            "_model_module_version": "1.2.0",
            "_view_count": null,
            "flex_flow": null,
            "width": null,
            "min_width": null,
            "border": null,
            "align_items": null,
            "bottom": null,
            "_model_module": "@jupyter-widgets/base",
            "top": null,
            "grid_column": null,
            "overflow_y": null,
            "overflow_x": null,
            "grid_auto_flow": null,
            "grid_area": null,
            "grid_template_columns": null,
            "flex": null,
            "_model_name": "LayoutModel",
            "justify_items": null,
            "grid_row": null,
            "max_height": null,
            "align_content": null,
            "visibility": null,
            "align_self": null,
            "height": null,
            "min_height": null,
            "padding": null,
            "grid_auto_rows": null,
            "grid_gap": null,
            "max_width": null,
            "order": null,
            "_view_module_version": "1.2.0",
            "grid_template_areas": null,
            "object_position": null,
            "object_fit": null,
            "grid_auto_columns": null,
            "margin": null,
            "display": null,
            "left": null
          }
        },
        "25eed1d8546c46c895d9e24da3f10f72": {
          "model_module": "@jupyter-widgets/controls",
          "model_name": "DropdownModel",
          "model_module_version": "1.5.0",
          "state": {
            "_options_labels": [
              "Hippocampus",
              "Visual Ctx",
              "Thalamus",
              "Other Ctx"
            ],
            "_view_name": "DropdownView",
            "style": "IPY_MODEL_f8828a237b8147ff9b3d9d2606e6aeeb",
            "_dom_classes": [],
            "description": "area",
            "_model_name": "DropdownModel",
            "index": 0,
            "_view_module": "@jupyter-widgets/controls",
            "_model_module_version": "1.5.0",
            "_view_count": null,
            "disabled": false,
            "_view_module_version": "1.5.0",
            "description_tooltip": null,
            "_model_module": "@jupyter-widgets/controls",
            "layout": "IPY_MODEL_be454406eeca4e6c842f8658176eddfd"
          }
        },
        "894a378d65594509a07b742476820d5b": {
          "model_module": "@jupyter-widgets/output",
          "model_name": "OutputModel",
          "model_module_version": "1.0.0",
          "state": {
            "_view_name": "OutputView",
            "msg_id": "",
            "_dom_classes": [],
            "_model_name": "OutputModel",
            "outputs": [
              {
                "output_type": "display_data",
                "data": {
                  "image/png": "iVBORw0KGgoAAAANSUhEUgAABY0AAAEOCAYAAADFWjglAAAABHNCSVQICAgIfAhkiAAAAAlwSFlzAAALEgAACxIB0t1+/AAAADh0RVh0U29mdHdhcmUAbWF0cGxvdGxpYiB2ZXJzaW9uMy4yLjIsIGh0dHA6Ly9tYXRwbG90bGliLm9yZy+WH4yJAAAgAElEQVR4nOzdd3xUZfb48c+T3nslISS00FtoKghItWBXVrGw6uKuuk1dv64/sWxx17auunZZQVd0XRRFEelVaaGHkgRI7733PL8/7iQkZBLSJwnn/Xrd1yTPbWcGuMycOfc8SmuNEEIIIYQQQgghhBBCCAFgZekAhBBCCCGEEEIIIYQQQvQckjQWQgghhBBCCCGEEEIIUU+SxkIIIYQQQgghhBBCCCHqSdJYCCGEEEIIIYQQQgghRD1JGgshhBBCCCGEEEIIIYSoJ0ljIYQQQgghhBBCCCGEEPVsLB2AJSxYsED/8MMPlg5DCCE6bsUK43HJEktGIYS4RK0wXYOWyDVICCGEEEKI3kqZG7wkK42zs7MtHYIQQgghhBBCCCGEEEL0SJdk0lgIIYQQQgghhBBCCCGEeZI0FkIIIYQQQgghhBBCCFFPksZCCCGEEEIIIYQQQggh6l2SE+EJIUSfMXu2pSMQQlzCZss1SAghhBBCiD7JopXGSqklSiltZvnlRfZzV0p9pJTKU0oVKKU+VUp5d1fcQgjRY/TvbyxCCGEB/fv3p79cg4QQQgghhOhzekql8VVAWYPfz11k+y+AocADQC3wIvA1ML1LohNCiJ4qKcl4lKSNEMICkkzXIEkcCyGEEEII0bf0lKTxAa11cWs2VEpdBswDZmitd5rGUoB9Sqk5WuvNHQ2msLCQzMxMqqqqOnoo0QvY2tri5+eHm5ubpUMRou22bDEelyyxaBhCiEvTFtM1aIlcg4QQQgghhOhTekrSuC2uBjLqEsYAWuv9Sqk407oOJY0LCwvJyMggKCgIR0dHlFIdDFf0ZFprysrKSElJAZDEsRCiR1h3LI2Ve+L5/BdTsbKS/4eEEEIIIYQQQnQvi/Y0buCsUqpaKRWtlHrwItsOA06bGT9lWtchmZmZBAUF4eTkJAnjS4BSCicnJ4KCgsjMzLR0OEIIAcC7O86yPy6XnJJKS4cihBBCCCGEEOISZOlK4zRgGbAfsAZ+BryrlHLSWr/WzD6eQL6Z8TxgYEcDqqqqwtHRsaOHEb2Mo6OjtCMRQvQIp9MLOZ5SAEBGYTm+rvYWjkgIIYQQQgghxKXGokljrfUGYEODofVKKQfgaaXU61rr2s46l1JqKbAUICQk5GLbdtZpRS8hf+ZCiJ7iy4PJ9T+nF5QzKsjdgtEIIYQQQgghhLgUWbrS2JzVwO1AKHDOzPo8wNfMuKdpnVla6/eB9wEmTpyoOxylEEL0BAsWWDoC0YmqampZcziVcf09OJKUT3phuaVDEqJFC+QaJIQQQgghRJ/UU3oaN6QveLzQacz3Lm6u17HoRd5//32+/vprS4chRO8REGAsok/YGZNFdnEFv5wxCGsrRXqBJI1FzxYQEECAXIOEEEIIIYToc3pi0vhWIBtIaGb9eiBAKTWtbkApNRGjn/H6rg9PdCVJGgvRRufOGYvokWpq23Zjy+qDyXg72zF7uB++LvZSaSx6vHPnznFOrkFCCCGEEEL0ORZtT6GU+hJjErxjGBPhLTItv6nrZ6yUOgPs0FrfD6C13qOU2gh8rJR6HKgFXgR2a603W+BpXDLKysrMThLY3LgQohvs3Gk8DuzwPKCiGbkllXg527Vpn5KKav6y7hTfHEnhiwcva1Vf4tySSjafyuCey0KxtbbC392BDEkaix5up+kaNFCuQUIIIYQQQvQplq40jgbuA74E/geMAO7RWr/ZYBsbjIRyQ4uAHcC/gY+Bg8BNXR5tL7Nz505mzZqFi4sL7u7uzJw5k8OHDwNw5MgRZs+ejZOTE56enixevJiMjIz6fePj41FK8emnn3LPPffg4eHBwoULmx0HyM3NZenSpfj7++Pg4MDll1/Ovn37GsVUU1PD3/72N4YOHYq9vT3BwcEsWbIEgJkzZ3Lw4EFWrlyJUgqlFCtWrOiW10oIIcxJyClh8l83892x1FbvczAhj2ve2MXnBxLRGl78oXWdk9YeSaGqRnNrRDAAgW4OpEl7CiGEEEIIIYQQFmDRSmOt9VPAUxfZJtTMWD7wc9MizNi+fTtz585l1qxZrFy5EmdnZ3788UdSUlIIDg5m5syZDB8+nFWrVlFcXMyTTz7J3LlziYyMxM7ufEXd448/zs0338z//vc/rK2tmx2vqKhgzpw55Ofn8/LLL+Pn58c777zDnDlziI2Nre93+OCDD/Lxxx/zxBNPMGPGDHJzc/nyyy8BePvtt7nlllsYOHAgy5YtA2DQoEHd+KoJIURjW05lUl2r+epQCteN6dfitpXVtbyxJZa3t5+hn4cjn/9iKsdTCvjLulPsjs1m2hCfFvdffSiZUUFuDA90AyDA3YEfz2R32nMRQgghhBBCCCFay6JJ497i+W9PcDK10CLnHtHPjWcXjmzzfn/84x8ZO3YsGzZsQCkFnJ/h/MknnwRgw4YNuLkZyYkhQ4YwdepUvvzyS+64447640ydOpW33nqr/vf4+Hiz48uXLycqKooTJ04wZMgQAObMmUN4eDivvvoqL7/8MqdPn2b58uW8/vrr/OY3v6nfd9GiRcZzHTECZ2dnfH19mTp1apufsxBCdLYdMVkA7IrNoqCsCndHW7Pb5ZVUcve/9xGVUshtEcE8s3AErg62jO3vwUc/xvPiD6e5fNAVWFkps/ufSiskKqWQ5xaOqB/zd3OgqKKakopqnO3lv2shhBBCCCGEEN3H0u0pRBcoKSlh37593HvvvfUJ44b279/PvHnz6hPGAFOmTCE0NJTdu3c32vbaa681e44Lxzdv3kxERARhYWFUV1dTXV0NwIwZM4iMjARg27ZtAPXtKIQQoicrr6phX1wOEQM8qarRbDqZ0ey2/9mbQFRKIe8snsDLt43F1cFILjvYWvPo3KEcTylg3fG0Zvf/8mAyttaK68cF1Y8FuNsDyGR4QgghhBBCCCG6nZQutUJ7Kn0tKS8vD601gYGBZtenpaUxcmTT5+Tv709ubm6TMXMuHM/Ozmbv3r3Y2jatwqtrMZGTk4Ozs3OjZLUQooOuu87SEfRZ++NyKa+q5ZFZg3n66yjWHUut7zfcUE2t5vMDSVwx2JurRze97t44PogPdp3jlY3RLBgVgK114+9rq2pq+fpICrOH+TeacC/AzZhgNL2gnEG+Lp387IToHNfJNUgIIYQQQog+SZLGfZCnpydWVlakpZmvagsMDCQzM7PJeEZGBhEREY3GzFUqmxv38vJi4sSJvPPOO022tbc3quW8vb0pKSmhsLBQEsdCdBaflvvkivbbEZOFnY0VUwd6c+2YQD76MY6C0ircnRp/ObYzJouU/DKeuma42eNYWymeWBDOfSsi+Xx/IndfFlq/rqZW8/7Oc2QXVzZJSAe4OwBG0liInspHrkFCCCGEEEL0SdKeog9ydnZmypQpfPzxx2itm6yfMmUKGzZsoKioqH7swIEDxMfHM23atHadc/bs2Zw5c4aQkBAmTpzYaBk9ejQAV111FQAff/xxs8exs7OjvFwSJEK0WnS0sYhOtzMmiylhXjjaWXPN6ECqajQbT6Y32e7TfYn4uNgxd4T5OzMAZoX7MTnMi9e3nKGkwmjfsz8ul4Vv7ublDdFMH+LDjHDfRvsEuJmSxtKeQvRg0dHRRMs1SAghhBBCiD5HKo37qL///e/MmTOHq6++mqVLl+Ls7MyePXuYOHEijz76KO+88w7z58/n//7v/yguLubJJ59k9OjR3HLLLe063z333MO7777LzJkzefzxxxk4cCA5OTns37+fgIAAfv/73xMeHs7SpUt57LHHyMzM5MorryQ/P5/Vq1fz+eefAzBs2DA2bNjAhg0b8Pb2JiwsDG9v7858aYToW/bsMR7Dwy0bRx+Tml9GbGYxiyb1B2BssDtBHo58fzyN2yb2r98uraCMraczeHDGIOxsmv8eVinFk1cP4+a3f+LlDdHklFTy7dFU+rk78NadE7hmdECTOzgc7axxd7QlQ5LGogfbY7oGhcs1SAghhBBCiD5FKo37qCuvvJJNmzZRWlrKXXfdxaJFi9ixYwfBwcH4+vqybds2HBwcuOOOO3j44YeZPn06mzZtws7O7uIHN8PBwYFt27Yxd+5cnn32WebNm8dvf/tbYmNjmTx5cv12b7/9Ns8++yz/+c9/uOaaa/jd736Hk5NT/fqnn36a4cOHc/vttzNp0iS+/fbbDr8WQgjRVjtjsgC4cqhR/auU4toxgew+k01BaVX9dv89kESthjsmhVz0mBNCPJk/0p8VP8Wz8UQ6v509hC2PzeTaMYHNtgIKcHMgTdpTCCGEEEIIIYToZm2uNFZKjQYmAwGAA5ALxAA/aa3zOjc80REzZsxg586dZteNHz+erVu3NrtvaGio2dYWzY0DuLu78/rrr/P66683e1xra2ueeuopnnrqKbPrBw4cyObNm5vdXwghusOOmCwC3R0Y4nd+ArprRwfy/s5zbDyZzm0T+1NdU8vn+5O4cqgvId5OLRztvGcXjiTMx4XFU0Lo73XxffzdHaTSWAghhBBCCCFEt2tV0lgpNRD4FbAY8AdqgXygAvAAnIBapdQO4EPgv1rr2i6JWAghhOhC1TW17D6TzbWjG1cAjwl2J9jTkXWmFhXborNILyznuetHtvrY/TwcefLqYa3ePsDNntNphW2KXwghhBBCCCGE6KiLtqdQSn0InADGAX8CxgMOWmtfrXWw1toF8AMWAseBl4BTSqn2zagmhBBCWNCRpHyKyqvrW1PUUUpx7ehAdscaLSpW7UvAz9We2cP9uiyWAHdHsoorqKqR72GFEEIIIYQQQnSf1lQalwHDtNYJzW2gtc4G1gPrlVKPArcBQZ0TohBCiGbddJOlI+hzdsZkYW2luGKwT5N114wO5L2d5/jopzi2x2TxyKzB2Fp33fQAAW4OaA1ZRRX083DssvMI0V43yTVICCGEEEKIPumiSWOt9a/rflZKuWitiy+yfS3w306ITQghxMW4u1s6gj5nR0wW4/p74O5o22RdXYuKN7bEArBoUv8ujSXA3R6A9MJySRqLHsldrkFCCCGEEEL0SW0tjypQSq1VSjl0STRCCCHaJirKWESnyC2p5FhKATMuaE1Rp65FRa2GmUN9CfZs3QR47RXgZiSKMwpkMjzRM0VFRREl1yAhhBBCCCH6nLYmjRVwOfC9Usq50QqlRimlvu60yIQQQlxcZKSxiE6xKzYLrWnSz7ihG8cHYWut+PkVYV0eT4C78R1tWjNJ46TcUnbFZnV5HEI0JzIykki5BgkhhBBCCNHntKcR492AK7BJKdXwnkRnjMnwhBBCiF5pR0wWnk62jA5q/pb74YFuHH12XouJ5c7i6WSLnY0VGYXmk8Z/W3+Ku5fv58Nd57o8FiGEEEIIIYQQl472JI1zgKuAWmCLUsqrc0MSQgghup/Wml2x2Uwf4ou1lWpxWye71swj23FKKfzd7ElvJml8ODEfOxsr/rLuFO/uONvscZJyS0nIKemqMIUQQgghhBBC9DHt+tSrtS5SSs0DvgV2KqVmd25YQgghRPfacCKDrKIK5ozwt3QojQS6OZJupj1FekE5aQXlPH3tcI4mF/D39aepqdU8PGtw/TbZxRW8vjmWVfsTsbVWvHjLGG4YF9Sd4QshhBBCCCGE6IXaU2kMgNa6FLgGSAB2AV07hbxokyVLljBx4kRLh9FtXnrpJbZv327pMIQQvVRNrebVjdEM8nXmmlEBlg6nEX93B7OVxkeS8gCIGODJa7eP5cZx/Xh5QzSvb46ltLKaN7fEMuOlbazan8gdk/szJsiD335+hBe+P0V1TW13Pw0hhBBCCCGEEL1IWyuNf4aRJAZAa12hlLoB+BxY2ZmBiY5ZtmwZZWVllg6j27z00ks88sgjzJw509KhCNG9br/d0hH0CWsOpxCbWcw7iydgY93u71O7RICbPRsLytFao9T5thmHk/Kxs7ZiRD83bKytePX2cVhZKV7bHMPy3ecoLK9mwcgA/rAgnEG+LlRW1/KXdSd5f+c5TqUV8uYd4/FwsrPgMxN9we1yDRJCCCGEEKJPalPSWGv9hZmxaqXU7cC7wKLOCkx0zKBBgywdQr2ysjIcHR1bPS6EaAMnJ0tH0OtVVNfw2qYYRge5s6CHVRkD+Ls5UFFdS0FZVaMk7+HEfIb3c8PexhoAayvFy7eOxdXehtjMYh6bN5SIAeenHbCzseJPN4xiZD83ln19goX/2s3yeycx1N+125+T6Duc5BokhBBCCCFEn9Qp5VRa61qt9VKtdfPTzYtu1bA9xYoVK1BKcfz4cebOnYuzszPDhg3jq6++arLfmjVrmDx5Mo6Ojnh7e3PNNdeQkFBfXM7WrVuZMmUKDg4O+Pv789BDD1FcXFy/fvv27Sil2LBhA9dffz0uLi488sgjzY4DJCYm8rOf/QwvLy+cnJyYP38+0dHRjeIqKyvjiSeeYMCAAdjb2xMWFsYf//hHAEJDQ8nJyeH5559HKYVSSlpViEvHkSPGItrts32JpOSX8Yf54Y0qeXuKQHfjy7W0Bn2Nq2tqOZ5cwPj+Ho22tbZSPH/DKFb9YmqjhHFDiyaF8PmDUymrrOHpNVFdF7i4JBw5coQjcg0SQgghhBCiz7lo0lgptUcp9Z5S6hGl1AyllGd3BCY635133sn111/PmjVrGDJkCD/72c9ITk6uX//JJ59w8803M2jQIL744gs++ugjhg4dSlZWFgAnTpxgwYIF+Pj48OWXX/L888+zatUqbr311ibnuv/++xk7dixr167l/vvvb3Y8NzeXadOmER0dzbvvvssXX3xBSUkJc+bMqW+vobXmhhtu4J133uHhhx/m+++/5/nnnyc7OxswEt3u7u7cf//97Nmzhz179jBhwoSufCmF6DkkadwhJRXV/GvbGaYO9GL6EB9Lh2NWgLs9QKO+xjEZxZRV1TA+xKO53Vo0IcSTWyYEcyQpn/Kqmk6JU1yaJGkshBBCCCFE39Sa9hTZwDzgF6bftVIqDTgOHDM9HgdOaq2ruiRK0Sl+//vfc9999wEQERGBv78/3333Hb/85S+pra3lySef5KabbuKzzz6r3+f666+v//nPf/4zAwYMYO3atVhbG7dDe3l5sWjRIvbs2cNll11Wv+1tt93Gn//85/rf6yp/LxxftmwZJSUlHDlyBC8voyruiiuuIDQ0lH//+988/PDDbNy4kU2bNvHNN980iueee+4BYPz48djY2BAcHMzUqVM76+USQlwCPvoxjuziSt6/Z1iPrDIGoz0FQEaDSuMjSfkAjOvfvqQxwKRQL97beY6jSflMGejdsSCFEEIIIYQQQvQpF00aa60XAiilXIHRwGTgH0ABMBVwBzRQrZSK0VqP7rpwLWT9k5B+3DLnDhgNV/+9Uw41b968+p+9vb3x8/OrrzSOjo4mNTWVn//8583uv3//fm699db6hDHALbfcgo2NDbt3726UNL722mvNHuPC8c2bNzN37lzc3Nyorq4GwNXVlYiICCIjIwGjJYaXl1ejhLEQQnRUfmkl7+08x5zh/kwI6bk30fi5OqBU40rjw4l5eDnbEeLV/n6yE0ON53wgPrfFpPGDn0QSlVKIp7Mtnk52eDjZ4elky91TBzBE+iELIYQQQgghRJ/U6p7GWusirfVPwEemoV9prT2BAcBC4FngaOeHKDqLh0fjijQ7OzvKy40kRE5ODgCBgYHN7p+Wloa/v3+jMWtra7y9vcnNzW00fuF2zY1nZ2fz3//+F1tb20bLtm3bSEpKqo+tpbiEEJeuuz7cx8sbTrdr33d2nKW4oprH5w/t5Kg6l52NFd7O9qRfUGk8Nti9Q9XRHk52hPu7sj8+r9ltUvPL2HAiAz83e3xd7CkqryYqpYD/7E1gxU/x7T63EEIIIYQQQoierTXtKVqktU4CkoDvOx5OD9VJlb49mbe3UWWWlpbW7DaBgYFkZmY2GqupqSEnJ6e+tUSd5hIZF47XVRAvW7asybaurq71sbUUlxDi0nQ2q5jdZ7I5lVbIo3PDsbZqfQI1JqOIFT/Gc8PYfgwLcOvCKDtHgLt9faVxUXkVZ7KKuW5Mvw4fd1KYJ18fTqWmVpt9/bZHGz3tX7plTKOq4qtf39UoiS2EEEIIIYQQom9pdaWx6NvCw8MJCgpi5cqVzW4zZcoU1qxZQ03N+UmTvvrqK6qrq5k2bVq7zjt79mxOnDjByJEjmThxYqMlPDy8fpvc3Fy+++67Zo/TsGpaiEvK4sXGcgn6ISodgJySSvbH5V5k6/NKKqr51X8O4upgy1PXDO+q8DpVgJtDfZL2WHIBWtPuSfAamhTqRXFFNafSCs2u3x6dSZCHI4P9XC6Ix75Ruwxx6Vq8eDGLL9FrUK9SUwXVFZaOQgghhBBC9CKSNBYAWFlZ8dJLL/Hll1+yePFivvvuO9atW8djjz1W31v46aefJj4+nhtvvJHvv/+e999/n6VLlzJ//vxG/Yzb4tFHH6WyspKrrrqKVatWsWPHDr744gsefvjh+gn55s6dy/z587nzzjt55ZVX2Lp1K59++ikPPvhg/XGGDRvGunXr2L59O5GRkRQVFXX8RRGiN7C1NZZL0PfH0xge6IaDrRXro1p3N4LWmqfWHCcuu4Q37hiHn2mSuZ4uwN2BDFOS9nCi0U5ibAcmwaszOcy4S8Rc0r2yupYfz2QzI9y3yV0iDeMRl7a6tlKih1v3KHz2M0tHIYQQQgghepGLJo2VUtlKqa1KqTeUUg8AUzAmvtNdHp3oVnfeeSdffvklp0+f5tZbb+Wee+7h9OnT+Pr6AjBy5EjWr19PZmYmN998M08//TR33HEHq1evbvc5fXx82Lt3L8OGDeP3v/898+bN44knnqCgoIAxY8YARkuLNWvWsHTpUv75z39y9dVX8/TTT+Pj41N/nJdffhlnZ2euvfZaJk2axMGDBzv2YgjRWxw4YCyXmMScUk6kFnLT+H7MHOrHD1Hp1NZe/L+lT/cl8s2RVB6dO5TLB/lcdPueIsDNgbzSKsqrajiSlM9AX2fcHTueqAt0dyTY05ED8U2TxpEJuZRU1jBzqK+ZeBzJLq6korqmyTpxaTlw4AAHLsFrUK+THgXZZywdhRBCCCGE6EVa09P4E2AUcDvwCEayWAEfK6UOAceA46bljNZaksk9wIoVK+p/XrJkCUuWLGmyTXx8fJOxm2++mZtvvrnZ486ePZt9+/Y1u37mzJmY+yvQ3DhAv379+Oijj8yuq+Po6Mgrr7zCK6+8YnZ9REQEe/fubfEYQvRJJ04Yj5MmWTaOblZXWXz1qED83Rz44UQ6hxLzmBjq1ew+USkF/Onbk8wY6stDMwd3V6idwt9UEZ1RWM6RpHyuNJPIba/JoV7sjM1Ca92oonhHdBa21orLBzdNrge42wOQWVhBfy+nTotF9D4nTNegSZfYNajXKUqHCvNtaIQQojdLyi2V9yJCCNFFLlpprLX+vdZ6rtY6AAgA5gGPAtuAEOAJYDVwGpCeAEIIIbrc+qh0RgW50d/LiauG+WFnbcV6U49jcwrKqvjVpwfxdrHjtUXjsGrDpHk9QaC7IwCR8XlkF1cyvhNaU9SZFOZFdnElcdkljca3R2cxKdQLF/um3y8HmOKRvsZC9AK1NVCcAZXFUF1p6WiEEKLT7IzJYvpL24hKKbB0KEII0Se1qaex1jpTa71Fa/1PrfV9WutJgAswDFgEmC8DFUIIITpJan4ZR5LyuXpUIACuDrZcOdSHH6LSzd7RoLXmidVHScsv5193TsDL2a67Q+6wusreusT4+BDPTjv2JFN1dsMWFan5ZURnFDEz3HxFc4Cp8rlucj4hRA9WnAna1EqmPN+ysQghRCf68Ww2gNk2W6JlldW1/GNTDAWlVZYORQjRg7Wmp/HdSinr5tZrQ4zWerXW+jnTPoOVUtM7MU4hhBACgB9MidOrRwXUjy0YFUhKfhnHkptWmqw9msqGExn834JhRAzovGRrd6prT7EzNgt7GyvCA1w77diDfJ3xdrZjf1xe/diOmCwAZob7md0noEG7jObU1mqeW3uCE6lS/SOERRU1mCi0VBIrQoi+41CC8d7F3Ps/0bLI+Fze2BLLx3viLR2KEKIHa02l8aPAWaXUn5VSY5vbSCnlrZRarJT6FjgCBHZWkEIIIUSd9VFpDAtwZaCvS/3Y3OH+2Fgpvo9Ka7RtXkklf/r2JOP6e3DftLDuDrXTuDrY4mxnTWV1LaOD3LG1Nv33vf1FWHHdxQ9QWWosZiilmBjq2ahKZ3t0Jv3cHRji52J2HzdHGxxtrUlrodI4Oa+MFT/F88evjrdqkkIhRBdpmDQuy2t+OyGE6EUqq2s5akoWH0vuPXdR1NRqanrA+6LkvDIA/ncwWd6nCSGa1ZqexuOB/wNmAYeVUoVKqX1KqXVKqa+UUluVUnFAJvA6cBYI11p/0dZglFJBSqlipZRWSpn/pGpsF2ra5sLl87aeUwgherUlS4zlEpFZWE5kQl59a4o67k62XD64aYuKv6w7RUFZFX+/ZTTWvayP8YUC3I3q3nF1/YyrymHfOxC/CwpTW975q1/AayMhdpPZ1ZNCvUjMLSW9oJzK6lp+PJPDjHC/RhPjNaSUIsDdocWexom5RpL6WHIB3x1Pa3Y70bs1N9mu6EEaXh/KpNJYCNE3nEwrpLK6luGBbpzLLqGovHe0Wbh7+T5+89lhS4dBcp7xPi0xt5T90t5DCNGMVvU01lr/V2s9DRgC/AGjkrgacAYygJXAAiBQa/07rXVKO+N5GShuw/aPA5c1WJ5u53mFEEL0AhtOpKM1XD06oMm6q0cFkJBTyqk0Y07W3bHZfHkomQdnDGRYgFt3h9oxuXFwtPH3oPVJ4xBT0vj0d+erBuN/bP5Y1RVwZjNUFMKnt8KmZ6Cm8QeryWFGX+P98bkcTMijuKK62X7G9fG4OZDRQqJdLkAAACAASURBVKVxSnYea+3+Hze5nuKlH05TUV3T4vGEEF2kqMEkoVJpLIToIw6aWlP8/IpQtIbjvWAyvIzCcn46m8O642mcTC20aCzJ+WX4uNjham/DF5FJFo1FCNFztXUivLNa6/e01g9qrW/QWs/XWt+htX5Oa71Ja93ur/eUUldiJJ7bMpletNZ6b4PlTHvPL4QQvdJPPxnLJWJ9VDqDfJ3Ntk2YN8IfK2W0ryirrOGpNccJ83Hm11cNsUCkHVBZCqtuhzUPNkoG1/U1rp8E79DH4BEC9m6QsLv54yVHQnU53Pw+RPwcfnwdVlwL+ec/IIwIdMPZzpoDcblsj8nE1lpxxWCfFsMMcHdosT1FWeoJxljF8XjoOZLzyvhkT0IrnrzobX766Sd+uoSuQb1SUZpxnQBJGgsh+oxDCXkEezoyZ7g/0Dv6Gm85lQmAnbUVb223bOoiOa+MgT4uXDe2H+uPp/eaSm0hRPdqU9K4q5gm2nsT+BOQbeFwhBCi94iJMZZLQE5xBfvicrl6VKDZtgneLvZMCfNmfVQ6/9wSQ2JuKS/cNBoH22bncu2ZNj4N2TFg5wq7zn+PeuUQX2aG+9LP3QHy4iFuB4y/G0KmtlxpHLcTlBUMmg0L/wm3LIeMk/DedDi3HQAbaysmDDD6Gu+IzmLiAC9c7G2M/WM3Q1bTv2P+bg5kFpU32wdPZZ0GIKj8LNOH+PDm1jMyQ3cfFBMTQ8wlcg3qtQpTwXswWNnIRHhCiD5Ba01kQi4RAzzxcrajv5cjx3tB0njzqQz6eznywPQwvj+extmsttxk3blS8soI9nTktonBlFXVsO6YtBITQjTVI5LGwC8Be+CtNu73kVKqRimVppT6h1LKsQtiE0II0QNsOplBTa0225qizjWjAziTWcz7O8+xaGJ/LhvkbazY8TIkH+ymSDsgej1ELofLHoErH4OzWyHFiPvG8UGs+PlkI2F++D9GInjcnTDgCsiJhaIM88eM2wmBY8HR1NZi9K3w4A5w8oZ1j4GpB/SkUC9OpxdxOr3ofGuKiiL472LY/FyTwwa6O1BVo8kpqTR7WueCWOOHjCj+uCCcwvIq3t7RhqqazFP1sQkhOqAoHdz6gaOnVBoLIfqE1IJyMgoriBhg3H01JsiDoz18MrzSymp2n8lmznB/7p8Whr2NFe9sP2uRWKprakkvLCfI05Hx/T0Y7OfC/w4mWyQWIUTPZvGksVLKG/gz8Ggb2ltUYCSY7wdmA+8BvwJkIjwhhOiDKqtr+W9kEiFeTowIbL4/8fyRASgF3s72PHXNcGOwJAe2/QV2/6Obom2nogz45mHwHw2zn4GJ94ODO+x8tfF2NdVw+FMYPAfcgyF0mjGeYKbauLIUkg9A2JWNx70HwdRfQc4ZIzmLkTSuMzPcz/ghdqPR2iJpb5MEbl27jIxmJsPzKYszxVDMCIccbh4fzEc/xpOSX3bx1yL6B3h7qpE0F0J0TFEquAaCo5dMhCeE6BPq+hlPMLXsGhPsTnJeGTnFFZYMq0W7YrOprK5l7nB/vF3suWNyCF8fTqmfkK47pRWUU1OrCfZ0RCnFbRHBHEzI40ym5SqfL7RqXyJ/+/6UpcMQ4pJn8aQx8Fdgr9b6+9buoLVO01o/orVeq7XerrV+DngUuF4pNdbcPkqppUqpSKVUZFZWVudE3oOtWLGCiIgIXF1d8fT0ZPz48Tz66KP16zMzM3nuueeIj49vtN/27dtRShEVFdXNEQshhHlVNbU8suoQhxPz+c3sIWZbU9Txc3Ng2bUj+Ned43F3sjUG048aj2e3GZPC9URawzcPQWUJ3PIh2NiDgxtM+RVEr4OME+e3PbvFSAKNv9v4PXAs2LmYTxon7YXaKgi9sum6YQsBBafWAjCuvwe21opAdweG+pt6Rp801lGaYySYG6ibmC/dTF/jgrIqwmqTKHAMNgYyonhs3lAAXt0YffHXY9+7xmPcjotvK4RoXmUplBeAW6BUGgsh+oxDCXk42VkzLMAVgDHBxt1Ux9o4GZ7uxjuaNp/MwNXBhkmmyYeXXjkQpeC9Hee6LYY6yXnGF/jBnk4A3DQhCGsrxeoeVG389ZEUVu1L7NY/IyFEUxZNGiulRgL3AX9SSnkopTwAJ9Nq9za2m1hteowwt1Jr/b7WeqLWeqKvb8szwvd2f/vb33jggQeYP38+X331FR9//DE33HADa9eurd8mMzOT559/vknSeMKECezZs4dBgwZ1c9RCiHaxsTGWPqq6ppbffX6EjSczeP76kdwaEXzRfe6bFsbUgd7nB9JMSeOqEohvYcI4S9r/PpzZDPP+An7Dzo9PedBICO9qUG186GNw9oWhC4zfrW2h/xTzfY3jdhp9TEOmNl3n6g8hl8HJbwBwtLPm9on9WXJ5qJGYryw1Ko1DpxvbJ+5ttHugKWmcZqbSODkzh/4qi+yQa0BZQ/px+nk4ct8VYaw5nNLyjOHZZ+DcNuPnBJlgraezsbHBpg9fg3q9IlOPSldJGgsh+o6DCXmM6++BjbWRzhgV5IZStKmv8deHUxj+zA88vOoQW05lUFVT21XhUlOr2Xo6k1nhftiaYg50d+TWiGD+G5lEZjN3bbXXV4eSyS813z4MqK9uDvY00i1+rg7MCvflq0PJVHfh69AWCTklFFVUk1nUQws+hLhEtCtprJQaoZS6Wyn1lFIqwDQ2WCnl2sZDDQFsgT1Anmmp62ucjDE5XmvpCx4vWf/617948MEHeeGFF5g7dy4LFy7kueeeIzY29qL7urm5MXXqVBwdpT20EL3CXXcZSx9UU6t57H9HWXc8jaevHc69l4e270BpR42EiY2DkQS1pMJU+OEp+O7355dvfwcbl8GQ+TDpgcbbO3nBpPvhxBojmVqUATE/wNg7wMbu/HahV0DWKSi5YC7ZuJ0QNBHsXczHM+IGyDwJ2cb/D3+9aTQPzjB9aXh2C1SVwvTHjNvaL0ga+7jYY22lyDBTaZyfcBwrpbHtPwF8hkC6cffKr2YMwkop1h1Pbf41ilwOVrYw7i5IPWwkr0WPddddd3FXH70G9QkNk8ZOXlAqSWMhRO9WWlnNybTC+n7GAK4Otgz0ceZYG/oa74jJwkop9pzN4f6VkUx9YQvPrT3BseT8Tq9uPZKUR05JJXNG+Dca/+WMQVTX1PLBrs6rNj6XVcyjXxzls/1JzW6Tkl+GUkbius5tE/uTWVTBzljL35VdVllDRqGRLD7bg1pmCHEpalPSWCnlopT6AjgOfIjRi7ifafULwLNtPP9uYNYFy4umddcAL7fhWLeaHnvBTEddKz8/n4CAphNF1d3SHR8fz+jRowGYNWsWSqn6debaUyileO2113jsscfw9vbGx8eHV155BYCVK1cycOBAPDw8uO+++ygv79xvSYUQl6baWs0fVh/lmyOp/N+CYTwwfWD7D5Z2FIInGX19Y36w3ORqtbXw5QOw/z049e355fR34D8SbngLzLXeuOwRsLaD3a/B0c+gthom3NN4mwFm+hqXFxhJ1wv7GTc0fKHxaKo2buTkN0ayOHS6Uamc1DhpbG2l8HO1J81M0rgy7SQAXmFjIWA0pB8HwN3JlrHB7uw5m2M+nsoSo1/ziOth5I3Gc00+0Hz8QoiWFaUbjzIRnhCijziaVEBNrWZCg6QxwNhgD44mF7Q64RuVUsBlA73Z99RsPrxnIlMGerFqXyLX/+tH5r62k7e2nWndPAytsOlkJjZWihlDG9/xPMDbmevH9uPTfYnkNTOxcFtFpxcBEJtR1Ow2yXll+Ls6YGdzPh101TA/vJ3t+F+k5VtUJOaeLxg4myVJYyEsqa2Vxv8ALgfmAK5Aw0+33wML2nIwrXW2qSdx/QKcNq3epbWOBlBKnVFKLa/bTyn1nFLqVaXUzUqpOUqpPwGvAV9prY+18Tn1ORMmTODNN99k5cqV5OQ0/WAeGBjIp59+CsBbb73Fnj172LNnT4vHfPXVVykuLuazzz7jzjvv5A9/+ANPPPEEK1as4I033uCFF17g008/5Z///GeXPCchRDN27DCWPualDdF8dSiFx+YO5VczO9Aup7wAcs8ZfX+Hzoe8+Pqq2m63/30jqbvwDfjDmcbL0m3g0kzrJBc/iFgCxz43jhFymVG921C/8WDj2LhFRcIe0LUQNr35mNyDjIT6qbWNx6srjMnohl0L1jZG+4ucM1DcuPrE383B7ER41jmnqcQGl4Ch4D8KCpOh1JiA67JB3hxNLqC4orppPMdXQ0WBUXHdfzIoq17TouKjH+P49+44S4fR7Xbs2MGOPngN6jMKTVX9rgFG0riqpOf2dhdCiFY4lGiaBK9/46TxmGB3sooqSG9Fq4fSymrOZhUzKsgdW2sr5ozw5+3FERz4f3N44abReDrZ8vKGaKa9uJU73t/LjpiOVd9uPpXBlIFeuDvaNln30KzBlFbW8NFP8R06R53TdUnjFip0k/NK61tT1LG1tuLG8UFsPpVh8QkFE3JK6n8+m1XSwpZCiK7W1iZ0NwO/1VpvU0pZX7AuARjQOWE1YQM0PN9p4HHgAcARSMSoSv5rF50fVqxoOjZyJEyaBFVVYErCNjJunLGUlsIXXzRdP3EijBoFBQWwZk3T9ZddBuHhbQ71rbfe4sYbb2TJkiUopRg+fDi33HILjz/+OG5ubtjb2zNmzBgARowYwdSpZnpdXmDIkCG89957AMyZM4f//e9/fPDBByQkJODm5gYYVcpr1qzhySefbHPMQoh2ijMlqWbMsGwcnUhrzeqDycwf6c+vZw+5+A4tMVW4EjgOfMOBxyB2A/gO7XCcbZJzFjY/Z7SgGHdn2/e//DdwYDkUpsBVTzddb2NnJFkbVhrH7QRrewie3PKxh18Pm5ZBbhx4hRljZ7dBZRGMuNH4va4nctI+GH5d/a4Bbg6cMVMB4lZ4llTrYEKtbYxKY4CMKAi7kssH+fDWtrMciMtl1jC/8ztpDQc+AL+RRmJcKWNfcxP89UAf7orD3taK+6aFWTqUbhVnugbN6EPXoD6lKA1sncHezUgag1Ft7Nr0jjQhhOgNDibkMdjP5fyExyaj6ybDSy5o1HbBnFNphdRqGBXk3mjc3cmWO6eEcOeUEBJzSllzOIUvIpN48JNIjj07v1FlbmvFZZdwJrOYxVNCzK4f6u/K7GF+rNqXyCOzBrfrHA3VVRqfySymtlZjZdX0LrbkvLJG7T3q3DE5hI9+jOOtbWd5ZuGIDsXREQk5RqXxAG8ni1caV1TX8IuPD3LNqAB+Ntn8n2FvVV5VQ3WtxsVe5qYQzWvrFckRaOaeUlyBmo6FA1rrFVprpbUubjAWqrVe0uD3z02T2rlrre201oO11s9oraV0AhgzZgynTp1i7dq1PPTQQ2it+fOf/8zEiRMpLm7fRXf27Nn1P1tZWREWFkZERER9whhg8ODBpKSkdDh+IUQfoXW7WkHEZZeQXVzBzHC/i298MWmmm08Cx4BHfyMhGbOh48dti9oa+PohI7G78J/mW1BcjHuQ0ZLC0cvoQ2xO6DTIOFFf0Uv8TgiZArYOLR97xPXG46lvz4+dWgsO7udbW/QbbySgL2hREeDuQLqZ9hT+FXFkO5laitQljU19jSMGeGJnbcWecxe8nUg+YCT5J91//jUacIUxXt05t2x2leziClLyy0jKLe0xE8gIARhJY7dA499Uw6SxEEL0QrW1mkOJeUSENE14juznho2ValVf47oJ80ZfkDRuKMTbid/OGcJT1wynvKqWk2ktTOLbgi2nMgCYM9y/2W3umjqA7OIKNp5Mb9c5GorOKMLaSlFWVWO2vUZ1TS3pBeVNKo0BBvu5cPvE/nyyN574bMtV+MbnlODhZMuEEE+L9zQ+llzAzpgsnvzqOP89kGjRWDrbY18c5a4P91k6jG6RUVjOqxujqam95KdAa7O2fqVwALgH+MHMuluB3nEPaXssWdL8Olvbltc7ObW83t295fXtYG9vz8KFC1m40OhXuXz5ch544AGWL1/Ob3/72zYfz8PDo9HvdnZ2Zsekp7EQot6uVyDqK3io5fY3F9ofZyQ9J4d5dTyGuknwXEwJ6KHz4Kc3jbYVDs1/UOhU+941kq03vWf0FW2vq180qoztnM2vH3AFoCFxj1Gpm37cfFXyhTxDjfYdJ7+BK35jJGhPfwfh15yfbM/G3kgcJzZNGhdXVFNcUV1fpVBTXkSgziTW3VQl7uIHLv71Vd8OttaMD/Hgp7MXTNp34EOjGnLMovNjIZfB3rch7YhRSX2h2lrIjgG/YRd/nl2o7gNqVY0mNb+cEG8ni8YjRL3CNOMaCMZEeHD+iyUhhOhlzmWXkF9aZbZK1sHWmqH+rhwzJYRbEpVaiI+LHf5u9hfddsIA4zPvoYQ8xvX3uMjWTW06mcGwAFf6ezX/3uDKob4Eezry6d5ErhvT/veKZZU1xOeUMG2wD7tis4nNLGpy3oyiCqprNcGe5uN5dN5Q1h5N5e/rT/Pu3RHtjqUjEnNLGeDlxCBfZ9YcTqGkohpnC1XDRsYbX7ROCfPiya+OY2NlxS0RwRaJpTOVVdaw+VQGFdW1ZBVV4Ot68X8Lvdln+xN5c+sZ5o0IYHRwN30G7CPaWmm8DLhZKbUZozWEBq5RSn0C3EbbJ8IT3eT+++/Hy8uL06dPX3xjIYToDOd2QOZJKG9bZcb+uFx8XOwY6NNMcrQt0o4aCdE6Q+Ybk6ud3drxY7dGdixs+RMMvbpxMrQ9rG3PJ33MCYowqoHjf4T4XcZYaAuT4DU04gZIiYSCZKNCubygaUVzyFRIPQJV56tWAt2NKuaG1cY58aaWIL7Dz+/bYDI8MPoan0gtpKC0yhgozoITa2DsHWDvcn6/AZcbj821qIhcDm9PadzL2QIafkA9ly0TtogepCj1fNJYKo2FEL3coQRTP2MzSWOAsf3dOdaKyfCiUgoYFeRePxl8SwLdHQl0d6jvpdwWeSWVRCbktVhlDMbkwndMDmHPuRzOdKCyNjazCK3hujHGdT8mo+mxkk2TzJmrNAbwc3XglzMG8cOJ9PpCju4Wn1PCAG9nBvka7wnj2ln1rLWmvKqGgtIqMgvLqW1HlenBhFwG+jiz8r7JXDHIxzRRd++/u3rPuWwqqo2745oUcvRBe013OJ7Jan6CSGFem5LGWutdwGzAHvgXxkR4zwMDgTlaa5nivAfIzMxsMpaVlUVBQQH+/sZ/WHZ2RvWYVAYL0cs5OhpLT6M1pJtaQ+S1bXKwfXG5TA7zatUb+RZVlkJ2dOOkcfAkI3HSHS0q6ttSOLS/LUVb2DoYzy9ht9HP2NYZgia0bt/hpgTxqW/h5Fqwc4GBsxpvEzIVaqsg5VD9kL9b06RxYaKRHHYKHnV+X/9RkHW6vs3E5YN80Br2xplaVBz+GGoqjdYUGLefbjmVQbWDF/iEm58Mr7YW9r5j/Lzz5dY9zy5yLLkAHxfj/1VL3s5pCY6Ojjj2xGuQMK7DRelGewpokDSWSmMhRO90MCEPDyfbZgsLRgd5UFBWRaIpMWpOeVUNsZnFjOrX+mrDCSGeHE68eNuLC22PyaSmVjN7+MVbri2a1B9ba8Wn+xLafJ46dZPgTQr1wt/NnlgzSeO6lhVBHs3/3/2L6QMJcHPgL+tOtivR2hGV1bWk5JUR6u3EID8jadyWvsbJeaXc/t4ehi1bz8CnvmfYsh8Y+6eNTH5hC3/67mSbYtFaczAhj4gBnjjYWvPBPROZHObFo18cZd2xtDYdq6fZejoTJztr3B1t+fFM304al1fV1P/77ciXMpeqNndZ11r/qLWeDrgBwYCr1voKrXXvmKnmEjB69GiWLl3K6tWr2blzJ5988glz5szBycmJe++9F4CQkBAcHR1ZuXIle/bsITIy0sJRCyHaZdEiY+lpCpKNalUwJoFrpeS8UlLyy5gc2gmtKTJOgK5tnDS2toHBcyB2k5F07EqnvoXk/XD1S9036VToFUZFb8wGo0rXuuks3Wb5DDb6PUd9ZbSmGLqgaS/k/lOMxwZ9jQPqksYNZiqvTj9JhbbFL6TBRK4Bo42Ec3Y0YFQCOdhasedsjpFcj/zI6J/sa+zz1eEU7l8ZyQe74oznkbjX2K6hs1sg96wR17ltkHywdc+1k2mtOZacz4yhfjjbWROf0/wH1b5o0aJFLOqJ1yBhtKGoqWxQaWy6rkqlsRCilzqYmMeEEE+zk7sBjDHddn60hRYVp9IKqanVTSbBa8n4EA9S8svIKGxbwdUPUen4uNgzNvjibS18XOxZMCqQLw8mU1bZvqmiotOLcLC1YoC3M0P8XInNbFpVmZxnJI37tZA0drSz5g/zwzmWXMDao6ntiqW9UvLLqNUQ4u3MAG8nrBSt7mu87XQm176xm1Ophdw5eQC/njWYP8wP55nrRjA+xINNJzMuWoXe0NmsEvJKq5gYanzp6mhnzfJ7JzEhxIPffn6Yf2yKoaCsql3P05K01mw7ncW0wT5cPsib3bHZbXpdepujSfn1VdXmvkgRLWtT0lgp9YxSqh+A1rpMa52qtS41rQtUSj3TFUGKtnnmmWeIj4/nN7/5DfPmzWPZsmWMHDmS/fv3ExZmzOru4ODABx98wMGDB5kxYwaTJk2ycNRCiD6lQSsCcs+1ercD8XX9jL07HkPaEeOxYdIYjIRoaTakHmq6T2eK3QgOHjD61q49T0MDrjAS5QVJ5yexa60R1xtJ7tKc85PjNeRkqvpt0Nc4oL49xfmWFXa5MZzTgQR6NWgzccFkePY21kwK9TKSxtHfG/FOegAw3sh+uMv4O/Pm1lgK/CZBRaHxJUBDe98BlwC443Pjdd71StuebydJLSgnu7iSsf3dCfVxbvctlKKHSo+C7X+H4qZ3cfV4RaYP+nVJYztnsLKVpLEQolfKL63kTGax2X7GdcIDXLGzseJYUvNVwVGpRtu0UUFuzW5zobp2GHXtMVojJqOIjSczuCUiqNkk94UWTwmhsLyab4+1L1EbnV7EED9XrK0UQ/xdOJNZ3KRSODmvFD9XexxsrVs81k3jgxgV5MZLP5ymvKpxEru0sppDiXkcTMhttJxrQ0Vwc+JzjPdRod5O2NtYE+LlxNmslt9b1dRqXtkQzc9XHKCfhyPf/noazywcwaPzwnl41mDumxbGrRHBpOSXXfRYDR1MMD6XRAw4X8zibG/DRz+fzPyRAbyxJZbpL27lX1tjKa6obseztYzojCJS8suYPdyPKwb7kFpQ3ivev2qt2XQyg8rqthX+7D2Xi1IwdaAXZzrh7+ilpq2Vxs9iVBeb0w/padwjPPzww2zcuJHU1FTKy8uJj49n1apVDBvWeKKgxYsXExMTQ2VlZf03SzNnzkRrzahR528r1lrzyCOPNNp3+/btrF69utHYc889R3Z23761QYgeZ/NmY+lpMqIAZSTzclvfnmJ/XC5uDjaEB7h2PIa0o+DkDW5BjccHXQXKCmLMzenaSbSGM5uNc1m1/Ka8UwVPMpJCAGHT27ZvXQ9jWycYPNf8NiFTIWlffZW2g601Hk62jSqNPYrPkmw7AFvrBm8xvAeDjWOjLxOmDvQmOqOIqt1vgMcAGHYdALtiszmdXsSvrxpMdY3m9VhfY4eGLSqyYoxK40n3G8nsqQ8ZyeeGX1Z0k+OmSfDGBHs0TRpnRUN+UrfH1J02b97M5p54DeqI6go4vhr+vQDevQK2/w32v2/pqNquKN14rEsaK2X8e5GJ8IQQbbA7NpuTqW2bn6LOumNppDX4Yrkj3tlh3Ll22aDmCwtsra0YEejW4mR4J1IK8HSybbE9w4VG9nPDztqqTX2NX9sUg7OdDb+8clCr95kS5sUQPxc+3du+FhWn04vq30MP8XOltLKmvh1FneS8MoKa6WfckJWV4v9dM4LUgnKW744jMaeUFT/Gcc+/9zPuT5u4+e2fuOWdPY2Wea/tJKmF1iCtkWi6Y6tuUuFBvi4ttqfILq7g7uX7+Ne2M9w+MZg1D11OqJn2JVcOMd5P7ozJanUskfF5eDrZMsi38fFc7G14a/EEvvv1NCaHefHKxhimv7iV93acpbqmi+9k7ARbTxtfhM8K92PaYB+AXtGi4kB8Hr/4OJIPdrW+IAmMfsYjAt2IGOBJQk5pm5POl7q2Jo0VxuR35gQDUroghBDdKTnZWHqARpUM6cfAayD4jTBaCJh8EZnE39afavYY++JymRTqhXUrKzJalH4MAsY07SXs5AX9p3ZtX+OMKCjOMFphdCc7JwieCA7uxnNvC99hRlX28OuN45gTMtVoO5J1flLVADcH0gsqjF8qivCqziDPeWDj/ayswW84ZJxP6l4+yJtx6gy2Kfth6q/qk+sf7o7D19WeR64azAPTw/h3VBUVLsGNJ8Pb/z5Y20HEz43fpywFO1fY9WrbnnMnOJpcgK21YnigKwN9nEnOM70ZTdoP78+E737f7TF1p+TkZJJ7yDWoU/z4Brw2Er683/g3PO+vxiST3dEHvbMVmirV6noag9HXWCqNe6fqSlg+3+g7L0Q3SSso4/6VB3h1Y3Sb980vreThVYd4bVNMh+PYFp3JezvOceeUECaENF9pDDA22J2o1AJqmunFe7wNk+DVsbexZlSQG4da2dc4KqWA9VHp3DctDE9nu1afRynF4ikhHE0u4HgLiW9zcooryC6uYJgpaTzU37jj68Ierin5ZQR7NvM+7wKXDfJmznB/XtkYzZUvb+O5b0+SlFvKXVMG8P7dEXx83+T65d27ItDAqv2JbYr7QvE5JTjZWePrYg/AID8XzmWXNPvn+etVhzmYkMdLt4zhpVvHNltB3d/LiTAfZ3bGtj5pXNfPuLm/K6OC3Pnw3kl88/AVjAn24G/rT/PWtta35bOUracyGRXkhp+bAwO8nQjycGR3NyaNU/LLmlSvt8bxFOPfxHs7zra6LUhFdQ2HEvOYOtCbIX6u1NRqr5x7XgAAIABJREFUEnJ6flV1T3LRpLFS6l6l1Fal1FaMhPE7db83WH4C/gPs6OqAhRBC9Dwf74nnihe3klNsSh6mRxktCbwG1renSM0v49lvTvDejnPEZDTtsZZVVMG5rBImh3VCP+PqSsg42bQ1RZ2h84ykcmEX9Wk7s8V4HDy7a47fknl/hZveb3uFs1Jw3wa4/s3mtwmZajwmNW5RkV5oqmLJMj5UVngObbpvwGijEth0Z8voIHd+abeeMisXGH8XYNxWuTMmi3svG4C9jTUPzxqMv5s9P1aFoxN+MvYty4cjq2DUreBiqkJ29ITJD8CJryE7tm3Pu4OOJecTHuCKvY01od7O1GrIOHMQPr0NqkpNVfeiV8iLh03LjDYsd30FjxyEyx+B4Qu79nrRVYpMk/S4NOipLknj3uvsFuPaGycft0T3+eemWCqqa5tUq7bGyTSjOnnLqcxmE36tkVFYzmNfHGVYgCvPXDfiotuPC/GgtLKGo8lNE7wV1TXEZBS1qZ9xnQkhnhxPKWhVleKrG6Nxd7TlgelhbT7PTROCcbS1bjQhXmZhOS98f4qRz/xQ38LrQtGmSfAaVhoDjd5z19RqUvPLCG5FpXGdZxeOYOGYfjxz3Qi2PT6TbY/P5JmFI5g3MoArh/rWLwtGBTB72P9n77zD2yrv9v+Rbcm2POQt7xU7ieM4e++ELEYJUAJhvEAZP6Apb9kUXnhLCy0vEAotLauMsiFACJBAEhKyyI4zPeK995SHbEuWzu+PR5ItS/J2Fvpcly7bOudIR7J0znnu5/7e3xDWHymho3NwmcwARXVaYgK9LELtqGAvS3O8nmi0eg4V1HH3gniumx7V52MvSAziYH5dv/avrqWD/NpWSzRJb0yM8uP922dwxYQwXtuVO2S39UjS0KrjWHEDS8aqATFRMT8xiP15dUP6nvaXqqZ2Fq/bxeJ1u/jiaMmAnjO9XIOn3JWm9k7e6afb+GSJho5OI7PiA0kwNVbM6SUju7qpnZJ67UWd8TxQ+uM01gJ1ppsM0HT723wrAF4A/t/I7KYTJ06cODmf+TmnlgpNO89uzoT2JmgogNDxEBgv3HodLTz3wxmMkoS7mwvv7bONrOjKMx4G0bgmUzRecyQaJ64QP7f/SYiQA6G+AN5cKERpR+RuB3XK2WuA153IqTBm5eC2lXuCWy+OGP848AqxzjXu5jTuqBC5wy5qO4O60BQhVjWVAeDWVMJy2SG+cV0G7mJg8/befDzkLtw0MwYQuXGPX5rElpZ4ZNpaIQif+Bj0rTDzbquHN878LUY3d3K++hMvbcs6K+WBRqPEqVINE0wNbmKDvIiSVRGy8QYR8zH9TiHcnWuRzmiA4x+L2AUnjjHnZi99Wkz4uJguk83Hi5xt52KvBk9zBSiDrL/TngHn/vPoZHCcWi9+XuSRN07OH3KqmvkitQS5q4wKzcAawAGWSIu6Vh3HBxDr0B2DUeL3nx2nTWfgnzdO7jOHF+CSJDWeclc+s+N4za5sQW+QGB8+CNE4xh9dp5H08t4dwKlF9ezMquHuhfH4evSzIXE3VJ5yrpwYzjcnykkr0/DE16eZ9/xO3t6bj5urC1+m2q/uOdNDNFYp5YT4uFsJZNXN7egN0oBE46gAJf+4YTK3z4sjzk7sQ3dumhVDXauOrelVDtf59558rn5tn0NRrqiulZiALie0WeizF1GxL68WowQLRgf356WwYHQw7XojRwv7/jymmvKrp8X0f1zyP5cn4SKT8cymXsYI55g9OTUYJVgyNsRy39yEIJrbOy1O3pHky9RSdJ1GArwUPPLlKS7/x152ZVX3S6TNKG9iZnwAl6WE8s7PBdS36vrc5mB+HTIZzIgNIN4UM2Jx30uSxcxi5tPDJSx4cSfNF1BG9UjTp2gsSdIXkiStliRpNfA+cKf57263myRJekaSpLqR32UnTpw4cXK+kVHRhLubC18fL+N4qil7NnSCcBoDaWkn+O5kOXcviOeaKRFsOFZGQ48T/eGCejzlroNyf9hQcVL8dCQahyTBrLVw6nN4dQocfVcIa/1h519Ek72D/7K/vKNZiKrnwmU80shkwm3coxlebUsHuk4jLaVptEtyVBGJttv2aIbHoTdB5sLfm5dQqWmnurmdb06Us3pqlFUp56pJ4WhDZwDQlrtLbBc9G8InUVKv5aODRaz9+BjTXznJf9oXEVe+ma937mdbhuMBy3BRVK+lub2TiaZu7aM8mvlY/lekTh3819ddYmP1mV4e5SyQux2++S1kfndu9+N8xywahyRZ3x+SBKooyL7AROOmCutoCnA6jS9UOpoh6wfxu+YiioNxcl7z4tYslAo3bpsTi6ZNT+sARZSMiib8lXLkrrJBn5Nf/SmHg/n1/HlVMgkh/et34eshZ9WkcL47WUFTu3UJe5pJ8B1IEzwz5liMviIqXtqWTZC3gtvmxA74OczcPCuGNr2BK179mS+PlnLttEh2PryI+5YkcKay2W55fVZlMwFeCkusA0Ci2pucbk5js1t3IHnOA2F+QhDRAUo+cpDJXKFp46Ufszhe3Gi3IZ3BKFFS30ZMUJdoHB/kWDTek12Dj4cbk6L8+rV/s+IDkbvK+pVrnFrcgNxVxoTI/o9LwlSe3HdJAtsyqtiVdX420N2RWU2Qt4IJ3cZbc0w54QPJNU4v19hEn/SF0Sjx+ZESZscHsum+efzzxslodQZue+8IN79ziNoWx+aGjk4DudUtjAvz5YGlo9HqDby5u+8okIP5dSSF+qJSylEq3Ijw8+za7/Sv4YV4cY41cay4gcQQ70FN+FysDCjTWJKk30iS1P+ORk6cOHHiZGTx9RW3c4imTU9pQxv3LBxFfLAXO3eZmmKpx1tE429+2kuYyoN7Fo3itjlxdHQabTLPDhXUMzXG37qB2mCpOAnuvsIZaw+ZDFb+Fe7eI7J8Nz0g3MOF++yvb6YyTTTIcveFtA0i37cnBXuFy/liFI1BiMaNRUKQQjiNQbhXpKpM8qRwogLsDOzUyeJn5Wnxvh37gKb4K6ggkAP5tXywvwi90cgd86z/ZzKZjLuvWk6NpEL304vQWMQGxRUs/dtu5r+wkyc3pnGsuIGFo4MJWfEwrq5uPOK1hXd+HvnLlVOm0teUCD/Q1uP31fUEujTzXtyLEDJW3ACqz7HjJH+X+Fl5atgf2tfXF99zfAwaNqrSxDHD3dv6fpkMRq+A/J2gH7jb7pzRXA4+4db3Kf2djfAuRM5shs42MRnrFI3POvk1LRdEc6vhJLWonm0ZVdy9IJ5kkyt3oA3tMsqbmBTlx+xRQWxLrxxwufeBvDr+sSOHayZHcO3UyAFte+PMaNr0BjYeL7O6/3SZBh8PN6ID+pfp251QlQcRfp69NsPbn1vL/rw6frsoAaXCbcDPYSYlUsVv5sZy94J49j62mL9enUJMoBcrkkUF2zY7Tt4zVc2MUftY5e8mhviQU91iee9LTaJxfzONB4qLi4wbZ0ZzuKDebhTduq3Z6A1iXw7k2/oNK5va0RmMxAR0OZr9vRQEeilsRGNJktiTXcPcUUG49XPs4OXuxrSYAHb3RzQubGB8hKpf7vbu3DEvjvggL/70XcaQYjpGgk6Dkd3ZNSwaE4JLt/4xgd7ujAvz5eec/onGP52p4qp/7WPp33bzX+8cYldWtXVvGwccyK+juF7LmhlRyGQyrpgQzvYHF/LHX43jQF6dw8kGgJyqFjqNEsnhKhLVPlw1KYL3DxRS3eT4uqx7nrGZRLV3l2icux3a6i2GFqNR4nhxQ5+56b80hmFk7sSJEydOzhnXXCNu55Azpsy6SdF+/N81Ewhty0XrpgLfcItoLG8s4PHLklAq3BgT6sPchEA+PFCE3jQI02j1nKlsYuZwRFOAEI1DJ3SVlzsibALcthmufU+47/5zGRx6y/H6O/8iBOPrPhB5teZy4e7kbge5l2i2dzESZZ1rrFYJ0biqqR2PhhyypUj7gzF3HyHIVZ2GYx+Arhnfxfej8pSzI7Oajw4VsSxJbbfjdUqUHxWqKaj01ZRLATyRGUOorwdPXTGOHQ8tZP8flvC36ydxxfzpyCbfxBWGHdQVZwy6HLa/nCzR4CF3Ec1mNj8Edbk8p/pf9mpFvAaqKFB4WzUOPCfkmzJQK4c/X/maa67hmnN8DBo2qtK7Jjd6krhCfOeLfj67+zQUmittI3I8/YX4qB94PqmTc8ip9eAXDeN/DR0a+xOWTkaEupYOlr+8hy8cRAJcjEiSxPM/ZBHk7c4d8+MIN7lSyxv7P2nWrje5AsN9WT5OTWGdtl+uxLqWDrZnVPHi1jPc9+lxYgO9eOaq8QNqWgcwIdKP8RG+fHKo2EqsTi/TMD58YE3wujM52o/jRfavLSRJYt22LMJUHtw4M3pQj9+dP/4qmccvS0JtmpwHERWRFObLtoxKq3WNRomcqmZLNIWZRLU3Wp3Bkkld2iCydgcSTzFQVk+NROHqwsc9BMC0Mg0bjpdy57w4wlQeHLQjGhfVCvdxbKD1deSoYG/yqq2dyXk1LZRr2vsdTWFmwehgzlQ29yk2nirTMK0fecY9cXdz5Y9XJlNQ23pWDAwH8+v483cZ/ZqUOVbciKZNzyXdoinMzEsMIrWogTZd70L37uwa7vnwGGNDfXlo2WiyKpu57b0jLHt5Nx8dLOq1wd1nR0pQecotkx8ACjcXfjM3jjGhvpZIEHuY427GhQujwv1LE9EbJP61M9fhNqdKNbTrjcyK7xpfJgR7k1fTIrKUy46JO039R/JrW2hq73SKxj0YsGgsk8mul8lk22UyWbFMJqvueRuJnXTixIkTJ+cv5kYnyWG+zIgLYL5PJSd0kZwq06AxeFCLH9N8G/jVhK4y6dvnxlHZ1M4PaeKi92hRPZI0THnGhk4hjjmKpuiJTAbjr4HfHYHRK2HrE1CaarteyWHI+h7m/jeMWgxhk0SsRfeLNEmC3B8hfmHv2cAXMmEThBB6+N/QqSPMJBrX1Nbi3VFJkUs0fkoHJV2hKVB+QkRMxMzDJXIys+ID2HSqgkatnrsWxDt82oQZywFoTvkNR//3Uj66cyZ3zItjVLC39eBv4WO4uCv5m+It3t3r+EJyODhV2khyuEo4XIr2w/hf0xo+l0LToAeZTDjZqzNHdD96paUGqtNB5upsytcbOi3U5XXFqPQkbj64eUL2VkCUAZ/XTVI6ddBaIybvuuNpGghdoBEV5kZPvyhaqoXLPWW1EI7B6TY+ixTWaek05df/UvjpTDWHC+v5/dJElAo3y3l+IE7j3GrhChwXpmLZONFwy1FERUengac2prHwxZ1MfXY7d35wlDd25xPh58FrN0/By31wjt0bZ8RwprLZEiehNxjJrGwmZQBxAz2ZEu1PuaadSjsZz7uyajhW3Mh9SxIH7E4dCCuS1RwtaqCmuauUv6RBi1ZnYGwP0Xi0WvxtzjUubWgjyNvd8f41V8Ina8RxZ5AEertzWUooG46VodWJSBNJkvjL5kz8lQp+uziB2fGBHMqvszmPFtYJUTu6p2gc4mXjNN6dLVyx8xODBrR/5vX39uKqTTM1PJw6gDzj7iwcHcyKZDWv7sgdsEN/oKzbmsW7+wrsOrd78tOZauSuMubZec/mJgShMxg5XOi4Gmlfbi3/74OjJIR48+EdM7jvkkR+fmwJr1w/CaXCjSc3pnHfp8ftXh81tOrYmlbJ1ZMj7H7+psf6c6yowWFVR3q5Bi+FqyXvOibQi+umRfLJ4WLLZEhPDuaZ8oy7jS8TQrzp6DRSXlXTZeowVeIdKxLHiikx/Ys7+aUwINFYJpPdiMg1zgUigW+BTabHaQL+Odw76MSJEydOemHLFnE7h2SUNxHkrSDYxx0MnUTqCyhwi+cPX51m3bYsCo0hzPTTWAl7i8eEEBuotDTEO1xQj8LVhYn9zCTrlboc4aQLmzCw7RRKuPoN8AmDL26zLuGWJNjxZ/AKhpn3iPum/UbEDpQc7vbcedBYfPFGUwC4yuHyl6BoH2y6n1AfkZ3XUSEiGDTeCY4dPKEpItpCUwKz1wIw21QyNjHKr1dHh3LSaph2O2Mu/2+8extA+oYhW/k8U2RZhGb+Z1Ad3/tDp8FIenkTKREq8VlpqYSQccQGelGuae9yWoQknVvRuMDkMk6+WjSlbOm7JHMgbNmyhS1bttDUrrc0s7wgqckEJMdOY7mnmAzK3kpOZRMrXtnDlrRK++ueD7SYxBmfnpnGpoHTBSga78+rZcUre0a8guC8I20DSEZIuU5UL4BTND6LmMWIHDul9hcjBqPEC1uyiA1Usma6+LyFqjyQyQbmNO7uClT7ejAxyo9t6faPmR8eKOLDg0Ukhvjw+KVjWX/3bNKeXsE3v5vH2NDBxx9dOSkcb3c3Pjkk4tByqlrQdRpJDh/8Y06JMecaWx+HtLpOntmUQXSAktXTBhalMVCWjwtFkmB7ZpcI37MJnplEUxM58+e3rLGNiN5cxtlbIPsHyPx2SPt406wYmjs6+fZEOSBydA/k13H/0kRUnnJmxQdS26KzcZ8X1beicHUhTGW9j6OCvalr1Vn1Q9mTXUN8kBdRA4waGRfmS5C3gj05jq+HzI3ypg7CaWzmycvHYZQk0SR8hMitbuaoyZ37/v7CPtffeaaa6bEB+NjJ650RG4DC1cVhrvHB/DrueP8IsYFefHTnTPyUwhyjcHPhqskRfPu7uTy6cgw/ZlTx3akKm+2/Pl6GzmDketNxpSdTY/xp1Rksn+WeZFQ0kRTmaxWrcd+SRGTIeHWHfZPIwYI6xob6WvYVuhor1uQcAiRhCDBV4h0rbsDXw82So+1EMFCn8SPAM8Ba09+vSZJ0OxAH1AL2JX4nTpw4cTIyVFaK2zkks1KcxGUyGdTnIetsJ2XqXDIqmvjwYBGywAS8mq1L1FxcZNw6J5bjxY0cL27gUEE9k6L8hseZUWHKbe2v07g7nv6w+j/QXAHfrO1yEefvhMK9sOCRrrzT8deCwgdS3+vaPteU5zzqIhaNASaugYV/gBMfozr6dzzkLrjWitl6feBox9uZXZwBo4SrG1g0JgSFqwu/W9yL2AzgHQxXvAye/ZhYmLiGtrjlPOT6OZt27O7vq7LBaJR4aVsWj3xx0iarLbemhTa9gYlRqq7MYvU4Yk3NWwrNTWpCkkBbO3CxdsvjXVnEQyF/F3ioYNKN4u+Buo0NeuuJkR5UVlZSWVnJM99lcMNbB/ssazxvMTfBcyQaAyQuh8YiinNOAHCkH93XzxnNpgGbjWh84TqNj5kGxjlVA2u8c8Fzer04doaMBZVJjNKUnNt9+gVhnnjMrjrPqwuGia+Pl5FV1czDK8ZYekzIXV0I9nanfACTsBkVTSi7uQKXj1NzslRj49DVaPW8+lMuC0YH8/at07h74ShmxAXgqRj69aC3uxurJoWz6VQ5Gq2etDLhFk8ZQsPlcWG+uLu5WI5HZv6yOZOCulb+79cpw9OboxeSwnyICvC0EuHNVRhmZ7EZP6UwdZiPm6UNbb1HU5SZKu3yB3/tBDAtxp8xah8+OiSi6P76fSbxwV7cMENUS5gzZntGVBTVaokK8MTVxfp6cFSwuPbOrxWvo11v4FBB3YCjKUCMQeYnBrM3p9ZhDu/RogZiA5XCEDNIogKU/HZRAptPVXAgr28X8GD4/EgJbi4yrp8WxY8ZVZTUO5bjShu0ZFU1s8RONAWAp8KVqTH+dnOND+XXcft/jhDpr+Tju2YS4GVbTSmTyfh/8+OZGKni6W/TqevW1E6SRAO8iVF+JIXZn7SZFismtY/aMSAYjRKZFc2WaAoz4X6e3Dgzmi+PlXKixLpBpa7TSGpRg1U0BXSJxrrio+KO5KvEdbyhk2PFDUyO9rcSpp0MXDROBPZJkmQADIAvgCRJzcDzwO+Gd/ecDJann34amUxmuYWGhnLFFVdw6tTwN8Fx4sTJLxe9wUh2pehkC4gmZ8CEqfO5LCWUAC8FSckThQtTZ51FtnpaFD7ubvxrZx5pZZrhiaYAkWfs5gmBiYPbPnIqLH9WRFEc+GeXy1gVDVNv61rP3RsmrBadd80CTN4OCEyAAAcN+C4mFv0BJqxBtvMv3KQ8hGdjDm2SAqV6lONtwqeAqzvMe8CSNx0b5MWpp5dbyleHBZkMz2texeDqwazTT9La5rgbsyPa9QbWfnKMV3/K5YvUUptculMlYvA5IdIPqkyicUiyxZ1giagISRI/awbgNNG1wsHXYPPDYByiCFuwG2Lnd02iDFQ0PvoevLNMuOgd0NKu55uT5XQaJYclguc9lWkii9wv1vE6o1cAoMj7EehqhHhe0iTcXfg6EI0vwGZ4p02CT3Evg+KLjro8IeKkXCf+9laDixwanaLx2cLcOKypvZPq5oGfSy4kJEnitZ25jI/w5bLx1seOcD9PKuxEMjgio9zaFbgiWZzjf8y0jqh4bVcuTe16Hr907BD33j43zoymo9PIV8dKSSvX4O3uRmygbe+E/qJwcyElQmXlNN6RWcXHh4q5a348c0YNLCphMMhkMlaMC2Vfbh3N7XpAiMbRAUq7UR6JId5kV7dgNEqU9SkamzJeC/eCcfDNH2UyGTfPiiatrInHN5wmv7aVJy5NsgjqUQGeRPh52kQqFNa1EmPn/2MWjc3O5COF9bTrjSwYPbj3e8HoIOpbdaSbHPHdkSSJY0UNg46m6M7dC+MJV3nw3A+Z/WoUNxB0nUa+OlbG0iQ1v1+aiEwm67WR3M4zInLEkWgMItc4o6LJIvhWaNp4+IuTrPn3QUJ9PfjkzpkEeTsW0t1cXXjh2ok0t+v503ddTaBPlDSSVdVsqV6wR4SfJ+EqD4tzujvF9VpaOjq7xpvduG9JAuF+HtzyziHLxBCIazSRZxxotb6fUkGQtzue1SdF5FP8Iuhsp6Uii5zqFmeesR0GKho3AeZPSRmQ1G2ZDAi02cLJOUOlUnHgwAEOHDjAK6+8QnZ2NsuWLaO+/sIbKDhx4uT8JK+mBZ3B2DXzW3laDGiDRvPqDVPY+fAilKEm52m9tejm7e7G6mlRbM+sotMoCdHY0CncDZsfhtT3B75DkgTlxyF0PLgOvms1M++GpCvhxz/C9qfFYy76A7j1uFCa+hvobIeTn4G+HQr2QsLSwT/vhYRMBlf+A2Lm8YeOfzJWs5dcKZyowF5KunzU8HA2TPkvq7tHJPvPJ5Tq+c8wkRwyNzw3oE3rW3Xc9PYhtqRX8uTlSaxIVvPi1ixLuS3AydJGfNzdiAv0EpnBnv7gE2pxGhfUmoStYNOl0kAiKjSmbu91OUMrEa0vEHEpcQvBKwi8QwfeDC9HZPia897scaigHl2nGFyWXKiicVU6qMf13jxTFQnq8YRWCQdWWrnGYfbeOafZ5EDz6ZFprLxw4ynSysT37xclGp/+ApCJBnggPp+qCGc8xVmkrKHN4nq82DO1U4sayK9t5dbZsTZOu3A/D8r7mc1qNEpkVDRZCTyjgr2JD/KycseWNmh5b38hv54S6dB9OFSSw1VMjPLjk8PFnC7TMC7cd8guwikx/qSVNdHRaaC2pYPHvjrF2FAfHlreS6XVMLM8ORSdwcjubFHFlGWnCZ6Z0WofcquaqW7uQGcwEunnQDTuaBGOy4BR4hzRy3m/P1w1OQKlwpUvU0uZMyqQS5K6xEqZTMbM+AAO5tdbHPySJFFcryUm0DZuIsLfE4WbC3k1YkJ+T3YNClcXG0Gwv8xPFA5lexEVBbWt1LXqmBY7dPHQQ+7KQ8vHcKpUw6bTtpENQ2F7ZhX1rTqunxFFuJ8nK5LVfHakxG7Fl1bXyTs/F5AY4k18sOPr9LkJQoTfml7FC1vOsOjFXXx7opy75sfz9W/nEtKtKaMjxoT6sHZxAt+eLGe7Kcf88yMlKBWu/GpieK/bTo0N4Ghhg01Vh6V/TrhtlUCgtzuf3DkLHw85N79ziEzTumYX+4xYW/E/IcSL0JYMYWZRjwegJOMQkuTMM7bHQEXjI4A5JPJb4H9lMtldMpnsVuBF4OBw7pyToeHm5sasWbOYNWsWa9as4YMPPqC6upot5zj/1IkTJxcPlsy67k7jkLHgpsDVRYbKUw4BpuZm9bZOxdvmxOIqMzLPNZ3Zmc/CS2PggyvhyL9hyx+grZ9Ovo4W4Yh8Yz4U74eYOUN7YTIZrPon+EXBvlcgaDRMuN52vbAJEDFVPHfRPpGlfLFHU3THzR3WfES9IpQIqYpsKZLovrLl+hMvMUzELbqNg4rZpOT8E0PVmX5tU1TXyq9f38/pMg3/unEKd86P57lrJqBSyrn/8+OWrOLTZRrGR6jE4LMqA0LGgUyGj4ecIG8FBaYSSnxCwcPPIhr3q7zZXHru5gF71lk3WxwI5jzj+IXiZ+j4gTmN9W1Q+LP43Rzf0AOD0cj+vDpL852S+pFt+DIiSJJ4X3qLpjCTuJz4ttP4u7TSrjeSfb5GJTSXg6uiSyQ2Y4mnuLAMBA2tOktMwC9GNJYkIRrHzhNCsRlVlFM0PouUNmiZanKeZV/kucbrjwph57KUMJtlYSpPKhrb+3UOK21oE67AbqXkMpmMZePUHMyvo8nkjn1pWzYy4MFlIyu23jQjmtzqFo4XNzLejug0UKZE+6Ez9TX4w1enaGrv5O9rJuPuNnLN73oyNcafQC8FW9Or6Og0UFDbatMEz0xCiDetOoOl70Ckv4PrtIqTIj993v3i74KhRVT4eMi5anIEMhn8z+VJNhFks+IDqW/VWZr01bR0oNUZLJEm3XF1kREf5EWead092bVMi/VHqRicQSTI253kcF/2ZNuKxmana299NgbCVZMjSArz5cWtZ+joHL4Ir08PFxOu8mCBSQC/bU4cmjY9G0+U2az73PdnKKrX8sxV43t9zJQIFT4ebjzx9Wle25XHZSlh/PTwQp64LAmVoybXdvjtogTGhvrwPxtPU6Fp49uT5fzOd9n2AAAgAElEQVRqQnjvPUkQzfAqm9pt+pFklDfh6iIjUW1f8I4KUPLJXTPxcHPlprcPkV3VzMH8esaG+uBvJ0pjQoAetbEKKXyKGOO5KmgtOo5MBpOGo7/ORcZARePngGLT7/8LHAZeB95DZBrfM3y75mS4mThRlKaWlHSVtL399tskJyfj7u5OTEwML7zwgtU26enprFy5koCAALy8vEhKSuJf//qXZfmiRYu49tpreeutt4iNjcXT05PLL7+csjLrg1VtbS233norgYGBKJVKFi1axNGjR63WiY2N5eGHH+bll18mMjISf39/1qxZQ2Njl2ik1+t5+OGHiY6Oxt3dnfDwcK6++mp0uq5Q/OLiYtasWUNAQABKpZIVK1aQlZU19DfQiZPzkcBAcTtHZFY0oXBzIS7IVEpWlQahPRrQWUTjfJvtowOVfKD+nI/kf0Ge9gXELYDV78PtW0GvheMf9b4D9QXw/aPwtyTYZLrIveIVWPTEEF8ZIgd29fvgGwnL/+LYuTz1N1CbBbueE9ELsXOH/twXEp7+bEh6hVIpiP2G8X2LxmcTmYympS/QKrnT8tmd0KnrdfX0cg3XvLafRq2OT+6caRk4B3gpePHaCWRXtfDCliw6Og1kVjQxIUolhJ3qTCEam4gN9KLQ7DSWySzN8CRJ4urX9vPX7/twHTeZzqHzHxLfqexBTvbm7xaZtkGmAbl6PNRk9fk+WCjaJ5z0MheHDuWiFlea8eDBZaPxlLuet4Leipf38O89tscgQEQ5tDda3Ca9IY1egStG7govBITj/LykqUJMWPTMCZcrxXHqAnMap5WLktPoAGWvmY0XFeXHoS4XUlZb36+K7FU0FtmRxWi0+hHewYsfSZIoa2xjQqSKQC/FRZ2n3drRyeZTFVyeEmY34iBM5UGb3oCmre/PVUaF+L72LCVfnqxGb5DYlVVDWpmGr4+Xcfu8OMIdOV+HiSsmhuHjIV5TSuTQHc3m8vU/fZvO9sxqHls51qHLd6RwdZGxNEnNzjPVZFY0YzBKvTqNAXZmiXgCh/EU5jzjMZdB8Nhh6avwh0vHsuHeOXYdouZGyOa83+I6cWyPCbIfHzIqxJu8mhYqNe1kVTUPKs+4OwtGB5Na1EBLR6fV/amFDag85ZZIjKHi6iLjicvGUlLfxocHHMdHDISSei0/59ayelqUpRJieqw/SWG+vL+/0GpyZ092DR8eLOKOuXF9OrNdXWTcOjuWJWND2HTfPF6+fpLjSYZeULi58PyvJ1DT3MF1bx5AqzNw/QzH0RRmzI0HU3tEVKSXa0gM8e61MjEm0ItP/98s3Fxk3PjvQxwtqnf4emfIxf+h0T8F3BQQPAZFXQajQ3zsNgn8pTMg0ViSpIOSJH1u+r1RkqRVgBfgJ0nSTEmSHAfeOTnnFBcLvT8uTmRtvvjii9x7771cddVVbNq0iXvvvZennnqKf/7zn5ZtfvWrX+Hq6spHH33Et99+y3333Udzs/Us+4EDB3j11Vf529/+xjvvvMOpU6e46qqrrNa56qqr2Lp1K+vWrePzzz/HaDSyePFicnOtO12uX7+eHTt28NZbb/H888+zadMmnniiS/x57rnn+Pjjj3nmmWf48ccfeeWVV1CpVBgMYtauvr6eefPmkZWVxRtvvMH69etpbW1l6dKltLVdgO4nJ0764le/ErdzREZFE2NDfXBzdYGWamipshVePHzBK9iuaEynjjnaXUjJV8MjubD6PdGQIHoWRM+Bw286znRt18DbS0UjutEr4fZtcM9emPYbkPddPtUvwifBA2kwernjdcZfA+6+UHpEOJwVg8/Ku1DxDBnFvI6/s0FaQMQID/4GypKp43lJcS+qhtOw9fFe1/379hwAvrp3jqUhh5lFY0K4dXYM7+4r4O29BegNEhMj/YQrWNcsog1MxAV5UVDXLcM7JAlqMjlR3MCJkkZ+SOujRFFTCshgzn3gFzM4t7HRCAV7RDSFWTgMTQGjXkxy9IfcHcLtPPpSh07jM4rRjJmxiEuS1ET6e56Xgl6jVkdWVTNb0x00De1PEzwT1b4p1EverJCfROUpP39zjZsrbKMpQHwWPP0vONHYnGd8aUooda06WnsM8i9KTn8h3OLjVlnfr4oSTnKDffHuREkjj311mg8OFI74Ll7s1LXqaNcbifT3JFHtTdY5dhrnVDXzxu68EWnI9/3pClp1Bq5zkDlqFnZ7OgDtkVHehIsMGxFzUpQ/Qd7ubE2v5K/fZ+KvlHPvol76IAwTSoUb10wWbv3hcBqH+HoQ4efJyVIN8xKC+M2c2CE/5mBYMV5NS0cn7+0T8W+OnMaJpsZfu7OEqzaiN9HYL0bEWcUthKID0Dm0HG9fDzmTHWTERgUoifDztMQIFJpEY0eZ06OCvSmu17LjjIg8MDtsB8v8xCA6jRLv7y9kS1olG4+X8dnhYn7OrWVqzPA2Q5ufGMz8xCBe/Sm33xN6p0obufejVLsNKL9IFROHq6dFWu6TyWT8Zk4sZyqFyxZEo8lHvzxFQog3D68Y06/nfXjFGN69bTrjuzeM3PEMHHyjX9ubmRjlx13z4ympb2O02pvJ/XDwjg31xdvdzeKKN9Mz7sYRcUFefHLXLECym2dsZrQhB6MkI8tFGJskdQrh7TlMGSZ3+cXGEAIfBZIkdQAdMplsMfCoJEmXDn23nAwXnZ3iorqoqIjf/e53TJo0iVWrVtHU1MSf/vQnnnzySf74xz8CsGzZMrRaLc8++yz33nsvDQ0NFBQU8M0335CSIjreX3KJbdl1dXU1Bw4cIDpadEONiYlh3rx5bNmyhZUrV7Jlyxb27dvHrl27WLhQlMguWbKE2NhYXnzxRd58803LY8nlcjZu3Iibm/hoZmRk8Nlnn/Haa68BcPjwYW688UZuvfVWyzbXXXed5feXX36Z1tZWTpw4QUCAGPDPnTuX2NhY3n33XdauXTs8b6wTJ06QJImM8iZWJIeKO0xN8AhNsV05IB7q7IjGxfuR6ZpFkx9Fj5nsWffA+luEy3Ls5bbb7vs7aGvhrp9ERMRI0dOp1xOFl4iuOPLvX06ecQ9CVR6AjDBfDxRuI9s1fKC4uboQOfcG3tyewd1H3hZO+Km32qyn6zSyL7eWVZMjHOa9/eHSJPbl1fHiViG6pkSooGqPWBjSJTjGBnlRk1pKS0enKMULGQft77Lt0AlARDiUNmgduzc0pcIhLPcUZaKbHhCOn1GL+//Cq9PF98McTQFdEzpV6fa/pz3J3QExc0VzyKzNYqLGo2sQkV6u4XBhPf9zWRKuLjKiApSUNJy9Cdp2vYHXd+UxIVLFJUmOGykWmQaiJ0sbadcbbJ0q5siOfojGeXVtVBknckX9PiZGrOVEiabPbc42Hxwo5NLyQoITHBwXPf0vuEZ46WVNRAcoLYJPSYOWsaEjk4F63pC+ERKX20b6qCJFCXlzhWji04N9ubWAyOq875JBNoR1AnQ1wYv0VzJa7cOGY2VIkmRTZn+2eHNPPl+mlqL2defqyZF9bzAAvkgtJS7Iy2FJvlk0rmhst+sa7U5GRROjgm1dgcIdG8IXqaUYjBJ//NU4fM+Sq+/3S0eTFOZLQsjwuEdnxQey40wV61ZPHFZxcSDMGRWEl8KV706Wo3BzcSi2+nuJxl+1LR0EeCkcRzqUpULUDPF7/EJh3Cg9IiJyRohZ8YHszKrGaJQoqmvFRYZD88GoYC+MEnx4oIhgH3eSwobm7p4WE4Cvh5vlmq479yyMH9Jj2+PxS5O4/NW9vLY7l8cvTep1XaNR4n++TuN0mYZTpRo+uWumpUGgwSjxxdES5icG21xHXjkpnOd+yOQ/+wuYPSqQp79Lp6alg7dumTr4/iE6Lex/FbxDRM+XARz/Hlg2mszKZq6dGtmv46ari4zJ0X4cLeya2K5t6aCqqcMq7qY3EkK8+fSuWXx2pISFDtzo6uZ0cqVwshpgFlDrNZpgPmF2yC9gQnoQ9Es0lslkfsBKIAooAL6RJElvWrYaeAyYAmSP0H6ec/7zn//Y3JecnMz06dPR6/V8/PHHNssnTZrEpEmT0Gq1rF+/3mb5tGnTGD9+PBqNhq+//tpm+ezZsxkzpn8zQvaoq6tDLu86EQcGBnLkyBHc3d3ZtWsXra2trF692iIsgxBzn3nmGUpLS4mKiiIqKop77rmH//7v/2bx4sWEhNh225wyZYpFMAYh0oaEhHD48GFWrlzJ4cOHCQkJsQjGAF5eXlxxxRX8/PPPVo+1ePFii2AMMG7cOKqrq9Hr9cjlciZNmsTrr7+OWq1m5cqVpKSkWB2Atm/fzrJly/D19bW8Lh8fH6ZOnWoTh+HEyUXBd9+Jn+fAbVzZ1E6DVt/VvMQiGtsp8Q6IF6XyPcneJkqluwtbZsZcLhxVB1+3FY01ZXDgX6JsdyQF4/4y615RStzTEfYLQW1qjBF1PkVTdOOylFCWbFnDFSF1RHz/sHD+mgdGJo4W1tOqM7Col3JHT4Urr1w/iatf24ePh1yUeKabXKohXZ3fzXEthbWtwqkRLJblZRwlJWIOp8s0HMirY/U0R6JxiRCGACbdBLtfEG7jgYjG5u9bXLfvVmCC+L5VnoaJa3rfvrFYOJKn3iq2A5HdHDPbssr7+wvpLDiCT7UOiCc6QMmRgvqzIqqU1Gv57cfHOF2mYXZ8YO+iscn9rDdInChptHWeVKWDKtpKEHdEfk0rhwyTubpjHy/V30dliwHjGypcZIjoh2vfAd/eG72MJJIk8c7efH7dUY3RJ8x+SaEyoP958ecJIkPc1xJ/U1x3HorG9QVg7ISgYRBqda3CTRxxp+0y87FBU+pANBauvWPFjTS168+aKHcxUmYSjSP8PRmt9qGlo5NyTfs5qaiRJIm9pqZdf9mcyZKxatE3YhgorG3lcEE9j6wY4/DYHa4S5/mKfjTDyyhvYnqcbfMpEBEVnx0pITpAyU0zYwa/0wMkwEvBmhm235fB8qdVyTy2cky/GoONFB5yVxaNCWHz6QoSgr1F1Z8DEkO8qW3pcBxN0Vwlrj1m3Sv+jpkroqnyd4+oaDx7VCBfHSslu7qZojqtpeGdPcxxEWcqm7lmSsSQrzMUbi5s/u/5VDd34Cl3xUPugofcFaXCFT+lbQ7uUBkX7ss1kyN5b18ht8yO7fU48n1aBafLNNy9IJ71R0tY/cYBPr5zJolqH/Zk11ChaeepK8bZbOchd2XNjGje3J3H23vz+fp4GfcvTWRC5BByegv3gqFDfD7q8yGw/9UBHnJXPrh9Rt8rdmN6bAAvb89G06ZH5Snv6p/TT9EYIFHtY/f9AUCSUFSdIEM2nlxTRvZpYzRLgGmeZcDkAe3vL4E+7UAymSwFyAQ+AZ4H1gMHZDJZjEwm2wd8BrgDNwEO/jNOzgUqlYojR45w8OBB3nzzTXQ6HTfeeCNGo5HaWuFCSE5ORi6XW26LF4sBaUlJCS4uLmzbto3Q0FBuv/12QkNDmT9/PsePH7d6HntCckhICBUVovy2oqLC7jpqtZr6emuni5+f9QFNoVAgSRIdHaI05sknn2Tt2rW89tprTJw4kaioKP7+979b1q+treXzzz+3ek1yuZydO3daZTk7cXLRUFcnbucAc3day0m8Kk2IvJ52XCoBo8QAWNejdD17C8TNtx/p4OoG0+8UFys9S+N3/lU4rZY8NQyvZBgIHAV37RCN836BhKnEhe95lWfcjZhAL+JDVDzt/pAQ9D7/L5H52o1d2TXIXWXMMXWOdsT4CBXrVk/k4eWmwXVVhvjcdxMczaJxQa0poiJEOEqi9IU8tnIsAV4KDuT38r3VlHUJQ27uMPf3UPSzKBXtLwW7hdjbvYGWq5sQt/vTDC93h/iZsLSbQ7lru/pWHRtPlDM5xI32FuG2jfT3pLmjk8YRzlLdnlHF5f/YS2FdK0lhvl3vswOKTMtlMjhcYMdhW5XevyZ4iP/pPtdpSCnXgSqSasmPJrcA4QYt3j8sGZBDIb+2lbr6OrxkHWjcHEyAePpfUI3wNFo9xfVaksNVXaLxeRiDwqb7Yb1tFcOgMB+ffO24Sc1CcaPtdW2bzkBqUQMTo/wwGCVLVqiTwVHaID5nZtEYzl0zvOyqFqqaOrhldgz1rTpe2jZ8/Vq+TC3FRQa/nuLYvRzk7Y7cVUa5pr3Xx2po1VGuaXdYSj5nVBBzEwL586rk864yaSB4u7udU8HYzPJkMWHqKJrCzGhTAzGHonH5MfHTbMTw9IPwKUNuhtcXM02TCwfz6iiqayUmwHHEW3xw17KhRlOYiQpQMjXGn3HhvsQHexPu5zkigrGZh5aLHhMv2XE3m9EbjKzbmsUYtQ+PrhzL53eLyfrr3jxAWpmGz44UE+ilYKmDyfKbZ4nJmGc3Z5ISoWLt4oSh7XTONpCZXMoj/HkA0YBQkuB4sXAbZ1T0aLrek7o8eCVFmHf6g6YEmbaWKp9xFtF4j0ZUzYa15fa25S+W/jiN/wo0AVcBJ4EY4FXgCEIsvlWSpD46FV343HbbbQ6XyeXyXpcrlcpel6tUql6XDxY3NzemTZsGwMyZM/H09OSWW27hiy++sEQ3bNq0CbXa9oBjdjiPHTuWr776Cr1ez969e3nssce4/PLLKS0txcVFnOirq6tttq+uriYsTDQQCgsLs7tOVVWVZT/6i4eHB3/+85/585//TE5ODm+88Qb3338/Y8aMsTTsu/LKK3nqKVshycfn7DYocOLkYsc882u5UK087biRVIDIUqehoEucqcuD+jyY2UsP1Sm3wK7/g0NvwJWvmp4nDU58DLPXgv/Zc6k4cUyQtyh9nHAedxxeOk7Nv/fk03zPB/h8eCms/y+4bbMQZYFdWdVMjw3os7MzwKpJ3YTY6gyrJnjQlcdXaBYzvYLQuPgxyaOSOaMCmRUfwMG8OvuOXEkSDsKxl3XdN+VW4TTeuw5ivur7xRr0ULRfxKb0RJ0iJmskqfcSw9ztQgw3N9Hz8LOavPn0cDG6TiNzu4nsZqd5SYPWbrfqodJpMPLSj9m8viuP5HBfXr9pKt+eLGPdtmy0uk6HJbdF9VpCfNwJ8FLY5OTR2QG12fYjcOyQX9OCOigI2a//jdTUzh1/3cFTY8dxx5xo+EuY+DycQ3aeqUYtEwOtcqMKu4XmF1imcbqpCV5KhAo/pRwfd7fzMjub2hxTU0VNv1zrvdJkanRnz7Xuazr+aGxF46NF9egMRu5bnMDvPzvOnuyarggpJwOmtKENXw83fD3kFtEtu7KZxWNszTAjzZ5s4TK+d9EoXGQy3j9QyOqpUaREDu2zZjBKfHWslPmJwaaoKfu4uMhQ+3rYzVftjo2hoAceclc+vnPW4HfYiRWLx4ag8pTb9GHoSYJp0sNhLFZZqhAGuzezjl8IP78C7U2iP8kIEBWgJNLfk4P59RTWabliQpjDdZUKNyL8PClrbGNeYu8T/Ocr4X6e3D43jjf35LFqcoTd+ITPjpRQWKfl3dum4eoiY7Tah/V3z+amtw9xw1sHadMbuH1enMNJlwg/Ty4dH8aPmVX87bqJyHtxoPeJJAnROHE5VJwUzvNptw/+8frBpGg/XF1kpBY1sGhMCOnlTUT0JuaXHhXVcT88Jhqp9+VALxMTJO0hE8kpFqLxvrJOal1DCDJXzTqxoj+foGnAU5IkHZIkqV2SpCzgXiAIeOiXIBhfLNx8880kJyfz/PPPM3v2bDw9PSkvL2fatGk2t54Cq1wuZ8mSJTz44INUVFTQ2NhV1njs2DFLkz2Affv2UV1dzYwZohRh5syZVFdXs2fPHss6Wq2WzZs3M2/e4MtdEhMTWbduHe7u7mRkiEHaJZdcQnp6OsnJyTavaShRH06cOLElo6KJmECl6DKrbxMDZkc5qeZSpu7N8LK3ip+9NZlTBsCE6+DU+q4Mzu1/FBev8x8a+otwMiy4ubrw82OLuWkYSz+Hm6VJajqNEjsbguHq10VO3/ePAFDe2EZ2VQuLxgzQudKpE4Kj2lo09lS4EurrYXHAVmraSe+MYJpnJS4uMmbHB1KuabfvlmytFWWAqm6udYVSTJLkbrdc7PZKWSroWiB+ke2y0PEi67ilyvH2Br0YGCRcIi6+ZTIxIWQSjTsNRj46WMTchEArkSHKNBgtqR+ZXOPHN5zm9V153DAjiq/unUN0oJK4ICHkFNY6FhGL67TEBCqZGRdAalEDnQZj18KaLJAM/XYa59e2WtxOIb4ehKk8OFnSCC6uEDwGqjMH/wKHgR2Z1SR7i0FQQYeDQf55Jhq36w08tP4kRXX2HeNpJtF4fIQKmUxkZ593TmN9GzSVAZL4/g2VpnLxs3ulgBmFEpSBpoaZ1vycW2uqmAhk9qhA9uTUjEjTtF8KZY1tFpHNT6kg2Med7KqWc7Ive3JqSAzxJkzlyYPLRxPo5c6TG09jMA7t/7svt5YKTTvXTeu7Uircz5OKxt6dxmZXYFI/mlY5GTq+HnIOPn4Jaxw0MDQz2pTl7DASoSxVXMt07y8St1CcH4v2D9fu2mV2fCB7c2rQtOkd5jKbSYlQMTVGNFS8UPndkgTGhvpy70epFjetmdaOTv6+PYcZsQFWk1OxQV58cc9sgn3c6TRKfX5f162eyPYHFpKoHqJprjZHCLKJy8QkQsEe0Wh5BFEq3EgO97VM8meUa3qPpmgsEj9LDkFaP4wVZangqkAZNZHalg5K6rXkVLfQpBrbFbXoxIr+iMZqoLDHfea/Tw7nzjgZWWQyGU888QTHjx8nNTWVp59+mt///vc8+eSTbNu2jS1btvCPf/yDq6++GoBTp06xfPly3nnnHXbu3MmGDRt4/vnnmThxopVDODg4mMsvv5wNGzbwySefsGbNGqZMmcLKlSsBWLFiBXPmzOH666/n/fffZ9OmTVx22WW0tbXxyCOPDOg1XH311Tz77LNs3ryZn376ibVr19LZ2cmCBQsAePDBB9HpdCxZsoRPPvmE3bt3s379etauXcunn346TO+kEydOQDiNk8yZktWZ4sLSXp4xgL/JaVyX13Vf9haR9eof2/sTzbwHOtvh2PuQt1MIZwseEYKyk/MGD7nrOWsG0x8mRfkR5K1ge0aVyJ6etVZ8pjSl7DJ1FF80UPdYXa7IMA2xFRzjgrwoMIlgG46XkmWMRN1RCEYjs0eJTF27peNm96CqR5nwdFO2ac62vvcrfzcgs59DaK4GqOwloqLkMOiarRs7qpOFaGw0si2jigpNO7fNibPaLCpADEZLGoZf0NMbjGw+XcHqqZE8d80ES0MXmygQOxTVtxId4MX0uAC0OgPppioJoFsTPAfHrm50dBooqdcSH9Q1qJ0Y6cepUtNEesg4EVdyjmhq13OksJ7lprHkmVYHDZ88/cUxtWdcEEDq+5DxzcjtpB2OFjbw1bFS3t5bYHf56TLhMgowudejz0fRuKGw6/fSYeih0VQmfvo4yMdWRdl1Gu/PrWNytD9KhRsLRgdTUt9GYd159l5dQIiGpV0i2xi1DznVZz+eok1n4FBBPQtMrkRfDzlPXp7EyVJRqj4U1h8twU8pZ+m4vs9/4SoPyvvINM4ob0Lt635Bi3oXGp6Kvq+/Jkb58espkSwZa+f/bDQKIS1imvX9UTPBzWPEIwlmxQfSqjMAEB3Ye8zZuusm8u5t00d0f0Yab3c33r99OkHe7tz+nyPkdjumvPtzAbUtHTx26VibSrRwP082XhfAgel7SQjuXVz3VLj2+V72i9wfxc/EZcKI0Fbfv4izITI1xp8TJSKXP7+21XE0BUBDEXiFCJf8j/9r/9qmO+XHQT2e+FAxjvwyVUzAyiMmQF2OmAR2YkV/veqOpjCd7QUvMK6//noSExN54YUXePTRR3nrrbf44YcfWLVqFTfccAMff/wx8+fPByA0NBS1Ws1f/vIXLr30Un7729+SlJTEt99+a/WYc+bMYe3atdx///3ccccdjB8/no0bN1qts3HjRpYtW8b999/P6tWrkSSJn376iYSEgWXszJkzh40bN3LjjTeyatUqUlNT+eqrrywxHEFBQRw8eJCxY8fywAMPsHz5ch599FE0Gg0TJkzo49GdOLkACQ0Vt7NMS0cnRfVa6zxjcOw09vQTziiz07ijWTgXRq/o+8nU4yBuARz+N/z4lGhYNf2uob8IJ78oXF1kLBkbws6savQGY1d5XeZ37MqqJlzlQeJAu6qbowhCbLtgxwZ5UVjbiiRJfJlaii5gDC76VtCUMCrYmyBvd/u5xmaxyLeHw9DDV3yHenMImynYDWET7U+smB21vV30524HFzfxveu+nb4VGgt55+cCogI8WTI2hNDQUEJNxyAfDzn+SvmICHqnyzRodQYbYT82SAyKCmrtu//adAaqmjqIDVQyw1S+a5VrXJUuBsUBfXdKL6nXYpSscxUnRKkorNPSqNWJz0Fz+Yi5eLOrmvnwYJHD5T/n1NJplJjkJ97/ExoHjjLz56LnfkoS7PgT7HxuOHa335wuE07i706Vo+u0dTCll2lI7uYyig5UUtLQhtGBw1KSpH416xpWzOc2V4WoYhgqmjLxfZc7iAtQRdo4jRu1OtLKNcwdJcq2zZmf5lgDJwNDkiTKGtqI6CYaJ6q9yalqcfjZGykOFdSh6zRaRGOAVZPCmRUfwAtbsqht6RjU4zZqdWzLqOKqSRG4u7n2uX6YnydVTe29vv6MiqbeBR4n5wSPziZean6EqFY75/76fBGr07OxtNwDomfZb2Q9jMyM77pW6ctp7O3uNmwNIM8lIT4efHjHDFxdXLjlncOUN7ZR36rjzT35LB+nZmqM3XApfHO+Iez069YTlSNJzjZh8PGL7mqsfBZ6N0yPDaBdb2RDaimShNU1gA2NRcKAdOnz4hp6/z8cr2s0QPkJiJhCYohwYZsz3YMSp4l+Oec4Zux8pL+i8VaZTFZtvgHm7jE7ut9vWubkPODpp5+2NJmYKpkAACAASURBVLvrjqurK9nZ2WzdKsrCb775ZlJTU2lra6OhoYFDhw7x4IMPAqKZ3Ycffkh+fj7t7e1UVlby6aefEh1tW358zz33UFxcTFtbGz/88ANRUdYlE8HBwXzwwQc0NDTQ1tbG7t27mT7depawsLCQdevWWd132223IUkS3t5iIP/II49w9OhRNBoNzc3NHDp0iFWrVlltEx4eznvvvUdVVRUdHR0UFhby0UcfkZzcv9JTJ04uKFauFLezTFZlE5LUrSlBxSlQeINfrOONAkZ1DazzdoJRD4n9EI0BZt4rLgQqT8MlTzkeSDtx0gtLk9Q0t3dypKAeghIgJBlj+kb25daycEyI/U7cHc3QXGn/AavShbhqzv3tRlyQkgatnl1ZNeTXtJKQbHLw1JxBJpMxKz6AA6ZcYyvMQpDKTumhd6jocN4bulbhFI5faH+5MkAI0r2Jxnk7hMOoey6ryYlbkH6Y1KIGfjMnDlcXGStXrrRUFoHIJxyJvNmDJoG9++ASRBmjiAKx/5xmATs6UEmIrwexgUoOd881rkoTYq9r31nWeTXCzRwf1DW5MMnUkfxUqaYr27r6TP9e1ACQJIlHvjzFUxvTbMpZzezIrEblKSfctRGtizdnah14O8zNSns2w2soBG0d1GRCy9kTGtPKNLjIoFGrZ2eW9VCi2eQySono+ixGBSjRdRqpbrYvlH17spz5z+90GHcxIpjPbaNXCNF4qJEQTeW2E0fdUUWJY0W35xHHE5iXKCoZYoO8iA5QOkXjQdKo1dOqM1hlwI5W+9CmN1DacHYnJfZk16Jwc7FMfIGoIH32qvG0dnTy182Zg4oh+fakmKi5dqrjBnjdCVd5oDdIDkXqdr2B3OqW3kvJnZwb8n4S5ftbHrc9PpkjdXqKxiCEwur0ET0nRPorLZVK52tD5ZEgJtCL92+fTnN7J7e8e5jnvs9Eq+vk0ZW9RGo2m2S4s+D2paNFGHwSl4m/fcPE9e5ZaoYH8IFporzPeAr/GIiZA8lXixxuO/FNgIjb0DVDxFQi/D1xd3OhrLGN0WofPCMninV6q8T7hdIf0fhPwN+Bf/W4ObrfiRMnTpxc5Jib4CWZT+KVp4TL2KWX00pAfNfAOnurEKSiZvbvCUevENuHTYLx1w5hz538kpmXGIS7mws/ZpqE13GrkJUcQqmrdZxn/PU98NYi0TCtJ9UZEJgIbrbNOcxZu+u2ZeEpd2XmrHld2wCzRwVS3dxBfs9YBU0puHnadwl7h/TtNK7NERMy9gZ/ZtTjHV8Ut1SLZicJl1jfHzIWkJF54gA+7m5c5yA/McpfOSKCyqH8ehJDvO2WPMcFeTl0GpuFwxiTe2lGXABHCuu7nHJV6f3PMzaJxnHdnMbjTU2oTpY0djnOR8ClsiOzmpMljchk8NquPJvlRqPErqxqFo4OxqWxmDZlGLUtOuGA7olFNO4hPnfP4i36eRj3vndOl2m4JElNkLc7Xx8rs1pmPteM7y4a+/ceg3Iwv45Oo8SPGf1w5Q8X9fnifU1YJt7X7vn9g6Ev0dgvSuSWt3f1GPk5txYvhSsTIrsaki4YHcSB/Dq7Dm4nvWM+jnWPpxhtygfNrjq7ERV7cmqYGReAp8LaDZwQ4sO9i0ax4XgZ67ZlDUg4rm/VWZqKdv9+9Ua4KQ+3zEEzvNzqFjqNEuPChtgI0snwY3YLlx2FrO+tl5WlgtxL5PL3xDwBPcJC4SVj1YwK9rL5jF/sJIereOuWaRTXa/kitZTVU6NICOklh9gsGp8NYbNgDxh04rxmJm6hEJI77VxbDCMhvh5EByjJr2lF5Sl3nMVt6BSVOX4mU+OyPwMS/PhH++uXm/qChE/B1UVGfLC4Vp8S4y+MTwofZ66xHfoUjSVJ+tNAbmdjp504ceLEiYkNG8TtLJNR0SQcbSoPUepTmWbdcdkeAfHCLaxrFeVOCUv75e4DRJOp27fCLRt7F6adOOkFpcKNeQlBbM+sEoPrcVciQ+Iy+VHmJtjpxN1QBGc2i4v09I22y6sybJrgmYkzxSaklzdx6fhQvFWBIp/U1ChtdryDXGNNqSg9t+d69lYLUbc3zK7o3gSn0PGigZ/eTkOjvJ/Ez+55xgAKLzr94nCpyeD66VF4u4vv7oYNG9jQ7RgUFaCkrKFtyM2ZuqM3GDlaWM8s03vWk9ggL4eZxmancYzJvTQ9NoBGrZ7cmhbxXrbW9CvPGCC/poUgb3d8PbpKY3095IwK9uJkaaP4v7n7DnszPKNR4qUfs4kNVLJ2UQI/ZlTZiFYnSxupa9VxSVII1OXS6Seaj5rd0VZ4OoinKDsmojoU3lCwd1hfgyM0Wj3F9VomR/uxalI4O85UWQnd5uiK7qKW2YlW7CCr90SJ2GZH5iAKIA+9BW/MG3ijn/p8cY6LNFXRDTWioqkUfB3kGUNX5nljV67x/rw6ZsYHInftOkcuSAxGqzNwtKi+5yNc1OzKqrafGT8AyhrF56u7WJGoFgJD9lnMNS5vbCO3usUSN9KTB5aO5oYZUfxrZx7/t+VMv4Rjo1Hi/s9PUNeq4/lf9z++L0wl3osKjf1meOZJHqfT+DwkfxckLhdVfz89K67dzZQdhfDJ4lq7J2GThMljhCMJHr9sLF+vnTuiz3G+MntUIP+8YTJTY/x5YJlt5ZoVTWfRaZyzTVwPRM/uui9+Iei14jMzwpjdxuPCfO1XAoIYV0oG8IsRf/tFw5z7IO1LKD5ku37ZMfGaghIBSDDF0k2J9hfjS3Xy2XlvLzCcI28nQ2LXrl18+eWX53o3nDj55dLUJG5nmYyK5q6TeH2+yDoN62PgETjKtPE30Frd/2gKM94hXQ45J04GydJxakrq28iuaoHgsRS7RHKd5zGLCGpF6ntCvFVFw6HXrUs625tAU2w3zxiEeGruS2Mp/Q1JsgiKcUFeqH3t5BprSkHlQPD1UUNLZe+l7y0m0dinl6xz9XhxkV1jJ0Yhd7toKKK2zSfPlcUwliJunRNrua+pqYmmbsegqABPdAYjVU32RYXBkFamoVVnsImmMBMf5EWDVm/XVVtUp8XXww0/pRB6Z8YJ4flQQbdmLv10GhfUtlrlGZuZGOnHiRKNaADS7X88XHyfVkFmRRP3Lx3NHfPiUCpceaOH23jnmWpcZLBwlB80FOIeKhxj+TV2HNjm46i2h5BYlioEgujZUHh2nMZmUTglQsXVkyPQGyQ2naqwLE83NdUK9ulymEf4eyKTYTc7W6vrJLuqGaXClSOF9Wja9APbobSvhMuou+u6P5hF4+AxwqlUcnhg23dHpxWCvqPjAHSJxqYS3LLGNgpqW/8/e2cdJld5vuH7zOysu7tLNht394QQgjuUFi20SAX6q1AKhVIv0FJKkba4lOIQQoS4e7LZzbq7u83M+f3xzdnx2dnNJlB67uuaa5Kdc86cmTn6fM/7vHaDX/PTwvDQSOwqso+s+yohy/K45QS39gxy56tHuP6F/dz35jEau8Z2LFKcxgkW8RSB3jpigrwprD9/ovGuIhELYJlnbIlGI/H4ZZP5xrxEnttRyuNuRFU8s62YnYVNPHzxRLddxgCxwSIarNaJ0zivrhNfT+3wIJ3KV4S2clHCn74KVjwoqmFOme7f9QPimBfvpDpJo4XkxefcaezlobUakP1fY01ONO9+ZwHRQSPE7w07jc+xG1aWxfVg6jLrarrkRSBpznnONcAsUxyP62gKUyPQYIv41IXfh4AY2Phjca1uiXKdYxogyRgWjU0VOtGThRFqtAPHX3NU0VhFRUVFxSmyLNNoI/7oDUbO1HWaT+J1J8TziE7jFPG8/2+AZO9kVFE5D6w0dQ7fkt9AbUc/HwzOInvwFPTYiCr6ATj6CmStg0XfE92WLd2DiuAa6Vhw9PLQEhfiQ1ywj9khG5ktHL5GA5IkMT81jAOlNrnGitPYEf5RolTQoiTdDsVp7B/lfBqlYaWtm8JogOKtkLbCztHfM6BnS1sEiZpGEvycX0wrAst45hrvLxXipiL42pISLoRcR27j8pYeksL8hl0qCaE+RAV6iVzrhtNiIie/oS2lzT2kORKNE4Jp7h4Q7rvIbHFDfraZtib0BiNPbC4kI9Kfi6fGEuLnyfVzEvnwRK3Vd/xFQSMzk0IIHqgD2UBA7AR0Wsmx09hRIzzDkDiWx80UN4XNBSPnZ48Dw07i2CByYgPJigrgvaPVVq9PthG1vDy0xAR6i8/fcBqenjm83efWdGIwynxrQTJ6ozwsuLnFYI9ZLC78zP359ANivw1NFTei8TPPzmncWSueR8o0hmHReE+xOH4tTLfeRwK8dcxIDPlK5xrLssy9bx7jqr/vHXniT++HT37gcpK3DlUyoDdy07wkNubWs/JPO3htf4VjUfr4m1C53+Fyqtv68PfyINDHekAxIypADDqeJ3YWNhMd6E1mlPNGrRqNxGOXTuLmBcm8uLuMX36c51Q43lvczJNbCrl0Wiw3zLHvU+OKIB8dPjqtS6dxdkwgGo0TV6DKl4Mi8KUshYmXi2uA7b8WEQMNueK6wlWkVeoyIc61OW/EqnIeGOoT139eQWIQwFYQHU+azkBHlTnPWMEnRIiu56EZ3rzUUDSSyQXsjHbTNhmSZP6blz+s+ZW4bn8iGz75oagMVLb3uBnDk14/J5E/Xj11+DqS6Eki87i9fPw/0H8xqmisoqKiouIQWZZ58INc5vx6K2ue3MGTmwspbOiivKWHAb2R7BiLPGONTnTXdUVoqmn6U5AwB/wcC0AqKueSyEBvpsYHsSW/gR2FTWw0zEGDEc58Yj3h6Q9EU7DZt8OU68RF+v5nza8rgqOTeAqAB9dl85srJptvoCOzQd8/3PV6floYzd2DFDWaBAj9oMgsdtQED8xCsKuIiq468A0HrQvHTmiqyE1WPoNC3geiOZqDAZ13j1ZzYjAeDbJLJ22CyWFWNYpcY1mWXcZZHChrIT3S38ptaomSMexINK5s7SUxzOx6kySJOSlhHCxrRW7IFW4UN45F7b2DtPYMWjXBU5iaoDTDaxfN8PpaR86edpMPjtdS2tTD/Wsy0Zq2o9sXp6CR4IVdIje3obOf3JpOlk8Q0RQA2ogMksP8KHHkNNb5iBgKy0Z4jXmg7xM3UymLxd/OQ65xbk0H8SE+hPh5IkkSl8+I42hlO+XNPfQO6ilp6iYn1t4JmRDqK5zGlfvFZy7bCZiypYFbFiQT4qsbXURF1QGRB+4ZAAUb3Z+vvVJ0XA8xDYzGzxb71uAYG/F1mnKdXcVT+EWA1ktUOyCEwHB/T7Ki7LMwl2SGc7q2kyYnjQO/bF7ZV8EnJ+s4WtlOR68LZ/hgDxx7TTyciCV6g5HX9lWwMD2Mxy6bxGffX8yk2CB+/kEuV/59L8WNFvtDSwl8cBf8cy1s+D+736u6rY/4EB+7suisKH+Km7rHNYLHGQajzO7iZhZnhDsvz+5rh7oTSJLEwxdP5NaFKby0t5wfvH18OC5CoaGzn/veOkZqhD+/vnyy82U6QZIkYoK9HTqNhwxG8uo6zQ2SVb46lO0QjXQjssSA8IpfiOuQY6+Kcn0YoQ+CaWDVdH5R+ZJQBhTTlovn0fZPyP8EdvzevWmLNovn9NX2r6UuFfEUA+d28Cw1wp9tDyxj3WQXlXPtlcL5HGhjtph8FdzxBUy8VJwznp0PLyw3DZCYReOIAC+umhlvPhYqpgq1GZ4VXynRWJKkOEmSuiVJkiVJcj6cKqYNkiTpX5IktUmS1CFJ0uuSJI2LAjGW7rMq/92ov7mKij1Pbi7kjQOVrJ8SQ7CvJ3/5oog1T+7k2ueEK2f4xqDupBDDHDQDs8InxJylmbHmHK65ioprVmVHcbyqnf8cqaY9IAs5JAXyPrKe6NALosld6jLhWphxk4hW6TAJOo15IhctyLlTa+2kGOuS4gjrRmnzU0Up+XD2ZlctIDt3GCqiseImdkRXvRBCXaHRin1WKW/sa4cP74b/3CrWMdM6OsZolPnn7jLhwACXeW9xwSI6wKnT2GgUjUtMNHb2c+Wze7ni2b0Oz8V6g5FDZa3McxJNAcLdrJHsRWO9wUhNW59dqfSc5BDqO/sZqsl1O5pCcewOu1EsyI4JQKeVRJbuODbDG9Qb+fPWQnJiA7kgx3zTFBPkw+XT43j7UBVNXQNsOyOE0RUWojFhaaRF+DsWjUEcjy2dxorDNm4mRE8Vwul5yDW2dRJfNi0OSYL3j9WQV9uJLGPnNAaRa1zZ2mvukG5y9h6vbic+xIfIQG+WZ0WyraDRfXGvfDdIWpGH2HjafVdda5l4VgZG42eL+Jfa4+7Nb4s7TmNJEhUJHdXIssyekhYWpDkWFpVj0O7ir57bOLemg8c/zR/OqT5R7aKKouQLMehmGBTNdB2wOU9UkHxrfjIAaRH+vHHHXJ64ZioVLb1c9/x+83Hi5NuABNO/AQefg2cXWG3z1W29Vk3wFDKiAhjUG4ebbI7E2Yj1J6rb6egbchpNwUAXvLQenlsCO/6ABDy0Ppt7lqfzyck61v1lF2uf2snzO0uobe/j3jeP0TNg4NkbZ+DnKJLJDeKCfah14DQ+UtFG94DecX+AsSDLotpncPyqVv4nMRqF0zhliblXQsZqSJgnBMTyXeLawq3Khirn06ice5RrP+UearQRFfufhW2PQ6ODaDJbijaJKixHMUkpS8GoFw3xzjGWlWIOaasQ/UIc3YPGzYTL/gb3nxHO48Ee0Hq6bsIeOVGI0GozPCu+UqIx8AfA3SGLfwPLgNuBm4HZgIMuNaNDp9PR1zf+Xb9Vvtr09fWh0/3v5iip/BcTHy8e48xLe8r4yxfFXDMrnqevn86/75zPgZ+t5LHLJpEVHUBObKBoHiDLwmk8Up6xgnJTnbl23NdZRcVdVk2MQpbFTe7SCVFIEy8RThxFRKs9LkSo2beZb7Lm3CHchIf/If7fkCfc9aNpzKh0JjddsCeEiviKYdFYEcBcxVOAldN4QG+wFlu76l3nGStETxLib+Em+Nt8Uaa96Ifw7e3gbe0U23qmkfKWXi5eMleIiRYO5fj4eOItjkGeHhpzdIAjvngMnhfd2HNrOrj0mT0cr2rnRFU72x2U0OfWdoo8YyfRFMp7JoT62onGte396I0ySWH2ovHN2o14tOSbXSUjoCzbUaaxl4eW7JhAs9MYnLqxj1a2sfC3XzjNBLXknSNVVLX28cCaLLubpjuXpjFoMPKvPWVsPdNIXLCPcJm2FInBOd9Q0iL9qGzpZcjgIE7EJ1QMFijUHAHfMAhJFg1KkxaMS67xxtx6mrsdi2ZKE7zJ8WZRODrIm4Vp4bx/rMZhEzyFxFBfGrsG0LfbiMaV7cPO7xXZkbT3DnGsss1ufoeU7xYOpMlXif8Xuuk2bhWO7+HzW9wsq3UaNZ2mz+TKaQzDonFRYzdNXQMsciLWTYoNItTPk52FX61c4+4BPfe8cZRQP09eu20ukgTHq1yIxmc2iIZcATGQ/6HDSf61t5z4EB9WZpvjeSRJ4ooZ8fz7znkYZZlvvHiA2rYeOPGmGBS89K9w8wZAgpfXiwiMwV5q2vusmuApZJrc3O5EVLxxoJLZj2/hyBgbEe4sbEKScPzbGvTwzi1igCptBWz7Fbx7G5K+nwcuyOLgg6t49NIcvHRafr3hDAt++wUHy1p5/PJJZDhwpLtLTJA3dQ6OX9vONKLTSizKGCfRuPYYfHQv5H808rQqzmnMg95msa0rSBKselj0QMj7UIhrroS5gBgxoNauisZfKkqecdxM8A4eXcM2o9EcJ7j/GdfT9neKKh7baAqFxHmi0uUc51y7RXuldTSFI3xDxWDwvUfh/gLX51adjzCMqM3wrBiVaCxJ0hIXj0WSJE2RJMlx7aAbywbWAn90Y9r5wBrgW7IsvyvL8vvAN4BFkiSdVUhmZGQkNTU19Pb2qu7T/wFkWaa3t5eamhoiIyO/7NVRURk9q1aJhyuMBjj5jpW7zxUfHq/hkY/zWD0xyqp8MTLAm5vmJfHGHfP49L7FeHpohCOqt0XkW7lDzBRxY+2mu09F5VwwITpgWAxYlhUhyteMeigw5ZgeehF0vjD1evNMIcki3/jwv0SuXGOey2gKh3j5i+U0CAeDJEnMSw1jf1mLyNscFo0TqOvosxf7/E3nKVP0QXFjNzMe3cxHJ2rN07grGkdNFiL5G1eDTzDcvkXcROrsm7D8Y3cpMUHeXDg5VnxmC9F41apVrLI5BsWH+lLV5kQ0LtkKDbnsOHSUq/++D4D3vruQqEAvXjTFLVhywNQo0FkTPIWUcD870biiVfw/KcxC6G0pIfOza3lE9wqFfrNg/r0ul6tQ2tSNh0Yajt+wZUp8EKeqOzD6hInoACdO430lLdS09/HmwUqX79c/ZODprcXMTAoR26gNaRH+XDgpmlf3VbCnuJnlEyLEsbqlBMLSh6fRG2UqWhz8Fj4h1o3wao5aCwfJi4QA7crVPgLbzjRy12tH+POWIoevWzbBs+SKGXFUtvby2v4Kwv29iAq0v7VQIkcGW03fY/0pmlrbqWnvY1q8EI2XZEbgoZHYesaNiIqBbiGcJy8STVvDMszHg5FoLRWDKX4mscwvTJznxiwa1wpRX2cvWFoRnAAd1ew2NblbkO54YEWjkViUHs6uoqZxazZX1drLZ6fqKGvuGdP9kizLPPj+KSpbe/nL9dNJDPMlLcLfuWhs0AsRP3MtZF8sSqdtSqPzajs5WNbKN+cnDUe5WJIeGcArt86hs3+I3z3/khAblGN88kL4zl6Y91049CJ9e/9OV7+e+BD7/V1pnFTU4LoZXm5NB498JI6VG06NbT/aVdTMlPhgQvxsXHSyDJ/9HxRvhov+BN94D1Y9Arnvwb8uhM5aQv08+eb8ZD68eyFb71/KvSvS+dm6CVwx4+yMBjFBPjR1DzCotz4/bStoZE5KqOOmsmNBcbUqTn6VsaEIe6lLrf+etMAcReUqmgLEQGJgnOo0/rIZrkKJEQ2NRxOh0Foisnr9IuHE265jzsp2iKgmZ6KxzgcS556XZngj0l5h3QTPFRqNuaeDK6InqU5jG0Z7VN8OWF4ZSDb/B+iXJOlF4IeyLBvcWagkSVrgaeBRwMUQ8zAXAg2yLO9U/iDL8kFJkspMr21x530dERgo3DW1tbUMDY2y47LKfyU6nY6oqKjh315F5WtH8VZ473YhWGVd6HLSnYVNPPDOCeakhPL09dPx0I4wtuhuEzyFNY+L8tJR5uipqIwnkiSxdlI0rx+oEKW0nlGi/DLvQ7GPnPoPTLlGiKmWzLsLCj6Ffc+IPFg3G6hZETfTqvHS/LQw3j1azZn6LqJqSggDLnm1jJMNBVw6LZY/XzfdPK93kMii7a4fFl16Bg18dqqeS6fFCWGlp9E90Th1qXCWzroVlvwIPByP+efWdLC/tJWfXDgBnVYjBnxOvStECyf7cUKI73BjLiuG+pAbTiMB73/wDpmx63nhpplEBnpz84IUfrfxDKdrO6wybPeXtpAW4UdkgJOO4q9dCWHpJId9U+QUy/LwQFe5SSxNCvMVg2cH/g5bH0Py8OSf4f/Hq30L2OZmtnppUw+Job7iO3DA1PhgXttfSWlzN+mRE506jUtNMRdvH6rivpUZTpf3xoFK6jv7eeLaqU5LM7+7LH1YjFo5weSsbCmGVJF3mBYhxK2Spm5RGWKJT7AQmEGUuDfmi8ETheRF4rl8t9l56wr9IPx1Jsy5ExbcQ/+QgUc+FoLZZ7l1PHzxRLvziWUTPEsuyInGR5dLSVMPy7IiHH5+RcyTOmqE46q/nYrcPQBMM3VBD/TWMScllK35Dfx47QiZ+1UHxMBRsinPOetCUcrb32nnvLejtVQ0erVcz/jZolGQi/3EKZ21jkuCbQlKgK56DhTXkRTm61DgVFiSGcFHJ2rJq+t06Nx2a7X6h9hwso73jtVwsMw84BDiq2NaQjDTE0NYnBHOdFdNi0y8c7iaD4/Xcv/qTOakiJv4qfHBbC9otNqHh6naL465WeuEOH/weSGY5lw+PMnLe8vx0Wm5dpZzAWFSXBD/unk2pf98jj6NN4NJFzD8bXj6wtrfQP4nDFYdB7KIcxBP4eflQXyID4WNzp3GHX1DfPf1o4T5exIX7MOW/AZ+flH2qDKEO/qGOF7Vzt3L0uxf3PdXUfWy4D6YdYv426IfQHgWvHcHPL8crn9jWAxMi/Dn/jVZbr+3K2KDvZFlkY+sDKJVt/VS2NDNNbOc5PGPBWUQtU0Vjc+K0h0Qmua4gmnlw1B9GNJXjryc4ATVafxl01UPOj/wChTC5tFXxLWNRjvyvEpc0rrfwzs3w6F/wPKfOp62YKN4D1cxDilLReVYdxP4O4nPOdfoB8X5MngEp/FoiZ4sIuvcOf//jzBa0XgV8A9gA/AR0AREAJcC64D7gWzgZ4iYiQfdXO5dgBfwDHCjG9NPAByFseSbXjsrAgMDVQFRRUXlv4O33xbP117rfJqaw+K5qcClaFzY0MVdrx0hPTKAF781C2+dGxch9ScByX3nsKeveKiofMncvyaT6+ckml1R2ZeIHOMDz4mGYLNvt58pebGIH9hpKooardMYIH4O5L4rboiD4pmfJkTLG17cz48Gj7BWG4CXjx8XTQnjw+O1rJgQKQRhEOKTfyR0N/KfI9UcKGslJsibPcXNDBmM6HqaRISGA9G4uLGbIYMRb50Wb50GH78UfH9YLCoGXPDXL4rx9/Lg+tkmISYqBw7/U6x/cAJvm45B11ocgxJDfXmvq5/+IYP1caTuJJJRVDxcGV7N7G/PG379hjmJPP1FEf/YVcYT14rKBb3ByKHyNi6Z5qSU0KAXDdDqT5G64C56Bw00dQ0QGSgE5sqWHjw9NEQFeMOb14iMvsy1sP4p9Md7KdtwhsaufitB2miUzY0LLSht7nYYTaGgCHF5dV1CND76iigHtYkvKWnqmlfMDwAAIABJREFUxs9TS2PXAFvzG1g7yT5/ekBv4LmdJcxJCWVBmvNS70lxQSzOCOdweZvYjga6RflquHAaK+urCNVW+IaanbC1xwHZ2m0WM1XcNJbvck80Lt0unJuH/wHz7+b5naVUtPRy07wkXt1fwf7SVruydcsmeJb4eXlw4aRo3jtW4zDPGMQ2JmHEs7cepl4Lx1+jp2Q/Ws18KxF6xYRIfvVpPlWtvU5d4oAQxzUe5pvkrAth71+gZCv9mZfQO2gg1NbtqdBaah9zEj9bZOZ2VLnvglLoqHFTNI4HZCrLilk4bbrLSZdlReCp1fDO4apRi8ZNXQM8+kkem07XM6A3khrhxwNrMpmfFk5RQxfHKts5VtXG9sImnthcyFPXTuOy6c7Xv7Chi198lMvC9DC+uzx9+O/TEoN592g11W199r/VmQ0iizJ9pagC8YsQN/Um0bitZ5APjtdwxYx4gnxdx83NivNhmtdBPh6Yw8uvn+a12+dau2MjJyA1FgA4zDQGEVFRWO/YaSzLMj965wS17X28fed88us6+fkHuRQ3druMhejsH6KsqYfylh7Kmns4XtWOwSiz2DbPOO9D2PSQGORZ9Uvr1yasg9s2wRvXioz6751w+V2MhVhTlU5tu/l3UnLVl08Yx6pNpX+AqXGsyhgwDEHFHjEI7oiYKfDjcvcGtoLioWLfuK6eyijpqhXXd5IknMZDvcKJH54+8ry1x4TpYMLF4jro0Auw6Pv2FS1Vh0R0z/RvuG6onLpMiMblO2HSlWfzqcZORxUgj/4cOxKz7xBVJ07MFP+LjDbT+B7gZVmW75Zl+XNZlo+anr8LvATcLMvyr4Df4574i6l53WMIZ7K71t4QHDuS20yvqaioqPxv0NcnHq5QOiM3Oy4RVnhiUyFajcTLt8wm0NvNjO+6k6IU2stl71IVla8cvp4e1u7LiZeIBks7fi+EI0c53ZIEc+8UojKY82tHQ8Ic8Vx1EBBNhVZlR5EVFcDS6AECo1J4564F/OW66cxKCuHnH+RSbRn14B/FUEc9v96Qz6ykEB5aP5GuAb0o6+42lUDbNMI7WtnGqid2cOGfd7H8j9uZ/5svmPboZqY/uonD5c6zNnNrOth4up5bF6WYhZgopRmecJH29fXZ9YJICPVBlqHGJvdSNg1glevSWORZZCUoB/nquGZWAh+dqKXe1GTpdG0n3QN65qU6cQO3lorfrLuBHJ0o2yy1iKioaOklMdQXTVupEIwXPwDXvwWBMcwxZST/5N1T3PHKYS5+ejezfrWFtAc38PLecqu3MRhlylt6SY1wfpxLjfBDq5EobugSzfCGeqDDOoJClmVKm7q5ZFocMUHevH7AcUTFu0dqaOgc4J7lI98I/umaqbyliO+tJuewKZ4iwFtHZICX42Z4SiM8WTY3wYs1dxRHoxXly+42wzv9vnhuLaUhfy/PbCvmoikxPHhRNv5eHnxystZullM1HUyJdyxgXjVLuOKmJwY7fD3c35M4XQ9aeUgI3CHJ+DQeJSsqAB9P83alZNt+MVJERfkuIZor57L4OeI7KtjIrzfks/qJHbT1DNrPZ9CL8lglz1ghfrZ4HktERWeN66ZUCqbmVEFDDay2yPB1RLi/FxdPjeWdI9V09I2ukvKXH5/m89P1XDc7QUQd/HAp96zIYGZSCNfNSeR3V01h0w+WcvyhNcxLDeWBd06wvcDx951b08ENLxzA30vHk9dOs4qRmG7Koj5mG1Ehy6LCI2UpeAWIbXPCetEMb0gcY946VMWA3sjNC5JH/kAFn+Ex1EX8sls5VdPBk5sLrV+PyMK3qxQNRqfu7Ywof0qbu60jhDrr4ImJvLtxC5vyGvjJhROYmRTCymwhpG7Ob3C6StvONDLj0c1c+swevvfWcf68tYjixm7WT4kZ/l4AUd313rchfhZc/pzjTP2oHJh+kxBb9WNvwueMmCAhMtVZNMPbVtBEUpgvqQ4ahY4ZJQpBFY3HTs1RGOwW+44z3HW/ByWIY5ObUXcq54DOOnMerxuNia2oOy4GN7UeMP8eES148m3raQa6RGVqYBysftT18mKmgVeQiAr6smg3XUONlGk8Wrz8VcHYhtGKxmsAZ10x9gDLTf/eCYzQunuYx4H9sixvGOW6jApJkr4tSdJhSZIONzV99boHq6ioqJwTZBlqFdG40OlkRQ1dbDxdz80Lkoddem4xmiZ4KipfZeLngH80yAbhMnDG5GuEmOQXac4wHQ3Rk8HDx0pMevFbs3j7zvnESy3oQoVjQquRePLaacgy3P/vExiULFL/KFrqK+nq1/P45ZNZmB6OViOxo6DJnD9r4zT+6HgtXh4anrlhBk9eO5XfXDGZX6yfSLCvJw++n+u4URrw1JYiArw9uG1RivmPilDe4DzvTXGf2TbDayvaT40cRnfaeqSmfOtMXeC2RSkYZZmXTKLtgTKRZzwvxUkGnUVucGqXED4tc40rW3tJDvMVET0A028cvkHOiQ0kKcyXw+WtVLb0EurnyarsSKYnBPPrDfmUWgitte19DOqNLgURLw8tSWG+ojmWk2Z4LT2DdPbryYj057rZiewqaqbSJm9YbzDy9x0lTIkXLuKRiAzwHm78RkuxeA4zi81pEf5ORONQIbgP9QrROCRZZPFakrxICNGd9oKv9UoPwJlPhZCn9eLUxhfQaiR+flE23jotqydG8VluvVUGqtIEz5nrdUFaOJ99bzHLsxw7FyVJYlqg6bcOikOOn01SX575uzCREu5Harif61zjgW4hriiRHCBurDPWQNEmDpc20dIzyB83FdjP21ElYi1sReOoHNN+ftj5+zpiqE/EMIzUBA+Gy80n+3ewxNaN6oDbFqXQO2jgrRHytC05UNrCJyfr+M7SNH556SSmJgQ7jVgI8tXx/DdnkRkVwHdeO8pRmwaE+0pauO75/XhqJd769jy7yJms6AC8PDQcr7QRjRvzhHA44SKKGrrYVtDIQOZ6MTBT8gV6g5FX95UzPzWMrGg3GrydfBsCYpm97BLW5kTz3tFq63zeiAl4GAfJ1DUT4sS1nBUVwJBBpqLFwsXflA+dNRzcs4ULcqKGj5sxQT5MjgtiS55z0fjZ7SVEB3nz3E0z2fyDJeQ/upbdP17BX2+YYR3rcvRV0ZDsujddZ14Hm2IilIiHcSQ2WPxutR1CsO8fMrC3pJnlWZGjit8YkU6T07i7AQYdVEuojEzpdkCClCVnv6zgBHF9pDRjUzn/dNWZTQER2eJY4I5orDTBizVVpCQvErGC+54Rryl89hMhxF7xnH08my1aD1GFlPvuWfU+OCvaK8TzeDuNVewYrWjcClzi5LVLTK8D+AIdIy1MkqQc4FbgUUmSgiVJCjbNCxAkSZKzs2Eb4OgqM8T0mh2yLD8vy/IsWZZnRUR8SbkrKioqKueb9goxmqzzE6Kxk4Y1f9tego9Oyy0LUxy+7pDeVnHD7G6esYrKVxmNRpS5ByUI17EzPH1h3R9h6f+N7X20OnHhbnIaW2HjMEwI9eWRS3I4UNbKC6YmcfXGIDz7m7hjSSpZ0QEE+eiYnhDMzqIm882cv1k0NhplPsutY1lWBBdNieHy6fFcPyeRWxel8MglORQ0dPHSnnK7VTlZ3c6W/AbuWJxKkI+FcOIdKPLjLJrh2ZJgcudVtdlUQdQc4ZScRsoMU35i1QHr+UJ9WTspmjcOVDC04adkHPoFqRF+zgeyGvNB0kBgPMH1e/H00AyLxrIsm5zGfqL5XmiqlbCn02rY/sAyTj5yAZ//YAkv3zqH3145hb9/YybeOi0PvGMW6hXRNWUEF11GpD9FjV0QYcoOtfmOSkwZqGmR/lw7OwGtRuLNQ9YC3scna6ls7eXu5en2AozRKJxAzlAyii0+Z1qkHyWN3fbNynxMhXm9raYmeLPsl6fk+5Y784soH2wbDHTAjG/RGLOMqR1b+f7ylGFH4sVTY+joG2J3sdm04awJniXZMYEuRaiJfp3iH4FxtARPJYpW5ofbV96szI5kf0kL3QNOHHJV+4UYYikag4io6GvFv/kYAd4evHGwktwam9ubVlPzRlvRWNnPR+s0Hm50NLLTuKhfROmtjtM7bPxmy8TYQOanhvHy3nL0TgaKLDEYZR75OI/YIG/uWuogV9cBgd46Xr51DpGBXtz60iGKG8X2ujG3jm/98yAxQd68+90F9hnbiH1yclwQJ6ptROMzwlckZ67lzteOcMu/DjHj1T66NQGU7Hid1w9UUtvRz80Lk0dewe4m4Yybcg1otFw9K5623iG2WrqAI7IBmOPf6HT7U8TptU/tYtavNrPyT9t56kNRup/m083vr7LOIl+VHcWxqnaau+2dvwX1XRwsb+WmeUlckBNNRlSA83iw2mNiuxopQ1TJrz0Hjct8PT0I8tFR1y6cxvtKW+gfMo5vNAUIwdvLFBfZVjG+y/5foWyHMHa40/xrJIKUgQg11/hLQZatGx3rvCE8w71meC3FwnGuNC2XJFhwr7gvLDa1Ajv9Phx/DRbfL6qM3GHBvWLQdP/fRv95xoO2ChErFeDGIKvKWTFa0fj3wD2SJH0kSdIdkiRdZnr+BLgb+J1puuWAO1dJGYAO2IcQe9sQucYA1YjmeI44g+PsYmdZxyoqKir/myjRFNkXQ3+7EJBtqGzp5aMTtdw4N9F5ZqMj6k+KZ9VprPJ1YeXDcM+hkcvSJl8Fc1y4kUciYbZwfQyZy3vp74CBTrtmNVfOiGPd5Gj+tKmAY5VtfFZuJFTq5r6l5nK8pZkRnKrpoLelGjDlHps4UtlGQ+cAF02xv6hePTGKlRMieXJLIXUd1mLbU1uKCPLRcYsjISZqkkvRODLAC08PDdUWTmNjdzOhAzV0h03FL2WuyCet2Gs37+2LUxnq70Y6/E9mdn7B3GQXN7uNeUKsy1iFVLGH1FCvYdG4qWuAviEDKSEeIvdY6RJvgSNBKDLQm0cumcjRynb+uVs0YFIygV3FU4DIOS1v6WXAww+CEu2cxkp0Rmq4H9FB3qyYEMk7h6uGXY5Go8zftpWQGeXvOG5g80Pw52mi+YsjmovEjb2FAzEtwp/Ofj3N3TbzKKJx0xnorB7OM/7h28d56APTTWj0ZNF8sXyEiIrT74N3EP2Ji3mqcRoRUie3xJrF8EXpEQT56PjkhNmh5qwJ3mhI9RTiohwYxykpA4CZ2hK76VZMiGLQYGR3kYPmjCAiODQ6+6Y/aSsxanSskI7wi/UTCfPz5KEPczEaLQR4Z6IxiAiBuhOjiwhQ3JVuZBq/eriBJjmIKQEuBhJsuG1RCrUd/XyWO7Iz7M2DleTXdfKzi7KtIj9GIiLAi1dvnYtOq+GmfxzkmW3FfPf1o0yKC+Sdu+YPDyY4YlpCMLk1HdbVDwWfQtws8rp9KW3q4eYFyVwzN5WdmjlE1G7j8Y+OD8f8jEjuu2KAYOp1ACzOiCA60Jt3jlg4ciMyAZjs5fw7mhgTyG+vmMydS1NZkxNNVnQAoZLYpq/K1FkPtAGrJkYiy45jUt44UIGnh4arR2oipx+E+lMQ5zq/GjALfOeocVlssM/wOWPbmUZ8dFrmOqsIGQv6AeEwTpwv/q82wxs9gz1icNpVNMVoUNycajO8L4feVjAMWFehRE1yz2lce0w8x1ocO3IuF2LrvqfFAM3H3xPXAUt/7P46habAxMvg8L/ENez5pr1SDLBqR9umTWW0jEo0lmX5r8CVQDTwN+A903MkcKUsy4rg+xvgejcWuRshMFs+FOF5HfAHJ/N9BkRLkjRsCZAkaRaQanpNRUVF5X+DlBTxcEbtUdB6Qc5l4v8OIiqe3VGCVpK4Y4mDm15X1JlE4+ipo5tPReWrikbruuR3vEiYC8YhkTGnoJQR24jGkiTx+GWTCfH15Lrn91PQI9yuPoPmAaAlmRHIMjTWVooGURbNSz49WYeXh4aVTlxgj1ySg8Eo89gn5qiHY5VtfHGmkW8vSSXAUb55VI7JudJDSkoKKTbHII1GIj7Eh0oL0bj4+E4AoicuFA6Z2OlQad9UZ0ZiCLdHFeFh7CdQ6mVllINoBYXGPJEfnLIUBjpZ6l89LBpXmN57siFPRDA4EI2dcdm0OFZlR/HHTQWUNHVT1txDgLcH4f6uB9XSI/1F/nFzr2iSaCMalzR24+WhIc7USOqGuYk0dw+y2VS2vimvnqLGbu5enm7fjK+lBA78HXqbzZFDtrQUQ5i1IzTNJHTbRVQozjPFZRQ3k/beQT48UWtqXNdiyjVe6NpprB+Agg0w4WKe3VXFfzonovcMRHf6P8OTeHpoWJsTzaa8BvqHDIDItk0ItW+CNxrita30yzqajQHs7oymX9YR02UfmzIrOYQAbw++OOMkHqB8t7hZ9rRxknsHUh88k1WaoyzKCOcnF2ZzrLKdd49aCIytZSKGwkHzSRLmiAiQeudRLnYozb8C48ir7XSaP9w9oOe9ozX0+sTi3TNCfIgFKyZEkhLux4u7y+zd55ar0TvEnzYVMDcllIsmu5s4aCYxzJeXb5lDd7+eP3xewJLMCF67fS7Bvq5/76kJwQzojZypMwnhHTVC8Jiwjo9P1OGhkbhvZQYPX5zDumvuIlDq5Zl5nfz5umluua058abIwI4UbmKtRuKKGXFsL2ikodM0iOcVQB1hZEjOox0kSeK6OYn86IIJ/Pryyfztxpl8c4rY18Jk+6LXiTGBxAZ520VU9Jh+x4smx4w8aN+UL0SjWDdE48A4QDpnrtDYIG9q2vuRZZkvzjSyMD3MvebJ7qI47hX3v5prPHoq94nrjNRxEo2H3evux9v812IYclqZ6ZKeFnh+md25f1xQKskszzVROWIf73NYaG+m7rg4T4Vnmv+m1YkeHWU74fWrRVb1FS+4bn7niIXfE4aHw/8a3XzjQXvF+OcZqzhktE5jZFl+X5blOYA3IrfYW5blObIsv28xTbMsy51uLKtZluXtlg/MTuFdsiwXAEiSVCxJ0j8s5tsHbAJekSTpCkmSLgNeB3bLsrxltJ9JRUVF5b+WpUvFwxk1x4RbTMnYtGmGV9/Rz7tHqrl6VjxRo8kyBuE0Doyzz8FUUVFxTbx1MzzAQjS2d5uF+Hnyx6unMqA3kpRkEmi7zeLD5LggQv086WmptrqhMBplNpwS0RR+Xo6dGAmhvty7Ip0Np+rZUSjiA57cUkSIr45vOWsqlTgPZCOU72Hp0qUsdXAMSgjxpcqigV/N6d0YZIlp80ztLxLnQ+1xGOy1m/dG/yMMykKAmOXl5AZ1qE+4PCMnDuc1LtDkUtnSi8EooikAktv3CVezbfSACyRJ4teXT8Jbp+VH75ygqLGL1HC/EfM6M6NEyXqh0gyvuVDcfJoobe4hJdxvWBBekhFBXLAPrx+oQJZl/rqtmKQwX8ci3dZHxedActycTpaFsByWYfXnNFMMgOKWHkZxGhdtFrmIMVPYUdiEwSjj7+XBwx+eFm7P5EXie1bETFtKvoCBThoSL+TZHSVcMDUJj0mXwZlPrH7bi6fG0j2gH26Qdqqmw2U0hTtEGJuolcOobOvjcE0P5Z4ZaGrsM4R1Wg1LMyP44kyTtUsYRNxH7TFIWezwPQ54ziVdU0u0vpYrpscxIzGY3352xizmtpYKl7GjbUOJ/HAUReMMk9P4kzKZ9U/v4qZ/HGBAb7Cb7P1jNXQP6AmMThmV80+jkbhlYTInqtrtMocteXJLIR19QzxySc6Yc2onxgby6u1z+dEFWbzwzVn4eo7sBptmyqQ+XmVatwJTNEXWRXxyspaF6eFmcTV1KXgFslo6wCxXFQkKjWeEeDLV2td09awEjDK8d1R8990DegoM8cQNjVIc6zE52bvtByckSWLVxCh2FTUPD5wAfHSilq4BPd+Y50YmpyO3oDM8PEX26TlyhcYEe1PX0UdJUzfVbX3jH02hOO6jJ4uIClU0Hj2lO8Q5Q3Frny06HzEo/XV3Gg/1wRMT4cBzo5+3fJfYT89Fc7hh0djCaRw9WTy7qPwCxDrFTLF35M78logvbMyDdb+3G3R2i9hpkLoM9j97ThpvuqS9Us0zPk+MWjRWkGXZIMtygyzL9lcy448HYDt8eS2wA/gn8ApwBLj8PKyLioqKyn8HRoO4UIibIYQoD287p/HzO0sxyLLbeYVW1J1U84xVVMaCf4RoPFbtSDR2XJa+JDOCT+9bxK0XmErou81lzhqNxOKMcLTd9cgWecaHK9po7HIcTWHJHUtSSQ334+EPc9lb3MzOwibuXJqGvxOhmaSFoPOFok1Ol5kQ6kNVqyhfNhhlPOuPUu+VjH+AqblK0gLhgqo5Yj3jQDdRDTvZqFvJIDqC25yUXjYXCuE6Mls0JIyazIS+YwwajNS291HZ0oNGgsDqHeKm2dZFOgKRgd788pIcjla2s7+0dcRoChCZxxpJNBYlcqL4fC3muISSpm7h/DU5mLQaievnJLC3pIWX95aTW9PJd5amWTe+Aqg6BHkfwIL7RDmqo7iInmaRK2zRBA8gJtAbb53G3mnsYxLZWkuEW0nnw9b8RsL8PPnDVVMoaOji1X0VZrHdmdv49PvI3sE8eDwUnUbiwXXZolnkYPew4AcwLzWUcH9PPj5ZN2ITPHcJHGykTg6jpKmb/NpOOsKmiYEIB/EdqydG0dw9wLEqm7zcSid5xibe7xE35VLhRjQaiUcvnURb7yBPbjadS1tLRYmuwxWMEedeB456p3TWMugZzPfeKyQtwp+T1R38+lNr15osy7y2r4JJcYEER6eIY4c7rjjTNFfOiCfQ24N/7HZc8l9Q38Wr+yu4YW4i2TGB7q+7A6YlBHP38nR0ttu0E+JDfAj39zT/TgUbIDSN432RVLf1cfFUi2OZh5fInT7zqdXgjFNOviUGSCZdZfXnlHA/ZieH8M6RKmRZpqatjyI5jtDeMnEd5S5K/JeTplCrsqPoMzWNA9PvuL+CCdEBzEgMGXn5NUfBOxhC3Ow9EZxwzpzGMUE+tPcO8elJ8VmXOWlYOWaUQaqgBOEkbFXjKUZN6XYxQD3Kc59Lgs7dNvWVoWwX9DTCqX+Pfl6leuxcOo0DLQaVoyaJZ1eisdEg7teUPGNLfELggl/Boh/CtBvHvm4Lvw/d9XDirbEvY7QM9YkBuuDk8/ee/8OMSTSWJClTkqQVkiSts32c7QrJsvySLMuSLMvdFn9LlmX5Zpvp2mVZvkWW5WBZlgNlWb5BlmUnYWUqKioqX1Nee008HNFcKLqLx84QTb7C0kX5somW7gHeOFjBpdNiSQj1dbwMZwz2QkuRmmesojJW4ucIB6Ii9nRUi4Ye/s5zOXNig/AKNokmNsLEkowIQuU22rRmx92GU66jKRS8PLQ8eukkylt6uf2Vw4T5efLN+S5K/nTewt1bvJnXXn2V1xwcgxJDfenoG6Kjb4hDZS1kG4swxFg45BLmAJIQ7Swp+hxJ38+M9d/GEJkjREBHKDdlShVF6lIi2o7jzQClzT2Ut/QyNagHTVP+qKIpLLl0WiyrJ4rfI3WEJngA3jotyWF+FDV2D5e/0yhiPwb0Bqpae7l28D3404Rht9Y1sxLw0Ej88pM8YoK8uWKGdTwJsiyyjP0iRdOZ5EViu7F19CjHdhvRWKORSA33dyAaW3RGj5+F3mBke0EjyydEsnZSNEsyI3hycyGNfhlCqDr+ur2ANtQPZzZQG7OKLYVt/GB1JtFB3mJQISAWTr0zPKmHVsO6yTFszW9gf5kQ187WaezVW0cdYWw63cCgwYhn0hxRvt9gHwexLCsSnVZi02kbQa/clGesuP8t6Bs0sLvZl2bftOFmbJPigrhxbhKv7Csnv6ZNZK06yjNWyLwACj8XZctu0FhTSnF/ENMTgvng7oXcviiFl/dV8PEJcwTFofI2Chq6uGleElJwIuj7RN6lK2qOwu+SoOogfl4eXD83kY259VS1Wjv9ZVnm0U9O4+/lwf2rs9xa51Gz4/fw7CKHQrckSUxLCOZEVbvIyCzbJaIpTtbjqdWwJsfm+DjxUlGa7WxQY6gP8j6C/9wqnHDpqxw2kbt6ZgKlTT0crWyjuq2XQjkerXFAlD+7i6XT2MFnm5sair+XB5vzxIDfieoOTtd2cuO8JPfc3EoTPHed30EJwol3DogNFpVpbx2qZEJ0wHDkzrihCJOBsUIkV53Go6OnRcTijFc0hUJwwtffaVz0uXiuOQJdTiKNnKFUAzTmuZ5uLHTaNzomIBp8w1xHIDUXme4FnVQozLoVVj3s/nHFEanLROzP3r+MbqDtbFC2Q9VpfF4YlWgsSdJESZJOAvnAFuATm8fH476GKioqKirO0evFwxFKEzxTgyPCM6ycxv/cU8aA3sh3l6U7mHkEGk4Ll5/qNFZRGRsJc4S4oNzUd1SLG2TNCLmQfibBo9u6odLi9GDC6aCkX0QkKNEUy7MinUZTWLIoI5yLp8bSO2jgO8vSRi4lz1gNbeXo22vROzgGJYSIgaiq1l72Hj5CqNRNdPZC8wQ+IULwrbRphnf6ffCPJn7KCnwSZ4pGYkYjdjTmidJbRbBLXYbGOMgsTSFlTd1UtPZyoY/pxm2MorEkSTx++STmpYayNMteaHJEeqS/iKcIyxCuRpO4XdnSy12aD1lS8bRw5OS+CwhH86rsKGQZvr0kFU8Pm0vzM58Kp+ryn4KXvxCN9X32Du1h0di+aiQt0oForPMRGYcAcTM5UtFGZ7+elRMikSSJRy6eSL/ewO82FsHKh6BsB2z8qfUySrbCYBd/rJ5IZpS/Oc5Eo4HJV4q8ZAuxdP2UWPqHjPxlq4hJOpsmeBj0aLrr6dBFsqNQ7Auxk0VMCVX2vbiDfHTMTwtn4+l66yzfsl0QPxs87QdO8+o6MMrQkbIOKvYMu8bvX5NJkI+OX7y2GQyD9Ae6GGCZdZsQso+9OuJH2prfQHNtKb3ekfzrltn4eXnw4wsnMDMphJ+ddDW3AAAgAElEQVS8e3L4N3x1fwWB3h5cMjXOvZxRwxB8dJ8QYU2DMN+an4wkSby8txyA4sYu/rK1iAv/vIs9xS38cHXmWeVNO8VoFNmXDafM1RU2TEsIpqSph97TG8E4hDHzIj49VcvSrAgCbTPW01aI8uqP7oM3roUP7obND8OeP8M7t8Dv0+DfNwnX5ZRr4aI/OXzPdVNi8PXU8s7hamra+yg2mio+mgrc/2w9It6HoV4Re2KDl4eWpZkRbM1vwGgULmM/Ty2XTx+56SFD/eKYFzfD/fUJThAxD+dAxIk1NTOs6+gff5cxiPX2DRP7ZUiyEO8dnQdUHFO8BZAhfeX4Ljcowf3Khv9GZBkKN5kHXxUB2d15lUHupoLx3++6asE3XETPKEjSyM3wFPdzrAOn8XghScJt3FIsrlnOB8qAnpppfF4YrdP4OcALuALIAlJsHqPsoqSioqKics6oOSKy4JSLn7AM4dbQD9DRO8Qreyu4cFI06ZEjl13boVyEqE5jFZWxkWByNlabBK7OGgiMdz69goeniBbotnZMRkqdaCSZ423CAaZEU6yb4n4Tq19eksPPL8rmG/PcuAhPXy2endysKNULFS29NBcIYdgzycbNmThPuGYNJtF5oEtkAU68VIjnsdNFg5U2B6XJjfkQnmVu2pI4H1njwTJdHuUtvVS29DDPeFw4XhXX7xiIDPDmrW/PZ0p88MgTI3KNy1t6GZQ8hYBrchzJO//I/+nepj3tMvG5Tg+3AuHelelcOi2W62bbOGYMQ7DlYdG8Zvo3xd+SFgCSvbOypUg4Zh24btIi/Khu67PKUgXMzfDiZvLFmUZ0WolFGeEApEb4c/viVN49Ws2RyCtg3t1w8DnY/3fz/Kffp88jkI+70nn00knWEQSTrwGjHvLMn3NWUgjRgd6cru086yZ4dNWBbGTIL4Yhg0xkgBeRcakiZ7/aXjQGWJsTTUVLLwUNJkGvv1Ocy5xEU5yqFt3gAxbcIbbHgy8AEOzrydPXzyBNK8Tq72xo5yfvnuRkdTuDeiMlTd1szW/gxV2l/HyfgfrgmciH/+lSRNh2ppHvvHaUOE0bkyfmDDeg1Gk1/PWG6Xh6aPjua0epbOllY24dV89KwMdTayEaO2/axr5nzO7rTjFdbLAP6ybH8ObBSlY/sYNVT+zkyS2FBHh78NilOe4dA8ZC5T4hfgA4yJ8GmJYgohq6T30CvuEc0qfR0DlgHU2hoPOBNY+Kfa2zRmRs73sGNv9CNHiacg1880O4vxAu+YsQUh3g7+XBuskxfHKyjsKGLiq1pulGU2be2yxc+eAw1xhg1cRIGrsG2F3czMcnarl0epzzGCBLGnLF/uROnrFCUIKYx8m6nA2xFs7iFeOdZwymQVSTmB6SLBpKdrnf8PF/nsKNojolZhTbizsolQ09X9Pi7sZ8MQC34F6x/xR85v68beXQ3y6MOvq+8XfHd9VbR1MoRE8W621wYiCqPSbixCyb4J0LJl4q9tU9T52fQQVFNFadxueF0YrG04H7ZVn+UJblIlmWK2wf52IlVVRUVFTGQO1RUS6kMR3qwzNBNtJdX8TNLx2kd8jAPcszXC/DGfUnxc2Rg6ZdKioqbhCZIxxySpOsjiqzADQSAdF2TmMl7+5Qixdd/UN8erLWrWgKS0L9PLl9cSreuhHcziDcHeFZTrP0FKfxf45UkTZYgEHrbS/eJi0Q2beK8Fz4Oej7IcfUokJxxigln5Y05Fkvz8sfKX42SzzyOF7VTmdvP1k9h4XT6mzKLkdJRpQ/BqNMWXOPWL/GPNjxBzJPP8V7hkV4XPU8TLpSiJWmnM6c2CD+fN10IQJacvRl4dxZ9UtzAxvfUIh2kGvcUiJc1w6c6mkR/sgyYp0s8QkBT38Iz2TrmUbmpYYNi5UA965IJybIm4c+OI1h1aMwYT1s/ImIahjqw3hmAx8PzmL9tETmpdo0RI2eDBET4KQ5okKjkVhvGsQ422gKpVGWxiQCTk0IFiX+8bOcisarJ0YhSbAx1zTgUrlfVMw4aYJ3sqaDiAAvImITxTZ57LVhB+mijHB+s0wMuKZnTeGD4zVc8tc9THjoM1b+aQe3vXyYX32azwfHanmscSFSewVFez+we4+q1l7ue/MYt7x0iIkROoLkTrxCrY8DMUE+PHXddAobu7jy73sZMshmUTckCSQNHH/Dca5vayls/4347UKSrRoa3rkkFRmx3//ykhz2/3Ql79y1gJvmJ6PVnKN9Jvdd4XDXekG1Y9F4cnwQIONbuw9Sl/JxbgM+Oi2rsp0cy2bfDt/8AO7aDffnw0NN8JNKeKAQLn5KlE7bNoBywNUz4+ke0PPe0RqCQsKEaOmu09gwJJzcSsaok1zj5VmRaDUSP3n3JAN6I9+Y66Y4P5omeAqKmHIO4gSiAr2RJAj09mBGonsDaqOio8Z8PlQyw9WICvcw6EUVSMYa8/X/eKFc839dc40VZ3HGGshcCyXbRMSNOyhmmmk3iOfxzjXurBXNLW2JmiSum1pL7F8D4X6OnjJyFdvZotEKsb3miPO4oPGkrUJUm1nGdaicM0Z7JCkBvM/FiqioqKiojCP6AajPtS5lDBeO46f/vYFT1R08c8MMJsaOsclN3UnhMj6PYoyKytcKrYfYP6sPCgdiZ637orF/pL17zJS9V2cMZk9xMxty692OphgzGauFw3Wo3+6lIF8dAd4ebCtoYrq2BClmqtkVrKB0dVcahZ1+X9wUJZia/UVMEOKSrWjc3yEck7YidMpS0g3FlFVXM1UqwUvfNeZoirGSESniQYoau8TAQGspbPsVh4LW8Afv+/D38RKOHBDN7Zwx0AXbfyvygbMutH4teYl9rnFLsYggckCaqYmfXURFeAakLqOirZ/ixm47x6CvpwcPXpRNXl0nP/8on4KFTyDHTod3b0Pe+Uc0Qz1slhbws3UOnNySBJOvhqr94ubOxHqTW3Ry3FkKTSZnrXe4EMamJZiWFz9bOJBsB1WAiAAvZiWFmEXjE2+IgZv42Q7fIremgylxQUKMnvsdGOyC42+aP2JbKWg9efD6lRx8cBWPXTaJu5en86erp/Ledxdw7KHV5P7yAi67/ts0E0z153/mp++doqN3iLaeQR77JI8Vf9rOprx67lmezuvXmkS+QPu4gqWZEdy7PJ2mrgEWZ4STomRs+4TAmsdFw7j/3GItHMsyfPID4UBf9wdRydBpFo0nxQWR9+ha3r5zPt9akExU4Dm+xTPoxTafdaG4frCNWDER5KNjYVgP/oNNGOLnsuFUPSuyI0eOzFGQJPAOGrVIMicllOQwX3oHDSKjNyILms64N7PSBC/aJBo7cfcG+3oyMymE2o5+ZiQGu38NVnNUOEcdbBtOOYcCn6eHhoQQX1ZmR9k37hwPOqrN58OQZPHsSjQe7HH+miuMRtGj4+tE1QFxjsxcM/7LHq5s+JqKxoWbhMAaGAtZa4VjuGyne/PWHhPH2pwrxP/HWzTuqnMsGivHHEe5xkaDMPmMZrDpbJh2o4hQ2/PUuX+v9kpxjBvvgREVh4z2W74f+JkkSWoMhYqKispXgcxM8bClIReMQ+Y8Y6DdVzhaPNuKefYbM1k7aYyjs4Yh4Z5T84xVVM6OhDniQr+tXJQRuy0aR9k3aDE5jbt0YTy1pYimrgEuGkU0xZjIWE1miJFMf8c37ImhvnigZ5KmHE38LPsJguIgKBEq9tpEU5guT7U64Vi1bYbXaBJylCZ4CqlL0SAzT8pnqfYEsqQVLsPzSGqEHxoJChu6zTdzU2/gN7p7SYk0uWuDE4VQaRFRYce+v4mM1NWP2Q/OJS8SziLFqWk0CHHaQZ4xQEq4H5IEpU02v9MVL8JV/2JrvhBYHZWZXzQ5hqtnxvP2oUoueOYwV7V/jw5NENKuP9Iq+zN/5WVEOhMbJ18tni3E8anxQfz1huncMPcsS0pN4mdQlHAhWonG4NTFekFONGfqu6g7vUt8/wvuEREHNvQO6ilu7GaS4oiOnwlxs+DA383Zqq2lQtDSaAn01nHTvCTuX5PFlTPjmZEYMhy/sXpyAoEL72CZ9iT7Dx9m5RPbWfKHbfxrTxlXTI9n+wPLeeCCLPz6Tfu0E2Hwe6syuX91Jg+tt9nu538X1v4W8j+Gd24G/aD4+4m3RJbvqoeFCBIUZ+U0dojRCNVHzk15cdl2Ia5OulJ8l7XHHbujgYuCxEDDcWkirT2DXDzFQTTFOCNJElfNFMfg+BBfMWjVXOhelq5Srh+VI56dOI0BVmeLZn43uusyhtE3wQPz+eQcNcN7/fa5/PLSnPFfcH8nDHSY94OgBJEP3+ogpgigYh/8NnE4c3xUHH8dnpggRNavC4UbhXiZunz8l63Eu3wdm+H1topBzswLxP+TF4tKnIIN7s1fe1zs/76h4rzQ6LgKa0wYhsT1gCPRODxTNFF2VPXVXCgy1s9lnrElOh+Ye6fI1K53kbM8HrRXqHnG55HRisa/AeKAM5IkFUqSdND2cQ7WUUVFRUXFGQsWiIctShO8WOE0busZ5MZXTlMnh3JD2gCrJ0bZz+MuTQUiXy5m6tiXoaKiAvFzhFicb+ojPBrRuLvBWtjpqgdJQ1ZaGmfqu/Dy0JybrElLEuezIDWIBQGO81QTQnzJkqrxlAedN3BKmi9iAgo+Ew3DlGgKhdhp9s3wlM7ktk7juFnotT4s1OSyVHMCY+xM8DkHpdMu8NZpSQrzo7ixCzIugJveR77kaYqb+0iN8DNPmHO5+FyOhI6+dpHLOmG9ECttSZqPyDU2RVR0VIljcpjjpqY+nlrign3sncZaD/Dw5IszjaRH+pMU5mc3ryRJ/OHqqRz42Soev3wSPqExXNP1Q9plP7Z7r+CbCx0L1YA5wsTCqSVJEuunxBLko3M+nzt01IBXIKump/PQ+onmeIyYqeIG2klExQU50YAMmx4Szs0F9zqcLq+2E6MMU+ItYjTmfUeUAJdsFf9vLTM3YhwBz7m3Ikka3pmVT3ZMIPNTw/jse0v43VVTiA4yie6KC9iJaKzVSNy7MoPMqAD7F+d9B9b+Ds58IhzHnXXw+c+Ea3/WbebldtW6btBU8gW8uAIO/8OtzzUqct8DryBRoRA/S7j4nMTbzNacoVP25YkTWvy9PFjmZiPKs+XKmfHotBJpEX5CNB7qdd1kUKHXJBqHpoKHt13mvCXXzkngwXXZjjOaHTHQDc0Fo2uCB6Jxpk/IOXOFJoT62jcmHA+U/UA5H2p14t/OnMZFn4vzaP3J0b9X7TEhGJduH8uaukf1EfE4XxRtEtFP3mOsJHSFdzB4Boxum6o/Zb7GcZeeZhFxcPAFKNoyunnHSskXIq4oc634v4eXaLRZ+PnIg2iyLOIpFHE2cuL4Oo2VQShHmcYeXqaoMAcirTLgfr6cxiDigjz9RTPSc0l7pZpnfB4Zbc1irumhoqKiovJVpuaoKBEKiqerf4gbXjxASVM3XnETCB06yxsIJbdLdRqrqJwdiivy9HvieTSisWFA3OwqomhXHfhFsigrms/zm1kx4RxHU4C4WUldJm7qZNnOBTcxNpCksjIwIkQiRyTOg5Nvw+6nRNO6eJtmebHT4dCLQqxT4hca88VNiW2muocnvTFzWV11hCipDU3m9ePxKUdNeqS/cBprPSBtBc1dA3T264djIgDhqP78Z8KFu/h+6wXs/5tw2i37ieM38AkR5f1KbmBLsXh2IhoDZET6s6+khebuAcL9vYb/3tU/xIGyFm5dmOLyM0UEeHHj3CRunJtEa890dpxeyozk6JFL01MWC8erYcg+nuRs6KyBwDj8vDy4bZHFuut8hDvdiWicEOrLreFniOk4Bhc9AV4OBFjgpKkJnlX2cvYlIj9x/7Mi9qS1FFKWuLe+gbGQvZ7won/z6g9/6dDdbBaNx+iqnXeXyDf+7EdiQGGwFy7+s9m5HxRnbozm7D2aC8Xzpl+Iz6hEA5wt+gEhHGVfLI4byvGg5rBDF1xC9wn2GjPZU9rGFdPj3MtZHwdignzY/IOlQsivaxJ/bCoY+XtQnMa+4SI+yLYSxIJAbx13LBlF0W79SSFmjUX4CUr473OFdtiIxiC+f2eicYVotDqmzGNlnqJN5tig8aS9El65RAxkfe+4OHafS9rKRaTKjG+em+VLknAbu7NN9TTDF4/BkZcBGR4oBn8Xgz/FW2HXE9CUb457ATEI872TEHAWZhd3KPxc7L+xFoMzWRdC/kcmQdjF/tdWJq7HlGkis8U2pR8Qx7uzxVRJRoCT43b0JDHwMdRnfW6pPSYimFxcG4w7PiEw82Zxnlzx83PjBh7oFttIsOo0Pl+Mymksy/ItIz3O1YqqqKioqDjgpZfEw5baoyKaQpL45+5y8us6ef6mmYQm5kBz8dhLT40GcSEQlOg0P1NFRcVN/MIgNE04TmF0ojFY52Z2N0BAFCsnROLrqeWaWeenSeVLZ3x4aUexw4ZR31mWxv05PeAb5vziPtFUKdF4GnIus8+ni1Ga4VlEVDTmCReggyw7XfpyYqRWNMiiCd6XQGaUP+XNPQzqhTu61OTwTbUUjYPihUBuG1HR1yaOsdkXC/HTGcmLRa7xUL/ZrezixvD7qzLp7B/ijlcO0z9kdpruLmpmyCCzMtv9G/JQP08unZNFcqQbzeySF4lmh8o2Pl50VAkR1BHxs8XAqaPoA4OeewyvUmKMoTH9GqeLz63pICrQyzp6w8NTuKhKtgpRdqjXbacxIObtaxOOW0d01pqaE/q6v0xb5n4b1v1RCBiLf2jtxh/OuHURUdFeIRrVSRr48J7/Z++8w9sq7/b/OfLe20684ji2M5xF9g4kjDDDnqW0QCl0AIX21106eDteWkqh9GVTWgI0FAIhrAwgAbJ3nOkk3nbivbd1fn98dSJZlmTJlkfC87kuXcfSWY+lo6Nz7ud+7q970QwGTZVw6F3H1xe566CtHiZa8j4jR4lA48iB2VRJYO1xdiNtd9uR6yXSYkNEpI4bKy+44xg0ROOQOOlYcOE09pi+FMEziEw9+/Jnjfb2EI0dxFO0N1tH1vVLNF7v/UgWsxne/a4I/q118PlfvLt9RxxbK1PDLTsQRKS4dt93dUi80pPTpHjo2Mvk9RLHkUFn2PJ3uQ4Ydzlc8gf42ttw58eyvYHOyDV3wfF1MgrC9roi82I5Fx79yPX6xvXJSBunsbnT2qHbX86Ixk5iBSdcLTn+/75WRioZlO21jL4ZnE63M8z5jnQwbHl6YLZvRO6oeIpBQyVHKxQKxblGW4MIOInTqGvp4MUvTnLxhATOHxsvQm9bncMiQW6x+xUZAnXxbwf/IkShOBcxir75h0nxJncIcyAaW4qkJEYGceDXl3DBQEdTGBgZnsfX9Zjl52PC/9SeMx1YDokbC0HR8rd9NAWIOOwbaBVOdF1E44QJPZcFgsYuAaDRJwJGDuKQTBsy48PoNOvkV0mG8AlLlnB6rF38Q/Y1MnTXNqJiyz9EXFvsxGVskLZA3ObFO6AyFwLCRbBywpSUSP5641T2FNby8Jv7MJtFINlwpJyIID+mpQ5QjMeoBTJ1t5iQu9SVOO9kybgIOppgxfUi0tqy519Et+Tzx85bWHu02unm95fUdXcZG0z/hlRs//hn8jzatUO7G2kL5Xje8bzj+XUlnhU6c8asb8EPDsL5P+3+urHtesdxMoCIaDEZsOz3Iox7ElPx5d9g5ddh81M95+W8JZ1Ho8+X55ombmNHQlLhVgBqY6cRGezH/IxY99vgTYIiJUPUQYdYD5orRVwKipLzswunsceU7JYihqF9OKcbTuOByKhurBiYInL1JfJehtoIZNGjxVnYWt992ZKdUr9D8/FcNDZ3ifgUligiv6NCYv1h10ty3rvk9zD1Vtj2bLeioD1oqXFYVNYjcj+Wjmgn+fZewZXTuOoE/N88+Pin8v2+bzNc/6LLyCBAPouiHfKbeNVTktOesVRGIk25GXa+5DInvN8U75D338gzNgiJlc7d3nKNS/fI74JRZ8HorPNWREW9RTR2NkJk3GXyPhfvgH9eLu9VV6cULR+sPGNbIpJg0o2w+1/QVNX78p5Sa/keKafxoNGraGzJKp5g+XuHoxxjlWmsUCgU7nHsdANVjW29L9gfSvcCOiRN459f5lPf2sn9Sy2uYMMdbAxB9YSWWvjkUXEGTrjaa81VKL7SpFgiKtx1GYON09im86fh1BkXio/Jg2JJ/SU4Wm66c9f2nNfWIENlkxzk8hpomkQYRKZKcSx7fHzFcWvE4jRViHhgXwTPIGEinSEj8B17yZBV1c5MEEdx7mlxGJ+saCTA10RSpF0kgTEc2nAbN1eLy3jCcmsRPWekzhVhJf8LcTPFZPRaJOvSSSP56aXjeH9/GX9ee5Qus86nR8o5f2xc7zETfSU0DuLGW6M0vEFHq4h04U6+M1kXw/KnIf9LeH6piOogx+Onf0BPncvxqEV8fNCxCNHY1smJikYmJTkQ0kPjYOL1VoHJE6exponbuHSPY4dtvZdEY5Dzif3xYDizXTmNa/LFvXXe7RJPse5XEsPhDnmbAA3W/VIcxwbtTVKca8LV8n02SJ4h1yK2zjiAwi3gE8BNVy/n77dMw993CD1OcWPlHNYbTZXS+WWyiJ2NXhSNS/f0XfiJTJEOFPvOk/6i65J9/c69rpfr6oQ3boP/W9D98eziM50DPagrEbHe9lgx4kFq7UTXgi2AJtmznorG9aUiOE//hjx30PHZZ2ryJeIl/QLZ/gU/l/P1J486Xr4yF/42FVbd0/d9tjdB3ucD6zIG6YhorZXzqT3bnhUh/pb/wNfeku9PL5FBgIir7Q2QMqfnvEU/FLfxFwPoNj72sQjbY5b0nDd2mUTEuDpvllmK4PlK8VNiMmV7Rv2F/tJQKsUNg2OcLzPxOrhtpWTtv3gRHPtQcuMHM8/YlvkPyP63P9f3bbQ1wIobrBE0BjVKNB5s3PkVPgi0WP7OsTx39VAoFAqFA3Rd59bnt/GdFbsHdkelsv2GmEm8+MVJLpqQYK0AH5sl06pcz7e78X9F1Lj0j55V8FYoFM4xMnw9Eo0tjjPDeeOqsvZgkJAtN+/2N5Gle5AOLCd5xgZX/k2GoToTeRPPsxbDc1YEz8BkwveeDQRe9WeP/gVvMiYuFJMmnYQAJyubGB0bgslezI9Ikpvkg+/I8y1Py43z4h/3vpOgSMmVz/9c3F1uZhbesyidW2al8I/PTvDI6hyqmtoHvmBi2gIRiBzFRfSFM4WyXAis530NvrFGhoU/v1TyMjc/BU3laBc/yiUTR7LlRBV1zT3bdKi0Hl2HSclOCknN/rZMTb4S1eQJk2+SPO6tDobt1pf0Pc/YHQIjJd+y3on4oetyMx6VJr/xVz4pQsU73+09pqKlRr6j8x+Qc9rb94hzEKTIZUeziBq2GOeFUrtrosItkDSdSaMSWJA5RC5jg7hx4jTu7f9vrhRXIojTuLW2/65REEG9+oTnRfAMjEiSWhdxAn2hJl+2eehd127K/W9IccaQGOkYNB4VRyXL3hF1RT1/Dw3RuNouoqLgS+lgGzlF3K9dnZ79DwAps2T9XC+JxmazRLuYfGD53+W7FJEkQ/YPrLSOmjFoqpRREa21kvvd18/q5EYZfZJ1cf//B1dEGseUA7fx8fWS8z52Wff7BCMyyFkRzqJtMk2Z1XNedDpMuUXcxobj1tsc+1g6Yh2N9jLiNY45iajQdSjd112c9fUX4dhbTuOGU3J919u915gl8rvX3gT/uV1eGzkETmOA+HGQdSlsf1ba0xdOfCKGhNdvsXb+gnxH/IKt51zFgNOraGzJKs7TNM0PeAH4hco0VigUCs8pqW2hsrGNbXnVbD5ROYA72gWRo3h5TwP1rZ08sNQmezgsUX5oKz0UjStz5Yd/2u1yca1QKLxD/HgZ0uzJcNLASPAJsLrZDMdx6AAXinFGwkRxbJ3caH2t+qTVYdKb4BEU5VosGzlVcnGrjltvwpw5jUEEB3ejPgaAQD8fUqODOV4uTuMTFY2MiQ91vHD2NXD6gOQTb3tG3JhG5EdvjF4o7q26IrdFY03T+O3yiSzMjOXVrYX4mDTOzxpg0Xj0QnE72oslfeVMwbheXLmpc+CeT0XkWHG9ONUmXA3JM1g2cQSdZp0NR3o6QvcXi/N1oqN4ChDX56j58p77eFhsMjBcROect6yiKljc01Xecxo7whCv6pzEUzSWizPMEOgikmDZH6Bws/z+u6JgM6BLBugtr8uoh9dvFmEu5y259kid232dpGmABsU2ERXtTSI+pzpwHA4FcePk2HUV6QEyBDvYImAYsQrecBsbIyz66hY0BD5v5xoXWQYXaz7Os3q7OsRsMHIq3P4O3PKa9TFqnnOnsSPHfZQlBsbWTdzZLu0YNV+OWb2r98/JFmNbUWly3BZt944je8cL0pl3ye+7i98LHhSn6NpfWuNCOlrke9JwCm74p7y28+W+7Tf3Y4m5MuoEDBRGR5n9MVWdJx0cGRf2XCd5pvyGOxNRi7ZBSLzzgpOLfiif7xd/db+d5UfcK9hXWyRZyvbRFAaxWXL8ORONq09K7J/9dzR+PJz2kp+yvhTC3TQFJE2DO9dKh1FQ9OAWwbNnwYPyndr9776tf3KjdHSafOU33MiOry2QzidlYBo0PBnv0wV8AowdoLYoFArFOU1OiWSxBfia+Ou6Y+jeyJjLzpaHLSV76BgxlRe/yOPC8Qndb3xNJrmA8DSe4uOfS3GcJb/sf5sVCoUVkw/ctR7O7yXD1hZNE4HYEIsNx/EQOI2zs7PJXnil3Kwe+0gKxrx6vRTBOfIBzL5XIiz6g3EzVrpHnMbBMS7ze4cDGfFhHDvdQFtnF0XVzYyxzzM2mHCVTP9zuwhmnhwHaQuhqx3QPep08PMx8fRt0xg3IowLxsYTEezn/j77wqj5Ms3/3PkynjiRjFwKpuQAACAASURBVGHC7rjzI1PFxT72MrnxvPARACYnRTAiPJCPcnpGVOSU1DEyIpD4sMAe885wwytwyxvut9mWBQ+JsPjRj60O1oZSmbpyT3uDcBeisaOcyKm3QuYlsP43rjNF8zbJNULyDHF/3fZfKQT16vXiPpx4bc+RBIERIsjYisbFO2W9UQMsfLlL3DiZ9pZr3FQhblqwFqvyhmhsdLT01S1oCHzuiGeeULRVctTn3CedAra57Ab7Xpdj6vyf9hR3UueIgGgv0uq647zyoEjpLLUVjcv2SSdH6lyr2OhJREVNvojeEcmSg653wYlP3V/fEVUnYP0jsr3zvtZ9XmCEjCLJ/1xczWYzrLpXjvlrn5MOxKxLJQe208MYO12XInhjLrBGJAwUkU7c6yc2yNShaGwZVeAsoqJoG6TOdi4CRo8Wt/Guf4qA2htmM/z7asn3tc/Btif3Y5lmOhGNNQ3GXioCpqPfKWff0fgJcvy3Nfbe3t6wiR9zi9gMuHcTfGvDkMV0AfI9T5kjRQ77MtIobyOkzYdb/yPvweu3SEeLIRorBg23jyJd181ALuDBEatQKBQKg4OldfiYNH50yVh25NfwxXEvuI1nzpSHQWMF1BWyrS2NupYOHrwws+c6sZmeOY2Pr5eLqsU/6lshFoVC4ZrYDHHbekJovBTvgd4raw8gM2fOZOacuTDmfNjzb3j9JimWef5P4Ac5cOmf+r+T2CwRpEr3iNAQP2HYO0yyEkLJq2zieHkjZh3S45w4jcMtDszGUyIaOIvdcETqHMnJBI/dROGBfnxw/0L+cVsfh717QkisfGZ5TkTj04fgT2kyRNgdDNHT3SiHgFC46VX4Ue6ZDGKTSeOS7AQ+PVrOv7cWdOvE3V9S59xlbBAa51kRPPv2XPiIjAo6sFJeM4TwgYynABGlncVT2DovDTQNLn5UxDnbnGJ78jbJ8egbIM9jM+HmFbLNrnYRjR1hFMMz3v9CS0Zt8kzHyw82cRavVG/DzJsrrR1ZxogPbxTuKtktLse+drwFR8voMmcdBX2laLt8dvPulwJg9g7QznbY9Jh0+DlycKbMBvTubnsQJ2FXm+MOoag0qLGJpyi05JyOmtd30TgiGXz85H8JipLr3f7w0U8l0uWqJx3/Rk3/ppyD1v1KxOVD78BFv7Xm28+8S44lV981R5w6IB1Pztyy3iQkXj5z+2Pq+Ab5HBzlvEeNls7eYgeFLxtOy2dhFAV2xqIfue82Ltkp10W1BfBhL3FPx9ZKu2Md3C8ZZC2T49JRhEnZXhn5Zf/bbTx3p5BmbzSUyWgNTwiK8ixzf6BY8KC40o0YLnepK5HRZaMXy/fz2uek02HVvVBTqPKMBxlPux5+DvxK07RJA9EYhUKhOJfJKakjMz6U2+eOIjEikMe94Tbu6JCHQb5UqH8mL54Lx8c7vvGNzRKHQEdLz3n2dHXARz+TC77ZvRQ8USgUg0fYCKvTuHHonMYdHR10dHTA7Ptg/JVw47/gwQMiGntLAPPxhZGTJfvUEI2HOZkJoXRaCs2B5Bw7ZfJNIjS4k2VsS2CE1d3kSbyJBZNJG7wiY2kLxU3W2d5z3pdPiLDoqJiiI+qLJQrAL6j3ZQ00Dfy7u73vX5rJnPQYfvlODt/85w7K61tpaO0gr7KJyb2Jxv1l8s2QOA3W/1qcaIZ7biDjKUCGLDeWO/4cDMHN3sEVlwXx2daCjfY0VsgIgNGLur+etkCG3M/6tvyvjkieIbEcxr4Lt0jcTZCDIoRDQXC0iMCuhJ+uTnHMGvEUXnUa7+1fIStNE2G0zouZxq31Muw+ZbbkN0/7usVVbONm3ve6XGc6chmDfO6ajziWbTEiDxx9D6JHdxeFCzZLbmxovPzWmPw8F40NsdnkI3mwhgO4L5zKEYPF/Pud//b5+sPSR6DiMGx+UkTked+3zk+/AKLHSMSFJxgdbhkX9a3tnmAyWUYs2Hzene3ixM240PHnrWmSdV68vec847XeROOoUTD1NnEbuypKB3B4tRwPs++Ffa+JG94ROW9JR8G4K1x3RI+aJ/dB6x/p6Rwu3Su52j52I3YM0bi/xfBa6yXaw914iuFG5iXS0WA40d0lzxJ3lr5YphOWSwfLoXckDkQ5jQcVT68UfwHEAHs1TSvUNG2HpmnbbR8D0EaFQqE4J8gprWdiUgQBvj58b0kmewpr+exYhcNl3RaTV6yQh0HuOlp8I9jcOooHlmY5Xic2E9Ddq4ie8zZUHoVL/sfqIFIoFENPaLxVlGg4JY7TISgKsmLFClasWCFDCG96VS7s7W+evMHIqeIyaW/0zI07RGTGhwHwoSX+YHSck3gKgGl3wEOHpHCMp0y6QeIfAsL60szBI22BFEOzzzWuLYQD/5W/nWWc2lNX4pUYh5jQAF755ix+c1U2W05UcfETm3jqk+PoOkxMHmDR2GSCZX8UB9mXT9jkNA+w0zg8CdCtcRi21BRIx5Ofg1iO7GtE0HU0NNyIHbEXjQHGXwGX/a9zQcYohleyS8TXoh0waq7jZYeKuLEi8jmjpVqmxvk3OEYE0f46jZsqReztaxE8g4gU78ZTFO8AdGvRsnn3A5qIoGBxGf8ZkqZLVrAj/EOkI9D+O1/vInomKk3OF+YueRRsscaYmHwkNqGvojFIW5vK4dQ+97dhy5d/kyKXM+9yvdyE5bKvCcvhsj93/26YTDDzbulgK9vv/r5zP5aOmbBBqmsQaXdMFW2V7O8xS52vkzxDovHsI0kKt4pT1516KQsfBt3s2m2s63B4jYiNFz8q55g1P+jpjD7wX3jrbhkhcf5PXe/Xxw+u/oecI9f/2vq62SwxKY46dqLSZIRUf4vhDWH8mFcwmeSz9eR4BumECI6RDkuDed+HGXfK38PBRf0VwlPROAdYA/wL2GB5ftDuoVAoFAo7yutbqWhoY2KiVGO/fnoyyVFBDrON39tXysz/2cCrWws824nZjDl3HZ92TuKCcSOY5OymN8YyBMudXOO8TVJIwagerFAohgehCeLQ62wX4Sk0QW6cz1USz5ObRTgrnMZj4kLRNDhYWs+I8EBCA1wUTDOZ+h79M/c78M0P+rbuYJK2QKaW0TBn2PK0iCbT7hD3Yktt79uqL4FwN/KM3cBk0rhjXhrv37+Q1OhgntsknamTBtppDJLhOfF62PyUiESBkT3c0F7HENsdOfXsRTRbsq+WqaNh83mbJNO8L7m78RMkPqF4p4h1HU3DpwieQdx4cRo768w3ijMFWzKNTT4SVdHYT9HY6GDpj9MYRODzZiG8ou3SSWkI/pEpMPUW2PWKRA3sXSFitzOXsUHqXOkssHW9G8KeM9HY3CnLlB8St6GRl27Md1c0bmuUGAjb433MUkCD3D5EVNQUiGt1+jd6j5rSNLh1pYzKcVRIc+otIjbueN69fVedkO9P1jKPm91nIlK7H1PH14uzd/RC5+sYkTMlu7q/XrRdjnF3jClRo2DKzXKMOfutOH1QYkzGXSFi73XPSyfD29+WKcD+N+Htb0nRwFtXSmRQb4yaJxneO56Xcx5YiuDVOz73mXykI7i/TmOjg+9sFY1BOogqjkjBV3fQdTj5mURT2GYyaxpc+pgYFJx1SCkGBI9EY13Xv9nbY6AaqlAoFGczB0rqAGs1dn9fE/cvyWR/cR0bDsvw5brmDh54Yw/ff30PNc3tPLPxBGazB/EVZXsxNVeyrmMyP7jIicsYrNmX7uQaF22TIWPDPD9UofjKYeRmNlV4XiTlbCTR5qasL47cQSbI34fU6GAA0l25jL8qBEdL7ED+F9bXmqul6NOkG2DS9UjGqRuDFr3kNLYlIz6Ut+6bx0MXZXHr7FRiQwdpZM1FvwE0KSI50NEUYBXbHeUa1+Q7z4mMzYSESY5zKfM2yUgDRwJYb/j4WkcRGK7T1GFSBM8gbqyMcHCWBd1sEY1tR3qEJYiA2h8Kt4hj2R0HpisiUqSD0ZNik64o2ibuv8Bw62vzHwRzB3zxOHz+FxGUHRVEsyVlNnS2wikbB2JdMfgGWgV4W6IsGeI1+eIyhu4FEz0RjY2ij7aicWiciJfuxuTYsuVpEdLnfMe95V1dUwdFweQbRNh0pxPti79KxvD0O9zbtzeITJHrDkPwP75BOntcjXhJmgZo3XONO1olE9hwrbvDrHtk1Mq+1x3PP7JG9jPucnkenQ6X/i8UfCFu+P0rYdU90uFwm5uCscGSX0p8yLvfhbYGaTs479iJn9B/p3G9pWbFQI9CGUhGTJY8ancF9Mpj0ulmRFPY4uMrUWgDXfBR0Y0hLKeoUCic0djWydFTDUPdDIUXySmpR9Ng/EjrRfY105IYFRPM4+uO8XluBZc8sYk1+8t46KIsHr9xCsU1LWzMdRxf4YiSHasx6xpJ069wXcTHP1hcAr2Jxk1VUJXr2cWcQqEYHAzRuPG0iBNnswvFHWKzxJEYnixZvmcBmfFyM6pEYwtpC6DQJtd4+/Ny8z//ARGZTL7W4lbOaGsQh+EACKx+PibuX5rJ768ZxNItEclSKAi8LoQ73p/hNLYbqt3ZLqKoM6cxiNu4aGt3l3JdMVSfcBxN4S7J00U4PLlR9j/csjvjLJ1U5Uccz2+yXKcF24jGoSP67zQ+vkGE1f5GzxjZn94ohmfuEtHP/rowZoy45rc9Iw7UC3pxGYPVUV64xfpafYl8tx2ta1vsruBLEcMjU7rPb6lxT2h1VPQRxL1YslM6tNylqUo6vybf6L3v8My7pfjk3tdcL1dbBPvekFzpwew4jkgBdMmXry+T4re9dRIEhImIWmxT/LBsn+TZezK6YOQUyUfe8YLj/OnDa2R7tqN3pt4KE66GTx6FVd8WwfjW/3g+ssM/GK7+P3nf1/1KRgP4BlrPEfbEj5fzgCfHkz1DWOjYa4ycLNNTbkZUnLTkGY92IBorhoReRWNLVvEEy989MoxVprFC4X0eX3uM5U9/QWtH11A3ReElckrrSI8NIcRmiLKfj7iND5XVc/uL2wkO8GHVd+Zx/9JMLp04ktjQAFa4GVHR1tlF/YH3OWzK5L7LeykmARCb0Xs8hVGcYrgNFVUoFHaicZn1+bmKyQfSzxdH41lCZoKIPS6L4H2VSFsoQkjJLmhvhu3PypDq+PFyMz5yqtVB6Iw6F5mnZyvz7hc3XMLEgd+Xf4jEYNgLiHVFgC7Dv52RfY1MbSMq8ix5xmkuhqX3RvJMayHE1GGWZwxWQajSSTG8piqZhsRZX+uv07ixQlyMGS4yYt0lwiKseiPXuPwQtDc4Llq28CGZJs9ynW1rEDZCRFvbXOO6Yuff7fAk6ViqyZMieKPsHOmGAFzrxnWzU9H4IolBOvFJ79sw2PG8nNfmP+D+Or3RmzBqsPlJQPfuvt0h0uaYMgqc9SYaA6TMFNHY+J+MQojJHppTZt4NVcch77Pur1fnwekDEk1hi6bBFX+VY2v0Yomk6GsUUOpsmPtd2PkSHHgTRkxyPsrCG8XwGsogIGLgo4sGksg0CAh3P9c4b6N0dkWPHtBmKdzHHafxQaDF5u/eHgqFop98erSc1g4zx04rt/G5wsGSOofu3+VTE7lwfDzfnJ/G+99fyORkqRju72vippnJfHKknJLalh7rnWHqVJg6lZfW7mJsZy7B2cu6CdNOic2SCy5XBfeKtskFen/z9BQKhfcxCt7UFcvw6CFyGk+dOpWpU/uQZdoXbnoVrn5mcPblBaxOYyUaAxaRR5OIij2vypD5+Q/azJ8Lpbtd5x66yjw9W/EPhu9sg6W/Gpz9RaT0jFpwJqLZEjNGBJKDq6yv5X8uw+n7I3gb2bjow1M0DomR/7HquOP5zZWAJhEsBqEjxIHc1dm3fRqipTdEY0Pgqyvs/7aKtsk01YFoHD8ebnhFnJjuRpqlzhXR2LgWrStx/t328RUh6fh6KVjnTDR2J6KiJl+EOPv84cTzJBojd5177W9vgm3PSt2PuLHureMus74lLn57YdSg4bQ4nKfc3N1xPRgYHRF1RfJ5hI6AhGzX64B0ELXWWb9LRdulwyw0zvV69mRfLZ/Tjhe7v35kjUzHX9FzneBo+O4OuH2VnHP7w5JfSH2YxtOus9yN+gv9iaioLz27XcYgucQjJrnnNDZ3ye+KchkPK3oVjS1ZxXmWv7+hMo0VioGloKqJvErJHTtYWj/ErVF4g6rGNkrrWpmY2FM09vUx8cIdM3nkymyC/C1FrMxd8PJlfDP6ADrwxnYXF/pTp5I7cgzHN7+DSdMZPfdq9xoVkyEZfcawJ0cUbRe3g1+Qe9tUKBSDh+FqMy7Ch+imYlBFY5NP96Iow5yLs0fw4IWZzEmP7n3hrwJGrvHJz2DLU+JWHGUjEqbOE8dp6W7n26i3iMaDkf87mPj6D17tgIiknoXw3BGNQdzGxdvFYajrljzjhf37XkYkWTu9hqNoDHLN5Ew0bqoU8dG2EGlYAqBboys85fh6ibsY0c88Y5D31uTrHadx4TYZ1eIs+zr7ahnJ5i4ps0V0rz4JXR1yTerqux2VBqcOyN+j5vecB+6LxlGjen7nTD7ikj6yBjY9Bo3lrrez51Voqe7e+eUtJiyX9/r9hx271rf8Xc6XCx7y/r57IzwJ0OR9PPGpuIzdOX8ZxfCKd8j5o2gbpPRhNKNvgERyHP2g+3F9eI1krzs7j3nrPOsXBNc8I8X/jCKvjggbKXFa/XIanxp+kT19YcRkKVJo7mUUddle6VhIP38wWqVwk7Pnyluh+Iqw8ZhcYPr5aORYiqcpzm4M8T87KbyXJS2UH4KCL4kt3ciSsfG8saOIji7Hw9PMjU386o0dLPXdhzkoFka66QoeYcmXKnQyFLizXYYQ9+ViTqFQDDy+ASJUlO2T50PkNG5ubqa5uXlI9j3cCQ3w5cELswjw9el94a8KoxdKQaLawp5CixGFVOAi17iuRApOnesZ3gNJeJJVfDeoyQefAHEMumKCpWP60LsSE1BX1L88Y4OU2RASLwX3hiMxGVB1wvG85sruRfDA+j429iGiwmyWIf8ZS73TSWbykSJadV4QjYu2SZ6xtzo4zuQab7WYGHTXowgMMTAkzlrU2SDQ4hx2WzROczzv/J9A0nTJv318Avz3Tjkn2Y/M6+qAzX+Xjg5Hzuv+4hsAN60Q0fDVa7tnNTdXi8t24nUyAmCw8fWXc/Chd6G1FjKWuLdeTKY4vIt3SEdBU0Xf66bMuFOmu/4p04bTcnyOv7Jv2/OU5Bnw/06IuO8MTZOikf1xGjeUQdhZXATPYORkqWHgrPPN4ORnMlVO42GFO5nGazVNG2v32hJN087iYBWFYviy8WgFaTHBTEuNUk7jswizWafTibCbUyrif7YDp7FDjOF/Vce5bU4qFQ1trD3o+MZjy5/+j+S1q1nql4Mp80L3bzCSZ8gN2qHVjuefOiBVrVURPIVi+BI6Ak5bHCxhQ5NpvHLlSlauXDkk+1achRiurNixkmdsS3C05MfaZpzaU18ix72zDElF70QkScGwdpvOntoCGfrf2zVEzBgZgXRwlbiMwTui8bI/wtffHTy3tafEjJFjr72p57ymyu5F8MA68qMvovGpfRLd4k5GrLtEpPbfadxwSo4Tb5oJYsdKxnbhFpvoGVdOY0vGaepc58XyehONzWaoKXAuGseMgTtWS5TBzLshdz28fCk8Ph6euwBW3ACr7oO375HIj4HME06ZCTevgIqj8NqN1uNv2zPQ0QQLHx64ffdGZIrURtFMkH6Be+uYTFL4sniHjGYEx/nYbu0/VX5Ddr8CnW1w9H1AdxxNMVAERvR+zoofL2YgV3GAzjCb5Xt3tsdTgNWsZBgdnHFyowjtnkaWKAYUd9SFC4EzSoemaT7AOsDLwT0KhaK1o4vNJ6pYnBXHxKQIDpfVOxUiFcOLe1/dxX0rHA+pPVhST2p0MBFBfu5tzLiQqjrO4qx4kiKDWLGtZ2GPbSer+GB/GfOiGwnoqJUCHu5i8pELq9y13W8cz7TBIlz39WJOoVAMPKHxYO6Qv5XzUnE2kLZAnK4X/MyxQJk6R35/nA1hrSt2LSopeifc4uS0zTU2huu7Q/Y1ULIT9r4uw+djs7zQppGQMKH/2xkoDFdr9cme85oqJffYFqMwacMpz/d1fD2gwRg33ZvuEJnSs/ihpwzEdaHJJNsr2mZT5NJFPq8h9NpHU9jO7000bjwFXW29R7HEZcGlf4SHD8OVT0rnSFCUdATkbZJohKQZkHmJ6+30lzFL4LoXRGhd+XUpvLjtGSn2ZhRaGwqMzylpevc8795Iniki6okN4jo2Ck32hZl3iVv58HsSTRE12pojPFyIHy9xC67iAJ3RVAF6l4wUONuJGyujWVyJxh2tci5IVy7j4UZfx7wM025gheLsZmd+DS0dXSweG0d2YjhtnWZOVjpwNSiGHfuKa1l36DSHy3q6ww+U1DHR3WgKsLqsmirwaavj1tmpbD5RxYmKRgB0XeeVzfnc9sI2woP8WBZbKT39nt5gTFguQ4WMyse2FG2VXvxzIUdLoThXMYQJzaen002hGI4ERsBDhyT71BGp86Ct3nkGZH3JuZdnPNgYorttXIEr56U9RkRF0VYR0oarO9ibxFhiMypze85rrrRmzBsY5+a+OI2Pb4DEqT0jL/pDRDI0lEqkQl8p2i6iz8jJ3msXSEdR5THJMgXX3+9R8+Ra11kEQVSaRN+4yk11N7/bwD8Ept8B1z4Ht78N394EDx2En5+Cu9cPTs5+9tVwxRPSofDsQhEhF/1w4PfrCiNGxFNHfPIs0M1w8B1xUvfn/UtfIoX0vvwb5G2U42K4nY+MIqFGp4snNJTK9FwwBfj4iYDuqhhe0TYZ5aqiKYYdKtNYMfQc3wBHPxzqVgwLNh4rx9/HxJz0mDNRBgdLVa7xcKe1o4vT9W0AvPB5Xrd5dc0dFFY3ux9NYQz/G2UZwlt1ghtnpODno7FiayGtHV38+K39PLL6IIuz4rh/aSZBNUek596Tnn6QfQRFSyaZLbouNwfKZaxQDG+MSIqwEWdVgTiFwilGYbwCB3n7ui5uRFeZp4reMd4/w9nZUiO5pO6KaNGjYaSl+KU3oinOBqLTZWqfa2zuknxZ+047X3+5vvLUadxSK9df3oymAHGF6maoL+37Noq2QdI0ydr1Jkau8cF3JKoiINT5siGxcPsq56MNotLA3NndRW+Pp6KxMzRtcAXK6XfARb+V/y3jIkh0s4bJQGG8f54eq0nTZGru6P99hskEM+4SIdLcOXh5xp6QMktE331veL6ucf44F0RjkA6nsv3OozryNooJIs3JSALFkOHuHYajT7YPwSwKhQM++R2s//VQt2JY8NnRCmanRxPs78uYuBACfE3klKhcY0Au1F+/FVqH3/tRUtsCwIjwQFbvK+F0feuZeQfLRPSflORunrElmmLqrTKtyiUuLIBLskfw311F3PzcVlbuLOb+JRk8//UZBHU1icjsSTSFgY8vjLscjn4keWAGdUUyjEqJxgrF8MZws4UOTZ6xQuF1IlLEaVjooBheczV0tijRuL+EJQKaVVirscRfRboZTwEw6QYZ4fRVcYT5B0ush30Rp5YaQHfsCg5N8NxpnLdRhqOPWdrnpjok0hIl0NdieB2tULp3YOpcJE4DH38pztjf77YhZLqKqKjJl2PXVQzGcGX+A3Dz67D870PdEjkHXP+yxFN4QnC01bnvjfuM824D3yDJuk+a0f/teRuTD0y+CXLXSbE+TzDO0efKqM+RU6SD0tl56ORGqbkTEDa47VL0irui8ceappVrmlYOGIEsG4zXbB8D1E7FuYq5C8qPSM5WXwLic96GEsc5smcbJbUt5JY3sjhLhrj5+pgYNzJcOY0NvvybFDko3jHULelBUbVkAv/okrF0miU6wuCgRfTPTnQznqJomwz/m7BcelstQyG/NmcU9a2d5J5u4JmvTeehi8diMmkQ2wqJPuI66AsTrob2BjjxqfW1QiO3ThXBUyiGNYZYPIQulBkzZjBjxjC8UVOcnWiaFLkq3NrzurCuUKYqnqJ/+PpLHrqRcVtrEY09cV7Ovhfu/dL9HORzgZgxPUXjpkqZBsf0XD4swXOn8fH1kvOaPLNvbXRGRKpM+1oMr3SPd5yhjvALtDrX+/vddlc0Dk+W78HZyLjLhkdhtIBQmHht39zWyTNFuPdUcHZEUBRc+ie4+NHhO+LqvK9JZ9D+/3i2Xm2hdKiEDoPP2xuMmCLTMgcRFU2VULr7q9MReZbhTunh3wx4KxRfXWryxTUCks8UFOn+uroO7z0ovef3fjH8Mow8ZNOxCoAzojHAxMRwVu8rRdd1tLP8/+sXrfVw4L/yd2UuZHjZgdFPimrkGJ6fEcslE0awYlsh31uSQbC/LzmldSRGBBIT6uZwPmP4X0Co3IxZblBmj47mD9dOYmZaFBnxNj2w+mFIT7RWpfWU0YvkBuXQuzB2mbUN/qFSvVahUAxfQm3iKYaIiRMnDtm+Fecoo+ZCzn/lGjF6tLzW1gBrHrJkqk4Z0uadE4Qn2TiN82XqiQDs4zu8C9cNBDEZclzquvWeo0mu3R07jUdA1Zfub1/XJbIvfbG8v97kTCRJH0XjgS6OnDoHirf332kcniyGi95E469SZ8dwZPH/E/HbVRSJJ0y/wzvbGShiMyXLee8KmPd99zWLmgJxxA9XMdxTErKls+DUfinGbsvOlyRCZ+J1Q9M2hUt6/UXSdV2JxoqBo/yw9e/6Es9E45YaaKuD03VQ8KVU5D6L+exoOYkRgWTEW39AsxMjWLGtkKLqFlJjgoewdUPMgTeho0kuBKscFCEZYoqrm/H3NREfFsC3Fo3mo4OneHNnMXfMSyOnpI5sd6MpjOF/c78jz2Myz4jGmqZxy6zU7st3dcLBdZC5rO8XFL7+cuF29H3obJfnRduk99/bNy0KhcK7DAOncV2djIaJiHDzy+EgKwAAIABJREFUPKdQ9EaqJde4cIuIxh2t8MatUnX95hVK8PEGEUlQcUz+rikQt16g+g67JCZDDC7N1RBicRY3W5zG9oXwQJzGjae7i8yuqDgi90KLf+y9Nhv4BUJIvDgX+0LRdoge493ifLakzoHNTzrPKnYXH18xE/UmGmde3L/9KPpH9Ghrh+BXham3wpoHxU3rrsO6tkCKkp8r+AfLva2907ijFbY/J9/L+HFD0zaFS86RbgvFWYutaGwMk3MX2wufbc94pz1DREeXmS+PV7F4bHw3R7ERaTAgERV1xdBY4f3tehtdh10vQ8IkKfpQeWyoW9SDwupmkiODMJk0po+K5rzUSF78Io/61g5OVjYx0d0iePbD/2IzJcvZbHa8/Okc2FsFef0sSjL+KrkRyt8kbq7TOSrPWKE4G4hMlREBRiGhIWDVqlWsWrVqyPavOAeJGy8CZuEW6Rx96y7I2wRX/wPGXjrUrTs3CE8WgVLXRUTzJM/4q0pMhkxtzQtn4imcOI272i25x25wfINMB2o0nSGmehoHqOsSDeftyAxbRs2D2LGQOq//24pKcy4atzeLkN/fIngKhadMvBZ8A2HPCvfXqSk49zpJR04Wp7EtB96UURtzvzs0bVL0ihKNFUNL+SHwtwy193TIlJHBlnEhHHnfWsjjLGR3QQ2NbZ3doikAxo4Iw8ekkTMQovEbt8JLF0Nbo/e37U1KdsOpAzDjGxCbBZXHe11lsCmqaSY52uoE/9bCdAqrm3lyfS66DhOTPMgzBqtgGzNG4lucVYEu2SnTqH721o9ZInEUh1ZDyS4ZHpSqRGOFYtjjHwzf2QyjFw51SxQK72EyQcocKNgM7z0AR9bAsj/BlJuHumXnDhHJ0N4oRYlq8pWI5g6xhmhscx3aXCXT4Oiey4dZRoK4m2t8fL10mAxUocfYLMj/HP42Gdb+Aop3uScgN5RBU7lEpw0UQVHwve0STdNfXInGfcnvVii8QWAEjL9SIm46Wntfvq0BWqrPvQ69EZPlvrbJcu7UddjytJjDVJ7xsEWJxoqhpfyw9C6bfKHOiTDmDEMkvuh3gAY7XvB68waLz45V4GvSmJ/RvZBGoJ8PmfGhHCytd7heeX0ruacbPN9hVwecPgTVJ+Gjn/SlyYPHrpfALwQm3SjO24ZS+SH1gMKqZh5fd4znN53kzZ1FrDt0mp351VQ2tnmliUXVLaREBZ15fkn2CFKig3jpyzwAJrobT2E//M+oLuwskqNkt3S6OCrA4gl+gZC1TG7MCzYD2vCsQKxQKBSKrwaj5oo4t/dVWPwTmHPvULfo3MKIAagtEtOGEtF6JyIVTH7dReOmSgiMBB+/nssbxasa7UTj+lJY/X347I9w8B2oOCqjvQq+HNiaHZc9BsufFkfv1v+DF5bAE5Nh/0rX65XukalRrG64E5UmYr6je4Uz+d1fsWgExfBg6m3yXT/6fu/LGjrHueg0Bji1T6YnNkDFYXEZf5XrNw1zhjSwUtO064GHgLFACFAA/Bv4X13X252skwbkOZj1H13XlQXhbKKzXcSwcZfJycLjeIoCuVBLmCA9d7tfgfN/Av4hA9PeAWTj0Qqmj4oiLLDnRWd2YgQbjzmOkfjea3vILW9g288uxN/Xgz6g6pMSgxA/Afb8WzKEJlzV1+YLJz6RC0pHbou+0loHOW/DpOshMFxEY5BieB44Hv66/hir9vTslIgO8Wf7z5bi69P3/rP61g7qWjpIsXEa+5g07pw/mt+8d4jY0ADiw9yIj9B1cRrb5qwZ/2/VCXED21OySy6OvfEjO+Eq6f3e8QLEj/csX1yhUCgUCm+Sfj6gwax75NpO4V3CLW7W4h0SoXCuCRMDgY+v5LB2cxpXOs/5NQqUNpzu/vr638CBlRaXr8Xpq5lklNdAisYBYXDe1+TRUgNHPoAv/wbrfgWTbnB+LVm6V9o3YtLAtc2bGB0gNQUwwq5Q6xnROG0QG6RQWBi9SM69e1b0XvDNcMVHpg14swYVo3B72X65t93ytHSwqQJ4w5qhdhrHAJ8AdwOXAi8BPwced2PdHwJzbR6/GKA2KgaKqlwwd4pwGZHiuWhsm/Mz+14RGPf/p39tqi9znh87QJTXt3KorJ7FYx0U0UByjSsb2yiv7z6UZVdBNdvzq6lp7nAqKjvfqSVL+qqnJCf4vfvF+dBXavLh39d4P1t6/0roaIbp35TnsVkyrXI/oqKlvYuPD57iphkp7P/1xWz60QWs/t58Hrwwk+qmdg6X9cGpbUNRdTMAqdHdCxXeOCOF8EBfJidHdMupdkr1Sbn5sI2FCE2Q2IhKB07j1npxp3jrRi/jIvALFneGyjNWKBQKxVCSeB78IAcu/ZNyHw0EhtO4YLNMlYjmHjEZ0pFv0FTpOM8YrIVKG21E4/LDcq8y93vws1K4ZyNc8xzMfwBm3wdpgxQ1FBQF590Gs74l8ROuIgJL90DcOIlDOhs4Ixrn95xXk28ZoedFg4tC4S4mH5h6C5z8tPf7bqN207nWoRccLbrPqf1w+qCYzmbfI4XYFcOWPjmNNU3LApKBQPt5uq5/4O52dF1/1u6lTzVNCwe+q2na93XdZdDSUV3Xt7q7L8UwxBAu4y35XQVbPFu/tgDixsrfqXOk52rbsyIw9uUG48Sn8Oq1cM2zMPlGz9fvA2azzouWCAP7PGMDazG8euLDrV+5ZzaeJDLYD5Om8c6eEi6akOD+jiuOAJoI9te+AM8uhFX3wu3vSJagpxxeI9NTBzxf1xm6DjtfhpFTrK7iqNGg+XhUDG/94dM0t3dx9XlJhAf6ER7oRyrBxIUF8MT6XLblVTEp2RIf0XAKGsutQ2fcoKi6BYCUqO4X0yEBvrz2rTlEBDkYsuhwQ3Z5xiDHcUyG43iKsr2ADksu804GnH+w5IMfXq1EY4VC4TZz53rh/KNQOGKgsl0VImiafCUSAc693MyBImaMFKwzm+V6ualSXnNEQKh0/NuKxp88Ko7fBT+Q667EqfIYKlJmybRwmxRWtUfX5XrTdhTccKc30dhbI/QUir4w5RbY9Bjsex0WPux8uZoCiWfsbwThcGTEZCjbB1v+IYYlwxymGLZ4pA5pmjZB07T9wGFgPbDG7vGeF9pUBaiuhgGmuKaZB9/YQ11Lx9A1ovyQXLDGZEJ4kmTVmrvcW1fXpQfOuMjVNJhzn4iheRs9b0tztYimurlv6/eB4ppmbn1hK89uPMnlk0cyYaTjYmkTLKJxTom1GN7x8gbWHTrNHXPTuGLySNYfPk1DqwefZflhuWjyD5bCHsv+KP/31qf79s8ctnz1T+f0afXqJgdpNMU7oPxg9x8SX39ptwei8bt7SxkRHsis0d1dBSMjgkiNDmZ7XrX1xU8ehZcucb/SNfI5AqREB/WYNzEpoltshUsKt0JAhGTN2RKb6dhZXWwpgrdgOYwd23N+X5h6m1T2TVvgne0pFIpznrFjxzLWW+cghUIxOJh8IGykuEw1kzi/FL0TkwFdbVBvGR3pKp4CRJw3CuEV75LaEfO+P3ycrvHZIkwZxgV76kugqeLsyTMGcVEHRrgQjVUHiWIIiRkDqfNg72uuC1HWWkZUn4sdHCMny4iNAyvl3nO4nA8VTvHUUvgsEABci+QQj7Z7pPelEZqm+WiaFqxp2gLgfuD/enEZA7ysaVqXpmllmqY9rmlaT8VGYaW1rtvTFdsKeWdvKSu2FQxRgxDhMiZDhMCIZImqaDzd+3ogy3W2dh9Ol32tDBHb6mFEgq5LQYrmKhHsinZ4tr6H6LrOW7uKufSJz8kpqed/r5/M3285z2mEQVigH2kxwd2K4T278SSBfibumJfG8qlJtHWa+SjHzerMIOJ6/Hjr82lfh3FXwIbfSsaQJzSWy8VmULQI+XbHWm9sPl7JjEfX8ezGE91n7HxZHBqTru/+emwWVLoXT1Hb3M7GY+VcOWUkPqae7++s0dHsyK/GbLacbqpPShzGnlfdbn9RdTNhAb7uO4qdbmg7pMzs6fSOyZBCNR0t3V8v2QXR6dBshsrK/u3bYOwy+HE+RKqbR4VC4R6VlZVUeuscpFAoBg/DyR2erIYGu0uMTW0Ns1lMJ87iKUBEY+Pe5pPfyrJz7hv4drqLjy8kz3AuGpfulWnieYPXJm8QldZTNNZ1S7Rh2hA0SKGwYeqtYgg65eKeu6bg3B0BMmIyoENXx/A6Hyqc4qlofB7wsK7r7+q6nqvreoH9o4/taLI8Pgc2Aj9ysWwb8DRwF7AUEbLvA97o477PffI+hycmSfwCIlq+v78MgH9tLqCja3AzfM9QfkjiEcDqcHA319jI+bE9mfoFwow74dhHIv65y55/S8//0l/B5Bug8qhHTlNPqG/t4DsrdvPwm/sYPzKcDx9YyI0zUnrNvM1OjCCnVMTYsroW3tlbwk0zUogO8WdaaiSp0cG8u9fNTOLOdvmhirNxhmma5BsHRsBnf/DsnzryPqCLcwKssSNuoOs6f11/DLMOf/roCJuPW4SHlho4+LYU5ggI675SbIa03w1X+oc5p+jo0rlqSpLD+bNGR1PT3MHxikZ5wTiutj/ntuu9qKaF5Ohg93KLndFSK8UgU+b0nBeTAehQbVf/s2Q3JE2HNWvk4S38VP+bQqFwnzVr1rDGm+cghUIxOIRbro2U89J9YjJkWnUCWmtB73LtNA6zOI1PboSTn8lwdPvr2qEmZbaMFGxzUOOjdI/EwtkXlBvuOBKNG8uhs0WJxoqhZ9Q8mZbtczxf18Vp7Cgy5lzAiIEcd7nzeB/FsMJT0fgEDnKMvcA8YCHwMLAc+LuzBXVdL9N1/Xu6rq/Wdf0zXdd/DTwEXKVp2hRn62mado+maTs1TdtZUeFh0bCznfjx4iJ4/WY4voGDpfUUVjezLHsEp+pb+eBA2eC3qb1JfszPiMYWt4O7onGNpX/C/kJ3xp0SefHmN6H8SO/bqTwOH/5YqpnO/R4kW7K9jKH/XuZPHx5h7aHT/OTScbx+zxy3owuyk8IprmmhrrmDl77Iw6zD3QvF2K9pGsunJrL5RGWPYnkOqT4hru648d1fD46GCcvlwrazzf1/6vB74niddIM8t0RU6LpOVWMbrgYNbD1ZzY78Gn50yVjS40L5/ut7KK1tkcIsna0w+aaeK8VmydDAuiL2FtVy07NbKG9w/H+/u7eE9NgQJiY5jv6YbYms2JZXLb2d9SUyVK+2EI5+6Na/X1TdTEpUP4XWYou73ciWs+XMDYpNrnF9qcS5JE3v334VCoVCoVB8NYlQorHHhMZLIbWq4xLbAL04jUeI03jDb+VebMadg9NOT0iZLfF8Jbt6zivbK/eRZ5uhICpNRDfb4uaGiBw1eihapFBYiRotWb6nDzqe31wN7Y3n7rk5Ihku+zNc8j9D3RKFm3gqGj8M/EzTtD7FUDhD1/Xduq5/oev640g8xX2apnnS7fBfy9SpgqLr+nO6rs/QdX1GXJzjgmPnLCGxcMd7Ij69fgsHN63C16Tx+2snkR4Xwguf5zkV9rrMOkXVzd5vU4VF0DUiEowLVweicW1zO7sLa3h7dzErdxax7tBpSvLEzVrlm9C97eEj4YaXpQrwswvh879AV6fjNnR1wNt3g4+/FL8zmUSE00wSFeBlTlY08saOIm6bncq9i8c4jEtwRnaiFGrbcrKS17YVcsXkkd0E5+VTkzDrsHqfG27jMwUIx/Wcl3kxdDRZq2n3Rmsd5G2CcVfQEjSSTv9wDu7ZzD3/2sms329g+qPreeoT51EST32SS2xoAHctGM2zt0+nrdPMfSt201mR67yNsVkyrczllc35bMur5hercnocw2V1LWzLq+aqqYlOXcCp0cEkhAdIrnFdsVw0z75HnO/beo850XWd4poW93OLnVG0TZwcjkRgQzSutBGNS3bLNGlG//arUCgUCoXiq0m4xbARmTakzTir0DRxxlUdlyJ4ACEuClWFJYj4U7ITzv+xjIocbiTPALSe9z66Lk7jsynP2CAqDbra4YmJ8FfL441bLPPOUSFOcfZgMolxzploXJsv03M1ngJg1reU6/8swtfD5f8AJAFHNE3LB2rtF9B13YFVziMsagijEWezO+h2U4U9ITFwx3vo/7qKq4/+kMKk3xAd4s+d80fzi3dy2JFf06NQGMDPVx3grd3FfPmTJcSHefFC5/QhmRqicWAEBISfEY3f2lXMq9sKyKtsora5Z4G3P/ruYolPJLP+9CX3nT+GHy+zERfHXynD/D/4ofTsH34Plv8DEibIBVBrLTRVwc4X5WLoxn9BeKKsGxAqTtNi74vGf1l7jABfE99fkunxutmWYni/W3OYpvYuvr2oe59KRnwok5IieHdv6RkHslMqjogwboivtqQtBJ8AyF0HYy7ovWHH1oK5g/asy1j42Kc83Z6Ib/F+csMbWZgRS0VjG3/bkMvCzFjOS43qtuqugmo2n6ji55eNJ9DPhzFxofz5hinc++oudnftYlZQtBSzsMeSJ9dx+ghrD3YRGxrA2kOnWb2vlOVTrTEUa/aVoetw1ZREp83XNI1Zo2PYnleFXluHBuKannk3rH8ETuW4HJJX2dhOS0dX/53GRdtkPwGhPecFhEJYogyFNCjZKY76EZMAJxccCoVCoVAoFM444zROG9JmnHXEZMgIsWZDNHZhRgodIdPoMTDl1oFvW18IipT7Mftc47piqfeSeBaKxmMvh1MHeo6cDE2Qz0KhGGoSsuHwatEm7M1NRlyi6uBQDBM8FY1zLI+BZL5lmudyqe4YlbIcjKtRnCE4msMXvor5X8t5qOoRyM3iumlL+PPao7z4xckeovG7e0t4Y0cRAJuOVXL99GSPdlff2kFrexfx4Q7E5vLD4BvU/UI1Ihnqimlq6+SX7+YwIiKQyyeNZHRsCGkxIaTFhhDga6KmuZ2U955C70hjqk8k7+8v6y4aA4TGwY2vwMFV8P4P6XpmIXpQNL6t1RLNYHDe1ySSwZaUWbB/pWTamnw8+p+dsa+olvcPlHH/0kziwgI8Xj82NIAR4YGU1LawKCuOCYk94xaWT03k0fcPc6KikTFxDsRHg4oj8r47GmrmHwxpCyB3LSz7fe8NO7waQkdQGJRNZePn+KdNYmrVB3z60CIwmahv7eDSJz7nB//Zy/v3LyQkwHrKeXLDcaJD/LltjjWvadnEEdy7eAydm49TFZOCQ+9GSAwERVN24gBN7en842vTeWL9MR5ZfZC5Y2LOdG68u6+EyckRpLt6L5CIivf2lVJVkk8sSH5UwkT47I+w/VnJenZCUY248PvlNG5vkjiU8253vkzMmO7xFCW7pI3D0bGiUCgUCoVi+JMyG9LPl+s+hfvEZEDOWxIVBq7jKaItRo6lv5Sic8OVlFmQs0riHIyCzKV7ZJo4beja1VfCEuCKvw51KxQK5yRMhN2vQEOZ1bxmYMRwnstOY8VZhUfxFLquf7O3hyfb0zTtI03Tfqhp2qWapl2sadpvgL8A/9F1/YRlmeOapr1os86vNU37i6Zp12qadqGmab8F/gq8reu6ixKUCoDVua3c0flz9Ljx8MatBDWXcuusVNYeOk1hlTWGIq+yiZ+9fYAZo6KIDQ1g0zH3c6A7u8z8e0s+i/73Uy578gvaOx0U2is/JIXYbEXZ8CSoL+b9A2U0t3fx2PWT+Z9rJnH3wnQunJBARnwoKdHBTE6OJKqtlOjEDK6blkRhdTP5lU2OG5N9DXk3f8I/Oy5iT+BsmHc/XPJ7uPZ5+PpquPLJnuukzIL2BmuERj/RdZ0/fniEmBB/vrWw7zlahtv43sWOncRXTUnEpMG7e0pcb6j8SM88Y1syLxKB0r7wmj0dLXB8PYy7nILqFgCix0xD62iSHDEgPNCPx2+cQkF1M4++f+jMqvuKatl4rIK7F44m2L/7RfQPL85irH85n1eHc8IoUGdPbCatZUeIDQ1gQUYsj10/heb2Ln5uiak4UdFITkm9S5exgZFrfLowVxzY4UmS7zzlJuk8aKpyuq4R3dIv0fjoh9DRDBOucr5MbKbEU+i6XNCX7LFGWSxaJA+FQqEYAhYtWsQidQ5SKM4+QmLh6+9KtJvCfYwCxUY9imAX8RQps+B7uyD7mkFpWp9JmQ1tdd3vfcr2yqi2hOyha5dCca5ifK8cRVTUFsho20DHNXkUisHG00xjb7MD+AbwJrASuBL4KWBrufMFbO2eR4DFwMvAB8CtwGOWqcIFuq7z/oFSJmak4Xvts5L1lLeJr89Nw0fTeHmziIRtnV1877Xd+PmaePKW81iUFcvnuRV0mXtP/9h6soornvqCX757kLjQACob2/j0aHnPBcsPW4vgGVicxm/uLCI9LoRpqQ6iCUAyiuuKIWoUi7JkSNhGF6L22rxOftd5O7/m23DhIzD3uzD5Rkhf7NhJnDxTpvbDtPrIptxKtpys4ntLMggL9Ovzdm6elcrX545ibrrji9P48EDmjYnlnb2lzovPdbZLITxHWcEGmRfL9Ph61w068YmIneOvIN/S4RA52uJGsPkBnJ0ew7cXjeH17UWsPXgKkCzjiCA/vj43rcdmfbtaiemqpJCRPP2p4zzk9qgMolryuWLySHxMGhnxofzw4izWHTrNu3tLWb23FE2DK90QjTPiQ4kO8ae1/KQIxj6Wz2jWt6UY3+5XnK5riMbJUUESH2H0DHvC/pWy39R5zpeJyZRYleZqEfTbGywZdEB6ujwUCoViCEhPTyddnYMUCsVXhVhLrYnCrRAQAb7+zpfVNOvyw5mU2TK1vfcp3WMpgqdGtSkUXueMaOxgEH9NgXIZK4YVHovGmqbdpGnaek3TCjVNK7d/eLItXdd/qev6RF3XQ3Vdj9R1fZqu60/put5hs0yaruvfsHn+hqWgXYSu6/66rmfouv4rXdfbHO5EcYacknqKqlu4fNJIiBsnOcJF2xgREcgVk0eyckcR9a0d/OGDIxwsreex66eQGBnE4qw4apo7yCmpc7rtysY2vvvabm5+bisNrZ3847ZpfPjAQuLCAnhrl11xu+ZqaDwlGcO2RCRDcxUH8k9xw/QUp8XLqC8BvQsiRzEqJoS0mGCXTugNh+WwPHKqgZb2rt7fqOh0GWpWtKP3ZXvBbNb504dHSIkO4tbZqb2v4IKLJiTw2+UTnb8vSERFYXUze4p6xI0LVcclniNuPB/lnOLxtUd58Ys83t5dzKdHytldWEOePoKuyDT03HWuG3R4jRxDaQsprGoiLMCX8JSJgNaj1/Shi7KYMDKcn7x9gM+OlrP+cDl3zh9NaICDoXqW6sZJY7J5d2+pw0KMRztGEKfVcfW4kDOv3bUgnWmpkTyy+iD/3VXM3PQYEhxFo9ihaRoz06LwbSiSaAqDhAkwehHseMFpMcWi6hZiQ/0JNjfBS5fA80ugvqzXfZ6hqQpObICJ11mHAzrCKIZXlWutbm04jU+dkodCoVAMAadOneKUOgcpFIqvCkYmbn2J6yJ4ZxNn7n0sorGuQ+nes7MInkJxNhAUKYXXTzkQjWsLVJ6xYljhkWisadqtwCvAcSAZWA2ssWynHvi7txuo8B5rDpTia9K4ODtBBKqU2Wcq5d61IJ2m9i4eeH0P/9ycz53zR3PRhAQAFmTEommu3by/W3OIdYdO8+CFmax/aDGXTRqJr4+Jq6cm8unRcqqb2q0Llx+WabxdREJECgBJpmqunZaEU+zC4RdlxbH5RBVtnT0F4eqmdnYWVDNhZDhdZp2cUufC9xk0TYaTeaEY3nv7SzlUVs/DF40lwNc7+ciuWDZxBAG+Jv5rL9QbVMh7/+rJIO59dRdPfnKc3605xEMr9/HNf+7g2n9s5oI/f8a/KsfSeuxTZv1mDUv+/Blr9pd2305XBxz7ELIuBR8/8quaGRUbjBYQKheedr2m/r4m/nbzVJraOrnrlZ2EBfjyjflpjttYLQXfFs+Zg4+m8czGnvUwN1TIcJ0pQdZj0sek8ecbptDa0UVJbQvLp9q4jIt3wkc/k4tgB8waHUNc12maQ+yOu9n3yU3BkfccrldU00xyVDBsekyqaLc3wVt3ORWZe3DwbRHxJ9/oejnDpVJ1XP4X/7AzBQH56CN5KBQKxRDw0Ucf8ZE6BykUiq8KgeFSUA1cF8E7m9A0y32hRTSuLYSWakg8b2jbpVCcyyRk94ynMJvl+6ecxophhKdO4x8BvwO+a3n+D13X7wRGA5VAT0ugYlig6zofHChjfkYskcGWYVQps0REbKlhUnIEs9Ki+fRoBZOTI/jJpdb4gpjQACYlRTgVjeuaO/gw5xQ3z0zhwQuzCPK3iqPXTU+mo0tn9V6bnN1yS7atXTxFV5iIfMuSO107RGu7h8MvzoqjpaOLXfk1PRb99Eg5Zh1+eEkWIFm6bpE8UwQ6F3m2vdHeaebPa48yfmS4W9m63iAs0I+rpiTy2rZCHl65j/rWjm7zzacPY8bE77Z2cN20ZI49eil7f3URn/7wfFZ9Zx4vf2Mmj984hZEzriJIa+e7o09T09zO6r12onHBl9BSA+OvkKdVTYyKsbh+Hf0AApkJYfzssvF0mXW+MT+NiCAnUR1VIhLHjhrPddOTeXNnMafrW62zG9t4rzQMAK2qe3xFelwoP798PLGhASzLtsno2/YsbH1aig04YE5qKCOoobDLrphJ1iVynH3xV4n2sKOopplpodWw9RmYehtc+YS8N5+5UUQQ4MCbki+dMNH1cpGjwOQnucYluyDpPNfOZIVCoVAoFArFwGCMAHNVBO9sI3U2VJ+ExgrJMwZIVE5jhWLASMiGymPQaTNgvvGURIgqp7FiGOGp6pAJfKnrehfQBYQD6LreAPwJ+J53m6fwFgdK6iSaYrKNkGbkVxXvBOChi7OYlBTBU7ech7+v5dAoPwIf/5zzM6PZU1hDXXMH9ry7r4T2TjM3zkjpMW/ciHCyE8N5a7edaBwYAWGtvjbxAAAgAElEQVTdC2/sqJFiYstSenFp1hRIwbKIZADmpMfg56M5FLXXHz5NQngA52fFkxQZ5Dy2wZ6UWTIt9jyioqG1gxe/yGPp459RVN3Cj5eNxWRyHinhbX5/7STuX5LBqj3FXPrE52w9KcJ3W2cX+/ZsJc+cwDcWjePPN0zG39dEZLA/o2NDOC81igvGxXPttGSWXX4d+AZyR9wx5qTHcLzcriDd4TXgGwRjltLZZaa4poW0GEsxuISJctHZ3rM44dfnjuK1u2fz/SWZzv+B6hNyER4YwX2Lx9Cl6zy/6eSZ2R/mnKLAHIuu+coPbY99pLHj50uJCLaI0roO+V/I3+WHeiwPMC64AZOmk9Mc2X2GyQcu+i2U7YOPftxtVmeXmdLaVm6pfRZ8A2Dpr2DKzXDe7fD5XyC3l0zomnxxdEy+QRwerjD5WB3cp3Os0RQKhUKhUCgUisElxhJRca7EU4DNfeF2yTM2+fVualAoFH0nIVsiNyuOWl+r6W6OUyiGA56KxvVAgOXvEsA2X0ADzqFfznOL9/eXSTSFJXICEOFJ8zkzFGlOegzvfX+B1TEK4s7c8neuCMvFrMOXJyp7bPs/O4rITgxnYlKEw31fNy2ZAyV1HDvdIC8YRfDshLLXDndiRmNCcL3rf6a2AMKTzxQsCwnwZWZadA/RuLWji43HKlg6PgGTSWNqaiR7C90UjROnyXvjQURFYVUzv33vEHP/8Am/W3OIEeGBPHf7dM4fG+/2NryBn4+Jhy4ey3/vm4efj8Ytz2/lf94/xF3/3El4/XFMCeP46WXjXWYj4xckeb6568iMDyW/qska/9FSC4dXQ8ZS8A+mtLaVTrPOqGgbpzG6NYbEBk3TmJcRa+2UcER13pmL8dSYYK6aksiKbYVnIk5W7yslLT4SYtIdisbGfqzbOwkNFqe0gzYB+NTJD/SWqpCeM7OvhvkPws6XYOfLZ14uq2tlDvvJrPkcFj4MYZbv1mWPQXw2vP0tqCvpuT2DA2/KdNINzpexJTYTTn4mcRZJM9xbR6FQKBQKhULhXc5Fp/HIqSIUF26VPOP48WKKUCgUA4PRKWM7QteI4VSisWIY4alovAOYbPl7NfArTdO+pWnaHcBjwFZvNk7hHXRd5/0DZSzItImmAPAPgRGT5OLAEWYzHPsYgIxTHxIW6Nuj4FxOSR0HS+sduowNrpqaiK9J463dxeL6LP//7d13fJX13f/x1ycLskhCJpCEFWZYAiIORAUt2jpQ1LZ2amtvu2zraPu7q23tuGt712r1rl3WVjssWmtbt+BAFBVakSF7i8yEPQJJvr8/vueEk5NzkpOQ5GS8n4/HeZzkGuf6BnJdV/I537w/7zbIM957+BjPrqjkUHIuiQcbKbSBfwcu7E82pg7NZ+X2A/ViDN5YX8HhYzWcP8IX88YVZ7N17xF2HYihZ2JKmv+32RJb0XjZ1n2c99OXeWjBRqaPKOCfXzyTR//rDC4oL4pp/7YwvjSHp2+cwjWnlfKbVzfw7/XbGZi4k4EjYiw4lp0PlesYm15BrYMNuw/5iIbZH/fNDM/4EgAbK/yM4v51M40b6QYbi4p1flZtwOfPGcyR4zU8+NoGtu07wsKNlVwyti+WN9RHiDRl46v+OTElatE4eIN+c08Guw9G+P6YdjsMngZP3wKb/ZssWyr2c3vSwxzNKIHJnz+xbXIqXPUH/6dFj13r85/DOQdLHoXS0+s332tM7mBfMAbNNBYRERGJl2BfifQuVDRO7unjKLa86WcaK89YpG31HgyJPer/zlwXwxnj74ci7aC5ReP/AQJvf3A78BZwP/AgPtP4c603NGktS97bx3t7jnDR6D4NV5ac5jNSIzXu2vY2HNwB6QUkrHyScwdl8srqXbiQZmKPLtpCSlICl42L3rguL6MH5wzL54m3t1Kz7304uq9BnvE/Fr/PsZpaEnNKYF+UJm5Bezc1uJCePdQ3oggtas9ZsYPU5EROH+wnwI8r9dEDMecal0yCrf+JqanZ8+/uoNY5Xr7lHO7+8CmMKc5ucp/2kJaSxPcvG80j10/m0Vl5JLgayB/e9I4AQ84HoPyQL5yv2X4AnvwqbJgHl/wcSicDPs8YYEBeYJZudn9IyYiYa9ykY4f9rOBgZ2p8FvKM8iJ+//pG/vLWFpyDi8f29bM8KtY1/f+zcb5vWNL/jKjxFOzdjLNEtrneLNpY2XB9QiLMesBHosz+OOx/nx6LH2ZYwnscmPJt/4N2qLwhcPE9sOUNeOZW/wZMqO1LYPeq2GcZw4lfUDL7Qq+Qc3naNP8QEYmDadOmMU3XIBHpTgpH+qi8nAHxHknrCjZJP7pXecYibS0xCQqG1/+dec8myChq+LulSBw1q2jsnHvDOffXwMd7nXOXAulAtnPuNOfc+sZfQeIho2cSHz2ttH40RVDJJDh+OPKs0FXP+h+ILrwTjh3gqqxlbNt3tC7f9ujxGp5Y/D4zyotO5MdGccX4Ynbsr2L54sCs5rCi8exFPuIiLa9/40Xj40d9M7OwP9kYXpRJQWaPuogK5xxz3t3J2UPz6JnsG/ON6ptFYoKxOOZmeJPg+CHY2XTxc+GGSkb27UVxTlpsr93OJg/KZVRyoAlc2CzvqHoPhNwy8rfPI8Eg5z/3wuI/wtSvw7iP1m22seIwPZMTKMgM/AlbQkLUZnhNqgxcQnIH1Vv8hXPLOHC0mvteXMPoflkMzEuHvKFQe/zEO7KROAcbXoUBZ/nIiJ0rGxZwwc807tWP5ORk3twQoWgMkJoDH/kLVB2ERz7KyFX3sqB2JNkTLo+8/ehZcOaNPtbi75+r30hv6aOQkATlMxv5xwiTFyga9xtff3lJiX+IiMRBSUkJJboGiUh3kjMAvrgIhl4Y75G0rpLTgMDkIM00Fml7haMbzjRWEzzpYJo707gB51yVc66JEFqJp8H5Gfxw5uj60RRBgdmiwVzjelY/4394GHkpZBQxYZ9v7BUszD63fDv7jhzn6lOb/mXxvBEFZKUms355oLFcSOFy+fshERdZxb5oHDKbuZ59W/xz2MXUzDh7aD6vrtlNTa1j+fv72b7/KNNHnCiUp6YkMrwoM/aicbAZXhMRFceqa/nP5j2cOqB3bK8bLztX+JzmYA5bLIZcQOKm+dzQ63XO2nw/jLkazvlmvU02VRxmQG56/RzhwnJ/A4z2/xhN5Tr/HDLTGGB0cRZTh+ZT6+CSsX39wmARdfea6K9Xsc53oR1wlv+eqz4CezY03G7vZiynP+NLc3ht7W5qa6OMu2AEzPwlvP82PaoP8MuenyE5KTH68ad/10dbLJ0Nf/mwbw5YWwNL/+bjP9Ka8T2TN9QXmktPr798yxb/EBGJgy1btrBF1yAR6W5yB/uJEl1JsBleQnKDCT4i0gYKy+HQLji403++Z5PyjKXDadGdzsxGmtnHzez/mVlRYFmZmWW27vCkzWUVQ69+DYvGe7fA9qUw7EL/p/mjZ5G68UXG57u6ovHsRVsozknl9EFN9z/skZTIx0YYZTufozajENJ645xj2dZ9/PjZVaQkJnDpuL5+PNVHfWZuJHujdxSdOjSffUeOs+S9vbzw7g7M4Lzh9ZvQjSvJ5p0te6MXBUNll/pYg/cWNrrZ0q37qKqu5bSBHbxovGul/wG3OU0tyqZDTRW3VN3HksRyuOTeBg0MN1UcorR32AzrwnIfQ7K/iXzqcMGZxr0HNVh18wXDGFucxaWnBIrGweJ3lGZ4wIk84wFnn/jhN1KucSDy5LJT+rF6x0EefqOR2csjL4GLf85vM2+gKq+JH6jNfJO8i38O61+CP1wMK/7lIzjGNCOaAnyB+XOvwqTP1l8+d65/iIjEwdy5c5mra5CISOeXWehnUReOVBM8kfYQ2guo5jjsf08zjaXDaVbR2MwyzGw2sBT4LfA9IFDB4YfAt1t3eNIuSiY1nE27+ln/HPyzq9FXQu1xru29hDc3VLJmxwFeW1vBlRNKSEioX0RswDlY9CBfW/MpBrKVOcVf4v6X13HBz+bxoXvns2BdBV84t8zPhM4q9vvsizJraU+gmBfhYnpWWR5mfib0nBU7mFCaQ25G/R94xpZkc6CqmvW7DzY+ZvAFv+JTm5xp/FYgzmBiR5lpfGh35IiPXSshf1jzXqv/mZCSSUXP/nz6yFc4bvVjSGprHZsqD5/IMw6K1A02FhXrID0fevZqsGp0cRb/+OJZFGQGMp7SevttKxqZabzxVZ8LlTv4xNceXjSurgpEnpRy5YRipg7N53+eWcH6XY18j0z4JL89eh4lscaRTPgkXPUwbF8Gj37KZz635E8a9UO8iIiIiLSVS+6DC38S71GIdA91RePlgb+2rtVMY+lwmjvT+C7gDGA6kAmEVgufBma00rikPZVM9kXafSGzQlc/62d7BiMA+oyFvKGcdeRFjlXXcuvflmAGsyYWN/7aezbBw5fBk18hoXg8n824l+sXD+LOZ1fSKzWZ7182irf+exo3Tg8cp65oHCXXeO8m32U0o6jBqpz0FMYWZ/P3t7ey/P39TI+Q4XxKiW9Qt3jLvsbHHVRymo8zOLgr6iYLN1YyOD+dvIwWFvP2vw9LZrds30ie/ArcOxFWP3di2fGjfhZvfox5xkHJPeGzc1lw7p+pqE2va3oXtH3/UY5V19I/N6x4GowfiZSV3ZjK9Q2iKRqVOyR6PIVzvgnegLP8GwA9MvxNOLwZXvB7LbsUM+PHs8bQIymRmx59h+qaCPnH+DzvnQeqKAmfYd2YER+Cj/8devTyb8KkdMz8axERERHppgZOgdLT4j0Kke4hPc/XNXYs9z12QDONpcNpbtH4cuDrzrmXgJqwdZsAfYd3RnXZvYGIiqqDsGGenwkZjCIwg9FXkb1zIQOSKnl7816mDMmnX3Zq5Nc8dgjm3w33nwHvLYIP/Qz7xD/50uXTueUDw3j55nP42w1n8LHJ/etnLWcF8pGjxRrs2QTZJVEzxKYOzWdTxWGAennGQYPzM8jskcTiLXsa/SepE8z2eveJiKtrah0LN1YyqaXRFLW18Ni18PhnoTJC1m5LbF/qs3v/8hFY/Ge/rGKNf+eyYHjzXy9/GAOK/f/Lmh31Z99uDBSRB+SGzTTumeXjPVoy0zi3GUXjvCHR4yl2r4GDO/wPv0GF5Q1nGodFnhT26skdl5bz9ua9/Gpe5N6e7+3x32MlvaN8/0cz4Ey4aQVc+OPm7SciIiIiIiJdS7AXUN3vpKXxHY9ImOYWjVOBiijrMmlYSJbOoGg0JKediGFY9yLUHPN5xqFGzwLghry3Abgq0izjqoO+WHz3GJjzbd+06/MLYOK1YMbpg3P5wrllDeMMgtJyIaln9HiKvY2Hw589NB+AgXnpDM5veIyEBGNMSVbszfCKT4WBZ8ML3/YFzTCrth/gwNHqlheN//MH2LzAf7zhlZa9RqjqKv8u5eTP+xm2T9wAr90DO1f69c2daRwwOD8DM1izs37ReHOgQN9gpjH4iIrmFI2rDvqmdRHyjKPKGwqHK+rPkg+qyzMOKRoXjPAF9OpjJ5YF39UNuUFfMrYvHxzTh7vnrGb5+w1npW+pPAIQezxFqJR0SIrQlFJERERERES6j8Jy2LXK1xosEXo18ZfcIu2suUXjhcAnoqybBbx+csORuEhMhn4TTsw0Xv2snylaOrn+dr0HQvEkLqx9lXEl2ZwfGv9QdQBevQvuCRSL+4yBa5+Hjz3WvHfLzHxjvmjxFHs2Nfp6Y4uz6JedysVj+2IWOWt5XEk2K7cd4OjxGN7jSEiAy37p/40e/6wPqA/x1gb/HsqkgU03A2zgwHZfjB4wxf9ZyvpWKBpXbvAzivueAtc8CuUz4YXbYe4dkJB0onlcM6WmJFKck9qgaLyx4jDJiUafrAgzbgtH+dm+x4/GdpA9gZnWzZlpPOxCSEyBF25ruG7jfMjsW78IXTASaquhYm3IcTf5f5vMPnWLzIzvXzqK7LQUvvbXd6iqrv+9sqVupnEHiJiYMcM/RETiYMaMGczQNUhERESk+QpH+Ql7a+dCVj9ITIr3iETqaW7R+DbgcjObA3wGcMBFZvYwcCVqhNd5lUyC7Uv8bM/Vz0HZ+b5QGm7MVfTav5onZmXTIykRju6Hef8Ld4+Gud/1xcrrXvDZrS3Nw8oqjlw0rjoARyobzflJSkxg7k1TuXHakKjbjC3OprrWsWxrjLnGWf3g4ntg67/hlTvrrVq4cQ/9slOjx3Q05plbofqof+1BU30kSG3kDN2YBYuhuWW+YdoVD8Cpn4F9m31W8EnMcB1SkMmaHQfqLdtUcYiS3mkkRmqGWFgOrsY34Itp7IGZ3M2ZaZw7GKbcDMv+BqufP7E8PM84KJi1HJprvHezf6Mi7Aadk57CnVeMZtWOA3zlkcU89u/3+PemSioOVrGl8jApSQnktzTHujUVFfmHiEgcFBUVUaRrkIiIiEjzFQUbyC9VEzzpkJr1NoZz7lUzmwb8CLgP3wjvu8AbwHTn3MLWH6K0i5LT/AzMt34Nh3c3jKYIKp8Jz3wdFj0ImYWw4P/gyB5fZD7nG1A88eTHklUM615quHxP/ezZaHomJza6flxpsBneXiYOiDFWovwyWPMxePWnMPg86H8Gzjne3FDJlCF5sb1GqJVPw7v/gPNu84XPgVNhyV99MTN44wi37R0f9zDuo9FftyLQFC44ozghES76X1/ATW1hhEbAkIIM5q/dTXVNLUmJ/v2mjRWHG+YZBxUGvo7tS6DvuKYPUNmCojHAWV+F5Y/DU1+D/m/4hne7V8OhnfXzjME3zktIalg0jjJ7/bzhhXzu7EH8dv4Gnlm2vW65mY9ASYhULG9v6wO5y4Oa+e8mItIK1geuQYN0DRIRERFpntwhkJAMtcfVBE86pGbPfXfOvQZMMbNUIAfY65w73Oojk/ZVfKp/fu1uX1QrmxZ5u/Q8v27hb/znQz4AU78OxRNabyxZxXBgm4+CCJ3t3EodRQsye9IvOzX2XOOgC38Em16Dxz8HN8xnw4FEdh+s4tRYC89BR/fDUzf5qIQzb/TLBk31zxteiV40fu6/ff7xqFnRZwzvXgsZhdCz14llZj5T+iSVFWRwrLqWLXuOMDAvHeccmysOMXlQlK+/9yBIL/CxG+OjpdqEqFjvx94js3kDS0rxs7V/9wF46Qcw439C8ozParhtbln9Znh7N8OQ6VFf/psXjeDmDwxjS+VhNlYcYsPuw2zcfYiJA3KaN862Mm+ef1bBRkTiYF7gGqSisYiIiEgzJaVA/jDfDC97QLxHI9JAk0VjM7s9hm2CHzrn3PdOdlASB2m9IW8Y7F7lM3ZTGymInX2rLwaeeh30G9/6Y8kqBhzsf79+gbiuo+iAkz7EuJLs5heNe2TCFb+FBy6Ap25mYanP0W12E7wXv+eL4lc/fKIonlXsi5nrX4bTv9Bwn31bfdwCzv8fFY2O/NoVa1ucW9yUIYW+mLtmxwEG5qWz++AxDh2roX+0XN+EBP8Gw+rnoLbGz3puTOV6H6HREqWTYeJ18OYvfcPGDa/6JgI5AxtuWzAS3v+P//j4Ud98r4nZ68mJCQzKz2BQfkbLxiciIiIiIiISrrDcF40101g6oFhmGn8HOAIcwsdRNMYBKhp3ViWTfEEyWjRF3Xan+kdbyQp0DN2/tf6Fc88mSMnwBe6TNK4km6eWbmP3wSryQnJpjx6voUdSQtQmehRP9DEcL/2Agq1GftrlDM6PEs8QrvoYvP0QvPUbmHR9wyiPYERF+Axr8Jm9OP/x9mWNFI3XwPAPxTaeZior8AXTNTsPckG5zzMG6J/XyNdfNh3e+QtsW+ybLTamcp2POWmp6d+GVU/DP7/smwyWTa+fZxxUMNLHWRw75N+YgOY1axQRERERERFpDYXl/lmZxtIBxVI0Xgf0B/4NPAI87pw70Pgu0ikNPtcXLYddFN9x9AoUjcOb4e3d5C+k0Qq6zTC2xOca3zT7HWqdY/u+o2zfd5QDVdXkpqcwvE8mI4p6MaJPL0b1y2JYUUhkwpSb4OBOzl34G36XthGrOqN+HES46mOw+I/w6s98Q7qS02DabQ23GzQVFj3gG+6VTq6/buls6DPON5XbsSzycQ5XwuEKyIveBPBkZPRIom9WT9buPAj4PGMgeqYxwKBzAfPdYBsrGlcdgIM7IPck/ry5ZxZc9BP468f85+HRFEHBZni7Vvo8blDRWERERERERNrfiEtg2xLoMybeIxFpIKGpDZxzQ4AzgOX4WcQ7zOxxM7sykGssXUX55fDVd6F3hD/pb09Z/fzzvi3+eddqeOYbPrrhZIqKIcYUZ9E/N40V2/az/8hxBuWnc8WEYm46fyjTRhSw/0g1D72xiZsefYcP3D2PO/71Ls4FZvomJLLtrO/xreOfpvzIIvjtdB+tEO5wJSx8AO4dD09+FTIK4JrH4NrnIuf2DpgCmM8ADrVzJWxfCmM/AvnDoxeNKwKN5NoongKgrDCTNTv9e0abKg6RmGD0y27kMpCeC31PgbVzGn/h4L9fS+MpgkZcfGKmdXgTvKBg0XjnihM52Soai4iIiIiISHvrPRBmPQDJKq9JxxNTIzzn3CJgEXCzmZ0NfBi4D/idmf0T+JVzbl7bDVPahRlk5Md7FJCSDqm9Yc0cXyjeMM93FC2/DM77VqscomdyIq/ccm6j21TX1LKx4hB/eH0Tv3ttA4eqqvnh5aNJTDDe2lDJH2vO57oLL2DgizfAb86Dy+6HmmM+e3jja7BzuX+h4lPh4rth8LTGZ0mn9YY+Y30zvHO+fmL50tlgiTDqcl88Xv0sONfwtSrW+OfctplpDDCkIIM/vVlBba1jU8Vh+mWnkpLUxHtPZdPh1f/1s3qjZWXXFbxPsmgMcNkvYMunIWdA5PU5AyAp1ReNE5P991Zmn5M/brx8qG3iSEREYvEhXYNERERERLqkmIrGoQLF4Xlm9hXgB8BXgVRARWNpPdmlsPl1yCqBabfDKZ9o94J2UmICZQWZ3HFpOdlpydz74loOH6/hrqvG8taGSjJ6JFE68QIY/CL85SPwlw/7HZPTfATFqMt9TnHxxNgjNQZNhQW/8Hm7Kem+OLz0URh0jp+pXDTKR10c3AGZRfX33b0GEpLaNEB/SEEGR4/XsnXvETZVHKJ/bpQmeKHKpsO8H/s3AMpnRt6mbqZxK8wk75kFQ6ZHX5+QGOhQu9wX6rOKm27S15Hl5cV7BCLSjeXpGiQiIiIi0iU1u2hsZmfiZxrPAjKBx4D7W3lc0t1dfA8c3All0+Je0DMzbrpgGOk9kvjRMys5cqya9bsPMaF/DokJ5mfHfuYFWPEvyBvqs4eTUlp2sIFT4bV7YNMCX/jc8qaPUDj3v/36wlH+efuyhkXjirV+Fm14E71WNKQw2AzvABsrDnPx2Bhm6Pab4Au5a+c0XjTOKPKF8vZQMBLWvegLxp09mmLVKv88bFh8xyEi3dKqwDVomK5BIiIiIiJdSkxFYzMbjy8UXw0UAs/iZxj/0zl3uO2GJ91W33HxHkED/zV1MOk9krjtCZ8pfMX44hMre2bBKR87+YOUng6JKbDhZV80XjLbRykM/6BfXxQoGu9Y2nA2bcXaNo2mACjL91nMCzfuYd+R4403wQtKTPIN8dbOjRyrAT6eojWiKWJVOBLe+bNvwDfq8vY7bltYsMA/q2AjInGwIHANUtFYRERERKRrabIRnpmtAt4AxgDfBgqcc5c55x5RwVi6m49P7s9dV40lP7MH00cUtv4BUgLRFutfgZrjsPzvMPyiE43zUnOgV7GfaRyqtsYXXvPargkeQFZaMgWZPZi7YgcA/WMpGoOPqDiwDXa+G3l95brWiaaIVbAZ3vFDkN12cR4iIiIiIiIiIp1RLDONhwBHgQnAeODH1kg+q3OuoHWGJtIxXT6+mJmn9KOx8+CkDJwKL/3AZxkfqYTRV9VfXzTK5/GG2vce1FRBbtsWjcFHVLy2tgIgtkxj8DEj4CMqCsvrrzu6Hw7tat+ZxgUjT3zc2eMpRERERERERERaWSxF4++2+ShEOpk2KxiDb4b30vfh+dsgtfeJgmtQYTmseQGOH4Xknn5ZxRr/3MbxFABDCjLrisalvWMsGvfqCwXlvmh85o3116180j+3w9jrZPbxkSJH96loLCIiIiIiIiISpsmisXNORWOR9tR3PKRkwuHdMPHaho3tCkeBq4FdK09kP+9e65/z2r7wWlbgm+H1yepJz+RmNCksmwZv3A9VB6GHfw02LYB/3Qj9z4QhF7TBaKMw87ONNy+AHMVTiIiIiIiIiIiEajLTWETaWWISDDjTfxweTQFQNNo/7wjJNa5YCz16QXp+mw9vSKBoHHM0RVDZdKg9Dhtf9Z9XrINHPupn+l79R0hKaeWRNqFwlG8ymFHUvsdtbTNn+oeISBzMnDmTmboGiYiIiIh0ObHEU4hIe5t4nW9+V3Jaw3W9B/liZ2gzvIo1Ps+4LWMzAoYU+qZ8A2JtghdUOhmS02HtXP91/elKP95rHoW03m0w0iZMvRVGz4KETv7eWVZWvEcgIt1Ylq5BIiIiIiJdkorGIh3R0Av8I5KERCgcGTbTeB2Unt4uQ+udnsJHTyvlolF9mrdjUg8YOAXWPOfHvu89+OS/fBE8HjIK/KOzWxb4Phg1Kr7jEJFuaVngGjRK1yARERERkS5FRWORzqhwFKz4JzgHx4/Avi2Q94l2O/wPZ45u2Y5l02H1s7B3M8x6EEojzKSW5lm0yD+rYCMicbAocA1S0VhEREREpGvp5H+XLdJNFY6CI3tg//tQuc4vyy2L75hiMXQG9MyG8++AUZfHezQiIiIiIiIiIhJBXIvGZjbLzF43swozO2pmq8zsW2bWaEcsM8syswfNbI+Z7TOzP5lZbnuNWyTuigIzunYs803woHMUjbNL4Ja1cOaN8R6JiIiIiIiIiKjJd/kAAA6dSURBVIhEEe94ilzgReAnwF5gEvAdoAj4YiP7zQaGAp8BaoE7gSeAKW04VpGOo7DcP29f6iMqAHIHx288zZGYHO8RiIiIiIiIiIhII+JaNHbO/Sps0Utm1gv4gpl9yblgNewEMzsduACY6pybF1i2FXjTzKY75+a0+cBF4q1nFmSXwo7lvgjbqxhS0uM9KhERERERERER6QLiPdM4kgqgsXiKC4EdwYIxgHPuLTPbEFinorF0D4WjfTxFj8zOM8tYWt9VV8V7BCLSjV2la5CIiIiISJfUIRrhmVmimaWZ2VnAl4H7I80yDhgOrIywfEVgnUj3UDTK5xnvWgV5Q+I9GomXtDT/EBGJg7S0NNJ0DRIRERER6XI6ykzjQ0CPwMcPAbc0sm0OPv843B5gUCuPS6TjKiwHVwvHDkKuisbd1uLF/nncuPiOQ0S6pcWBa9A4XYNERERERLqUDjHTGDgD38TuJuBS4L7WPoCZXW9mi8xs0a5du1r75UXaX+GoEx/nlsVvHBJfixefKByLiLSzxYsX1xWORURERESk6+gQRWPn3H+cc/Odc3fh4yluMLNoIa17gKwIy3MC66Id49fOuYnOuYn5+fknP2iReMsZCCkZ/uM8FY1FRERERERERKR1dIiicZj/BJ4HRlm/ksjZxdGyjkW6poQEKBgJiT0gqyTeoxERERERERERkS6iIxaNzww8b4iy/hmgKNA0DwAzm4jPM36mjccm0rGMusI/EhLjPRIREREREREREeki4toIz8yeBeYAy4EafMH4JuCvzrl1gW3WAq84564DcM4tMLPngYfM7GagFrgTmO+cmxOHL0Mkfib/V7xHICIiIiIiIiIiXUxci8bAQuBTwACgGlgPfBP4Zcg2SUD4NMqrgZ8Bv8PPln4Sn4UsItK9XHNNvEcgIt3YNboGiYiIiIh0Seaci/cY2t3EiRPdokWL4j0MERERERERERERkXiySAs7YqaxiIjEauFC/xARiYOFCxeyUNcgEREREZEuR0VjEZHObPly/xARiYPly5ezXNcgEREREZEuR0VjEREREREREREREamjorGIiIiIiIiIiIiI1FHRWERERERERERERETqqGgsIiIiIiIiIiIiInXMORfvMbQ7M9sFbIr3ONpZHrA73oMQkTah81uka9K5LdI16dwW6Zp0bot0Td3h3N7tnJsRvrBbFo27IzNb5JybGO9xiEjr0/kt0jXp3BbpmnRui3RNOrdFuqbufG4rnkJERERERERERERE6qhoLCIiIiIiIiIiIiJ1VDTuPn4d7wGISJvR+S3SNencFumadG6LdE06t0W6pm57bivTWERERERERERERETqaKaxiIiIiIiIiIiIiNRR0bgLMLORZjbXzA6b2ftmdoeZJcawX5aZPWhme8xsn5n9ycxy22PMItK0lpzbZjbAzFyExyPtNW4RaZyZlZnZr8xsiZnVmNnLMe6n+7ZIB9aSc1v3bZGOzcyuNLN/mtlWMztoZv82s4/EsF8PM/upme00s0Nm9pSZDWj7EYtILE7i3I50z36jPcYcD0nxHoCcHDPLAeYA7wKXAoOBn+LfEPhWE7vPBoYCnwFqgTuBJ4ApbTVeEYnNSZ7bADcDr4V8vru1xygiLVYOXAS8ASQ3Yz/dt0U6tpae26D7tkhH9TVgA/BV/Hl5EfBnM8tzzt3byH4/B2YF9tsFfAd4wcxGO+eOtu2QRSQGLT23wf9e/ljI5wfaZojxp0zjTs7MvgncCvR3zu0PLLsVf1MqCi6LsN/pwOvAVOfcvMCyScCbwPnOuTntMHwRieIkzu0B+Jvfxc65J9tlsCLSLGaW4JyrDXz8GJDnnDuniX103xbp4Fp4bg9A922RDitQQNodtuzPwOnOuYFR9ikGNgLXOuceCizrhz/XP++c+23bjlpEmtKSczuwjQO+5Jy7r63H2BEonqLzuxB4LqyA9AiQCkxtYr8dwV88AZxzb+FvZBe2xUBFpFlaem6LSAcXLCo1k+7bIh1cC89tEenAwotKAW8DfRvZ7YLA8+Mhr7MVmI/u2SIdQgvP7W5HRePObziwMnSBc24zcDiwLub9AlY0sZ+ItI+WnttBDwbyFLeZ2V1mltoWgxSRdqP7tkjXpvu2SOdxOrC6kfXDgfeccwfDluueLdKxNXVuB33HzKrNbLeZ/c7Merf1wOJFmcadXw6wN8LyPYF1LdlvUCuMS0ROTkvP7Srg/4Dngf3AOcDX8ZnIl7buEEWkHem+LdI16b4t0omY2TTgMuDaRjZr6c/xIhInMZ7bAH8A/oXPKp8I3AaMNbNJzrmath1l+1PRWESkC3HObQO+GLLoZTPbAfzCzMY6596J09BEREQkjO7bIp1HIIP8z8A/nHO/j+tgRKTVNOfcds59KuTTeWa2AngauBjfoLpLUTxF57cHyIqwPCewrrX3E5H20ZrnaLCz64STGpGIxJPu2yLdh+7bIh1M4M/PnwE2Adc0sbnu2SKdRDPP7UieBQ4C41tzXB2Fisad30rCcpHMrARII3L2YdT9AqJlJopI+2rpuR2JC3sWkc5H922R7kP3bZEOxMzSgCeBFOBDzrnDTeyyEigxs/Sw5bpni3QgLTi3G3DOdel7torGnd8zwAfMLDNk2dXAEeCVJvYrMrOzggvMbCI+F/GZthioiDRLS8/tSGYFnv/dGgMTkbjQfVuk+9B9W6SDMLMk4FFgCDDDObczht2eDzzPDHmdvsAUdM8W6RBaeG5Hep0ZQAZd9J5tJ4ri0hmZWQ7wLrAMuBP/y+NdwN3OuW+FbLcWeMU5d13IsufwJ8jNQG1g/53OuSnt9xWISCQtPbfN7DtAJvAavqHO2cAtwNPOuSva82sQkcgCsxouCnx6E9AL+Hbg86edc4d13xbpfFpybuu+LdKxmdmvgc8CNwJvha1+2zlXZWZzAZxz00L2+xVwBfBVfMOs7wC5wGjn3NF2GLqINKIl57aZXY9vfjcH2I2PpPgWsAo4Q43wpMNxzu0JdHm8D9/BcS/wM/xNKVQSkBi27OrAtr/Dzzp/EvhyW45XRGJzEuf2SnxB6TNAKrAZ+AnwgzYesojErgA/syFU8POBwEZ03xbpjFpybuu+LdKxXRB4vifCuuB5HX6/Bn9/PoSf9JGG/0vBj6hgLNJhtOTcXgd8Ev+GUC9gO/AQcFtXLBiDZhqLiIiIiIiIiIiISAhlGouIiIiIiIiIiIhIHRWNRURERERERERERKSOisYiIiIiIiIiIiIiUkdFYxERERERERERERGpo6KxiIiIiIiIiIiIiNRR0VhERERERERERERE6qhoLCIiIiIiIiIiIiJ1VDQWERERERERERERkToqGouIiIhIl2ZmLobHOWb2ezNbFOexmpktNrNPttPx7jOzB9rjWCIiIiLSeZhzLt5jEBERERFpM2Y2OeTTVOBF4PvAUyHL3wXygVTn3LJ2HF49ZnY18BNgsHPueDscbwCwEhjlnFvb1scTERERkc4hKd4DEBERERFpS865N4Ifm1lG4MN1ocsD9rffqKL6MvBwexSMAZxzG81sPnADcFN7HFNEREREOj7FU4iIiIiIAOHxFMHPzeyDZvaumR02s6fMrLeZlZnZS2Z2KLDNmLDXmmJmrwT2qTCz35hZZhPHLwPOAB4LW55gZgfN7CtmdpeZ7TSzPWZ2S2D9xwPjO2hmj5tZatj+M8xsvpntNbP9gfGeH7LJ34BrzEy/G4iIiIgIoKKxiIiIiEhjSoE7gG8B1+OLur8GHgk8ZuH/eu8RMzMAMzsTmANsD6z/CnAR8GATx5oGHALeCVs+CEgPvE4V8FF8tMaPzew+4MPALcA3gMuATwd3NLNzgCeAF4DLA/vOAapDXv91oBAY3eS/hoiIiIh0C4qnEBERERGJrjdwunNuHUBgRvEtwCedcw8Flhm+iDscWAH8CHjdOXd18EXMbCsw18xGNZKZPAFY4ZyrDVseLObe5Zz7eeD11gDXACOA6S7QqMTMrgeGhex7DfCUc+67IcueDHv95UANMImGBWsRERER6YY001hEREREJLqNwYJxQLBZ3IsRlvUzszTgdGC2mSUFH8B84Di+MBxNEbA7wvIxwF7g/pBl6YHnH7n6na3TgcqQz48AHwhEWxRFOqhzrjrw+hHXi4iIiEj3o6KxiIiIiEh0e8M+PxZheXBZTyAHSAR+gS8SBx9VQDJQ0sixega2CzcamB/WHG8MPmJiXnBBoGA9AAidyXwb8HvgdmCrmT1nZuURjlEVOL6IiIiIiOIpRERERERa0V7AAd8Bno6w/v1G9q0k8mzf0cDssGVjgZXOuaqw7RKAJcEFzrl9wBfN7EZ8ZvIvgQeAyWGvl039GcoiIiIi0o2paCwiIiIi0kqcc4fM7A1gmHPujmbuvgofbVHHzFKBMhpmDY+JsuwQsC5sOc65GuB5M3sOmBh2jHwgDVjdzPGKiIiISBelorGIiIiISOu6Fd/0rhZ4DDgAlAIfBP7bORetOPsacLuZ5TvndgWWleNnD0cqEP88wrLlwUZ6ZvYrfDTGy0AFMAW4Drg+bL+J+NnRrzfjaxQRERGRLkxFYxERERGRVuScm29mZwPfBR7GZxxvAp4FdjSy68v4iIgZgf3AR07Umz1sZjlAMSExFAFjwpatAj4MfAxfeF4OXOmc+0fYfjOAV5xzFbF9hSIiIiLS1Vn9ZssiIiIiIhIvZnYPUOac+2A7HS9Y0P6Gc+6P7XFMEREREen4EuI9ABERERERqfMT4FwzG9pOx7sSOAI80k7HExEREZFOQEVjEREREZEOwjn3HnAt0KedDmnAdc656nY6noiIiIh0AoqnEBEREREREREREZE6mmksIiIiIiIiIiIiInVUNBYRERERERERERGROioai4iIiIiIiIiIiEgdFY1FREREREREREREpI6KxiIiIiIiIiIiIiJSR0VjEREREREREREREamjorGIiIiIiIiIiIiI1Pn/hKBR8pBboMgAAAAASUVORK5CYII=\n",
                  "text/plain": "<Figure size 1440x288 with 1 Axes>"
                },
                "metadata": {
                  "needs_background": "light"
                }
              }
            ],
            "_view_module": "@jupyter-widgets/output",
            "_model_module_version": "1.0.0",
            "_view_count": null,
            "_view_module_version": "1.0.0",
            "layout": "IPY_MODEL_e4d2d1918a2c4afe9da42562b0902293",
            "_model_module": "@jupyter-widgets/output"
          }
        },
        "f8828a237b8147ff9b3d9d2606e6aeeb": {
          "model_module": "@jupyter-widgets/controls",
          "model_name": "DescriptionStyleModel",
          "model_module_version": "1.5.0",
          "state": {
            "_view_name": "StyleView",
            "_model_name": "DescriptionStyleModel",
            "description_width": "",
            "_view_module": "@jupyter-widgets/base",
            "_model_module_version": "1.5.0",
            "_view_count": null,
            "_view_module_version": "1.2.0",
            "_model_module": "@jupyter-widgets/controls"
          }
        },
        "be454406eeca4e6c842f8658176eddfd": {
          "model_module": "@jupyter-widgets/base",
          "model_name": "LayoutModel",
          "model_module_version": "1.2.0",
          "state": {
            "_view_name": "LayoutView",
            "grid_template_rows": null,
            "right": null,
            "justify_content": null,
            "_view_module": "@jupyter-widgets/base",
            "overflow": null,
            "_model_module_version": "1.2.0",
            "_view_count": null,
            "flex_flow": null,
            "width": null,
            "min_width": null,
            "border": null,
            "align_items": null,
            "bottom": null,
            "_model_module": "@jupyter-widgets/base",
            "top": null,
            "grid_column": null,
            "overflow_y": null,
            "overflow_x": null,
            "grid_auto_flow": null,
            "grid_area": null,
            "grid_template_columns": null,
            "flex": null,
            "_model_name": "LayoutModel",
            "justify_items": null,
            "grid_row": null,
            "max_height": null,
            "align_content": null,
            "visibility": null,
            "align_self": null,
            "height": null,
            "min_height": null,
            "padding": null,
            "grid_auto_rows": null,
            "grid_gap": null,
            "max_width": null,
            "order": null,
            "_view_module_version": "1.2.0",
            "grid_template_areas": null,
            "object_position": null,
            "object_fit": null,
            "grid_auto_columns": null,
            "margin": null,
            "display": null,
            "left": null
          }
        },
        "e4d2d1918a2c4afe9da42562b0902293": {
          "model_module": "@jupyter-widgets/base",
          "model_name": "LayoutModel",
          "model_module_version": "1.2.0",
          "state": {
            "_view_name": "LayoutView",
            "grid_template_rows": null,
            "right": null,
            "justify_content": null,
            "_view_module": "@jupyter-widgets/base",
            "overflow": null,
            "_model_module_version": "1.2.0",
            "_view_count": null,
            "flex_flow": null,
            "width": null,
            "min_width": null,
            "border": null,
            "align_items": null,
            "bottom": null,
            "_model_module": "@jupyter-widgets/base",
            "top": null,
            "grid_column": null,
            "overflow_y": null,
            "overflow_x": null,
            "grid_auto_flow": null,
            "grid_area": null,
            "grid_template_columns": null,
            "flex": null,
            "_model_name": "LayoutModel",
            "justify_items": null,
            "grid_row": null,
            "max_height": null,
            "align_content": null,
            "visibility": null,
            "align_self": null,
            "height": null,
            "min_height": null,
            "padding": null,
            "grid_auto_rows": null,
            "grid_gap": null,
            "max_width": null,
            "order": null,
            "_view_module_version": "1.2.0",
            "grid_template_areas": null,
            "object_position": null,
            "object_fit": null,
            "grid_auto_columns": null,
            "margin": null,
            "display": null,
            "left": null
          }
        }
      }
    }
  },
  "cells": [
    {
      "cell_type": "markdown",
      "metadata": {
        "id": "view-in-github",
        "colab_type": "text"
      },
      "source": [
        "<a href=\"https://colab.research.google.com/github/eomorozova/NMA-DL-Project/blob/main/RNN_classifier_Steinmetz_dataset.ipynb\" target=\"_parent\"><img src=\"https://colab.research.google.com/assets/colab-badge.svg\" alt=\"Open In Colab\"/></a>"
      ]
    },
    {
      "cell_type": "markdown",
      "metadata": {
        "id": "0ML2fQFpFMWW"
      },
      "source": [
        "# Setup"
      ]
    },
    {
      "cell_type": "code",
      "metadata": {
        "id": "SlT_Ur7Rzg32"
      },
      "source": [
        "#@title Importing Libraries\n",
        "\n",
        "import os, requests\n",
        "import numpy as np\n",
        "import pandas as pd\n",
        "import matplotlib.pyplot as plt\n",
        "from matplotlib import rcParams\n",
        "import matplotlib.patches as mpatches\n",
        "\n",
        "import torch\n",
        "import torch.nn as nn\n",
        "import torch.nn.functional as F"
      ],
      "execution_count": 65,
      "outputs": []
    },
    {
      "cell_type": "code",
      "metadata": {
        "colab": {
          "base_uri": "https://localhost:8080/"
        },
        "id": "oLS0DDTj6lSE",
        "outputId": "389f87dd-9980-4d61-d89c-4afe75b50949"
      },
      "source": [
        "#@title CUDA Device\n",
        "device = torch.device('cuda' if torch.cuda.is_available() else 'cpu')\n",
        "device"
      ],
      "execution_count": 2,
      "outputs": [
        {
          "output_type": "execute_result",
          "data": {
            "text/plain": [
              "device(type='cuda')"
            ]
          },
          "metadata": {},
          "execution_count": 2
        }
      ]
    },
    {
      "cell_type": "code",
      "metadata": {
        "id": "Wu5QLrOU1zJz"
      },
      "source": [
        "#@title Plotting params\n",
        "\n",
        "rcParams['figure.figsize'] = [20, 4]\n",
        "rcParams['font.size'] =15\n",
        "rcParams['axes.spines.top'] = False\n",
        "rcParams['axes.spines.right'] = False\n",
        "rcParams['figure.autolayout'] = True"
      ],
      "execution_count": 3,
      "outputs": []
    },
    {
      "cell_type": "markdown",
      "metadata": {
        "id": "zEoj5p60FF36"
      },
      "source": [
        "# Load and plot Steinmetz neuropixel dataset"
      ]
    },
    {
      "cell_type": "code",
      "metadata": {
        "colab": {
          "base_uri": "https://localhost:8080/"
        },
        "id": "9a0862nv13h_",
        "outputId": "440d232b-f5c2-4ca8-95ca-67aad2d2bf83"
      },
      "source": [
        "#@title Load Spike times from Steinmetz dataset\n",
        "fname1 = ['steinmetz_st.npz']\n",
        "fname1.append('steinmetz_wav.npz')\n",
        "fname1.append('steinmetz_lfp.npz')\n",
        "url2 = [\"https://osf.io/4bjns/download\"]\n",
        "url2.append(\"https://osf.io/ugm9v/download\")\n",
        "url2.append(\"https://osf.io/kx3v9/download\")\n",
        "\n",
        "\n",
        "for j in range(len(url2)):\n",
        "  if not os.path.isfile(fname1[j]):\n",
        "    try:\n",
        "      r = requests.get(url2[j])\n",
        "    except requests.ConnectionError:\n",
        "      print(\"!!! Failed to download data !!!\")\n",
        "    else:\n",
        "      if r.status_code != requests.codes.ok:\n",
        "        print(\"!!! Failed to download data !!!\")\n",
        "      else:\n",
        "        with open(fname1[j], \"wb\") as fid:\n",
        "          fid.write(r.content)\n",
        "\n",
        "\n",
        "dat_ST = np.load('steinmetz_st.npz', allow_pickle=True)['dat']\n",
        "dat2 = dat_ST[11]\n",
        "del dat_ST\n",
        "print(dat2.keys())"
      ],
      "execution_count": 4,
      "outputs": [
        {
          "output_type": "stream",
          "name": "stdout",
          "text": [
            "dict_keys(['ss', 'ss_passive'])\n"
          ]
        }
      ]
    },
    {
      "cell_type": "code",
      "metadata": {
        "colab": {
          "base_uri": "https://localhost:8080/"
        },
        "id": "9MGtldXX2Dc-",
        "outputId": "958a80f4-f835-4a3a-c4cd-3b620c30f0e9"
      },
      "source": [
        "#@title Load Binned Spike Times\n",
        "\n",
        "fname = []\n",
        "for j in range(3):\n",
        "  fname.append('steinmetz_part%d.npz'%j)\n",
        "url = [\"https://osf.io/agvxh/download\"]\n",
        "url.append(\"https://osf.io/uv3mw/download\")\n",
        "url.append(\"https://osf.io/ehmw2/download\")\n",
        "\n",
        "for j in range(len(url)):\n",
        "  if not os.path.isfile(fname[j]):\n",
        "    try:\n",
        "      r = requests.get(url[j])\n",
        "    except requests.ConnectionError:\n",
        "      print(\"!!! Failed to download data !!!\")\n",
        "    else:\n",
        "      if r.status_code != requests.codes.ok:\n",
        "        print(\"!!! Failed to download data !!!\")\n",
        "      else:\n",
        "        with open(fname[j], \"wb\") as fid:\n",
        "          fid.write(r.content)\n",
        "\n",
        "\n",
        "\n",
        "alldat = np.array([])\n",
        "for j in range(len(fname)):\n",
        "  alldat = np.hstack((alldat, np.load('steinmetz_part%d.npz'%j, allow_pickle=True)['dat']))\n",
        "\n",
        "# select just one of the recordings here. 11 is nice because it has some neurons in vis ctx. \n",
        "dat = alldat[11]\n",
        "print(dat.keys())"
      ],
      "execution_count": 5,
      "outputs": [
        {
          "output_type": "stream",
          "name": "stdout",
          "text": [
            "dict_keys(['spks', 'wheel', 'pupil', 'response', 'response_time', 'bin_size', 'stim_onset', 'contrast_right', 'contrast_left', 'brain_area', 'feedback_time', 'feedback_type', 'gocue', 'mouse_name', 'date_exp', 'trough_to_peak', 'active_trials', 'contrast_left_passive', 'contrast_right_passive', 'spks_passive', 'pupil_passive', 'wheel_passive', 'prev_reward', 'ccf', 'ccf_axes', 'cellid_orig', 'reaction_time', 'face', 'face_passive', 'licks', 'licks_passive'])\n"
          ]
        }
      ]
    },
    {
      "cell_type": "code",
      "metadata": {
        "colab": {
          "base_uri": "https://localhost:8080/",
          "height": 0
        },
        "id": "TNXjOrI23HF7",
        "outputId": "41be3ae8-2dbe-49a2-d2ad-e22edeceee30"
      },
      "source": [
        "#@title DF form\n",
        "dt_waveforms = 1/30000 # dt of waveform\n",
        "binsize = dat['bin_size'] # bin\n",
        "mean_firing = dat['spks'].mean(axis = (1,2)) * 1/binsize # computing mean firing rate\n",
        "t_t_peak = dat['trough_to_peak'] * dt_waveforms * 1e3 # computing trough to peak time in ms\n",
        "\n",
        "\n",
        "labeling_df = pd.DataFrame({\n",
        "    \"Mean Firing Rate\": mean_firing,\n",
        "    \"Trough to peak\": t_t_peak,\n",
        "    \"Region\": dat['brain_area'],\n",
        "    \"Area\":dat['brain_area']\n",
        "})\n",
        "labeling_df.replace(\n",
        "    {\n",
        "        \"Area\": {\"CA1\":\"Hippocampus\",\"DG\":\"Hippocampus\",\"SUB\":\"Hippocampus\",\n",
        "        \"VISp\": \"Visual Ctx\", \"VISam\":\"Visual Ctx\",\"MD\":\"Thalamus\",\"LGd\":\"Thalamus\", \"LH\":\"Thalamus\",\n",
        "        \"PL\":\"Other Ctx\",\"MOs\":\"Other Ctx\",\"ACA\":\"Other Ctx\"\n",
        "        }\n",
        "    }, inplace = True\n",
        ")\n",
        "\n",
        "# Labeling according to conditions, other is the default condition\n",
        "labeling_df['Cell Type'] = \"Other\"\n",
        "labeling_df.loc[(labeling_df['Mean Firing Rate']<5)&(labeling_df['Trough to peak']>0.4),'Cell Type'] = \"Excitatory\"\n",
        "labeling_df.loc[(labeling_df['Mean Firing Rate']>5)&(labeling_df['Trough to peak']<0.4), 'Cell Type'] = \"Inhibitory\"\n",
        "\n",
        "labeling_df.head(20)"
      ],
      "execution_count": 6,
      "outputs": [
        {
          "output_type": "execute_result",
          "data": {
            "text/html": [
              "<div>\n",
              "<style scoped>\n",
              "    .dataframe tbody tr th:only-of-type {\n",
              "        vertical-align: middle;\n",
              "    }\n",
              "\n",
              "    .dataframe tbody tr th {\n",
              "        vertical-align: top;\n",
              "    }\n",
              "\n",
              "    .dataframe thead th {\n",
              "        text-align: right;\n",
              "    }\n",
              "</style>\n",
              "<table border=\"1\" class=\"dataframe\">\n",
              "  <thead>\n",
              "    <tr style=\"text-align: right;\">\n",
              "      <th></th>\n",
              "      <th>Mean Firing Rate</th>\n",
              "      <th>Trough to peak</th>\n",
              "      <th>Region</th>\n",
              "      <th>Area</th>\n",
              "      <th>Cell Type</th>\n",
              "    </tr>\n",
              "  </thead>\n",
              "  <tbody>\n",
              "    <tr>\n",
              "      <th>0</th>\n",
              "      <td>0.731765</td>\n",
              "      <td>0.800000</td>\n",
              "      <td>VISp</td>\n",
              "      <td>Visual Ctx</td>\n",
              "      <td>Excitatory</td>\n",
              "    </tr>\n",
              "    <tr>\n",
              "      <th>1</th>\n",
              "      <td>0.237647</td>\n",
              "      <td>0.666667</td>\n",
              "      <td>VISp</td>\n",
              "      <td>Visual Ctx</td>\n",
              "      <td>Excitatory</td>\n",
              "    </tr>\n",
              "    <tr>\n",
              "      <th>2</th>\n",
              "      <td>5.368235</td>\n",
              "      <td>0.766667</td>\n",
              "      <td>VISp</td>\n",
              "      <td>Visual Ctx</td>\n",
              "      <td>Other</td>\n",
              "    </tr>\n",
              "    <tr>\n",
              "      <th>3</th>\n",
              "      <td>0.190588</td>\n",
              "      <td>0.566667</td>\n",
              "      <td>DG</td>\n",
              "      <td>Hippocampus</td>\n",
              "      <td>Excitatory</td>\n",
              "    </tr>\n",
              "    <tr>\n",
              "      <th>4</th>\n",
              "      <td>1.356471</td>\n",
              "      <td>0.633333</td>\n",
              "      <td>VISp</td>\n",
              "      <td>Visual Ctx</td>\n",
              "      <td>Excitatory</td>\n",
              "    </tr>\n",
              "    <tr>\n",
              "      <th>5</th>\n",
              "      <td>0.000000</td>\n",
              "      <td>0.733333</td>\n",
              "      <td>VISp</td>\n",
              "      <td>Visual Ctx</td>\n",
              "      <td>Excitatory</td>\n",
              "    </tr>\n",
              "    <tr>\n",
              "      <th>6</th>\n",
              "      <td>0.141176</td>\n",
              "      <td>0.600000</td>\n",
              "      <td>SUB</td>\n",
              "      <td>Hippocampus</td>\n",
              "      <td>Excitatory</td>\n",
              "    </tr>\n",
              "    <tr>\n",
              "      <th>7</th>\n",
              "      <td>2.327059</td>\n",
              "      <td>0.733333</td>\n",
              "      <td>DG</td>\n",
              "      <td>Hippocampus</td>\n",
              "      <td>Excitatory</td>\n",
              "    </tr>\n",
              "    <tr>\n",
              "      <th>8</th>\n",
              "      <td>0.030588</td>\n",
              "      <td>0.633333</td>\n",
              "      <td>VISp</td>\n",
              "      <td>Visual Ctx</td>\n",
              "      <td>Excitatory</td>\n",
              "    </tr>\n",
              "    <tr>\n",
              "      <th>9</th>\n",
              "      <td>0.798824</td>\n",
              "      <td>0.400000</td>\n",
              "      <td>VISp</td>\n",
              "      <td>Visual Ctx</td>\n",
              "      <td>Other</td>\n",
              "    </tr>\n",
              "    <tr>\n",
              "      <th>10</th>\n",
              "      <td>0.048235</td>\n",
              "      <td>0.566667</td>\n",
              "      <td>SUB</td>\n",
              "      <td>Hippocampus</td>\n",
              "      <td>Excitatory</td>\n",
              "    </tr>\n",
              "    <tr>\n",
              "      <th>11</th>\n",
              "      <td>0.124706</td>\n",
              "      <td>0.266667</td>\n",
              "      <td>DG</td>\n",
              "      <td>Hippocampus</td>\n",
              "      <td>Other</td>\n",
              "    </tr>\n",
              "    <tr>\n",
              "      <th>12</th>\n",
              "      <td>0.245882</td>\n",
              "      <td>0.566667</td>\n",
              "      <td>VISp</td>\n",
              "      <td>Visual Ctx</td>\n",
              "      <td>Excitatory</td>\n",
              "    </tr>\n",
              "    <tr>\n",
              "      <th>13</th>\n",
              "      <td>0.145882</td>\n",
              "      <td>0.633333</td>\n",
              "      <td>VISp</td>\n",
              "      <td>Visual Ctx</td>\n",
              "      <td>Excitatory</td>\n",
              "    </tr>\n",
              "    <tr>\n",
              "      <th>14</th>\n",
              "      <td>1.222353</td>\n",
              "      <td>0.566667</td>\n",
              "      <td>SUB</td>\n",
              "      <td>Hippocampus</td>\n",
              "      <td>Excitatory</td>\n",
              "    </tr>\n",
              "    <tr>\n",
              "      <th>15</th>\n",
              "      <td>0.205882</td>\n",
              "      <td>0.466667</td>\n",
              "      <td>VISp</td>\n",
              "      <td>Visual Ctx</td>\n",
              "      <td>Excitatory</td>\n",
              "    </tr>\n",
              "    <tr>\n",
              "      <th>16</th>\n",
              "      <td>0.444706</td>\n",
              "      <td>0.566667</td>\n",
              "      <td>VISp</td>\n",
              "      <td>Visual Ctx</td>\n",
              "      <td>Excitatory</td>\n",
              "    </tr>\n",
              "    <tr>\n",
              "      <th>17</th>\n",
              "      <td>0.195294</td>\n",
              "      <td>0.633333</td>\n",
              "      <td>VISp</td>\n",
              "      <td>Visual Ctx</td>\n",
              "      <td>Excitatory</td>\n",
              "    </tr>\n",
              "    <tr>\n",
              "      <th>18</th>\n",
              "      <td>0.375294</td>\n",
              "      <td>0.400000</td>\n",
              "      <td>SUB</td>\n",
              "      <td>Hippocampus</td>\n",
              "      <td>Other</td>\n",
              "    </tr>\n",
              "    <tr>\n",
              "      <th>19</th>\n",
              "      <td>2.901176</td>\n",
              "      <td>0.600000</td>\n",
              "      <td>SUB</td>\n",
              "      <td>Hippocampus</td>\n",
              "      <td>Excitatory</td>\n",
              "    </tr>\n",
              "  </tbody>\n",
              "</table>\n",
              "</div>"
            ],
            "text/plain": [
              "    Mean Firing Rate  Trough to peak Region         Area   Cell Type\n",
              "0           0.731765        0.800000   VISp   Visual Ctx  Excitatory\n",
              "1           0.237647        0.666667   VISp   Visual Ctx  Excitatory\n",
              "2           5.368235        0.766667   VISp   Visual Ctx       Other\n",
              "3           0.190588        0.566667     DG  Hippocampus  Excitatory\n",
              "4           1.356471        0.633333   VISp   Visual Ctx  Excitatory\n",
              "5           0.000000        0.733333   VISp   Visual Ctx  Excitatory\n",
              "6           0.141176        0.600000    SUB  Hippocampus  Excitatory\n",
              "7           2.327059        0.733333     DG  Hippocampus  Excitatory\n",
              "8           0.030588        0.633333   VISp   Visual Ctx  Excitatory\n",
              "9           0.798824        0.400000   VISp   Visual Ctx       Other\n",
              "10          0.048235        0.566667    SUB  Hippocampus  Excitatory\n",
              "11          0.124706        0.266667     DG  Hippocampus       Other\n",
              "12          0.245882        0.566667   VISp   Visual Ctx  Excitatory\n",
              "13          0.145882        0.633333   VISp   Visual Ctx  Excitatory\n",
              "14          1.222353        0.566667    SUB  Hippocampus  Excitatory\n",
              "15          0.205882        0.466667   VISp   Visual Ctx  Excitatory\n",
              "16          0.444706        0.566667   VISp   Visual Ctx  Excitatory\n",
              "17          0.195294        0.633333   VISp   Visual Ctx  Excitatory\n",
              "18          0.375294        0.400000    SUB  Hippocampus       Other\n",
              "19          2.901176        0.600000    SUB  Hippocampus  Excitatory"
            ]
          },
          "metadata": {},
          "execution_count": 6
        }
      ]
    },
    {
      "cell_type": "code",
      "metadata": {
        "colab": {
          "base_uri": "https://localhost:8080/"
        },
        "id": "0ku5qI80Fnk6",
        "outputId": "d97be43e-1dc1-47e3-dd52-c3182783f41f"
      },
      "source": [
        "labeling_df['Region'].unique()"
      ],
      "execution_count": 7,
      "outputs": [
        {
          "output_type": "execute_result",
          "data": {
            "text/plain": [
              "array(['VISp', 'DG', 'SUB', 'LGd', 'PL', 'root', 'MOs', 'ACA', 'CA1',\n",
              "       'VISam', 'MD', 'LH'], dtype=object)"
            ]
          },
          "metadata": {},
          "execution_count": 7
        }
      ]
    },
    {
      "cell_type": "code",
      "metadata": {
        "colab": {
          "base_uri": "https://localhost:8080/",
          "height": 0
        },
        "id": "7qYC7BbvBSQm",
        "outputId": "94340f95-4edb-41e6-e966-e37f3cbd80a1"
      },
      "source": [
        "#dat['spks'][1,:,].shape\n",
        "#Neurons,trials,time\n",
        "plt.imshow(dat['spks'][dat['brain_area']=='DG',3,:])\n",
        "plt.ylabel('Neurons');\n",
        "plt.xlabel('Time ($bins$)');\n"
      ],
      "execution_count": 8,
      "outputs": [
        {
          "output_type": "display_data",
          "data": {
            "image/png": "[encoded data removed]",
            "text/plain": [
              "<Figure size 1440x288 with 1 Axes>"
            ]
          },
          "metadata": {
            "needs_background": "light"
          }
        }
      ]
    },
    {
      "cell_type": "code",
      "metadata": {
        "colab": {
          "base_uri": "https://localhost:8080/",
          "height": 0,
          "referenced_widgets": [
            "6f7b1921122f43308ac2a7a9b3b09c78",
            "b6b0afacfdf849af8c28cdb4e61ef20c",
            "a62bd2922050493ca63c9beddafc54f6",
            "00e5ed728bad42ae80e737c4ac212406",
            "603cf62c8fd345079a131b2f7e6fdc84",
            "68a835424b1d4af9a468936af45fae8a",
            "8eb25e2cc36944999c6b3faaca03048e",
            "e7cf94943fcf437a850f88d7e76881be",
            "043d4740ab414e54964c45ff15e87ccf",
            "5e6147caee06442b88fca020a538650a"
          ]
        },
        "id": "Z4aYibiU2bW0",
        "outputId": "4cd848ec-3a07-443e-b0a9-b4c6dda82eb2"
      },
      "source": [
        "#@title Raster visualizer\n",
        "from ipywidgets import interact\n",
        "import ipywidgets as widgets\n",
        "vis_right = dat['contrast_right'] # 0 - low - high\n",
        "vis_left = dat['contrast_left'] # 0 - low - high\n",
        "is_correct = np.sign(dat['response'])==np.sign(vis_left-vis_right)\n",
        "def raster_visualizer(area,trial):\n",
        "  spikes= dat2['ss']\n",
        "  plt.figure(figsize=(11,7))\n",
        "  plt.eventplot(spikes[labeling_df['Area']==area][:,trial],color='k')\n",
        "  #plt.eventplot(spikes[(labeling_df['Area']==area) & (labeling_df['Cell Type']=='Excitatory')][:,trial]);\n",
        "  #plt.eventplot(spikes[(labeling_df['Area']==area) & (labeling_df['Cell Type']=='Other')][:,trial],color='k');\n",
        "  #plt.eventplot(spikes[(labeling_df['Area']==area) & (labeling_df['Cell Type']=='Inhibitory')][:,trial],colors = 'r');\n",
        "  #plt.yticks([]);\n",
        "  plt.vlines(0.5,0,len(spikes[(labeling_df['Area']==area)])-10,'red','--',alpha=0.5)\n",
        "  plt.ylabel('Neurons');\n",
        "  plt.xlabel('Time ($s$)');\n",
        "  plt.title(f'Trial was correct?:{is_correct[trial]}')\n",
        "interact(raster_visualizer, area=['Hippocampus','Visual Ctx','Thalamus','Other Ctx'], trial=(0,339));"
      ],
      "execution_count": 9,
      "outputs": [
        {
          "output_type": "display_data",
          "data": {
            "application/vnd.jupyter.widget-view+json": {
              "model_id": "6f7b1921122f43308ac2a7a9b3b09c78",
              "version_minor": 0,
              "version_major": 2
            },
            "text/plain": [
              "interactive(children=(Dropdown(description='area', options=('Hippocampus', 'Visual Ctx', 'Thalamus', 'Other Ct…"
            ]
          },
          "metadata": {}
        }
      ]
    },
    {
      "cell_type": "code",
      "metadata": {
        "colab": {
          "base_uri": "https://localhost:8080/",
          "height": 0,
          "referenced_widgets": [
            "fabd9d24119844af999d510a7b602b98",
            "bfb1d481215e42968edbdc733efcca6f",
            "25eed1d8546c46c895d9e24da3f10f72",
            "894a378d65594509a07b742476820d5b",
            "f8828a237b8147ff9b3d9d2606e6aeeb",
            "be454406eeca4e6c842f8658176eddfd",
            "e4d2d1918a2c4afe9da42562b0902293"
          ]
        },
        "id": "haBEGaS43h7V",
        "outputId": "4795fe52-e4cf-4afa-a52e-63940b6b19ec"
      },
      "source": [
        "#@title Mean firing rate for correct and incorrect trials\n",
        "# response = dat['response'] # right - nogo - left (-1, 0, 1)\n",
        "\n",
        "def mean_firing(area):\n",
        "  Selection = (labeling_df['Area']==area) #& (labeling_df['Cell Type']=='Excitatory')\n",
        "  spikes = dat['spks'][Selection].mean(axis = 0) #selecting spikes\n",
        "  mean_fr_e = spikes[is_correct==True].mean(axis=(0))*1/binsize\n",
        "  mean_fr_i = spikes[is_correct==False].mean(axis=(0))*1/binsize\n",
        "  time = binsize * np.arange(dat['spks'].shape[-1])\n",
        "  plt.plot(time, mean_fr_e,label='correct')\n",
        "  plt.plot(time, mean_fr_i,label='incorrect')\n",
        "  plt.axvline(x=0.5,ls = '--', alpha = 0.5, c = 'r', label='Stim')\n",
        "  plt.axvline(x=np.mean(dat['response_time']),ls = '--', alpha = 0.5, c = 'k', label='Response')\n",
        "  plt.ylabel('Mean Firing Rate ($Hz$)')\n",
        "  plt.xlabel('Time ($ms$)')\n",
        "  plt.legend()\n",
        "interact(mean_firing, area=['Hippocampus','Visual Ctx','Thalamus','Other Ctx']);"
      ],
      "execution_count": 10,
      "outputs": [
        {
          "output_type": "display_data",
          "data": {
            "application/vnd.jupyter.widget-view+json": {
              "model_id": "fabd9d24119844af999d510a7b602b98",
              "version_minor": 0,
              "version_major": 2
            },
            "text/plain": [
              "interactive(children=(Dropdown(description='area', options=('Hippocampus', 'Visual Ctx', 'Thalamus', 'Other Ct…"
            ]
          },
          "metadata": {}
        }
      ]
    },
    {
      "cell_type": "markdown",
      "metadata": {
        "id": "9xeY2WP38gGF"
      },
      "source": [
        "# RNN Classifier of correct and incorrect trials"
      ]
    },
    {
      "cell_type": "code",
      "metadata": {
        "id": "Utwk1WJ07LcL"
      },
      "source": [
        "#@title set up RNN\n",
        "class RNNClass(nn.Module):\n",
        "  def __init__(self,input_size,hidden_size,num_layers,num_classes):\n",
        "    super(RNNClass,self).__init__()\n",
        "    self.num_layers = num_layers\n",
        "    self.hidden_size = hidden_size\n",
        "    self.rnn = nn.RNN(input_size,hidden_size,num_layers)\n",
        "    self.fc = nn.Linear(hidden_size,num_classes)\n",
        "\n",
        "  def forward(self,x):\n",
        "    h0 = torch.zeros(self.num_layers,x.size(1),self.hidden_size).to(device)\n",
        "    out,h = self.rnn(x,h0)\n",
        "\n",
        "\n",
        "    out = out[-1,:,:]\n",
        "    out = torch.nn.functional.softmax(self.fc(out))\n",
        "    return out, h\n"
      ],
      "execution_count": 11,
      "outputs": []
    },
    {
      "cell_type": "markdown",
      "metadata": {
        "id": "d62PzOr_IHZ1"
      },
      "source": [
        "# Prepare the data for RNN"
      ]
    },
    {
      "cell_type": "code",
      "metadata": {
        "id": "TQa-iw8kHpch"
      },
      "source": [
        "#@title Input: Binned spike times from Thalamus and associated labels, correct/incorrect trials\n",
        "input = torch.from_numpy(dat['spks'][labeling_df['Area']=='Thalamus',:,:].T.astype(np.float32)).to(device)\n",
        "#input = torch.from_numpy(dat['spks'][labeling_df['Area']=='Visual Ctx',:,:].T.astype(np.float32)).to(device)\n",
        "labels = torch.from_numpy(is_correct.astype(np.int)).to(device)"
      ],
      "execution_count": 95,
      "outputs": []
    },
    {
      "cell_type": "code",
      "metadata": {
        "id": "dwZgLGxzvqv4",
        "colab": {
          "base_uri": "https://localhost:8080/"
        },
        "outputId": "82b5ae87-80db-4791-f66a-73d3df685ac3"
      },
      "source": [
        "#@title Take 70% of data for traininig\n",
        "div_trials = 0.7\n",
        "idx=np.random.choice(labels[labels==1].size(0),labels.size(0))\n",
        "\n",
        "# determine the size of the training set\n",
        "print(f'size of labels: {labels.size()[0]}')\n",
        "print(f'size of 1s: {(labels==1).nonzero(as_tuple=True)[0].size(0)}')\n",
        "print(f'size of 0s: {(labels==0).nonzero(as_tuple=True)[0].size(0)}')\n",
        "#print('********************************')\n",
        "#train_0s_size = int((labels==0).nonzero(as_tuple=True)[0].size(0)*div_trials)\n",
        "#print(f'80% of 0s: {train_0s_size}')"
      ],
      "execution_count": 96,
      "outputs": [
        {
          "output_type": "stream",
          "name": "stdout",
          "text": [
            "size of labels: 340\n",
            "size of 1s: 236\n",
            "size of 0s: 104\n"
          ]
        }
      ]
    },
    {
      "cell_type": "markdown",
      "metadata": {
        "id": "C-62_rQbJHG3"
      },
      "source": [
        "The original dataset is imbalanced: more correct than incorrect trials.\n",
        "Balance it by taking equal number of correct and incorrect trials"
      ]
    },
    {
      "cell_type": "code",
      "metadata": {
        "id": "zFHtMUvx0a-a"
      },
      "source": [
        "# getting balanced indexes for training\n",
        "\n",
        "idx_1s = (labels==1).nonzero(as_tuple=True)[0]\n",
        "size_0s_all = (labels==0).nonzero(as_tuple=True)[0].size(0)\n",
        "size_0s = (labels==0).nonzero(as_tuple=True)[0].size(0)*0.7\n",
        "size_0s = round(size_0s)\n",
        "\n",
        "idx_1_train = idx_1s[:size_0s] # to match the size of labels 0\n",
        "idx_0_train = (labels==0).nonzero(as_tuple=True)[0][:size_0s] \n",
        "idx_train = torch.cat((idx_1_train, idx_0_train), 0)\n",
        "#print(idx_train,idx_train.size(0))\n",
        "\n",
        "# getting balanced indexes for validation\n",
        "\n",
        "idx_0_test = (labels==0).nonzero(as_tuple=True)[0][size_0s:]\n",
        "idx_1_test = (labels==1).nonzero(as_tuple=True)[0][size_0s:size_0s_all]\n",
        "idx_test = torch.cat((idx_1_test, idx_0_test), 0)\n",
        "#print(idx_test,idx_test.size(0))\n",
        "\n",
        "# getting balanced dataset\n",
        "\n",
        "input_train = input[:,idx_train,:]\n",
        "input_test = input[:,idx_test,:]\n",
        "\n",
        "label_train = labels[idx_train]\n",
        "label_test = labels[idx_test]\n",
        "\n",
        "# shuffle the labels\n",
        "idx_rand=[torch.randperm(label_train.size()[0])]\n",
        "label_train_perm=label_train[idx_rand]\n",
        "input_train_perm=input_train[:,torch.cat(idx_rand).numpy(),:]\n",
        "\n",
        "idx_rand=[torch.randperm(label_test.size()[0])]\n",
        "label_test_perm=label_test[idx_rand]\n",
        "input_test_perm=input_test[:,torch.cat(idx_rand).numpy(),:]\n",
        "#print(label_train_perm, label_train_perm.shape)"
      ],
      "execution_count": 97,
      "outputs": []
    },
    {
      "cell_type": "markdown",
      "metadata": {
        "id": "JOFi-R8AJ4Nz"
      },
      "source": [
        "# RNN"
      ]
    },
    {
      "cell_type": "code",
      "metadata": {
        "id": "6MMGBb5pEVpj"
      },
      "source": [
        "#@title Set hyperparameters for RNN\n",
        "input_size = input_train.size(-1)\n",
        "hidden_size = 3\n",
        "num_layers = 1\n",
        "num_classes = 2\n",
        "learning_rate = 0.0005\n",
        "niter = 2000"
      ],
      "execution_count": 101,
      "outputs": []
    },
    {
      "cell_type": "code",
      "metadata": {
        "id": "bhzP9ZCPNMaB"
      },
      "source": [
        "#@title Train and test the network\n",
        "train_acc=[]\n",
        "val_acc=[]\n",
        "training_loss=[]\n",
        "valid_loss=[]\n",
        "\n",
        "\n",
        "model = RNNClass(input_size,hidden_size,num_layers,num_classes).to(device)\n",
        "\n",
        "criterion = nn.CrossEntropyLoss()\n",
        "optimizer = torch.optim.Adam(model.parameters(),lr=learning_rate)\n",
        "\n",
        "for k in range(niter):\n",
        "  \n",
        "  model.train()\n",
        "  train_loss = 0.\n",
        "  correct,total = 0, 0\n",
        "\n",
        "  optimizer.zero_grad()\n",
        "  outputs, h = model(input_train)\n",
        "  #print(h)\n",
        "  loss = criterion(outputs,label_train)\n",
        "  loss.backward()\n",
        "  optimizer.step()\n",
        "  train_loss = loss.item()\n",
        "  training_loss.append(train_loss)\n",
        "\n",
        "  # get accuracy\n",
        "  _, predicted = torch.max(outputs, 1)\n",
        "  #print(predicted)\n",
        "  total = label_train.size(0)\n",
        "  correct = (predicted == label_train).sum().item()\n",
        "  train_accuracy=100*correct/total\n",
        "  train_acc.append(train_accuracy)\n",
        "\n",
        "  if k % 100 == 0:\n",
        "    #print(f'iteration {k}, cost {loss.item():.4f}')\n",
        "    print(f'Epoch: {k + 1}, '\n",
        "          f'Training Loss: {train_loss:.4f}, '\n",
        "          f'Training Accuracy: {100*correct/total: .2f}%')\n",
        "    \n",
        "  model.eval()\n",
        "  correct, total = 0, 0\n",
        "\n",
        "  with torch.no_grad():\n",
        "\n",
        "    optimizer.zero_grad()\n",
        "    outputs,h = model(input_test)\n",
        "\n",
        "    loss = criterion(outputs, label_test)\n",
        "    validation_loss = loss.item()\n",
        "    valid_loss.append(validation_loss)\n",
        "\n",
        "      # get accuracy\n",
        "    _, predicted = torch.max(outputs, 1)\n",
        "    total = label_test.size(0)\n",
        "    correct = (predicted == label_test).sum().item()\n",
        "    valid_accuracy=100*correct/total\n",
        "    val_acc.append(valid_accuracy)\n",
        "\n",
        "  if k % 100 == 0:\n",
        "    print (f'Validation Loss: {validation_loss:.4f}, '\n",
        "           f'Validation Accuracy: {100*correct/total: .2f}%')"
      ],
      "execution_count": null,
      "outputs": []
    },
    {
      "cell_type": "code",
      "metadata": {
        "colab": {
          "base_uri": "https://localhost:8080/",
          "height": 375
        },
        "id": "UtomnEwO8Pz9",
        "outputId": "b602e59b-35d5-48c4-cf86-a155839cfd00"
      },
      "source": [
        "#@title Plot accuracy for training and test datasets and a loss\n",
        "plt.figure(figsize=(10,5))\n",
        "plt.subplot(1,2,1)\n",
        "plt.plot(np.arange(0, niter), train_acc, label='train accuracy', color='blue')\n",
        "plt.plot(np.arange(0, niter), val_acc, label='validation accuracy', color='red')\n",
        "plt.legend(loc='lower right')\n",
        "plt.xlabel('epoch')\n",
        "plt.ylabel('Accuracy, %')\n",
        "\n",
        "plt.subplot(1,2,2)\n",
        "plt.plot(np.arange(0, niter), training_loss, label='training loss', color='blue')\n",
        "plt.plot(np.arange(0, niter), valid_loss, label='validation loss', color='red')\n",
        "plt.legend(loc='upper right')\n",
        "plt.xlabel('epoch')\n",
        "plt.ylabel('Loss')\n",
        "\n",
        "# uncomment to save the figure\n",
        "#from google.colab import files\n",
        "#plt.savefig('accuracy_loss_thalamus.png')\n",
        "#files.download(\"accuracy_loss_thalamus.png\") "
      ],
      "execution_count": 103,
      "outputs": [
        {
          "output_type": "execute_result",
          "data": {
            "text/plain": [
              "Text(0, 0.5, 'Loss')"
            ]
          },
          "metadata": {},
          "execution_count": 103
        },
        {
          "output_type": "display_data",
          "data": {
            "image/png": "[encoded data removed]",
            "text/plain": [
              "<Figure size 720x360 with 2 Axes>"
            ]
          },
          "metadata": {
            "needs_background": "light"
          }
        }
      ]
    },
    {
      "cell_type": "code",
      "metadata": {
        "colab": {
          "base_uri": "https://localhost:8080/"
        },
        "id": "vFwoAhVh_IF4",
        "outputId": "02d63a83-4b99-470c-d96e-a8a24540e4ae"
      },
      "source": [
        "#@title Calculate the confusion matrix\n",
        "from sklearn.metrics import confusion_matrix\n",
        "confusion_matrix(label_test.cpu().numpy(), predicted.cpu().numpy())\n",
        "# tn,fp,fn,tp"
      ],
      "execution_count": 104,
      "outputs": [
        {
          "output_type": "execute_result",
          "data": {
            "text/plain": [
              "array([[28,  3],\n",
              "       [14, 17]])"
            ]
          },
          "metadata": {},
          "execution_count": 104
        }
      ]
    },
    {
      "cell_type": "markdown",
      "metadata": {
        "id": "mnklbk12KQzh"
      },
      "source": [
        "# Explore the latent state of RNN"
      ]
    },
    {
      "cell_type": "code",
      "metadata": {
        "colab": {
          "base_uri": "https://localhost:8080/",
          "height": 375
        },
        "id": "3O-mNh29_rzX",
        "outputId": "cc1819f0-79ae-476d-b364-bbd6d185d5de"
      },
      "source": [
        "# plot latents\n",
        "col = np.array(['#C04818','#0480A1'])\n",
        "fig = plt.figure(figsize=(5,5))\n",
        "ax = fig.add_subplot(projection='3d')\n",
        "h = h.cpu()\n",
        "label_test_perm = label_test_perm.cpu()\n",
        "#plt.scatter(h[0,:,0], h[0,:,1], c=col[label_test_perm], s=20, edgecolors='none')\n",
        "ax.scatter(h[0,:,0], h[0,:,1], h[0,:,2],c=col[label_test_perm],alpha=1)\n",
        "ax.set_xlabel('Latent 1')\n",
        "ax.set_ylabel('Latent 2')\n",
        "ax.set_zlabel('Latent 3')\n",
        "pop_a = mpatches.Patch(color=col[0], label='correct')\n",
        "pop_b = mpatches.Patch(color=col[1], label='incorrect')\n",
        "plt.legend(handles=[pop_a,pop_b],loc='upper left')\n",
        "\n",
        "\n",
        "#plt.scatter(h[0,:,0], h[0,:,1], s=20, edgecolors='none')"
      ],
      "execution_count": 106,
      "outputs": [
        {
          "output_type": "execute_result",
          "data": {
            "text/plain": [
              "<matplotlib.legend.Legend at 0x7f1f4ff074d0>"
            ]
          },
          "metadata": {},
          "execution_count": 106
        },
        {
          "output_type": "display_data",
          "data": {
            "image/png": "[encoded data removed]",
            "text/plain": [
              "<Figure size 360x360 with 1 Axes>"
            ]
          },
          "metadata": {
            "needs_background": "light"
          }
        }
      ]
    }
  ]
}