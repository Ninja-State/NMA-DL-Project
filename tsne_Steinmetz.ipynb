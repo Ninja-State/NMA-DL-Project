{
  "nbformat": 4,
  "nbformat_minor": 0,
  "metadata": {
    "colab": {
      "name": "tsne_Steinmetz.ipynb",
      "provenance": [],
      "collapsed_sections": [
        "vJEnfVLGg5_e",
        "9Bqqkayterb-"
      ],
      "authorship_tag": "ABX9TyOLcxX8Ojsf4zBPVEQh4FIw",
      "include_colab_link": true
    },
    "kernelspec": {
      "name": "python3",
      "display_name": "Python 3"
    },
    "language_info": {
      "name": "python"
    },
    "widgets": {
      "application/vnd.jupyter.widget-state+json": {
        "e2ffc13bea894d6999e27895786545c0": {
          "model_module": "@jupyter-widgets/controls",
          "model_name": "VBoxModel",
          "model_module_version": "1.5.0",
          "state": {
            "_view_name": "VBoxView",
            "_dom_classes": [
              "widget-interact"
            ],
            "_model_name": "VBoxModel",
            "_view_module": "@jupyter-widgets/controls",
            "_model_module_version": "1.5.0",
            "_view_count": null,
            "_view_module_version": "1.5.0",
            "box_style": "",
            "layout": "IPY_MODEL_88eb035385104611a5e332ce6442de36",
            "_model_module": "@jupyter-widgets/controls",
            "children": [
              "IPY_MODEL_8773834812144f749feab9f694c76cf5",
              "IPY_MODEL_4149de7a1f4e488fa66fac4059da98ac",
              "IPY_MODEL_a37ebeb0799e44d886a25e178a18bb11"
            ]
          }
        },
        "88eb035385104611a5e332ce6442de36": {
          "model_module": "@jupyter-widgets/base",
          "model_name": "LayoutModel",
          "model_module_version": "1.2.0",
          "state": {
            "_view_name": "LayoutView",
            "grid_template_rows": null,
            "right": null,
            "justify_content": null,
            "_view_module": "@jupyter-widgets/base",
            "overflow": null,
            "_model_module_version": "1.2.0",
            "_view_count": null,
            "flex_flow": null,
            "width": null,
            "min_width": null,
            "border": null,
            "align_items": null,
            "bottom": null,
            "_model_module": "@jupyter-widgets/base",
            "top": null,
            "grid_column": null,
            "overflow_y": null,
            "overflow_x": null,
            "grid_auto_flow": null,
            "grid_area": null,
            "grid_template_columns": null,
            "flex": null,
            "_model_name": "LayoutModel",
            "justify_items": null,
            "grid_row": null,
            "max_height": null,
            "align_content": null,
            "visibility": null,
            "align_self": null,
            "height": null,
            "min_height": null,
            "padding": null,
            "grid_auto_rows": null,
            "grid_gap": null,
            "max_width": null,
            "order": null,
            "_view_module_version": "1.2.0",
            "grid_template_areas": null,
            "object_position": null,
            "object_fit": null,
            "grid_auto_columns": null,
            "margin": null,
            "display": null,
            "left": null
          }
        },
        "8773834812144f749feab9f694c76cf5": {
          "model_module": "@jupyter-widgets/controls",
          "model_name": "DropdownModel",
          "model_module_version": "1.5.0",
          "state": {
            "_options_labels": [
              "Hippocampus",
              "Visual Ctx",
              "Thalamus",
              "Other Ctx"
            ],
            "_view_name": "DropdownView",
            "style": "IPY_MODEL_853f8e9b245642f999dce323837ffa9a",
            "_dom_classes": [],
            "description": "area",
            "_model_name": "DropdownModel",
            "index": 0,
            "_view_module": "@jupyter-widgets/controls",
            "_model_module_version": "1.5.0",
            "_view_count": null,
            "disabled": false,
            "_view_module_version": "1.5.0",
            "description_tooltip": null,
            "_model_module": "@jupyter-widgets/controls",
            "layout": "IPY_MODEL_6cb85273c2634598bfa2009e138dd351"
          }
        },
        "4149de7a1f4e488fa66fac4059da98ac": {
          "model_module": "@jupyter-widgets/controls",
          "model_name": "IntSliderModel",
          "model_module_version": "1.5.0",
          "state": {
            "_view_name": "IntSliderView",
            "style": "IPY_MODEL_98ee7284f0214246b0a1a8747a3e1061",
            "_dom_classes": [],
            "description": "trial",
            "step": 1,
            "_model_name": "IntSliderModel",
            "orientation": "horizontal",
            "max": 339,
            "_view_module": "@jupyter-widgets/controls",
            "_model_module_version": "1.5.0",
            "value": 169,
            "_view_count": null,
            "disabled": false,
            "_view_module_version": "1.5.0",
            "min": 0,
            "continuous_update": true,
            "readout_format": "d",
            "description_tooltip": null,
            "readout": true,
            "_model_module": "@jupyter-widgets/controls",
            "layout": "IPY_MODEL_5509f685c3294595a911d56dd940be5d"
          }
        },
        "a37ebeb0799e44d886a25e178a18bb11": {
          "model_module": "@jupyter-widgets/output",
          "model_name": "OutputModel",
          "model_module_version": "1.0.0",
          "state": {
            "_view_name": "OutputView",
            "msg_id": "",
            "_dom_classes": [],
            "_model_name": "OutputModel",
            "outputs": [
              {
                "output_type": "display_data",
                "metadata": {
                  "tags": [],
                  "needs_background": "light"
                },
                "image/png": "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\n",
                "text/plain": "<Figure size 648x360 with 1 Axes>"
              }
            ],
            "_view_module": "@jupyter-widgets/output",
            "_model_module_version": "1.0.0",
            "_view_count": null,
            "_view_module_version": "1.0.0",
            "layout": "IPY_MODEL_0c18a183810d4308bf6cb2736d2a46af",
            "_model_module": "@jupyter-widgets/output"
          }
        },
        "853f8e9b245642f999dce323837ffa9a": {
          "model_module": "@jupyter-widgets/controls",
          "model_name": "DescriptionStyleModel",
          "model_module_version": "1.5.0",
          "state": {
            "_view_name": "StyleView",
            "_model_name": "DescriptionStyleModel",
            "description_width": "",
            "_view_module": "@jupyter-widgets/base",
            "_model_module_version": "1.5.0",
            "_view_count": null,
            "_view_module_version": "1.2.0",
            "_model_module": "@jupyter-widgets/controls"
          }
        },
        "6cb85273c2634598bfa2009e138dd351": {
          "model_module": "@jupyter-widgets/base",
          "model_name": "LayoutModel",
          "model_module_version": "1.2.0",
          "state": {
            "_view_name": "LayoutView",
            "grid_template_rows": null,
            "right": null,
            "justify_content": null,
            "_view_module": "@jupyter-widgets/base",
            "overflow": null,
            "_model_module_version": "1.2.0",
            "_view_count": null,
            "flex_flow": null,
            "width": null,
            "min_width": null,
            "border": null,
            "align_items": null,
            "bottom": null,
            "_model_module": "@jupyter-widgets/base",
            "top": null,
            "grid_column": null,
            "overflow_y": null,
            "overflow_x": null,
            "grid_auto_flow": null,
            "grid_area": null,
            "grid_template_columns": null,
            "flex": null,
            "_model_name": "LayoutModel",
            "justify_items": null,
            "grid_row": null,
            "max_height": null,
            "align_content": null,
            "visibility": null,
            "align_self": null,
            "height": null,
            "min_height": null,
            "padding": null,
            "grid_auto_rows": null,
            "grid_gap": null,
            "max_width": null,
            "order": null,
            "_view_module_version": "1.2.0",
            "grid_template_areas": null,
            "object_position": null,
            "object_fit": null,
            "grid_auto_columns": null,
            "margin": null,
            "display": null,
            "left": null
          }
        },
        "98ee7284f0214246b0a1a8747a3e1061": {
          "model_module": "@jupyter-widgets/controls",
          "model_name": "SliderStyleModel",
          "model_module_version": "1.5.0",
          "state": {
            "_view_name": "StyleView",
            "handle_color": null,
            "_model_name": "SliderStyleModel",
            "description_width": "",
            "_view_module": "@jupyter-widgets/base",
            "_model_module_version": "1.5.0",
            "_view_count": null,
            "_view_module_version": "1.2.0",
            "_model_module": "@jupyter-widgets/controls"
          }
        },
        "5509f685c3294595a911d56dd940be5d": {
          "model_module": "@jupyter-widgets/base",
          "model_name": "LayoutModel",
          "model_module_version": "1.2.0",
          "state": {
            "_view_name": "LayoutView",
            "grid_template_rows": null,
            "right": null,
            "justify_content": null,
            "_view_module": "@jupyter-widgets/base",
            "overflow": null,
            "_model_module_version": "1.2.0",
            "_view_count": null,
            "flex_flow": null,
            "width": null,
            "min_width": null,
            "border": null,
            "align_items": null,
            "bottom": null,
            "_model_module": "@jupyter-widgets/base",
            "top": null,
            "grid_column": null,
            "overflow_y": null,
            "overflow_x": null,
            "grid_auto_flow": null,
            "grid_area": null,
            "grid_template_columns": null,
            "flex": null,
            "_model_name": "LayoutModel",
            "justify_items": null,
            "grid_row": null,
            "max_height": null,
            "align_content": null,
            "visibility": null,
            "align_self": null,
            "height": null,
            "min_height": null,
            "padding": null,
            "grid_auto_rows": null,
            "grid_gap": null,
            "max_width": null,
            "order": null,
            "_view_module_version": "1.2.0",
            "grid_template_areas": null,
            "object_position": null,
            "object_fit": null,
            "grid_auto_columns": null,
            "margin": null,
            "display": null,
            "left": null
          }
        },
        "0c18a183810d4308bf6cb2736d2a46af": {
          "model_module": "@jupyter-widgets/base",
          "model_name": "LayoutModel",
          "model_module_version": "1.2.0",
          "state": {
            "_view_name": "LayoutView",
            "grid_template_rows": null,
            "right": null,
            "justify_content": null,
            "_view_module": "@jupyter-widgets/base",
            "overflow": null,
            "_model_module_version": "1.2.0",
            "_view_count": null,
            "flex_flow": null,
            "width": null,
            "min_width": null,
            "border": null,
            "align_items": null,
            "bottom": null,
            "_model_module": "@jupyter-widgets/base",
            "top": null,
            "grid_column": null,
            "overflow_y": null,
            "overflow_x": null,
            "grid_auto_flow": null,
            "grid_area": null,
            "grid_template_columns": null,
            "flex": null,
            "_model_name": "LayoutModel",
            "justify_items": null,
            "grid_row": null,
            "max_height": null,
            "align_content": null,
            "visibility": null,
            "align_self": null,
            "height": null,
            "min_height": null,
            "padding": null,
            "grid_auto_rows": null,
            "grid_gap": null,
            "max_width": null,
            "order": null,
            "_view_module_version": "1.2.0",
            "grid_template_areas": null,
            "object_position": null,
            "object_fit": null,
            "grid_auto_columns": null,
            "margin": null,
            "display": null,
            "left": null
          }
        }
      }
    }
  },
  "cells": [
    {
      "cell_type": "markdown",
      "metadata": {
        "id": "view-in-github",
        "colab_type": "text"
      },
      "source": [
        "<a href=\"https://colab.research.google.com/github/Ninja-State/NMA-DL-Project/blob/Katya/tsne_Steinmetz.ipynb\" target=\"_parent\"><img src=\"https://colab.research.google.com/assets/colab-badge.svg\" alt=\"Open In Colab\"/></a>"
      ]
    },
    {
      "cell_type": "markdown",
      "metadata": {
        "id": "vJEnfVLGg5_e"
      },
      "source": [
        "# Setup"
      ]
    },
    {
      "cell_type": "code",
      "metadata": {
        "id": "NH1wg7cKziLv"
      },
      "source": [
        "#@title Imports\n",
        "\n",
        "import os, requests\n",
        "\n",
        "import time\n",
        "import copy\n",
        "import torch\n",
        "import torchvision\n",
        "import  sklearn\n",
        "\n",
        "from sklearn.decomposition import PCA\n",
        "from sklearn.manifold import TSNE\n",
        "\n",
        "import numpy as np\n",
        "import pandas as pd\n",
        "import ipywidgets as widgets\n",
        "import matplotlib.pyplot as plt\n",
        "\n",
        "from matplotlib import cm\n",
        "from matplotlib import rcParams\n",
        "\n",
        "import torch.nn as nn\n",
        "import torch.optim as optim\n",
        "import torch.nn.functional as F\n",
        "import torchvision.datasets as datasets\n",
        "\n",
        "from tqdm.auto import tqdm"
      ],
      "execution_count": 1,
      "outputs": []
    },
    {
      "cell_type": "code",
      "metadata": {
        "colab": {
          "base_uri": "https://localhost:8080/"
        },
        "id": "wjox9VhHIliE",
        "outputId": "2838864d-c4c8-4d01-80c6-bf67b337cf8b"
      },
      "source": [
        "#@title Clone FFT-accelerated t-SNE\n",
        "!git clone https://github.com/KlugerLab/FIt-SNE.git "
      ],
      "execution_count": 2,
      "outputs": [
        {
          "output_type": "stream",
          "text": [
            "Cloning into 'FIt-SNE'...\n",
            "remote: Enumerating objects: 922, done.\u001b[K\n",
            "remote: Counting objects: 100% (142/142), done.\u001b[K\n",
            "remote: Compressing objects: 100% (119/119), done.\u001b[K\n",
            "remote: Total 922 (delta 74), reused 64 (delta 23), pack-reused 780\u001b[K\n",
            "Receiving objects: 100% (922/922), 31.93 MiB | 21.39 MiB/s, done.\n",
            "Resolving deltas: 100% (513/513), done.\n"
          ],
          "name": "stdout"
        }
      ]
    },
    {
      "cell_type": "code",
      "metadata": {
        "colab": {
          "base_uri": "https://localhost:8080/"
        },
        "id": "MvUj4mDYJQeY",
        "outputId": "963d580d-34b7-4aed-eb4c-371211b47fc0"
      },
      "source": [
        "!apt-get install libfftw3-dev\n",
        "!g++ -std=c++11 -O3  /content/FIt-SNE/src/sptree.cpp /content/FIt-SNE/src/tsne.cpp /content/FIt-SNE/src/nbodyfft.cpp  -o /content/FIt-SNE/bin/fast_tsne -pthread -lfftw3 -lm -Wno-address-of-packed-member"
      ],
      "execution_count": 3,
      "outputs": [
        {
          "output_type": "stream",
          "text": [
            "Reading package lists... Done\n",
            "Building dependency tree       \n",
            "Reading state information... Done\n",
            "The following additional packages will be installed:\n",
            "  libfftw3-bin libfftw3-long3 libfftw3-quad3 libfftw3-single3\n",
            "Suggested packages:\n",
            "  libfftw3-doc\n",
            "The following NEW packages will be installed:\n",
            "  libfftw3-bin libfftw3-dev libfftw3-long3 libfftw3-quad3 libfftw3-single3\n",
            "0 upgraded, 5 newly installed, 0 to remove and 40 not upgraded.\n",
            "Need to get 3,766 kB of archives.\n",
            "After this operation, 21.2 MB of additional disk space will be used.\n",
            "Get:1 http://archive.ubuntu.com/ubuntu bionic/main amd64 libfftw3-long3 amd64 3.3.7-1 [308 kB]\n",
            "Get:2 http://archive.ubuntu.com/ubuntu bionic/main amd64 libfftw3-quad3 amd64 3.3.7-1 [552 kB]\n",
            "Get:3 http://archive.ubuntu.com/ubuntu bionic/main amd64 libfftw3-single3 amd64 3.3.7-1 [764 kB]\n",
            "Get:4 http://archive.ubuntu.com/ubuntu bionic/main amd64 libfftw3-bin amd64 3.3.7-1 [32.7 kB]\n",
            "Get:5 http://archive.ubuntu.com/ubuntu bionic/main amd64 libfftw3-dev amd64 3.3.7-1 [2,108 kB]\n",
            "Fetched 3,766 kB in 2s (2,150 kB/s)\n",
            "Selecting previously unselected package libfftw3-long3:amd64.\n",
            "(Reading database ... 160837 files and directories currently installed.)\n",
            "Preparing to unpack .../libfftw3-long3_3.3.7-1_amd64.deb ...\n",
            "Unpacking libfftw3-long3:amd64 (3.3.7-1) ...\n",
            "Selecting previously unselected package libfftw3-quad3:amd64.\n",
            "Preparing to unpack .../libfftw3-quad3_3.3.7-1_amd64.deb ...\n",
            "Unpacking libfftw3-quad3:amd64 (3.3.7-1) ...\n",
            "Selecting previously unselected package libfftw3-single3:amd64.\n",
            "Preparing to unpack .../libfftw3-single3_3.3.7-1_amd64.deb ...\n",
            "Unpacking libfftw3-single3:amd64 (3.3.7-1) ...\n",
            "Selecting previously unselected package libfftw3-bin.\n",
            "Preparing to unpack .../libfftw3-bin_3.3.7-1_amd64.deb ...\n",
            "Unpacking libfftw3-bin (3.3.7-1) ...\n",
            "Selecting previously unselected package libfftw3-dev:amd64.\n",
            "Preparing to unpack .../libfftw3-dev_3.3.7-1_amd64.deb ...\n",
            "Unpacking libfftw3-dev:amd64 (3.3.7-1) ...\n",
            "Setting up libfftw3-quad3:amd64 (3.3.7-1) ...\n",
            "Setting up libfftw3-single3:amd64 (3.3.7-1) ...\n",
            "Setting up libfftw3-long3:amd64 (3.3.7-1) ...\n",
            "Setting up libfftw3-bin (3.3.7-1) ...\n",
            "Setting up libfftw3-dev:amd64 (3.3.7-1) ...\n",
            "Processing triggers for libc-bin (2.27-3ubuntu1.2) ...\n",
            "/sbin/ldconfig.real: /usr/local/lib/python3.7/dist-packages/ideep4py/lib/libmkldnn.so.0 is not a symbolic link\n",
            "\n",
            "Processing triggers for man-db (2.8.3-2ubuntu0.1) ...\n",
            "In file included from \u001b[01m\u001b[K/content/FIt-SNE/src/tsne.cpp:42:0\u001b[m\u001b[K:\n",
            "\u001b[01m\u001b[K/content/FIt-SNE/src/annoylib.h:84:17:\u001b[m\u001b[K \u001b[01;36m\u001b[Knote: \u001b[m\u001b[K#pragma message: Using no AVX instructions\n",
            " #pragma message \u001b[01;36m\u001b[K\"Using no AVX instructions\"\u001b[m\u001b[K\n",
            "                 \u001b[01;36m\u001b[K^~~~~~~~~~~~~~~~~~~~~~~~~~~\u001b[m\u001b[K\n",
            "\u001b[01m\u001b[K/content/FIt-SNE/src/tsne.cpp:\u001b[m\u001b[K In member function ‘\u001b[01m\u001b[Kvoid TSNE::computeGradient(double*, unsigned int*, unsigned int*, double*, double*, int, int, double*, double, unsigned int)\u001b[m\u001b[K’:\n",
            "\u001b[01m\u001b[K/content/FIt-SNE/src/tsne.cpp:633:89:\u001b[m\u001b[K \u001b[01;35m\u001b[Kwarning: \u001b[m\u001b[Kformat ‘\u001b[01m\u001b[K%d\u001b[m\u001b[K’ expects argument of type ‘\u001b[01m\u001b[Kint\u001b[m\u001b[K’, but argument 3 has type ‘\u001b[01m\u001b[Klong unsigned int\u001b[m\u001b[K’ [\u001b[01;35m\u001b[K-Wformat=\u001b[m\u001b[K]\n",
            "                         pos_f[i * 2 + 1], neg_f[i * 2] / sum_Q, neg_f[i * 2 + 1] / sum_Q\u001b[01;35m\u001b[K)\u001b[m\u001b[K;\n",
            "                                                                                         \u001b[01;35m\u001b[K^\u001b[m\u001b[K\n",
            "At global scope:\n",
            "\u001b[01m\u001b[Kcc1plus:\u001b[m\u001b[K \u001b[01;35m\u001b[Kwarning: \u001b[m\u001b[Kunrecognized command line option ‘\u001b[01m\u001b[K-Wno-address-of-packed-member\u001b[m\u001b[K’\n"
          ],
          "name": "stdout"
        }
      ]
    },
    {
      "cell_type": "code",
      "metadata": {
        "id": "N_Kk3aE7LONy"
      },
      "source": [
        "import os\n",
        "import sys\n",
        "\n",
        "sys.path.append(os.path.abspath('/content/FIt-SNE/'))\n",
        "\n",
        "from fast_tsne import fast_tsne "
      ],
      "execution_count": 4,
      "outputs": []
    },
    {
      "cell_type": "code",
      "metadata": {
        "id": "Od2LbD2rncjf"
      },
      "source": [
        "#@title Plotting params\n",
        "\n",
        "rcParams['figure.figsize'] = [20, 4]\n",
        "rcParams['font.size'] =15\n",
        "rcParams['axes.spines.top'] = False\n",
        "rcParams['axes.spines.right'] = False\n",
        "rcParams['figure.autolayout'] = True"
      ],
      "execution_count": 5,
      "outputs": []
    },
    {
      "cell_type": "markdown",
      "metadata": {
        "id": "9Bqqkayterb-"
      },
      "source": [
        "# Example of running fast t-SNE on MNIST dataset\n",
        "[link text](https://github.com/KlugerLab/FIt-SNE/blob/master/examples/test.ipynb)"
      ]
    },
    {
      "cell_type": "code",
      "metadata": {
        "id": "eiwH1uWrNepT"
      },
      "source": [
        "import numpy as np\n",
        "import pylab as plt\n",
        "import seaborn as sns\n",
        "sns.set_style('ticks')\n",
        "\n",
        "# the path should point to the FIt-SNE directory\n",
        "import sys; sys.path.append('../')\n",
        "from fast_tsne import fast_tsne"
      ],
      "execution_count": 65,
      "outputs": []
    },
    {
      "cell_type": "code",
      "metadata": {
        "colab": {
          "base_uri": "https://localhost:8080/"
        },
        "id": "9KxT5-iqNsdx",
        "outputId": "0e6684c7-d2c2-41fe-ed0d-c4c0de837dd5"
      },
      "source": [
        "# Load MNIST data\n",
        "from sklearn.datasets import fetch_openml\n",
        "mnist = fetch_openml('mnist_784')\n",
        "X = mnist.data\n",
        "y = mnist.target.astype('int')\n",
        "print(X.shape)\n",
        "\n",
        "# Do PCA and keep 50 dimensions\n",
        "X = X - X.mean(axis=0)\n",
        "U, s, V = np.linalg.svd(X, full_matrices=False)\n",
        "X50 = np.dot(U, np.diag(s))[:,:50]\n",
        "\n",
        "# 10 nice colors\n",
        "col = np.array(['#a6cee3','#1f78b4','#b2df8a','#33a02c','#fb9a99',\n",
        "                '#e31a1c','#fdbf6f','#ff7f00','#cab2d6','#6a3d9a'])"
      ],
      "execution_count": 66,
      "outputs": [
        {
          "output_type": "stream",
          "text": [
            "(70000, 784)\n"
          ],
          "name": "stdout"
        }
      ]
    },
    {
      "cell_type": "code",
      "metadata": {
        "id": "2BwYSzg-OD7I",
        "colab": {
          "base_uri": "https://localhost:8080/",
          "height": 321
        },
        "outputId": "fe516bf0-c563-4b21-b1fd-c0ddcb9f5f3f"
      },
      "source": [
        "%time Z = fast_tsne(X50)\n",
        "\n",
        "plt.figure(figsize=(4,4))\n",
        "plt.axis('equal')\n",
        "plt.scatter(Z[:,0], Z[:,1], c=col[y], s=2, edgecolors='none')\n",
        "sns.despine()\n",
        "plt.tight_layout()"
      ],
      "execution_count": 67,
      "outputs": [
        {
          "output_type": "stream",
          "text": [
            "CPU times: user 1.15 s, sys: 338 ms, total: 1.49 s\n",
            "Wall time: 2min 13s\n"
          ],
          "name": "stdout"
        },
        {
          "output_type": "display_data",
          "data": {
            "image/png": "[encoded data removed]",
            "text/plain": [
              "<Figure size 288x288 with 1 Axes>"
            ]
          },
          "metadata": {
            "tags": []
          }
        }
      ]
    },
    {
      "cell_type": "markdown",
      "metadata": {
        "id": "5JrueiAukDAe"
      },
      "source": [
        "# Load and visualize Steinmetz dataset"
      ]
    },
    {
      "cell_type": "code",
      "metadata": {
        "id": "4vsMuychlwPf"
      },
      "source": [
        "#@title Loading Spike times\n",
        "\n",
        "fname1 = ['steinmetz_st.npz']\n",
        "fname1.append('steinmetz_wav.npz')\n",
        "fname1.append('steinmetz_lfp.npz')\n",
        "url2 = [\"https://osf.io/4bjns/download\"]\n",
        "url2.append(\"https://osf.io/ugm9v/download\")\n",
        "url2.append(\"https://osf.io/kx3v9/download\")\n",
        "\n",
        "\n",
        "for j in range(len(url2)):\n",
        "  if not os.path.isfile(fname1[j]):\n",
        "    try:\n",
        "      r = requests.get(url2[j])\n",
        "    except requests.ConnectionError:\n",
        "      print(\"!!! Failed to download data !!!\")\n",
        "    else:\n",
        "      if r.status_code != requests.codes.ok:\n",
        "        print(\"!!! Failed to download data !!!\")\n",
        "      else:\n",
        "        with open(fname1[j], \"wb\") as fid:\n",
        "          fid.write(r.content)\n",
        "\n",
        "\n",
        "dat_ST = np.load('steinmetz_st.npz', allow_pickle=True)['dat']\n",
        "dat2 = dat_ST[11]\n",
        "del dat_ST\n",
        "#print(dat2.keys())"
      ],
      "execution_count": 6,
      "outputs": []
    },
    {
      "cell_type": "code",
      "metadata": {
        "id": "ZxcNzqbonHXv"
      },
      "source": [
        "#@title Load binned spike times\n",
        "\n",
        "fname = []\n",
        "for j in range(3):\n",
        "  fname.append('steinmetz_part%d.npz'%j)\n",
        "url = [\"https://osf.io/agvxh/download\"]\n",
        "url.append(\"https://osf.io/uv3mw/download\")\n",
        "url.append(\"https://osf.io/ehmw2/download\")\n",
        "\n",
        "for j in range(len(url)):\n",
        "  if not os.path.isfile(fname[j]):\n",
        "    try:\n",
        "      r = requests.get(url[j])\n",
        "    except requests.ConnectionError:\n",
        "      print(\"!!! Failed to download data !!!\")\n",
        "    else:\n",
        "      if r.status_code != requests.codes.ok:\n",
        "        print(\"!!! Failed to download data !!!\")\n",
        "      else:\n",
        "        with open(fname[j], \"wb\") as fid:\n",
        "          fid.write(r.content)\n",
        "\n",
        "\n",
        "alldat = np.array([])\n",
        "for j in range(len(fname)):\n",
        "  alldat = np.hstack((alldat, np.load('steinmetz_part%d.npz'%j, allow_pickle=True)['dat']))\n",
        "\n",
        "# select just one of the recordings here. 11 is nice because it has some neurons in vis ctx. \n",
        "dat = alldat[11] # pick dataset 11\n",
        "#print(dat.keys())"
      ],
      "execution_count": 7,
      "outputs": []
    },
    {
      "cell_type": "code",
      "metadata": {
        "colab": {
          "base_uri": "https://localhost:8080/",
          "height": 669
        },
        "id": "dgkfXbfVn1iG",
        "outputId": "98ee3a69-67e0-45af-873a-61b509c326ff"
      },
      "source": [
        "#@title DF form\n",
        "dt_waveforms = 1/30000 # dt of waveform\n",
        "binsize = dat['bin_size'] # bin times spikes\n",
        "mean_firing = dat['spks'].mean(axis = (1,2)) * 1/binsize # computing mean firing rate\n",
        "t_t_peak = dat['trough_to_peak'] * dt_waveforms * 1e3 # computing trough to peak time in ms\n",
        "\n",
        "\n",
        "labeling_df = pd.DataFrame({\n",
        "    \"Mean Firing Rate\": mean_firing,\n",
        "    \"Trough to peak\": t_t_peak,\n",
        "    \"Region\": dat['brain_area'],\n",
        "    \"Area\":dat['brain_area']\n",
        "})\n",
        "labeling_df.replace(\n",
        "    {\n",
        "        \"Area\": {\"CA1\":\"Hippocampus\",\"DG\":\"Hippocampus\",\"SUB\":\"Hippocampus\",\n",
        "        \"VISp\": \"Visual Ctx\", \"VISam\":\"Visual Ctx\",\"MD\":\"Thalamus\",\"LGd\":\"Thalamus\", \"LH\":\"Thalamus\",\n",
        "        \"PL\":\"Other Ctx\",\"MOs\":\"Other Ctx\",\"ACA\":\"Other Ctx\"\n",
        "        }\n",
        "    }, inplace = True\n",
        ")\n",
        "\n",
        "# Labeling according to conditions, other is the default condition\n",
        "labeling_df['Cell Type'] = \"Other\"\n",
        "labeling_df.loc[(labeling_df['Mean Firing Rate']<5)&(labeling_df['Trough to peak']>0.4),'Cell Type'] = \"Excitatory\"\n",
        "labeling_df.loc[(labeling_df['Mean Firing Rate']>5)&(labeling_df['Trough to peak']<0.4), 'Cell Type'] = \"Inhibitory\"\n",
        "\n",
        "labeling_df.head(20)"
      ],
      "execution_count": 8,
      "outputs": [
        {
          "output_type": "execute_result",
          "data": {
            "text/html": [
              "<div>\n",
              "<style scoped>\n",
              "    .dataframe tbody tr th:only-of-type {\n",
              "        vertical-align: middle;\n",
              "    }\n",
              "\n",
              "    .dataframe tbody tr th {\n",
              "        vertical-align: top;\n",
              "    }\n",
              "\n",
              "    .dataframe thead th {\n",
              "        text-align: right;\n",
              "    }\n",
              "</style>\n",
              "<table border=\"1\" class=\"dataframe\">\n",
              "  <thead>\n",
              "    <tr style=\"text-align: right;\">\n",
              "      <th></th>\n",
              "      <th>Mean Firing Rate</th>\n",
              "      <th>Trough to peak</th>\n",
              "      <th>Region</th>\n",
              "      <th>Area</th>\n",
              "      <th>Cell Type</th>\n",
              "    </tr>\n",
              "  </thead>\n",
              "  <tbody>\n",
              "    <tr>\n",
              "      <th>0</th>\n",
              "      <td>0.731765</td>\n",
              "      <td>0.800000</td>\n",
              "      <td>VISp</td>\n",
              "      <td>Visual Ctx</td>\n",
              "      <td>Excitatory</td>\n",
              "    </tr>\n",
              "    <tr>\n",
              "      <th>1</th>\n",
              "      <td>0.237647</td>\n",
              "      <td>0.666667</td>\n",
              "      <td>VISp</td>\n",
              "      <td>Visual Ctx</td>\n",
              "      <td>Excitatory</td>\n",
              "    </tr>\n",
              "    <tr>\n",
              "      <th>2</th>\n",
              "      <td>5.368235</td>\n",
              "      <td>0.766667</td>\n",
              "      <td>VISp</td>\n",
              "      <td>Visual Ctx</td>\n",
              "      <td>Other</td>\n",
              "    </tr>\n",
              "    <tr>\n",
              "      <th>3</th>\n",
              "      <td>0.190588</td>\n",
              "      <td>0.566667</td>\n",
              "      <td>DG</td>\n",
              "      <td>Hippocampus</td>\n",
              "      <td>Excitatory</td>\n",
              "    </tr>\n",
              "    <tr>\n",
              "      <th>4</th>\n",
              "      <td>1.356471</td>\n",
              "      <td>0.633333</td>\n",
              "      <td>VISp</td>\n",
              "      <td>Visual Ctx</td>\n",
              "      <td>Excitatory</td>\n",
              "    </tr>\n",
              "    <tr>\n",
              "      <th>5</th>\n",
              "      <td>0.000000</td>\n",
              "      <td>0.733333</td>\n",
              "      <td>VISp</td>\n",
              "      <td>Visual Ctx</td>\n",
              "      <td>Excitatory</td>\n",
              "    </tr>\n",
              "    <tr>\n",
              "      <th>6</th>\n",
              "      <td>0.141176</td>\n",
              "      <td>0.600000</td>\n",
              "      <td>SUB</td>\n",
              "      <td>Hippocampus</td>\n",
              "      <td>Excitatory</td>\n",
              "    </tr>\n",
              "    <tr>\n",
              "      <th>7</th>\n",
              "      <td>2.327059</td>\n",
              "      <td>0.733333</td>\n",
              "      <td>DG</td>\n",
              "      <td>Hippocampus</td>\n",
              "      <td>Excitatory</td>\n",
              "    </tr>\n",
              "    <tr>\n",
              "      <th>8</th>\n",
              "      <td>0.030588</td>\n",
              "      <td>0.633333</td>\n",
              "      <td>VISp</td>\n",
              "      <td>Visual Ctx</td>\n",
              "      <td>Excitatory</td>\n",
              "    </tr>\n",
              "    <tr>\n",
              "      <th>9</th>\n",
              "      <td>0.798824</td>\n",
              "      <td>0.400000</td>\n",
              "      <td>VISp</td>\n",
              "      <td>Visual Ctx</td>\n",
              "      <td>Other</td>\n",
              "    </tr>\n",
              "    <tr>\n",
              "      <th>10</th>\n",
              "      <td>0.048235</td>\n",
              "      <td>0.566667</td>\n",
              "      <td>SUB</td>\n",
              "      <td>Hippocampus</td>\n",
              "      <td>Excitatory</td>\n",
              "    </tr>\n",
              "    <tr>\n",
              "      <th>11</th>\n",
              "      <td>0.124706</td>\n",
              "      <td>0.266667</td>\n",
              "      <td>DG</td>\n",
              "      <td>Hippocampus</td>\n",
              "      <td>Other</td>\n",
              "    </tr>\n",
              "    <tr>\n",
              "      <th>12</th>\n",
              "      <td>0.245882</td>\n",
              "      <td>0.566667</td>\n",
              "      <td>VISp</td>\n",
              "      <td>Visual Ctx</td>\n",
              "      <td>Excitatory</td>\n",
              "    </tr>\n",
              "    <tr>\n",
              "      <th>13</th>\n",
              "      <td>0.145882</td>\n",
              "      <td>0.633333</td>\n",
              "      <td>VISp</td>\n",
              "      <td>Visual Ctx</td>\n",
              "      <td>Excitatory</td>\n",
              "    </tr>\n",
              "    <tr>\n",
              "      <th>14</th>\n",
              "      <td>1.222353</td>\n",
              "      <td>0.566667</td>\n",
              "      <td>SUB</td>\n",
              "      <td>Hippocampus</td>\n",
              "      <td>Excitatory</td>\n",
              "    </tr>\n",
              "    <tr>\n",
              "      <th>15</th>\n",
              "      <td>0.205882</td>\n",
              "      <td>0.466667</td>\n",
              "      <td>VISp</td>\n",
              "      <td>Visual Ctx</td>\n",
              "      <td>Excitatory</td>\n",
              "    </tr>\n",
              "    <tr>\n",
              "      <th>16</th>\n",
              "      <td>0.444706</td>\n",
              "      <td>0.566667</td>\n",
              "      <td>VISp</td>\n",
              "      <td>Visual Ctx</td>\n",
              "      <td>Excitatory</td>\n",
              "    </tr>\n",
              "    <tr>\n",
              "      <th>17</th>\n",
              "      <td>0.195294</td>\n",
              "      <td>0.633333</td>\n",
              "      <td>VISp</td>\n",
              "      <td>Visual Ctx</td>\n",
              "      <td>Excitatory</td>\n",
              "    </tr>\n",
              "    <tr>\n",
              "      <th>18</th>\n",
              "      <td>0.375294</td>\n",
              "      <td>0.400000</td>\n",
              "      <td>SUB</td>\n",
              "      <td>Hippocampus</td>\n",
              "      <td>Other</td>\n",
              "    </tr>\n",
              "    <tr>\n",
              "      <th>19</th>\n",
              "      <td>2.901176</td>\n",
              "      <td>0.600000</td>\n",
              "      <td>SUB</td>\n",
              "      <td>Hippocampus</td>\n",
              "      <td>Excitatory</td>\n",
              "    </tr>\n",
              "  </tbody>\n",
              "</table>\n",
              "</div>"
            ],
            "text/plain": [
              "    Mean Firing Rate  Trough to peak Region         Area   Cell Type\n",
              "0           0.731765        0.800000   VISp   Visual Ctx  Excitatory\n",
              "1           0.237647        0.666667   VISp   Visual Ctx  Excitatory\n",
              "2           5.368235        0.766667   VISp   Visual Ctx       Other\n",
              "3           0.190588        0.566667     DG  Hippocampus  Excitatory\n",
              "4           1.356471        0.633333   VISp   Visual Ctx  Excitatory\n",
              "5           0.000000        0.733333   VISp   Visual Ctx  Excitatory\n",
              "6           0.141176        0.600000    SUB  Hippocampus  Excitatory\n",
              "7           2.327059        0.733333     DG  Hippocampus  Excitatory\n",
              "8           0.030588        0.633333   VISp   Visual Ctx  Excitatory\n",
              "9           0.798824        0.400000   VISp   Visual Ctx       Other\n",
              "10          0.048235        0.566667    SUB  Hippocampus  Excitatory\n",
              "11          0.124706        0.266667     DG  Hippocampus       Other\n",
              "12          0.245882        0.566667   VISp   Visual Ctx  Excitatory\n",
              "13          0.145882        0.633333   VISp   Visual Ctx  Excitatory\n",
              "14          1.222353        0.566667    SUB  Hippocampus  Excitatory\n",
              "15          0.205882        0.466667   VISp   Visual Ctx  Excitatory\n",
              "16          0.444706        0.566667   VISp   Visual Ctx  Excitatory\n",
              "17          0.195294        0.633333   VISp   Visual Ctx  Excitatory\n",
              "18          0.375294        0.400000    SUB  Hippocampus       Other\n",
              "19          2.901176        0.600000    SUB  Hippocampus  Excitatory"
            ]
          },
          "metadata": {
            "tags": []
          },
          "execution_count": 8
        }
      ]
    },
    {
      "cell_type": "code",
      "metadata": {
        "colab": {
          "base_uri": "https://localhost:8080/",
          "height": 422,
          "referenced_widgets": [
            "e2ffc13bea894d6999e27895786545c0",
            "88eb035385104611a5e332ce6442de36",
            "8773834812144f749feab9f694c76cf5",
            "4149de7a1f4e488fa66fac4059da98ac",
            "a37ebeb0799e44d886a25e178a18bb11",
            "853f8e9b245642f999dce323837ffa9a",
            "6cb85273c2634598bfa2009e138dd351",
            "98ee7284f0214246b0a1a8747a3e1061",
            "5509f685c3294595a911d56dd940be5d",
            "0c18a183810d4308bf6cb2736d2a46af"
          ]
        },
        "id": "eoMfB-7ImRf3",
        "outputId": "8c79e333-eff5-448d-ea1b-3c0ea2405a33"
      },
      "source": [
        "#@title Raster visualizer\n",
        "\n",
        "from ipywidgets import interact\n",
        "import ipywidgets as widgets\n",
        "\n",
        "vis_right = dat['contrast_right'] # 0 - low - high\n",
        "vis_left = dat['contrast_left'] # 0 - low - high\n",
        "is_correct = np.sign(dat['response'])==np.sign(vis_left-vis_right)\n",
        "def raster_visualizer(area,trial):\n",
        "  spikes= dat2['ss']\n",
        "  plt.figure(figsize=(9,5))\n",
        "  plt.eventplot(spikes[labeling_df['Area']==area][:,trial],color='k')\n",
        "  #plt.eventplot(spikes[(labeling_df['Area']==area) & (labeling_df['Cell Type']=='Excitatory')][:,trial]);\n",
        "  #plt.eventplot(spikes[(labeling_df['Area']==area) & (labeling_df['Cell Type']=='Other')][:,trial],color='k');\n",
        "  #plt.eventplot(spikes[(labeling_df['Area']==area) & (labeling_df['Cell Type']=='Inhibitory')][:,trial],colors = 'r');\n",
        "  plt.yticks([]);\n",
        "  plt.vlines(0.5,0,len(spikes[(labeling_df['Area']==area)])-10,'red','--',alpha=0.5)\n",
        "  plt.ylabel('Neurons');\n",
        "  plt.xlabel('Time ($s$)');\n",
        "  plt.title(f'Trial was correct?:{is_correct[trial]}')\n",
        "interact(raster_visualizer, area=['Hippocampus','Visual Ctx','Thalamus','Other Ctx'], trial=(0,339));"
      ],
      "execution_count": 14,
      "outputs": [
        {
          "output_type": "display_data",
          "data": {
            "application/vnd.jupyter.widget-view+json": {
              "model_id": "e2ffc13bea894d6999e27895786545c0",
              "version_minor": 0,
              "version_major": 2
            },
            "text/plain": [
              "interactive(children=(Dropdown(description='area', options=('Hippocampus', 'Visual Ctx', 'Thalamus', 'Other Ct…"
            ]
          },
          "metadata": {
            "tags": []
          }
        }
      ]
    },
    {
      "cell_type": "markdown",
      "metadata": {
        "id": "Z4ReToKTQ2xA"
      },
      "source": [
        "# Calculate ISI percentiles and try t-SNE"
      ]
    },
    {
      "cell_type": "code",
      "metadata": {
        "id": "lBK3fOkTD_YZ"
      },
      "source": [
        "#@title calculate ISI percentiles\n",
        "\n",
        "spikes= dat2['ss']\n",
        "\n",
        "#spk = spikes[labeling_df['Region']=='VISp']\n",
        "#spk = spikes[labeling_df['Region']=='CA1']\n",
        "spk = spikes[labeling_df['Area']=='Visual Ctx']\n",
        "\n",
        "isiPercentile=[]\n",
        "\n",
        "for j in range(0,spk.shape[1]): # by trials\n",
        "  for i in range(0,spk.shape[0]): # by neurons\n",
        "    isi = np.diff(spk[i,j])\n",
        "    if len(isi)!=0: # if neuron is spiking\n",
        "      per_isi=np.percentile(isi,np.linspace(0, 100, 10))\n",
        "    else:\n",
        "      per_isi=np.zeros(10)\n",
        "\n",
        "    isiPercentile.append(per_isi)\n",
        "\n",
        "isiPercentile2=np.hstack(isiPercentile)\n",
        "isiPercentileAll = isiPercentile2.reshape(spk.shape[1],spk.shape[0]*10)\n",
        "\n"
      ],
      "execution_count": 55,
      "outputs": []
    },
    {
      "cell_type": "code",
      "metadata": {
        "colab": {
          "base_uri": "https://localhost:8080/",
          "height": 232
        },
        "id": "P-xAvYDvzGr_",
        "outputId": "c297abf3-e8c0-43ac-b069-9a5c7dc8211c"
      },
      "source": [
        "#@title Example ISI percentile plots\n",
        "plt.figure(figsize=(3,3))\n",
        "plt.bar(np.linspace(0, 100, 10),isiPercentile[14])"
      ],
      "execution_count": 63,
      "outputs": [
        {
          "output_type": "execute_result",
          "data": {
            "text/plain": [
              "<BarContainer object of 10 artists>"
            ]
          },
          "metadata": {
            "tags": []
          },
          "execution_count": 63
        },
        {
          "output_type": "display_data",
          "data": {
            "image/png": "[encoded data removed]",
            "text/plain": [
              "<Figure size 216x216 with 1 Axes>"
            ]
          },
          "metadata": {
            "tags": [],
            "needs_background": "light"
          }
        }
      ]
    },
    {
      "cell_type": "code",
      "metadata": {
        "colab": {
          "base_uri": "https://localhost:8080/",
          "height": 392
        },
        "id": "bLZpfsD9Dj6i",
        "outputId": "17539799-913d-4365-a6cb-cd2ea5e7caa0"
      },
      "source": [
        "#@title try fast t-SNE\n",
        "%time Z = fast_tsne(isiPercentileAll)\n",
        "\n",
        "plt.figure(figsize=(5,5))\n",
        "plt.axis('equal')\n",
        "plt.scatter(Z[:,0], Z[:,1])\n",
        "#plt.scatter(Z[:,0], Z[:,1], c=col[y], s=2, edgecolors='none')\n",
        "#sns.despine()\n",
        "plt.tight_layout()"
      ],
      "execution_count": 64,
      "outputs": [
        {
          "output_type": "stream",
          "text": [
            "CPU times: user 95 ms, sys: 72.4 ms, total: 167 ms\n",
            "Wall time: 7.31 s\n"
          ],
          "name": "stdout"
        },
        {
          "output_type": "display_data",
          "data": {
            "image/png": "[encoded data removed]",
            "text/plain": [
              "<Figure size 360x360 with 1 Axes>"
            ]
          },
          "metadata": {
            "tags": [],
            "needs_background": "light"
          }
        }
      ]
    },
    {
      "cell_type": "markdown",
      "metadata": {
        "id": "JWG6Rj9lWhdf"
      },
      "source": [
        "# Calculate spike distances and try t-SNE"
      ]
    }
  ]
}